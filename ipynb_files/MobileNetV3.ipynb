{
 "cells": [
  {
   "cell_type": "code",
   "execution_count": 108,
   "id": "d948fc09",
   "metadata": {},
   "outputs": [],
   "source": [
    "# MobileNetV3로 만들기\n",
    "'''\n",
    "https://www.kaggle.com/code/guanlintao/mobilenetv3-jellyfish-image-predict/notebook\n",
    "여기에 있는 코드처럼 수정해서 성능을 올려야할 것 같은데, 일단 GPT로 한번 학습 성공하는데 의의를 두고 코드를 수정함\n",
    "'''\n",
    "import os\n",
    "import pandas as pd\n",
    "import numpy as np\n",
    "import matplotlib.pyplot as plt\n",
    "import tensorflow as tf\n",
    "from sklearn.model_selection import train_test_split\n",
    "from tensorflow.keras.preprocessing.image import ImageDataGenerator\n",
    "from tensorflow.keras.applications import MobileNetV3Small  # Small 모델을 사용, 너무 성능이 저조하면 Large 모델로 변경\n",
    "from tensorflow.keras.layers import Dense, GlobalAveragePooling2D\n",
    "from tensorflow.keras.layers import BatchNormalization, Dropout   # 배치 정규화, 드롭아웃\n",
    "from tensorflow.keras.callbacks import ModelCheckpoint, ReduceLROnPlateau  # 체크포인트(콜백)\n",
    "from tensorflow.keras.models import Model\n",
    "from tensorflow.keras.optimizers import Adam, RMSprop  # 옵티마이저"
   ]
  },
  {
   "cell_type": "code",
   "execution_count": 109,
   "id": "2c20b5ef",
   "metadata": {},
   "outputs": [],
   "source": [
    "# Dataset path and categories\n",
    "dataset_path = \"../_preprocessed_datasets_origin\"\n",
    "categories = [\"blue_jellyfish\", \"barrel_jellyfish\", \"compass_jellyfish\", \n",
    "              \"lions_mane_jellyfish\", \"mauve_stinger_jellyfish\", \"Moon_jellyfish\"]\n",
    "\n",
    "# Image size and hyperparameters\n",
    "img_height, img_width = 224, 224 \n",
    "batch_size = 16\n",
    "epochs = 40\n",
    "\n",
    "model_checkpoint = ModelCheckpoint('best_model.h5', save_best_only=True)\n",
    "reduce_lr = ReduceLROnPlateau(monitor='val_loss', factor=0.2, patience=3, min_lr=1e-6)"
   ]
  },
  {
   "cell_type": "code",
   "execution_count": 80,
   "id": "69a8f5c9",
   "metadata": {},
   "outputs": [],
   "source": [
    "# Prepare data\n",
    "def prepare_data(dataset_path, categories):\n",
    "    filepaths, labels = [], []\n",
    "    for label, category in enumerate(categories):\n",
    "        category_path = os.path.join(dataset_path, category)\n",
    "        if os.path.exists(category_path):\n",
    "            for file in os.listdir(category_path):\n",
    "                if file.endswith(('jpg', 'jpeg', 'png')):\n",
    "                    filepaths.append(os.path.join(category_path, file))\n",
    "                    labels.append(label)\n",
    "    return filepaths, labels\n",
    "\n",
    "filepaths, labels = prepare_data(dataset_path, categories)"
   ]
  },
  {
   "cell_type": "code",
   "execution_count": 81,
   "id": "27fa0d96",
   "metadata": {},
   "outputs": [],
   "source": [
    "# Split data into train, validation, and test sets\n",
    "train_files, test_files, train_labels, test_labels = train_test_split(\n",
    "    filepaths, labels, test_size=0.2, stratify=labels, random_state=42\n",
    ")\n",
    "\n",
    "train_files, val_files, train_labels, val_labels = train_test_split(\n",
    "    train_files, train_labels, test_size=0.2, stratify=train_labels, random_state=42\n",
    ")\n",
    "\n",
    "# Create DataFrame\n",
    "def create_dataframe(files, labels, categories):\n",
    "    label_to_class = {idx: name for idx, name in enumerate(categories)}\n",
    "    labels = [label_to_class[label] for label in labels]\n",
    "    return pd.DataFrame({'filename': files, 'class': labels})\n",
    "\n",
    "train_df = create_dataframe(train_files, train_labels, categories)\n",
    "val_df = create_dataframe(val_files, val_labels, categories)\n",
    "test_df = create_dataframe(test_files, test_labels, categories)"
   ]
  },
  {
   "cell_type": "code",
   "execution_count": 100,
   "id": "2b0ff273",
   "metadata": {},
   "outputs": [
    {
     "name": "stdout",
     "output_type": "stream",
     "text": [
      "Found 768 validated image filenames belonging to 6 classes.\n",
      "Found 192 validated image filenames belonging to 6 classes.\n",
      "Found 240 validated image filenames belonging to 6 classes.\n"
     ]
    }
   ],
   "source": [
    "# Data generators\n",
    "datagen = ImageDataGenerator(rescale=1./255)\n",
    "\n",
    "train_generator = datagen.flow_from_dataframe(\n",
    "    train_df, x_col='filename', y_col='class',\n",
    "    target_size=(img_height, img_width), batch_size=batch_size, class_mode='categorical'\n",
    ")\n",
    "\n",
    "val_generator = datagen.flow_from_dataframe(\n",
    "    val_df, x_col='filename', y_col='class',\n",
    "    target_size=(img_height, img_width), batch_size=batch_size, class_mode='categorical'\n",
    ")\n",
    "\n",
    "test_generator = datagen.flow_from_dataframe(\n",
    "    test_df, x_col='filename', y_col='class',\n",
    "    target_size=(img_height, img_width), batch_size=batch_size, class_mode='categorical', shuffle=False\n",
    ")\n",
    "\n"
   ]
  },
  {
   "cell_type": "code",
   "execution_count": 121,
   "id": "150b1c00",
   "metadata": {},
   "outputs": [],
   "source": [
    "# Load MobileNetV3 model\n",
    "base_model = MobileNetV3Small(weights='imagenet', include_top=False, input_shape=(img_height, img_width, 3))\n",
    "# Build the model 여기를 추가해야 학습이 진행됨\n",
    "x = base_model.output\n",
    "x = GlobalAveragePooling2D()(x)\n",
    "x = BatchNormalization()(x)  # 배치 정규화 추가\n",
    "x = Dense(256, activation='relu')(x)  # 배치 정규화 층 옮기기 fully-connected layer 내부 -> 이전\n",
    "x = Dropout(0.4)(x)  # 드롭아웃\n",
    "x = Dense(128, activation='relu')(x)\n",
    "x = Dropout(0.4)(x)  # 드롭아웃\n",
    "x = Dense(64, activation='relu')(x)\n",
    "x = Dropout(0.4)(x)  # 드롭아웃\n",
    "x = Dense(32, activation='relu')(x)\n",
    "output = Dense(len(categories), activation='softmax')(x)\n",
    "\n",
    "model = Model(inputs=base_model.input, outputs=output)\n",
    "\n",
    "\n",
    "# Freeze the first few layers and unfreeze the rest 수정한 코드\n",
    "for layer in base_model.layers[:-10]:  # 마지막 10개의 레이어는 학습 가능하게 설정\n",
    "    layer.trainable = False\n"
   ]
  },
  {
   "cell_type": "code",
   "execution_count": 122,
   "id": "4c48f0df",
   "metadata": {},
   "outputs": [],
   "source": [
    "# Compile the model\n",
    "model.compile(optimizer=RMSprop(learning_rate=0.001), loss='categorical_crossentropy', metrics=['accuracy'])"
   ]
  },
  {
   "cell_type": "code",
   "execution_count": 105,
   "id": "02f8b474",
   "metadata": {},
   "outputs": [
    {
     "name": "stdout",
     "output_type": "stream",
     "text": [
      "GPU 메모리 상태: {'current': 61213184, 'peak': 3038876928}\n"
     ]
    }
   ],
   "source": [
    "gpus = tf.config.experimental.list_physical_devices('GPU')\n",
    "if gpus:\n",
    "    for gpu in gpus:\n",
    "        details = tf.config.experimental.get_memory_info('GPU:0')\n",
    "        print(f\"GPU 메모리 상태: {details}\")\n",
    "else:\n",
    "    print(\"GPU가 감지되지 않았습니다.\")"
   ]
  },
  {
   "cell_type": "code",
   "execution_count": 123,
   "id": "67c3ef7e",
   "metadata": {},
   "outputs": [
    {
     "name": "stdout",
     "output_type": "stream",
     "text": [
      "Epoch 1/40\n",
      "24/24 [==============================] - 5s 103ms/step - loss: 1.8391 - accuracy: 0.2435 - val_loss: 1.7730 - val_accuracy: 0.2135\n",
      "Epoch 2/40\n",
      "24/24 [==============================] - 2s 85ms/step - loss: 1.7681 - accuracy: 0.2695 - val_loss: 1.7651 - val_accuracy: 0.2135\n",
      "Epoch 3/40\n",
      "24/24 [==============================] - 2s 72ms/step - loss: 1.6718 - accuracy: 0.2982 - val_loss: 1.7728 - val_accuracy: 0.3021\n",
      "Epoch 4/40\n",
      "24/24 [==============================] - 2s 67ms/step - loss: 1.6601 - accuracy: 0.3177 - val_loss: 1.7751 - val_accuracy: 0.2031\n",
      "Epoch 5/40\n",
      "24/24 [==============================] - 2s 70ms/step - loss: 1.5960 - accuracy: 0.3372 - val_loss: 1.7680 - val_accuracy: 0.2083\n",
      "Epoch 6/40\n",
      "24/24 [==============================] - 2s 73ms/step - loss: 1.5286 - accuracy: 0.3776 - val_loss: 1.7623 - val_accuracy: 0.2083\n",
      "Epoch 7/40\n",
      "24/24 [==============================] - 2s 68ms/step - loss: 1.5013 - accuracy: 0.3659 - val_loss: 1.7531 - val_accuracy: 0.2083\n",
      "Epoch 8/40\n",
      "24/24 [==============================] - 2s 71ms/step - loss: 1.5179 - accuracy: 0.3737 - val_loss: 1.7499 - val_accuracy: 0.2083\n",
      "Epoch 9/40\n",
      "24/24 [==============================] - 2s 68ms/step - loss: 1.4807 - accuracy: 0.3984 - val_loss: 1.7448 - val_accuracy: 0.2135\n",
      "Epoch 10/40\n",
      "24/24 [==============================] - 2s 72ms/step - loss: 1.4881 - accuracy: 0.3919 - val_loss: 1.7378 - val_accuracy: 0.2135\n",
      "Epoch 11/40\n",
      "24/24 [==============================] - 2s 70ms/step - loss: 1.4685 - accuracy: 0.3906 - val_loss: 1.7312 - val_accuracy: 0.2031\n",
      "Epoch 12/40\n",
      "24/24 [==============================] - 2s 68ms/step - loss: 1.4308 - accuracy: 0.4219 - val_loss: 1.7061 - val_accuracy: 0.3281\n",
      "Epoch 13/40\n",
      "24/24 [==============================] - 2s 68ms/step - loss: 1.4369 - accuracy: 0.4102 - val_loss: 1.7146 - val_accuracy: 0.2656\n",
      "Epoch 14/40\n",
      "24/24 [==============================] - 2s 75ms/step - loss: 1.4077 - accuracy: 0.4375 - val_loss: 1.7266 - val_accuracy: 0.2500\n",
      "Epoch 15/40\n",
      "24/24 [==============================] - 2s 69ms/step - loss: 1.4139 - accuracy: 0.4128 - val_loss: 1.7101 - val_accuracy: 0.2552\n",
      "Epoch 16/40\n",
      "24/24 [==============================] - 2s 67ms/step - loss: 1.3785 - accuracy: 0.4583 - val_loss: 1.6709 - val_accuracy: 0.3073\n",
      "Epoch 17/40\n",
      "24/24 [==============================] - 2s 72ms/step - loss: 1.3516 - accuracy: 0.4648 - val_loss: 1.6392 - val_accuracy: 0.3333\n",
      "Epoch 18/40\n",
      "24/24 [==============================] - 2s 73ms/step - loss: 1.3835 - accuracy: 0.4362 - val_loss: 1.6251 - val_accuracy: 0.3594\n",
      "Epoch 19/40\n",
      "24/24 [==============================] - 2s 68ms/step - loss: 1.3423 - accuracy: 0.4622 - val_loss: 1.5993 - val_accuracy: 0.3698\n",
      "Epoch 20/40\n",
      "24/24 [==============================] - 2s 68ms/step - loss: 1.3877 - accuracy: 0.4362 - val_loss: 1.5857 - val_accuracy: 0.4167\n",
      "Epoch 21/40\n",
      "24/24 [==============================] - 2s 68ms/step - loss: 1.3784 - accuracy: 0.4583 - val_loss: 1.5773 - val_accuracy: 0.3958\n",
      "Epoch 22/40\n",
      "24/24 [==============================] - 2s 67ms/step - loss: 1.3571 - accuracy: 0.4648 - val_loss: 1.5893 - val_accuracy: 0.3906\n",
      "Epoch 23/40\n",
      "24/24 [==============================] - 2s 68ms/step - loss: 1.3672 - accuracy: 0.4674 - val_loss: 1.6204 - val_accuracy: 0.3646\n",
      "Epoch 24/40\n",
      "24/24 [==============================] - 2s 70ms/step - loss: 1.3750 - accuracy: 0.4661 - val_loss: 1.5845 - val_accuracy: 0.3802\n",
      "Epoch 25/40\n",
      "24/24 [==============================] - 2s 76ms/step - loss: 1.3578 - accuracy: 0.4596 - val_loss: 1.5639 - val_accuracy: 0.3854\n",
      "Epoch 26/40\n",
      "24/24 [==============================] - 2s 73ms/step - loss: 1.3491 - accuracy: 0.4674 - val_loss: 1.5370 - val_accuracy: 0.4062\n",
      "Epoch 27/40\n",
      "24/24 [==============================] - 2s 67ms/step - loss: 1.3666 - accuracy: 0.4544 - val_loss: 1.5280 - val_accuracy: 0.4115\n",
      "Epoch 28/40\n",
      "24/24 [==============================] - 2s 82ms/step - loss: 1.3546 - accuracy: 0.4622 - val_loss: 1.5101 - val_accuracy: 0.4010\n",
      "Epoch 29/40\n",
      "24/24 [==============================] - 2s 67ms/step - loss: 1.3518 - accuracy: 0.4570 - val_loss: 1.4987 - val_accuracy: 0.4010\n",
      "Epoch 30/40\n",
      "24/24 [==============================] - 2s 67ms/step - loss: 1.3550 - accuracy: 0.4596 - val_loss: 1.4860 - val_accuracy: 0.4062\n",
      "Epoch 31/40\n",
      "24/24 [==============================] - 2s 67ms/step - loss: 1.3738 - accuracy: 0.4505 - val_loss: 1.4737 - val_accuracy: 0.4375\n",
      "Epoch 32/40\n",
      "24/24 [==============================] - 2s 71ms/step - loss: 1.3644 - accuracy: 0.4544 - val_loss: 1.4729 - val_accuracy: 0.4375\n",
      "Epoch 33/40\n",
      "24/24 [==============================] - 2s 69ms/step - loss: 1.3302 - accuracy: 0.4753 - val_loss: 1.4794 - val_accuracy: 0.4167\n",
      "Epoch 34/40\n",
      "24/24 [==============================] - 2s 70ms/step - loss: 1.3527 - accuracy: 0.4544 - val_loss: 1.4769 - val_accuracy: 0.4167\n",
      "Epoch 35/40\n",
      "24/24 [==============================] - 2s 69ms/step - loss: 1.3988 - accuracy: 0.4375 - val_loss: 1.4688 - val_accuracy: 0.4271\n",
      "Epoch 36/40\n",
      "24/24 [==============================] - 2s 82ms/step - loss: 1.3356 - accuracy: 0.4688 - val_loss: 1.4721 - val_accuracy: 0.4167\n",
      "Epoch 37/40\n",
      "24/24 [==============================] - 2s 71ms/step - loss: 1.3263 - accuracy: 0.4792 - val_loss: 1.4671 - val_accuracy: 0.4323\n",
      "Epoch 38/40\n",
      "24/24 [==============================] - 2s 67ms/step - loss: 1.3295 - accuracy: 0.4479 - val_loss: 1.4829 - val_accuracy: 0.4167\n",
      "Epoch 39/40\n",
      "24/24 [==============================] - 2s 69ms/step - loss: 1.3498 - accuracy: 0.4583 - val_loss: 1.4795 - val_accuracy: 0.4167\n",
      "Epoch 40/40\n",
      "24/24 [==============================] - 2s 68ms/step - loss: 1.3561 - accuracy: 0.4544 - val_loss: 1.4788 - val_accuracy: 0.4219\n"
     ]
    }
   ],
   "source": [
    "# Train the model\n",
    "history = model.fit(\n",
    "    train_generator,\n",
    "    validation_data=val_generator,\n",
    "    epochs=epochs,\n",
    "    callbacks=[model_checkpoint, reduce_lr],\n",
    "    steps_per_epoch=train_generator.samples // batch_size,\n",
    "    validation_steps=val_generator.samples // batch_size\n",
    ")\n"
   ]
  },
  {
   "cell_type": "code",
   "execution_count": 124,
   "id": "38da6adf",
   "metadata": {},
   "outputs": [
    {
     "name": "stdout",
     "output_type": "stream",
     "text": [
      "7/7 [==============================] - 0s 53ms/step - loss: 1.3589 - accuracy: 0.4107\n",
      "Test Loss: 1.3589, Test Accuracy: 0.4107\n"
     ]
    }
   ],
   "source": [
    "# Evaluate the model\n",
    "test_loss, test_acc = model.evaluate(test_generator, steps=test_generator.samples // batch_size)\n",
    "print(f'Test Loss: {test_loss:.4f}, Test Accuracy: {test_acc:.4f}')"
   ]
  },
  {
   "cell_type": "code",
   "execution_count": 125,
   "id": "9f68288b",
   "metadata": {},
   "outputs": [
    {
     "data": {
      "image/png": "[encoded data removed]",
      "text/plain": [
       "<Figure size 1008x360 with 2 Axes>"
      ]
     },
     "metadata": {
      "needs_background": "light"
     },
     "output_type": "display_data"
    }
   ],
   "source": [
    "# Plot training history\n",
    "def plot_training_history(history):\n",
    "    epochs_range = range(1, len(history.history['loss']) + 1)\n",
    "\n",
    "    plt.figure(figsize=(14, 5))\n",
    "\n",
    "    # Loss graph\n",
    "    plt.subplot(1, 2, 1)\n",
    "    plt.plot(epochs_range, history.history['loss'], 'bo-', label='Training loss')\n",
    "    plt.plot(epochs_range, history.history['val_loss'], 'ro-', label='Validation loss')\n",
    "    plt.title('Training and Validation Loss')\n",
    "    plt.xlabel('Epochs')\n",
    "    plt.ylabel('Loss')\n",
    "    plt.legend()\n",
    "\n",
    "    # Accuracy graph\n",
    "    plt.subplot(1, 2, 2)\n",
    "    plt.plot(epochs_range, history.history['accuracy'], 'bo-', label='Training accuracy')\n",
    "    plt.plot(epochs_range, history.history['val_accuracy'], 'ro-', label='Validation accuracy')\n",
    "    plt.title('Training and Validation Accuracy')\n",
    "    plt.xlabel('Epochs')\n",
    "    plt.ylabel('Accuracy')\n",
    "    plt.legend()\n",
    "\n",
    "    plt.show()\n",
    "\n",
    "# Plot training and validation history\n",
    "plot_training_history(history)"
   ]
  },
  {
   "cell_type": "code",
   "execution_count": null,
   "id": "dfe21454",
   "metadata": {},
   "outputs": [],
   "source": [
    "#  오차값과 정확도가 들쑥날쑥한다 => 학습률을 낮춰보자.\n",
    "# 낮췄더니 loss값이 너무 느리게 내려감 -> 모델 크기를 키워보자\n",
    "# 그냥  Small Large 사전학습 모델 차이인가..;; -> 씨이이잇팔 이것도 아닌듯\n",
    "# 모델을 키워놨더니 그냥"
   ]
  }
 ],
 "metadata": {
  "kernelspec": {
   "display_name": "Python 3 (ipykernel)",
   "language": "python",
   "name": "python3"
  },
  "language_info": {
   "codemirror_mode": {
    "name": "ipython",
    "version": 3
   },
   "file_extension": ".py",
   "mimetype": "text/x-python",
   "name": "python",
   "nbconvert_exporter": "python",
   "pygments_lexer": "ipython3",
   "version": "3.9.7"
  }
 },
 "nbformat": 4,
 "nbformat_minor": 5
}
