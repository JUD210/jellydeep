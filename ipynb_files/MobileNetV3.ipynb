{
 "cells": [
  {
   "cell_type": "code",
   "execution_count": 1,
   "id": "48e7b806",
   "metadata": {},
   "outputs": [],
   "source": [
    "# MobileNetV3로 만들기\n",
    "'''\n",
    "https://www.kaggle.com/code/guanlintao/mobilenetv3-jellyfish-image-predict/notebook\n",
    "여기에 있는 코드처럼 수정해서 성능을 올려야할 것 같은데, 일단 GPT로 한번 학습 성공하는데 의의를 두고 코드를 수정함\n",
    "'''\n",
    "import os\n",
    "import pandas as pd\n",
    "import numpy as np\n",
    "import matplotlib.pyplot as plt\n",
    "import tensorflow as tf\n",
    "from sklearn.model_selection import train_test_split\n",
    "from tensorflow.keras.preprocessing.image import ImageDataGenerator\n",
    "from tensorflow.keras.applications import MobileNetV3Large  # Small 모델을 사용, 너무 성능이 저조하면 Large 모델로 변경\n",
    "from tensorflow.keras.layers import Dense, GlobalAveragePooling2D\n",
    "from tensorflow.keras.layers import BatchNormalization, Dropout   # 배치 정규화, 드롭아웃\n",
    "from tensorflow.keras.callbacks import ModelCheckpoint, ReduceLROnPlateau  # 체크포인트(콜백)\n",
    "from tensorflow.keras.models import Model\n",
    "from tensorflow.keras.optimizers import Adam, RMSprop  # 옵티마이저"
   ]
  },
  {
   "cell_type": "code",
   "execution_count": 2,
   "id": "956b9cf9",
   "metadata": {},
   "outputs": [],
   "source": [
    "# Dataset path and categories\n",
    "dataset_path = \"../_preprocessed_datasets_del_aug_duplicate\"\n",
    "categories = [\"blue_jellyfish\", \"barrel_jellyfish\", \"compass_jellyfish\", \n",
    "              \"lions_mane_jellyfish\", \"mauve_stinger_jellyfish\", \"Moon_jellyfish\"]\n",
    "\n",
    "# Image size and hyperparameters\n",
    "img_height, img_width = 224, 224 \n",
    "batch_size = 32\n",
    "epochs = 40\n",
    "\n",
    "model_checkpoint = ModelCheckpoint('output_models/mobile_net_v3/best_model.h5', save_best_only=True)\n",
    "reduce_lr = ReduceLROnPlateau(monitor='val_loss', factor=0.2, patience=3, min_lr=1e-6)"
   ]
  },
  {
   "cell_type": "code",
   "execution_count": 3,
   "id": "ea017efe",
   "metadata": {},
   "outputs": [],
   "source": [
    "# Prepare data\n",
    "def prepare_data(dataset_path, categories):\n",
    "    filepaths, labels = [], []\n",
    "    for label, category in enumerate(categories):\n",
    "        category_path = os.path.join(dataset_path, category)\n",
    "        if os.path.exists(category_path):\n",
    "            for file in os.listdir(category_path):\n",
    "                if file.endswith(('jpg', 'jpeg', 'png')):\n",
    "                    filepaths.append(os.path.join(category_path, file))\n",
    "                    labels.append(label)\n",
    "    return filepaths, labels\n",
    "\n",
    "filepaths, labels = prepare_data(dataset_path, categories)"
   ]
  },
  {
   "cell_type": "code",
   "execution_count": 4,
   "id": "1fe65362",
   "metadata": {},
   "outputs": [],
   "source": [
    "# Split data into train, validation, and test sets\n",
    "train_files, test_files, train_labels, test_labels = train_test_split(\n",
    "    filepaths, labels, test_size=0.2, stratify=labels, random_state=42\n",
    ")\n",
    "\n",
    "train_files, val_files, train_labels, val_labels = train_test_split(\n",
    "    train_files, train_labels, test_size=0.2, stratify=train_labels, random_state=42\n",
    ")\n",
    "\n",
    "# Create DataFrame\n",
    "def create_dataframe(files, labels, categories):\n",
    "    label_to_class = {idx: name for idx, name in enumerate(categories)}\n",
    "    labels = [label_to_class[label] for label in labels]\n",
    "    return pd.DataFrame({'filename': files, 'class': labels})\n",
    "\n",
    "train_df = create_dataframe(train_files, train_labels, categories)\n",
    "val_df = create_dataframe(val_files, val_labels, categories)\n",
    "test_df = create_dataframe(test_files, test_labels, categories)"
   ]
  },
  {
   "cell_type": "code",
   "execution_count": 5,
   "id": "c59e66d4",
   "metadata": {},
   "outputs": [
    {
     "name": "stdout",
     "output_type": "stream",
     "text": [
      "Found 960 validated image filenames belonging to 6 classes.\n",
      "Found 240 validated image filenames belonging to 6 classes.\n",
      "Found 300 validated image filenames belonging to 6 classes.\n"
     ]
    }
   ],
   "source": [
    "# Data generators\n",
    "datagen = ImageDataGenerator(rescale=1./255)\n",
    "\n",
    "train_generator = datagen.flow_from_dataframe(\n",
    "    train_df, x_col='filename', y_col='class',\n",
    "    target_size=(img_height, img_width), batch_size=batch_size, class_mode='categorical'\n",
    ")\n",
    "\n",
    "val_generator = datagen.flow_from_dataframe(\n",
    "    val_df, x_col='filename', y_col='class',\n",
    "    target_size=(img_height, img_width), batch_size=batch_size, class_mode='categorical'\n",
    ")\n",
    "\n",
    "test_generator = datagen.flow_from_dataframe(\n",
    "    test_df, x_col='filename', y_col='class',\n",
    "    target_size=(img_height, img_width), batch_size=batch_size, class_mode='categorical', shuffle=False\n",
    ")\n",
    "\n"
   ]
  },
  {
   "cell_type": "code",
   "execution_count": 6,
   "id": "ff178c4b",
   "metadata": {},
   "outputs": [],
   "source": [
    "# Load MobileNetV3 model\n",
    "base_model = MobileNetV3Large(weights='imagenet', include_top=False, input_shape=(img_height, img_width, 3))\n",
    "# Build the model 여기를 추가해야 학습이 진행됨\n",
    "x = base_model.output\n",
    "x = GlobalAveragePooling2D()(x)\n",
    "x = BatchNormalization()(x)  # 배치 정규화 추가\n",
    "x = Dense(128, activation='relu')(x)  # 배치 정규화 층 옮기기 fully-connected layer 내부 -> 이전\n",
    "x = Dropout(0.4)(x)  # 드롭아웃\n",
    "x = Dense(128, activation='relu')(x)\n",
    "output = Dense(len(categories), activation='softmax')(x)\n",
    "\n",
    "model = Model(inputs=base_model.input, outputs=output)\n",
    "\n",
    "\n",
    "# Freeze the first few layers and unfreeze the rest 수정한 코드\n",
    "for layer in base_model.layers[:-10]:  # 마지막 10개의 레이어는 학습 가능하게 설정\n",
    "    layer.trainable = False\n"
   ]
  },
  {
   "cell_type": "code",
   "execution_count": 7,
   "id": "962e2e53",
   "metadata": {},
   "outputs": [],
   "source": [
    "# Compile the model\n",
    "model.compile(optimizer=RMSprop(learning_rate=0.001), loss='categorical_crossentropy', metrics=['accuracy'])"
   ]
  },
  {
   "cell_type": "code",
   "execution_count": 8,
   "id": "f401279f",
   "metadata": {},
   "outputs": [
    {
     "name": "stdout",
     "output_type": "stream",
     "text": [
      "GPU 메모리 상태: {'current': 18736128, 'peak': 27494656}\n"
     ]
    }
   ],
   "source": [
    "gpus = tf.config.experimental.list_physical_devices('GPU')\n",
    "if gpus:\n",
    "    for gpu in gpus:\n",
    "        details = tf.config.experimental.get_memory_info('GPU:0')\n",
    "        print(f\"GPU 메모리 상태: {details}\")\n",
    "else:\n",
    "    print(\"GPU가 감지되지 않았습니다.\")"
   ]
  },
  {
   "cell_type": "code",
   "execution_count": 9,
   "id": "4e46cf16",
   "metadata": {},
   "outputs": [
    {
     "name": "stdout",
     "output_type": "stream",
     "text": [
      "Epoch 1/40\n",
      "60/60 [==============================] - 10s 52ms/step - loss: 1.9168 - accuracy: 0.2583 - val_loss: 2.0925 - val_accuracy: 0.1667\n"
     ]
    },
    {
     "name": "stderr",
     "output_type": "stream",
     "text": [
      "/opt/conda/lib/python3.9/site-packages/keras/utils/generic_utils.py:494: CustomMaskWarning: Custom mask layers require a config and must override get_config. When loading, the custom mask layer must be passed to the custom_objects argument.\n",
      "  warnings.warn('Custom mask layers require a config and must override '\n"
     ]
    },
    {
     "name": "stdout",
     "output_type": "stream",
     "text": [
      "Epoch 2/40\n",
      "60/60 [==============================] - 2s 36ms/step - loss: 1.6416 - accuracy: 0.3469 - val_loss: 2.0095 - val_accuracy: 0.1708\n",
      "Epoch 3/40\n",
      "60/60 [==============================] - 2s 36ms/step - loss: 1.5314 - accuracy: 0.3948 - val_loss: 2.3368 - val_accuracy: 0.1750\n",
      "Epoch 4/40\n",
      "60/60 [==============================] - 2s 35ms/step - loss: 1.4275 - accuracy: 0.4542 - val_loss: 2.1591 - val_accuracy: 0.1833\n",
      "Epoch 5/40\n",
      "60/60 [==============================] - 2s 36ms/step - loss: 1.3730 - accuracy: 0.4823 - val_loss: 2.7284 - val_accuracy: 0.1833\n",
      "Epoch 6/40\n",
      "60/60 [==============================] - 2s 38ms/step - loss: 1.1740 - accuracy: 0.5562 - val_loss: 1.7800 - val_accuracy: 0.2375\n",
      "Epoch 7/40\n",
      "60/60 [==============================] - 2s 36ms/step - loss: 1.1202 - accuracy: 0.5719 - val_loss: 2.1563 - val_accuracy: 0.2000\n",
      "Epoch 8/40\n",
      "60/60 [==============================] - 2s 35ms/step - loss: 1.1047 - accuracy: 0.5792 - val_loss: 1.7821 - val_accuracy: 0.2625\n",
      "Epoch 9/40\n",
      "60/60 [==============================] - 2s 35ms/step - loss: 1.0835 - accuracy: 0.5865 - val_loss: 2.3780 - val_accuracy: 0.2417\n",
      "Epoch 10/40\n",
      "60/60 [==============================] - 2s 35ms/step - loss: 1.0337 - accuracy: 0.6177 - val_loss: 1.4738 - val_accuracy: 0.4167\n",
      "Epoch 11/40\n",
      "60/60 [==============================] - 2s 38ms/step - loss: 0.9980 - accuracy: 0.6125 - val_loss: 1.4135 - val_accuracy: 0.4833\n",
      "Epoch 12/40\n",
      "60/60 [==============================] - 2s 35ms/step - loss: 0.9938 - accuracy: 0.6302 - val_loss: 1.8289 - val_accuracy: 0.3417\n",
      "Epoch 13/40\n",
      "60/60 [==============================] - 2s 34ms/step - loss: 0.9784 - accuracy: 0.6427 - val_loss: 1.3152 - val_accuracy: 0.5167\n",
      "Epoch 14/40\n",
      "60/60 [==============================] - 2s 35ms/step - loss: 1.0037 - accuracy: 0.6187 - val_loss: 1.3213 - val_accuracy: 0.5042\n",
      "Epoch 15/40\n",
      "60/60 [==============================] - 2s 35ms/step - loss: 0.9751 - accuracy: 0.6438 - val_loss: 1.2777 - val_accuracy: 0.4917\n",
      "Epoch 16/40\n",
      "60/60 [==============================] - 2s 34ms/step - loss: 0.9582 - accuracy: 0.6469 - val_loss: 1.4622 - val_accuracy: 0.4833\n",
      "Epoch 17/40\n",
      "60/60 [==============================] - 2s 34ms/step - loss: 0.9399 - accuracy: 0.6438 - val_loss: 1.3281 - val_accuracy: 0.5000\n",
      "Epoch 18/40\n",
      "60/60 [==============================] - 2s 34ms/step - loss: 0.9322 - accuracy: 0.6531 - val_loss: 1.3422 - val_accuracy: 0.4917\n",
      "Epoch 19/40\n",
      "60/60 [==============================] - 2s 34ms/step - loss: 0.9197 - accuracy: 0.6573 - val_loss: 1.2930 - val_accuracy: 0.5042\n",
      "Epoch 20/40\n",
      "60/60 [==============================] - 2s 35ms/step - loss: 0.9237 - accuracy: 0.6594 - val_loss: 1.2597 - val_accuracy: 0.5250\n",
      "Epoch 21/40\n",
      "60/60 [==============================] - 2s 34ms/step - loss: 0.9361 - accuracy: 0.6510 - val_loss: 1.2451 - val_accuracy: 0.5167\n",
      "Epoch 22/40\n",
      "60/60 [==============================] - 2s 35ms/step - loss: 0.9452 - accuracy: 0.6427 - val_loss: 1.2372 - val_accuracy: 0.5250\n",
      "Epoch 23/40\n",
      "60/60 [==============================] - 2s 34ms/step - loss: 0.9477 - accuracy: 0.6385 - val_loss: 1.2447 - val_accuracy: 0.5292\n",
      "Epoch 24/40\n",
      "60/60 [==============================] - 2s 35ms/step - loss: 0.9548 - accuracy: 0.6469 - val_loss: 1.2431 - val_accuracy: 0.5250\n",
      "Epoch 25/40\n",
      "60/60 [==============================] - 2s 36ms/step - loss: 0.9111 - accuracy: 0.6687 - val_loss: 1.2574 - val_accuracy: 0.5542\n",
      "Epoch 26/40\n",
      "60/60 [==============================] - 2s 35ms/step - loss: 0.9345 - accuracy: 0.6594 - val_loss: 1.2406 - val_accuracy: 0.5458\n",
      "Epoch 27/40\n",
      "60/60 [==============================] - 2s 34ms/step - loss: 0.9553 - accuracy: 0.6323 - val_loss: 1.2381 - val_accuracy: 0.5208\n",
      "Epoch 28/40\n",
      "60/60 [==============================] - 2s 35ms/step - loss: 0.9648 - accuracy: 0.6406 - val_loss: 1.2372 - val_accuracy: 0.5167\n",
      "Epoch 29/40\n",
      "60/60 [==============================] - 2s 35ms/step - loss: 0.9414 - accuracy: 0.6500 - val_loss: 1.2377 - val_accuracy: 0.5167\n",
      "Epoch 30/40\n",
      "60/60 [==============================] - 2s 34ms/step - loss: 0.9389 - accuracy: 0.6490 - val_loss: 1.2373 - val_accuracy: 0.5125\n",
      "Epoch 31/40\n",
      "60/60 [==============================] - 2s 35ms/step - loss: 0.9384 - accuracy: 0.6531 - val_loss: 1.2384 - val_accuracy: 0.5167\n",
      "Epoch 32/40\n",
      "60/60 [==============================] - 2s 35ms/step - loss: 0.9233 - accuracy: 0.6542 - val_loss: 1.2385 - val_accuracy: 0.5208\n",
      "Epoch 33/40\n",
      "60/60 [==============================] - 2s 36ms/step - loss: 0.9345 - accuracy: 0.6562 - val_loss: 1.2380 - val_accuracy: 0.5208\n",
      "Epoch 34/40\n",
      "60/60 [==============================] - 2s 35ms/step - loss: 0.9356 - accuracy: 0.6542 - val_loss: 1.2387 - val_accuracy: 0.5167\n",
      "Epoch 35/40\n",
      "60/60 [==============================] - 2s 35ms/step - loss: 0.9249 - accuracy: 0.6646 - val_loss: 1.2387 - val_accuracy: 0.5167\n",
      "Epoch 36/40\n",
      "60/60 [==============================] - 2s 35ms/step - loss: 0.9441 - accuracy: 0.6562 - val_loss: 1.2385 - val_accuracy: 0.5167\n",
      "Epoch 37/40\n",
      "60/60 [==============================] - 2s 34ms/step - loss: 0.9278 - accuracy: 0.6552 - val_loss: 1.2381 - val_accuracy: 0.5208\n",
      "Epoch 38/40\n",
      "60/60 [==============================] - 2s 35ms/step - loss: 0.9274 - accuracy: 0.6531 - val_loss: 1.2387 - val_accuracy: 0.5167\n",
      "Epoch 39/40\n",
      "60/60 [==============================] - 2s 35ms/step - loss: 0.9375 - accuracy: 0.6448 - val_loss: 1.2387 - val_accuracy: 0.5125\n",
      "Epoch 40/40\n",
      "60/60 [==============================] - 2s 35ms/step - loss: 0.9235 - accuracy: 0.6510 - val_loss: 1.2388 - val_accuracy: 0.5125\n"
     ]
    }
   ],
   "source": [
    "# Train the model\n",
    "history = model.fit(\n",
    "    train_generator,\n",
    "    validation_data=val_generator,\n",
    "    epochs=epochs,\n",
    "    callbacks=[model_checkpoint, reduce_lr],\n",
    "    steps_per_epoch=train_generator.samples // batch_size,\n",
    "    validation_steps=val_generator.samples // batch_size\n",
    ")\n"
   ]
  },
  {
   "cell_type": "code",
   "execution_count": 10,
   "id": "cbc2e250",
   "metadata": {},
   "outputs": [
    {
     "name": "stdout",
     "output_type": "stream",
     "text": [
      "18/18 [==============================] - 1s 29ms/step - loss: 1.1074 - accuracy: 0.5972\n",
      "Test Loss: 1.1074, Test Accuracy: 0.5972\n"
     ]
    }
   ],
   "source": [
    "# Evaluate the model\n",
    "test_loss, test_acc = model.evaluate(test_generator, steps=test_generator.samples // batch_size)\n",
    "print(f'Test Loss: {test_loss:.4f}, Test Accuracy: {test_acc:.4f}')"
   ]
  },
  {
   "cell_type": "code",
   "execution_count": 11,
   "id": "9c224efa",
   "metadata": {},
   "outputs": [
    {
     "data": {
      "image/png": "[encoded data removed]",
      "text/plain": [
       "<Figure size 1008x360 with 2 Axes>"
      ]
     },
     "metadata": {
      "needs_background": "light"
     },
     "output_type": "display_data"
    }
   ],
   "source": [
    "# Plot training history\n",
    "def plot_training_history(history):\n",
    "    epochs_range = range(1, len(history.history['loss']) + 1)\n",
    "\n",
    "    plt.figure(figsize=(14, 5))\n",
    "\n",
    "    # Loss graph\n",
    "    plt.subplot(1, 2, 1)\n",
    "    plt.plot(epochs_range, history.history['loss'], 'bo-', label='Training loss')\n",
    "    plt.plot(epochs_range, history.history['val_loss'], 'ro-', label='Validation loss')\n",
    "    plt.title('Training and Validation Loss')\n",
    "    plt.xlabel('Epochs')\n",
    "    plt.ylabel('Loss')\n",
    "    plt.legend()\n",
    "\n",
    "    # Accuracy graph\n",
    "    plt.subplot(1, 2, 2)\n",
    "    plt.plot(epochs_range, history.history['accuracy'], 'bo-', label='Training accuracy')\n",
    "    plt.plot(epochs_range, history.history['val_accuracy'], 'ro-', label='Validation accuracy')\n",
    "    plt.title('Training and Validation Accuracy')\n",
    "    plt.xlabel('Epochs')\n",
    "    plt.ylabel('Accuracy')\n",
    "    plt.legend()\n",
    "\n",
    "    plt.show()\n",
    "\n",
    "# Plot training and validation history\n",
    "plot_training_history(history)"
   ]
  },
  {
   "cell_type": "code",
   "execution_count": null,
   "id": "0c0b2a22",
   "metadata": {},
   "outputs": [],
   "source": []
  }
 ],
 "metadata": {
  "kernelspec": {
   "display_name": "Python 3 (ipykernel)",
   "language": "python",
   "name": "python3"
  },
  "language_info": {
   "codemirror_mode": {
    "name": "ipython",
    "version": 3
   },
   "file_extension": ".py",
   "mimetype": "text/x-python",
   "name": "python",
   "nbconvert_exporter": "python",
   "pygments_lexer": "ipython3",
   "version": "3.9.7"
  }
 },
 "nbformat": 4,
 "nbformat_minor": 5
}
