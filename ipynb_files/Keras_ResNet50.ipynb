{
 "cells": [
  {
   "cell_type": "code",
   "execution_count": 2,
   "id": "d89bef6a",
   "metadata": {},
   "outputs": [],
   "source": [
    "import tensorflow as tf\n",
    "from tensorflow.keras.applications import ResNet50\n",
    "from tensorflow.keras.preprocessing.image import ImageDataGenerator\n",
    "from tensorflow.keras.optimizers import Adam\n",
    "from sklearn.model_selection import train_test_split\n",
    "import pandas as pd\n",
    "import os\n",
    "import matplotlib.pyplot as plt"
   ]
  },
  {
   "cell_type": "code",
   "execution_count": 3,
   "id": "7818d50c",
   "metadata": {},
   "outputs": [],
   "source": [
    "# 데이터 경로 설정\n",
    "dataset_path = \"../_preprocessed_datasets_del_aug_duplicate\"\n",
    "categories = [\"blue_jellyfish\", \"barrel_jellyfish\", \"compass_jellyfish\", \n",
    "              \"lions_mane_jellyfish\", \"mauve_stinger_jellyfish\", \"Moon_jellyfish\"]\n",
    "\n",
    "# 이미지 크기 및 하이퍼파라미티 조정\n",
    "img_height, img_width = 224, 224\n",
    "batch_size = 32\n",
    "epochs = 40\n",
    "learning_rate = 0.001"
   ]
  },
  {
   "cell_type": "code",
   "execution_count": 4,
   "id": "8711759e",
   "metadata": {},
   "outputs": [],
   "source": [
    "# 데이터 준비 함수\n",
    "def prepare_data(dataset_path, categories):\n",
    "    filepaths, labels = [], []\n",
    "    for label, category in enumerate(categories):\n",
    "        category_path = os.path.join(dataset_path, category)\n",
    "        if os.path.exists(category_path):\n",
    "            for file in os.listdir(category_path):\n",
    "                if file.endswith(('jpg', 'jpeg', 'png')):\n",
    "                    filepaths.append(os.path.join(category_path, file))\n",
    "                    labels.append(category)\n",
    "    return filepaths, labels\n",
    "\n",
    "filepaths, labels = prepare_data(dataset_path, categories)"
   ]
  },
  {
   "cell_type": "code",
   "execution_count": 5,
   "id": "21072aa8",
   "metadata": {},
   "outputs": [],
   "source": [
    "# DataFrame 생성\n",
    "data = pd.DataFrame({'filename': filepaths, 'class': labels})"
   ]
  },
  {
   "cell_type": "code",
   "execution_count": 6,
   "id": "a1b671f1",
   "metadata": {},
   "outputs": [],
   "source": [
    "# Train/Test 분리\n",
    "train_df, test_df = train_test_split(data, test_size=0.2, stratify=data['class'], random_state=42)\n",
    "\n",
    "# Train/Validation 분리\n",
    "train_df, val_df = train_test_split(train_df, test_size=0.2, stratify=train_df['class'], random_state=42)"
   ]
  },
  {
   "cell_type": "code",
   "execution_count": 7,
   "id": "b91e7852",
   "metadata": {},
   "outputs": [
    {
     "name": "stdout",
     "output_type": "stream",
     "text": [
      "Found 960 validated image filenames belonging to 6 classes.\n",
      "Found 240 validated image filenames belonging to 6 classes.\n",
      "Found 300 validated image filenames belonging to 6 classes.\n"
     ]
    }
   ],
   "source": [
    "# ImageDataGenerator 사용\n",
    "train_datagen = ImageDataGenerator(\n",
    "    rescale=1./255,\n",
    "    rotation_range=20,\n",
    "    width_shift_range=0.2,\n",
    "    height_shift_range=0.2,\n",
    "    shear_range=0.2,\n",
    "    zoom_range=0.2,\n",
    "    horizontal_flip=True\n",
    ")\n",
    "\n",
    "val_test_datagen = ImageDataGenerator(rescale=1./255)\n",
    "\n",
    "train_generator = train_datagen.flow_from_dataframe(\n",
    "    train_df,\n",
    "    x_col='filename',\n",
    "    y_col='class',\n",
    "    target_size=(img_height, img_width),\n",
    "    batch_size=batch_size,\n",
    "    class_mode='categorical'\n",
    ")\n",
    "\n",
    "val_generator = val_test_datagen.flow_from_dataframe(\n",
    "    val_df,\n",
    "    x_col='filename',\n",
    "    y_col='class',\n",
    "    target_size=(img_height, img_width),\n",
    "    batch_size=batch_size,\n",
    "    class_mode='categorical'\n",
    ")\n",
    "\n",
    "test_generator = val_test_datagen.flow_from_dataframe(\n",
    "    test_df,\n",
    "    x_col='filename',\n",
    "    y_col='class',\n",
    "    target_size=(img_height, img_width),\n",
    "    batch_size=batch_size,\n",
    "    class_mode='categorical',\n",
    "    shuffle=False\n",
    ")"
   ]
  },
  {
   "cell_type": "code",
   "execution_count": 8,
   "id": "823c6d2e",
   "metadata": {},
   "outputs": [],
   "source": [
    "# ResNet50 모델 생성\n",
    "num_classes = len(categories)\n",
    "model = ResNet50(weights=None, include_top=True, input_shape=(img_height, img_width, 3), classes=num_classes)"
   ]
  },
  {
   "cell_type": "code",
   "execution_count": 9,
   "id": "3e7b7833",
   "metadata": {},
   "outputs": [],
   "source": [
    "# 모델 컴파일\n",
    "model.compile(optimizer=Adam(learning_rate=learning_rate),\n",
    "              loss='categorical_crossentropy',\n",
    "              metrics=['accuracy'])"
   ]
  },
  {
   "cell_type": "code",
   "execution_count": 10,
   "id": "a48009a3",
   "metadata": {},
   "outputs": [
    {
     "name": "stdout",
     "output_type": "stream",
     "text": [
      "Epoch 1/40\n",
      "30/30 [==============================] - 69s 441ms/step - loss: 2.3654 - accuracy: 0.2979 - val_loss: 1.8165 - val_accuracy: 0.2625\n",
      "Epoch 2/40\n",
      "30/30 [==============================] - 12s 400ms/step - loss: 1.7061 - accuracy: 0.3854 - val_loss: 2.0670 - val_accuracy: 0.1750\n",
      "Epoch 3/40\n",
      "30/30 [==============================] - 12s 394ms/step - loss: 1.4655 - accuracy: 0.4208 - val_loss: 2.2436 - val_accuracy: 0.2583\n",
      "Epoch 4/40\n",
      "30/30 [==============================] - 12s 393ms/step - loss: 1.3466 - accuracy: 0.4958 - val_loss: 2.0764 - val_accuracy: 0.2875\n",
      "Epoch 5/40\n",
      "30/30 [==============================] - 12s 401ms/step - loss: 1.2798 - accuracy: 0.5177 - val_loss: 2.7372 - val_accuracy: 0.1833\n",
      "Epoch 6/40\n",
      "30/30 [==============================] - 12s 396ms/step - loss: 1.2789 - accuracy: 0.5292 - val_loss: 2.9351 - val_accuracy: 0.1917\n",
      "Epoch 7/40\n",
      "30/30 [==============================] - 12s 396ms/step - loss: 1.2434 - accuracy: 0.5552 - val_loss: 1.9778 - val_accuracy: 0.3250\n",
      "Epoch 8/40\n",
      "30/30 [==============================] - 12s 394ms/step - loss: 1.2020 - accuracy: 0.5719 - val_loss: 2.4287 - val_accuracy: 0.1792\n",
      "Epoch 9/40\n",
      "30/30 [==============================] - 12s 395ms/step - loss: 1.1176 - accuracy: 0.5927 - val_loss: 2.5486 - val_accuracy: 0.2417\n",
      "Epoch 10/40\n",
      "30/30 [==============================] - 12s 406ms/step - loss: 1.1536 - accuracy: 0.5885 - val_loss: 1.9542 - val_accuracy: 0.3583\n",
      "Epoch 11/40\n",
      "30/30 [==============================] - 12s 401ms/step - loss: 0.9964 - accuracy: 0.6208 - val_loss: 2.0987 - val_accuracy: 0.3000\n",
      "Epoch 12/40\n",
      "30/30 [==============================] - 12s 399ms/step - loss: 0.9775 - accuracy: 0.6417 - val_loss: 2.0591 - val_accuracy: 0.3125\n",
      "Epoch 13/40\n",
      "30/30 [==============================] - 12s 393ms/step - loss: 0.9568 - accuracy: 0.6427 - val_loss: 1.7467 - val_accuracy: 0.4167\n",
      "Epoch 14/40\n",
      "30/30 [==============================] - 12s 393ms/step - loss: 0.9389 - accuracy: 0.6417 - val_loss: 1.4155 - val_accuracy: 0.4708\n",
      "Epoch 15/40\n",
      "30/30 [==============================] - 12s 398ms/step - loss: 0.8141 - accuracy: 0.7000 - val_loss: 1.0718 - val_accuracy: 0.6125\n",
      "Epoch 16/40\n",
      "30/30 [==============================] - 12s 402ms/step - loss: 0.9152 - accuracy: 0.6635 - val_loss: 2.3512 - val_accuracy: 0.4750\n",
      "Epoch 17/40\n",
      "30/30 [==============================] - 12s 394ms/step - loss: 0.8156 - accuracy: 0.7000 - val_loss: 1.3675 - val_accuracy: 0.5250\n",
      "Epoch 18/40\n",
      "30/30 [==============================] - 12s 396ms/step - loss: 0.8902 - accuracy: 0.6875 - val_loss: 2.7112 - val_accuracy: 0.5833\n",
      "Epoch 19/40\n",
      "30/30 [==============================] - 12s 398ms/step - loss: 0.8172 - accuracy: 0.6979 - val_loss: 1.6821 - val_accuracy: 0.5333\n",
      "Epoch 20/40\n",
      "30/30 [==============================] - 12s 394ms/step - loss: 0.7137 - accuracy: 0.7365 - val_loss: 0.9664 - val_accuracy: 0.6458\n",
      "Epoch 21/40\n",
      "30/30 [==============================] - 12s 398ms/step - loss: 0.6611 - accuracy: 0.7552 - val_loss: 2.9978 - val_accuracy: 0.5708\n",
      "Epoch 22/40\n",
      "30/30 [==============================] - 12s 405ms/step - loss: 0.7462 - accuracy: 0.7292 - val_loss: 1.7996 - val_accuracy: 0.6208\n",
      "Epoch 23/40\n",
      "30/30 [==============================] - 12s 394ms/step - loss: 0.7052 - accuracy: 0.7406 - val_loss: 1.8850 - val_accuracy: 0.5542\n",
      "Epoch 24/40\n",
      "30/30 [==============================] - 12s 395ms/step - loss: 0.6204 - accuracy: 0.7760 - val_loss: 0.9385 - val_accuracy: 0.7042\n",
      "Epoch 25/40\n",
      "30/30 [==============================] - 12s 392ms/step - loss: 0.6619 - accuracy: 0.7781 - val_loss: 1.3637 - val_accuracy: 0.6917\n",
      "Epoch 26/40\n",
      "30/30 [==============================] - 12s 397ms/step - loss: 0.5738 - accuracy: 0.7958 - val_loss: 2.7647 - val_accuracy: 0.5000\n",
      "Epoch 27/40\n",
      "30/30 [==============================] - 12s 393ms/step - loss: 0.5501 - accuracy: 0.7979 - val_loss: 1.2339 - val_accuracy: 0.6583\n",
      "Epoch 28/40\n",
      "30/30 [==============================] - 12s 394ms/step - loss: 0.5249 - accuracy: 0.8125 - val_loss: 3.0418 - val_accuracy: 0.5042\n",
      "Epoch 29/40\n",
      "30/30 [==============================] - 12s 395ms/step - loss: 0.5058 - accuracy: 0.8292 - val_loss: 2.4208 - val_accuracy: 0.4708\n",
      "Epoch 30/40\n",
      "30/30 [==============================] - 12s 394ms/step - loss: 0.7491 - accuracy: 0.7417 - val_loss: 11.9657 - val_accuracy: 0.2583\n",
      "Epoch 31/40\n",
      "30/30 [==============================] - 12s 399ms/step - loss: 0.6061 - accuracy: 0.7958 - val_loss: 2.6963 - val_accuracy: 0.5292\n",
      "Epoch 32/40\n",
      "30/30 [==============================] - 12s 396ms/step - loss: 0.4725 - accuracy: 0.8375 - val_loss: 0.8252 - val_accuracy: 0.7833\n",
      "Epoch 33/40\n",
      "30/30 [==============================] - 12s 395ms/step - loss: 0.4518 - accuracy: 0.8562 - val_loss: 1.5442 - val_accuracy: 0.5750\n",
      "Epoch 34/40\n",
      "30/30 [==============================] - 12s 392ms/step - loss: 0.6029 - accuracy: 0.7865 - val_loss: 5.5963 - val_accuracy: 0.4125\n",
      "Epoch 35/40\n",
      "30/30 [==============================] - 12s 396ms/step - loss: 0.4250 - accuracy: 0.8500 - val_loss: 0.6809 - val_accuracy: 0.7750\n",
      "Epoch 36/40\n",
      "30/30 [==============================] - 12s 398ms/step - loss: 0.4664 - accuracy: 0.8333 - val_loss: 1.1880 - val_accuracy: 0.7083\n",
      "Epoch 37/40\n",
      "30/30 [==============================] - 12s 394ms/step - loss: 0.3773 - accuracy: 0.8698 - val_loss: 0.6883 - val_accuracy: 0.7625\n",
      "Epoch 38/40\n",
      "30/30 [==============================] - 12s 397ms/step - loss: 0.3809 - accuracy: 0.8719 - val_loss: 2.3204 - val_accuracy: 0.5583\n",
      "Epoch 39/40\n",
      "30/30 [==============================] - 12s 396ms/step - loss: 0.3637 - accuracy: 0.8760 - val_loss: 1.0443 - val_accuracy: 0.7167\n",
      "Epoch 40/40\n",
      "30/30 [==============================] - 12s 395ms/step - loss: 0.3610 - accuracy: 0.8865 - val_loss: 0.6743 - val_accuracy: 0.7708\n"
     ]
    }
   ],
   "source": [
    "# 모델 훈련\n",
    "history = model.fit(\n",
    "    train_generator,\n",
    "    validation_data=val_generator,\n",
    "    epochs=epochs\n",
    ")"
   ]
  },
  {
   "cell_type": "code",
   "execution_count": 11,
   "id": "da6ec23f",
   "metadata": {},
   "outputs": [
    {
     "name": "stdout",
     "output_type": "stream",
     "text": [
      "10/10 [==============================] - 2s 155ms/step - loss: 0.7176 - accuracy: 0.7667\n",
      "Test Loss: 0.7176, Test Accuracy: 0.7667\n"
     ]
    }
   ],
   "source": [
    "# 테스트 평가\n",
    "test_loss, test_acc = model.evaluate(test_generator)\n",
    "print(f\"Test Loss: {test_loss:.4f}, Test Accuracy: {test_acc:.4f}\")"
   ]
  },
  {
   "cell_type": "code",
   "execution_count": 12,
   "id": "852d3e4d",
   "metadata": {},
   "outputs": [
    {
     "data": {
      "image/png": "[encoded data removed]",
      "text/plain": [
       "<Figure size 1008x360 with 2 Axes>"
      ]
     },
     "metadata": {
      "needs_background": "light"
     },
     "output_type": "display_data"
    }
   ],
   "source": [
    "# 훈련 이력 시각화\n",
    "def plot_training_history(history):\n",
    "    epochs_range = range(1, len(history.history['loss']) + 1)\n",
    "\n",
    "    plt.figure(figsize=(14, 5))\n",
    "\n",
    "    # Loss 그래프\n",
    "    plt.subplot(1, 2, 1)\n",
    "    plt.plot(epochs_range, history.history['loss'], 'bo-', label='Training loss')\n",
    "    plt.plot(epochs_range, history.history['val_loss'], 'ro-', label='Validation loss')\n",
    "    plt.title('Training and Validation Loss')\n",
    "    plt.xlabel('Epochs')\n",
    "    plt.ylabel('Loss')\n",
    "    plt.legend()\n",
    "\n",
    "    # Accuracy 그래프\n",
    "    plt.subplot(1, 2, 2)\n",
    "    plt.plot(epochs_range, history.history['accuracy'], 'bo-', label='Training accuracy')\n",
    "    plt.plot(epochs_range, history.history['val_accuracy'], 'ro-', label='Validation accuracy')\n",
    "    plt.title('Training and Validation Accuracy')\n",
    "    plt.xlabel('Epochs')\n",
    "    plt.ylabel('Accuracy')\n",
    "    plt.legend()\n",
    "\n",
    "    plt.show()\n",
    "\n",
    "plot_training_history(history)"
   ]
  },
  {
   "cell_type": "markdown",
   "id": "d98c8869",
   "metadata": {},
   "source": [
    "## ResNet50 모델\n",
    "---\n",
    "\n",
    "성능이 점점 좋아지다가 30번째 에포크에서 나락을감.  \n",
    "32번째 에포크에서 가장 성능이 좋았음 최대 78%의 정확도."
   ]
  }
 ],
 "metadata": {
  "kernelspec": {
   "display_name": "Python 3 (ipykernel)",
   "language": "python",
   "name": "python3"
  },
  "language_info": {
   "codemirror_mode": {
    "name": "ipython",
    "version": 3
   },
   "file_extension": ".py",
   "mimetype": "text/x-python",
   "name": "python",
   "nbconvert_exporter": "python",
   "pygments_lexer": "ipython3",
   "version": "3.9.7"
  }
 },
 "nbformat": 4,
 "nbformat_minor": 5
}
