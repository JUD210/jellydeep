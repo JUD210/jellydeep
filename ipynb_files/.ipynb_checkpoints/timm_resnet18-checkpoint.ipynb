{
 "cells": [
  {
   "cell_type": "code",
   "execution_count": 1,
   "id": "89cc59a2",
   "metadata": {},
   "outputs": [
    {
     "name": "stdout",
     "output_type": "stream",
     "text": [
      "Requirement already satisfied: timm in /opt/conda/lib/python3.9/site-packages (1.0.11)\n",
      "Requirement already satisfied: torchvision in /opt/conda/lib/python3.9/site-packages (from timm) (0.10.1+cu111)\n",
      "Requirement already satisfied: huggingface_hub in /opt/conda/lib/python3.9/site-packages (from timm) (0.0.19)\n",
      "Requirement already satisfied: torch in /opt/conda/lib/python3.9/site-packages (from timm) (1.9.1+cu111)\n",
      "Requirement already satisfied: pyyaml in /opt/conda/lib/python3.9/site-packages (from timm) (6.0)\n",
      "Requirement already satisfied: safetensors in /opt/conda/lib/python3.9/site-packages (from timm) (0.4.5)\n",
      "Requirement already satisfied: packaging>=20.9 in /opt/conda/lib/python3.9/site-packages (from huggingface_hub->timm) (21.3)\n",
      "Requirement already satisfied: requests in /opt/conda/lib/python3.9/site-packages (from huggingface_hub->timm) (2.26.0)\n",
      "Requirement already satisfied: typing-extensions in /opt/conda/lib/python3.9/site-packages (from huggingface_hub->timm) (4.0.1)\n",
      "Requirement already satisfied: filelock in /opt/conda/lib/python3.9/site-packages (from huggingface_hub->timm) (3.4.0)\n",
      "Requirement already satisfied: tqdm in /opt/conda/lib/python3.9/site-packages (from huggingface_hub->timm) (4.62.3)\n",
      "Requirement already satisfied: numpy in /opt/conda/lib/python3.9/site-packages (from torchvision->timm) (1.21.4)\n",
      "Requirement already satisfied: pillow>=5.3.0 in /opt/conda/lib/python3.9/site-packages (from torchvision->timm) (8.3.2)\n",
      "Requirement already satisfied: pyparsing!=3.0.5,>=2.0.2 in /opt/conda/lib/python3.9/site-packages (from packaging>=20.9->huggingface_hub->timm) (3.0.6)\n",
      "Requirement already satisfied: charset-normalizer~=2.0.0 in /opt/conda/lib/python3.9/site-packages (from requests->huggingface_hub->timm) (2.0.8)\n",
      "Requirement already satisfied: certifi>=2017.4.17 in /opt/conda/lib/python3.9/site-packages (from requests->huggingface_hub->timm) (2021.10.8)\n",
      "Requirement already satisfied: urllib3<1.27,>=1.21.1 in /opt/conda/lib/python3.9/site-packages (from requests->huggingface_hub->timm) (1.26.7)\n",
      "Requirement already satisfied: idna<4,>=2.5 in /opt/conda/lib/python3.9/site-packages (from requests->huggingface_hub->timm) (2.10)\n",
      "\u001b[33mWARNING: Running pip as the 'root' user can result in broken permissions and conflicting behaviour with the system package manager. It is recommended to use a virtual environment instead: https://pip.pypa.io/warnings/venv\u001b[0m\n",
      "Requirement already satisfied: huggingface_hub in /opt/conda/lib/python3.9/site-packages (0.0.19)\n",
      "Requirement already satisfied: filelock in /opt/conda/lib/python3.9/site-packages (from huggingface_hub) (3.4.0)\n",
      "Requirement already satisfied: requests in /opt/conda/lib/python3.9/site-packages (from huggingface_hub) (2.26.0)\n",
      "Requirement already satisfied: typing-extensions in /opt/conda/lib/python3.9/site-packages (from huggingface_hub) (4.0.1)\n",
      "Requirement already satisfied: pyyaml in /opt/conda/lib/python3.9/site-packages (from huggingface_hub) (6.0)\n",
      "Requirement already satisfied: packaging>=20.9 in /opt/conda/lib/python3.9/site-packages (from huggingface_hub) (21.3)\n",
      "Requirement already satisfied: tqdm in /opt/conda/lib/python3.9/site-packages (from huggingface_hub) (4.62.3)\n",
      "Requirement already satisfied: pyparsing!=3.0.5,>=2.0.2 in /opt/conda/lib/python3.9/site-packages (from packaging>=20.9->huggingface_hub) (3.0.6)\n",
      "Requirement already satisfied: idna<4,>=2.5 in /opt/conda/lib/python3.9/site-packages (from requests->huggingface_hub) (2.10)\n",
      "Requirement already satisfied: urllib3<1.27,>=1.21.1 in /opt/conda/lib/python3.9/site-packages (from requests->huggingface_hub) (1.26.7)\n",
      "Requirement already satisfied: certifi>=2017.4.17 in /opt/conda/lib/python3.9/site-packages (from requests->huggingface_hub) (2021.10.8)\n",
      "Requirement already satisfied: charset-normalizer~=2.0.0 in /opt/conda/lib/python3.9/site-packages (from requests->huggingface_hub) (2.0.8)\n",
      "\u001b[33mWARNING: Running pip as the 'root' user can result in broken permissions and conflicting behaviour with the system package manager. It is recommended to use a virtual environment instead: https://pip.pypa.io/warnings/venv\u001b[0m\n"
     ]
    }
   ],
   "source": [
    "!pip install timm"
   ]
  },
  {
   "cell_type": "code",
   "execution_count": 2,
   "id": "de34482d",
   "metadata": {},
   "outputs": [],
   "source": [
    "import timm\n",
    "import torch\n",
    "import torch.nn as nn\n",
    "import torch.optim as optim\n",
    "from torchvision import datasets, transforms\n",
    "import os\n",
    "import matplotlib.pyplot as plt"
   ]
  },
  {
   "cell_type": "code",
   "execution_count": 3,
   "id": "e92b0e27",
   "metadata": {},
   "outputs": [
    {
     "name": "stdout",
     "output_type": "stream",
     "text": [
      "['valid', 'test', 'Train']\n",
      "['mauve_stinger_jellyfish', 'barrel_jellyfish', 'moon_jellyfish', 'lions_mane_jellyfish', 'blue_jellyfish', 'compass_jellyfish']\n",
      "['mauve_stinger_jellyfish', 'barrel_jellyfish', 'lions_mane_jellyfish', 'blue_jellyfish', 'compass_jellyfish', 'Moon_jellyfish']\n"
     ]
    }
   ],
   "source": [
    "print(os.listdir('Train_Test_Valid'))\n",
    "print(os.listdir('Train_Test_Valid/Train'))  # Train 폴더의 목록\n",
    "print(os.listdir('Train_Test_Valid/test'))   # test 폴더의 목록"
   ]
  },
  {
   "cell_type": "code",
   "execution_count": 4,
   "id": "4585cbef",
   "metadata": {},
   "outputs": [
    {
     "name": "stdout",
     "output_type": "stream",
     "text": [
      "Using cuda device\n"
     ]
    }
   ],
   "source": [
    "# [코드 2] 장치 설정 (GPU 사용 가능 시 GPU를 사용하도록 설정)\n",
    "device = torch.device('cuda' if torch.cuda.is_available() else 'cpu')\n",
    "print(f\"Using {device} device\")"
   ]
  },
  {
   "cell_type": "code",
   "execution_count": 5,
   "id": "d47a0ddb",
   "metadata": {},
   "outputs": [],
   "source": [
    "# [코드 3] 데이터셋 경로 설정 및 전처리 정의\n",
    "# 해파리 데이터셋 경로 (사용자가 지정한 경로로 수정하세요)\n",
    "train_data_dir = 'Train_Test_Valid/Train'\n",
    "valid_data_dir = 'Train_Test_Valid/valid'\n",
    "test_data_dir = 'Train_Test_Valid/test'\n",
    "\n",
    "# 이미지 전처리 파이프라인 정의\n",
    "transform = transforms.Compose([\n",
    "    transforms.Resize((224, 224)),  # 이미지 크기 조정\n",
    "    transforms.ToTensor(),          # 텐서로 변환\n",
    "    transforms.Normalize(mean=[0.485, 0.456, 0.406],\n",
    "                         std=[0.229, 0.224, 0.225])  # 이미지 정규화\n",
    "])"
   ]
  },
  {
   "cell_type": "code",
   "execution_count": 6,
   "id": "a57dc441",
   "metadata": {},
   "outputs": [
    {
     "name": "stdout",
     "output_type": "stream",
     "text": [
      "Class names: ['barrel_jellyfish', 'blue_jellyfish', 'compass_jellyfish', 'lions_mane_jellyfish', 'mauve_stinger_jellyfish', 'moon_jellyfish']\n",
      "Number of classes: 6\n"
     ]
    }
   ],
   "source": [
    "# 데이터셋 및 데이터로더 생성\n",
    "train_dataset = datasets.ImageFolder(root=train_data_dir, transform=transform)\n",
    "valid_dataset = datasets.ImageFolder(root=valid_data_dir, transform=transform)\n",
    "test_dataset = datasets.ImageFolder(root=test_data_dir, transform=transform)\n",
    "\n",
    "train_loader = torch.utils.data.DataLoader(train_dataset, batch_size=32, shuffle=True)\n",
    "val_loader = torch.utils.data.DataLoader(valid_dataset, batch_size=32, shuffle=False)\n",
    "test_loader = torch.utils.data.DataLoader(test_dataset, batch_size=32, shuffle=False)\n",
    "\n",
    "class_names = train_dataset.classes\n",
    "num_classes = len(class_names)\n",
    "print(f\"Class names: {class_names}\")\n",
    "print(f\"Number of classes: {num_classes}\")"
   ]
  },
  {
   "cell_type": "code",
   "execution_count": 7,
   "id": "00f4d965",
   "metadata": {},
   "outputs": [],
   "source": [
    "# timm 모델 생성 및 설정 (resnet18 사용)\n",
    "model = timm.create_model('resnet18', pretrained=False, num_classes=num_classes)\n",
    "model = model.to(device)\n",
    "# True로 하면 사전 학습된 가중치를 로드할 수 있지만, 현재 LMS에서는 불러오기가 안됨"
   ]
  },
  {
   "cell_type": "code",
   "execution_count": 8,
   "id": "cd4f4aa3",
   "metadata": {},
   "outputs": [],
   "source": [
    "# [코드 6] 손실 함수와 최적화 함수 설정\n",
    "criterion = nn.CrossEntropyLoss()\n",
    "optimizer = optim.Adam(model.parameters(), lr=0.001)\n"
   ]
  },
  {
   "cell_type": "code",
   "execution_count": 9,
   "id": "d08d13ec",
   "metadata": {},
   "outputs": [],
   "source": [
    "# 모델 훈련 함수 정의 (검증 데이터셋 포함)\n",
    "def train_model(model, train_loader, val_loader, loss_fn, optimizer, num_epochs=10, device='cpu'):\n",
    "    train_loss_history = []\n",
    "    train_acc_history = []\n",
    "    val_loss_history = []\n",
    "    val_acc_history = []\n",
    "\n",
    "    for epoch in range(num_epochs):\n",
    "        # 1) 훈련 단계\n",
    "        model.train()\n",
    "        running_loss = 0.0\n",
    "        correct = 0\n",
    "        total = 0\n",
    "\n",
    "        for images, labels in train_loader:\n",
    "            images, labels = images.to(device), labels.to(device)\n",
    "            optimizer.zero_grad()\n",
    "            outputs = model(images)\n",
    "            loss = loss_fn(outputs, labels)\n",
    "            loss.backward()\n",
    "            optimizer.step()\n",
    "            running_loss += loss.item() * images.size(0)\n",
    "            _, predicted = torch.max(outputs, 1)\n",
    "            correct += (predicted == labels).sum().item()\n",
    "            total += labels.size(0)\n",
    "\n",
    "        epoch_train_loss = running_loss / len(train_loader.dataset)\n",
    "        epoch_train_acc = correct / total\n",
    "\n",
    "        # 2) 검증 단계\n",
    "        model.eval()\n",
    "        val_running_loss = 0.0\n",
    "        val_correct = 0\n",
    "        val_total = 0\n",
    "\n",
    "        with torch.no_grad():\n",
    "            for val_images, val_labels in val_loader:\n",
    "                val_images, val_labels = val_images.to(device), val_labels.to(device)\n",
    "                val_outputs = model(val_images)\n",
    "                val_loss = loss_fn(val_outputs, val_labels)\n",
    "                val_running_loss += val_loss.item() * val_images.size(0)\n",
    "                _, val_predicted = torch.max(val_outputs, 1)\n",
    "                val_correct += (val_predicted == val_labels).sum().item()\n",
    "                val_total += val_labels.size(0)\n",
    "\n",
    "        epoch_val_loss = val_running_loss / len(val_loader.dataset)\n",
    "        epoch_val_acc = val_correct / val_total\n",
    "\n",
    "        train_loss_history.append(epoch_train_loss)\n",
    "        train_acc_history.append(epoch_train_acc)\n",
    "        val_loss_history.append(epoch_val_loss)\n",
    "        val_acc_history.append(epoch_val_acc)\n",
    "\n",
    "        print(f'Epoch {epoch + 1}/{num_epochs}, '\n",
    "              f'Train Loss: {epoch_train_loss:.4f}, Train Accuracy: {epoch_train_acc:.4f}, '\n",
    "              f'Validation Loss: {epoch_val_loss:.4f}, Validation Accuracy: {epoch_val_acc:.4f}')\n",
    "\n",
    "    return train_loss_history, train_acc_history, val_loss_history, val_acc_history\n"
   ]
  },
  {
   "cell_type": "code",
   "execution_count": 10,
   "id": "5aa7b6e0",
   "metadata": {},
   "outputs": [],
   "source": [
    "# 모델 평가 함수 정의 (테스트 데이터셋)\n",
    "def evaluate_model(model, dataloader, loss_fn, device='cpu'):\n",
    "    model.eval()\n",
    "    running_loss = 0.0\n",
    "    correct = 0\n",
    "    total = 0\n",
    "\n",
    "    with torch.no_grad():\n",
    "        for images, labels in dataloader:\n",
    "            images, labels = images.to(device), labels.to(device)\n",
    "            outputs = model(images)\n",
    "            loss = loss_fn(outputs, labels)\n",
    "            running_loss += loss.item() * images.size(0)\n",
    "            _, predicted = torch.max(outputs, 1)\n",
    "            correct += (predicted == labels).sum().item()\n",
    "            total += labels.size(0)\n",
    "\n",
    "    epoch_loss = running_loss / len(dataloader.dataset)\n",
    "    epoch_acc = correct / total\n",
    "    return epoch_loss, epoch_acc"
   ]
  },
  {
   "cell_type": "code",
   "execution_count": 11,
   "id": "1ac745c9",
   "metadata": {},
   "outputs": [
    {
     "name": "stdout",
     "output_type": "stream",
     "text": [
      "Epoch 1/40, Train Loss: 1.5866, Train Accuracy: 0.3422, Validation Loss: 2.3505, Validation Accuracy: 0.1026\n",
      "Epoch 2/40, Train Loss: 1.3760, Train Accuracy: 0.4489, Validation Loss: 2.3574, Validation Accuracy: 0.1538\n",
      "Epoch 3/40, Train Loss: 1.2838, Train Accuracy: 0.5044, Validation Loss: 2.4093, Validation Accuracy: 0.1538\n",
      "Epoch 4/40, Train Loss: 1.2107, Train Accuracy: 0.5211, Validation Loss: 2.7026, Validation Accuracy: 0.2051\n",
      "Epoch 5/40, Train Loss: 1.1748, Train Accuracy: 0.5333, Validation Loss: 2.8835, Validation Accuracy: 0.0256\n",
      "Epoch 6/40, Train Loss: 1.1324, Train Accuracy: 0.5656, Validation Loss: 2.8647, Validation Accuracy: 0.0769\n",
      "Epoch 7/40, Train Loss: 1.0093, Train Accuracy: 0.6289, Validation Loss: 3.0355, Validation Accuracy: 0.0513\n",
      "Epoch 8/40, Train Loss: 0.9863, Train Accuracy: 0.6167, Validation Loss: 3.2336, Validation Accuracy: 0.1538\n",
      "Epoch 9/40, Train Loss: 0.9677, Train Accuracy: 0.6367, Validation Loss: 2.7573, Validation Accuracy: 0.2308\n",
      "Epoch 10/40, Train Loss: 0.8840, Train Accuracy: 0.6656, Validation Loss: 3.4626, Validation Accuracy: 0.0256\n",
      "Epoch 11/40, Train Loss: 0.8308, Train Accuracy: 0.6889, Validation Loss: 2.8562, Validation Accuracy: 0.1538\n",
      "Epoch 12/40, Train Loss: 0.7635, Train Accuracy: 0.7189, Validation Loss: 3.8017, Validation Accuracy: 0.0513\n",
      "Epoch 13/40, Train Loss: 0.7487, Train Accuracy: 0.7189, Validation Loss: 4.1286, Validation Accuracy: 0.0513\n",
      "Epoch 14/40, Train Loss: 0.6470, Train Accuracy: 0.7711, Validation Loss: 3.9165, Validation Accuracy: 0.0769\n",
      "Epoch 15/40, Train Loss: 0.5556, Train Accuracy: 0.8111, Validation Loss: 3.8778, Validation Accuracy: 0.0513\n",
      "Epoch 16/40, Train Loss: 0.5290, Train Accuracy: 0.8089, Validation Loss: 4.8544, Validation Accuracy: 0.0769\n",
      "Epoch 17/40, Train Loss: 0.5511, Train Accuracy: 0.7889, Validation Loss: 4.3473, Validation Accuracy: 0.1282\n",
      "Epoch 18/40, Train Loss: 0.4509, Train Accuracy: 0.8378, Validation Loss: 4.2888, Validation Accuracy: 0.0513\n",
      "Epoch 19/40, Train Loss: 0.4074, Train Accuracy: 0.8567, Validation Loss: 5.9039, Validation Accuracy: 0.1026\n",
      "Epoch 20/40, Train Loss: 0.4420, Train Accuracy: 0.8467, Validation Loss: 5.2486, Validation Accuracy: 0.0769\n",
      "Epoch 21/40, Train Loss: 0.2652, Train Accuracy: 0.9122, Validation Loss: 4.6549, Validation Accuracy: 0.1026\n",
      "Epoch 22/40, Train Loss: 0.2479, Train Accuracy: 0.9211, Validation Loss: 5.3778, Validation Accuracy: 0.0769\n",
      "Epoch 23/40, Train Loss: 0.3492, Train Accuracy: 0.8722, Validation Loss: 4.8146, Validation Accuracy: 0.1026\n",
      "Epoch 24/40, Train Loss: 0.2869, Train Accuracy: 0.9078, Validation Loss: 5.7440, Validation Accuracy: 0.0513\n",
      "Epoch 25/40, Train Loss: 0.2272, Train Accuracy: 0.9422, Validation Loss: 5.1300, Validation Accuracy: 0.1282\n",
      "Epoch 26/40, Train Loss: 0.2681, Train Accuracy: 0.9133, Validation Loss: 5.4497, Validation Accuracy: 0.1026\n",
      "Epoch 27/40, Train Loss: 0.2254, Train Accuracy: 0.9278, Validation Loss: 5.6377, Validation Accuracy: 0.0769\n",
      "Epoch 28/40, Train Loss: 0.3351, Train Accuracy: 0.8800, Validation Loss: 6.8363, Validation Accuracy: 0.0256\n",
      "Epoch 29/40, Train Loss: 0.2860, Train Accuracy: 0.9000, Validation Loss: 5.5787, Validation Accuracy: 0.1795\n",
      "Epoch 30/40, Train Loss: 0.2569, Train Accuracy: 0.9189, Validation Loss: 4.9377, Validation Accuracy: 0.1026\n",
      "Epoch 31/40, Train Loss: 0.2083, Train Accuracy: 0.9411, Validation Loss: 5.3179, Validation Accuracy: 0.1538\n",
      "Epoch 32/40, Train Loss: 0.1929, Train Accuracy: 0.9289, Validation Loss: 5.8194, Validation Accuracy: 0.0769\n",
      "Epoch 33/40, Train Loss: 0.1246, Train Accuracy: 0.9656, Validation Loss: 5.6884, Validation Accuracy: 0.1026\n",
      "Epoch 34/40, Train Loss: 0.1756, Train Accuracy: 0.9478, Validation Loss: 5.7770, Validation Accuracy: 0.0769\n",
      "Epoch 35/40, Train Loss: 0.1096, Train Accuracy: 0.9756, Validation Loss: 6.4242, Validation Accuracy: 0.0000\n",
      "Epoch 36/40, Train Loss: 0.0596, Train Accuracy: 0.9867, Validation Loss: 5.9582, Validation Accuracy: 0.0769\n",
      "Epoch 37/40, Train Loss: 0.0374, Train Accuracy: 0.9944, Validation Loss: 6.4694, Validation Accuracy: 0.1026\n",
      "Epoch 38/40, Train Loss: 0.0819, Train Accuracy: 0.9733, Validation Loss: 6.6705, Validation Accuracy: 0.0769\n",
      "Epoch 39/40, Train Loss: 0.0411, Train Accuracy: 0.9922, Validation Loss: 6.8345, Validation Accuracy: 0.1026\n",
      "Epoch 40/40, Train Loss: 0.0341, Train Accuracy: 0.9933, Validation Loss: 6.8008, Validation Accuracy: 0.0769\n"
     ]
    }
   ],
   "source": [
    "# 모델 훈련\n",
    "epochs = 40\n",
    "train_loss_history, train_acc_history, val_loss_history, val_acc_history = train_model(\n",
    "    model, train_loader, val_loader, criterion, optimizer, epochs, device)\n"
   ]
  },
  {
   "cell_type": "code",
   "execution_count": 12,
   "id": "6c1441b7",
   "metadata": {},
   "outputs": [
    {
     "name": "stdout",
     "output_type": "stream",
     "text": [
      "Test Loss: 7.6849, Test Accuracy: 0.0000\n"
     ]
    }
   ],
   "source": [
    "# 모델 검증(테스트 데이터셋)\n",
    "test_loss, test_acc = evaluate_model(model, test_loader, criterion, device)\n",
    "print(f'Test Loss: {test_loss:.4f}, Test Accuracy: {test_acc:.4f}')\n",
    "# 아주 심각한 과적합이 발생함\n"
   ]
  },
  {
   "cell_type": "code",
   "execution_count": 13,
   "id": "28bb9dd3",
   "metadata": {},
   "outputs": [],
   "source": [
    "# 훈련 이력 시각화 함수 (훈련 데이터와 검증 데이터 비교)\n",
    "def plot_training_history(train_loss, train_acc, val_loss, val_acc):\n",
    "    epochs_range = range(1, len(train_loss) + 1)\n",
    "\n",
    "    plt.figure(figsize=(14, 5))\n",
    "\n",
    "    # Loss 그래프\n",
    "    plt.subplot(1, 2, 1)\n",
    "    plt.plot(epochs_range, train_loss, 'bo-', label='Training loss')\n",
    "    plt.plot(epochs_range, val_loss, 'ro-', label='Validation loss')\n",
    "    plt.title('Training and Validation Loss')\n",
    "    plt.xlabel('Epochs')\n",
    "    plt.ylabel('Loss')\n",
    "    plt.legend()\n",
    "\n",
    "    # Accuracy 그래프\n",
    "    plt.subplot(1, 2, 2)\n",
    "    plt.plot(epochs_range, train_acc, 'bo-', label='Training accuracy')\n",
    "    plt.plot(epochs_range, val_acc, 'ro-', label='Validation accuracy')\n",
    "    plt.title('Training and Validation Accuracy')\n",
    "    plt.xlabel('Epochs')\n",
    "    plt.ylabel('Accuracy')\n",
    "    plt.legend()\n",
    "\n",
    "    plt.show()"
   ]
  },
  {
   "cell_type": "code",
   "execution_count": 14,
   "id": "a944d420",
   "metadata": {},
   "outputs": [
    {
     "data": {
      "image/png": "[encoded data removed]",
      "text/plain": [
       "<Figure size 1008x360 with 2 Axes>"
      ]
     },
     "metadata": {
      "needs_background": "light"
     },
     "output_type": "display_data"
    }
   ],
   "source": [
    "# 훈련 및 검증 이력 시각화\n",
    "plot_training_history(train_loss_history, train_acc_history, val_loss_history, val_acc_history)"
   ]
  },
  {
   "cell_type": "code",
   "execution_count": null,
   "id": "ed522110",
   "metadata": {},
   "outputs": [],
   "source": []
  }
 ],
 "metadata": {
  "kernelspec": {
   "display_name": "Python 3 (ipykernel)",
   "language": "python",
   "name": "python3"
  },
  "language_info": {
   "codemirror_mode": {
    "name": "ipython",
    "version": 3
   },
   "file_extension": ".py",
   "mimetype": "text/x-python",
   "name": "python",
   "nbconvert_exporter": "python",
   "pygments_lexer": "ipython3",
   "version": "3.9.7"
  }
 },
 "nbformat": 4,
 "nbformat_minor": 5
}
