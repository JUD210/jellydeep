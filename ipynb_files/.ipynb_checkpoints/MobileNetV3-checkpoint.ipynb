{
 "cells": [
  {
   "cell_type": "code",
   "execution_count": 7,
   "id": "913bdb93",
   "metadata": {},
   "outputs": [],
   "source": [
    "# MobileNetV3로 만들기\n",
    "'''\n",
    "https://www.kaggle.com/code/guanlintao/mobilenetv3-jellyfish-image-predict/notebook\n",
    "여기에 있는 코드처럼 수정해서 성능을 올려야할 것 같은데, 일단 GPT로 한번 학습 성공하는데 의의를 두고 코드를 수정함\n",
    "'''\n",
    "import os\n",
    "import pandas as pd\n",
    "import numpy as np\n",
    "import matplotlib.pyplot as plt\n",
    "import tensorflow as tf\n",
    "from sklearn.model_selection import train_test_split\n",
    "from tensorflow.keras.preprocessing.image import ImageDataGenerator\n",
    "from tensorflow.keras.applications import MobileNetV3Large  # Small 모델을 사용, 너무 성능이 저조하면 Large 모델로 변경\n",
    "from tensorflow.keras.layers import Dense, GlobalAveragePooling2D\n",
    "from tensorflow.keras.layers import BatchNormalization, Dropout   # 배치 정규화, 드롭아웃\n",
    "from tensorflow.keras.callbacks import ModelCheckpoint, ReduceLROnPlateau  # 체크포인트(콜백)\n",
    "from tensorflow.keras.models import Model\n",
    "from tensorflow.keras.optimizers import Adam, RMSprop  # 옵티마이저"
   ]
  },
  {
   "cell_type": "code",
   "execution_count": 19,
   "id": "f2d39015",
   "metadata": {},
   "outputs": [],
   "source": [
    "# Dataset path and categories\n",
    "dataset_path = \"../_preprocessed_datasets_del_aug_duplicate\"\n",
    "categories = [\"blue_jellyfish\", \"barrel_jellyfish\", \"compass_jellyfish\", \n",
    "              \"lions_mane_jellyfish\", \"mauve_stinger_jellyfish\", \"Moon_jellyfish\"]\n",
    "\n",
    "# Image size and hyperparameters\n",
    "img_height, img_width = 224, 224 \n",
    "batch_size = 16\n",
    "epochs = 40\n",
    "\n",
    "model_checkpoint = ModelCheckpoint('best_model.h5', save_best_only=True)\n",
    "reduce_lr = ReduceLROnPlateau(monitor='val_loss', factor=0.2, patience=3, min_lr=1e-6)"
   ]
  },
  {
   "cell_type": "code",
   "execution_count": 20,
   "id": "13d6788f",
   "metadata": {},
   "outputs": [],
   "source": [
    "# Prepare data\n",
    "def prepare_data(dataset_path, categories):\n",
    "    filepaths, labels = [], []\n",
    "    for label, category in enumerate(categories):\n",
    "        category_path = os.path.join(dataset_path, category)\n",
    "        if os.path.exists(category_path):\n",
    "            for file in os.listdir(category_path):\n",
    "                if file.endswith(('jpg', 'jpeg', 'png')):\n",
    "                    filepaths.append(os.path.join(category_path, file))\n",
    "                    labels.append(label)\n",
    "    return filepaths, labels\n",
    "\n",
    "filepaths, labels = prepare_data(dataset_path, categories)"
   ]
  },
  {
   "cell_type": "code",
   "execution_count": 21,
   "id": "e9ef433a",
   "metadata": {},
   "outputs": [],
   "source": [
    "# Split data into train, validation, and test sets\n",
    "train_files, test_files, train_labels, test_labels = train_test_split(\n",
    "    filepaths, labels, test_size=0.2, stratify=labels, random_state=42\n",
    ")\n",
    "\n",
    "train_files, val_files, train_labels, val_labels = train_test_split(\n",
    "    train_files, train_labels, test_size=0.2, stratify=train_labels, random_state=42\n",
    ")\n",
    "\n",
    "# Create DataFrame\n",
    "def create_dataframe(files, labels, categories):\n",
    "    label_to_class = {idx: name for idx, name in enumerate(categories)}\n",
    "    labels = [label_to_class[label] for label in labels]\n",
    "    return pd.DataFrame({'filename': files, 'class': labels})\n",
    "\n",
    "train_df = create_dataframe(train_files, train_labels, categories)\n",
    "val_df = create_dataframe(val_files, val_labels, categories)\n",
    "test_df = create_dataframe(test_files, test_labels, categories)"
   ]
  },
  {
   "cell_type": "code",
   "execution_count": 22,
   "id": "0e7bf9f1",
   "metadata": {},
   "outputs": [
    {
     "name": "stdout",
     "output_type": "stream",
     "text": [
      "Found 960 validated image filenames belonging to 6 classes.\n",
      "Found 240 validated image filenames belonging to 6 classes.\n",
      "Found 300 validated image filenames belonging to 6 classes.\n"
     ]
    }
   ],
   "source": [
    "# Data generators\n",
    "datagen = ImageDataGenerator(rescale=1./255)\n",
    "\n",
    "train_generator = datagen.flow_from_dataframe(\n",
    "    train_df, x_col='filename', y_col='class',\n",
    "    target_size=(img_height, img_width), batch_size=batch_size, class_mode='categorical'\n",
    ")\n",
    "\n",
    "val_generator = datagen.flow_from_dataframe(\n",
    "    val_df, x_col='filename', y_col='class',\n",
    "    target_size=(img_height, img_width), batch_size=batch_size, class_mode='categorical'\n",
    ")\n",
    "\n",
    "test_generator = datagen.flow_from_dataframe(\n",
    "    test_df, x_col='filename', y_col='class',\n",
    "    target_size=(img_height, img_width), batch_size=batch_size, class_mode='categorical', shuffle=False\n",
    ")\n",
    "\n"
   ]
  },
  {
   "cell_type": "code",
   "execution_count": 23,
   "id": "84e55b16",
   "metadata": {},
   "outputs": [],
   "source": [
    "# Load MobileNetV3 model\n",
    "base_model = MobileNetV3Large(weights='imagenet', include_top=False, input_shape=(img_height, img_width, 3))\n",
    "# Build the model 여기를 추가해야 학습이 진행됨\n",
    "x = base_model.output\n",
    "x = GlobalAveragePooling2D()(x)\n",
    "x = BatchNormalization()(x)  # 배치 정규화 추가\n",
    "x = Dense(128, activation='relu')(x)  # 배치 정규화 층 옮기기 fully-connected layer 내부 -> 이전\n",
    "x = Dropout(0.4)(x)  # 드롭아웃\n",
    "x = Dense(128, activation='relu')(x)\n",
    "output = Dense(len(categories), activation='softmax')(x)\n",
    "\n",
    "model = Model(inputs=base_model.input, outputs=output)\n",
    "\n",
    "\n",
    "# Freeze the first few layers and unfreeze the rest 수정한 코드\n",
    "for layer in base_model.layers[:-10]:  # 마지막 10개의 레이어는 학습 가능하게 설정\n",
    "    layer.trainable = False\n"
   ]
  },
  {
   "cell_type": "code",
   "execution_count": 24,
   "id": "1aa94e20",
   "metadata": {},
   "outputs": [],
   "source": [
    "# Compile the model\n",
    "model.compile(optimizer=RMSprop(learning_rate=0.001), loss='categorical_crossentropy', metrics=['accuracy'])"
   ]
  },
  {
   "cell_type": "code",
   "execution_count": 25,
   "id": "e0773379",
   "metadata": {},
   "outputs": [
    {
     "name": "stdout",
     "output_type": "stream",
     "text": [
      "GPU 메모리 상태: {'current': 75336192, 'peak': 2955747072}\n"
     ]
    }
   ],
   "source": [
    "gpus = tf.config.experimental.list_physical_devices('GPU')\n",
    "if gpus:\n",
    "    for gpu in gpus:\n",
    "        details = tf.config.experimental.get_memory_info('GPU:0')\n",
    "        print(f\"GPU 메모리 상태: {details}\")\n",
    "else:\n",
    "    print(\"GPU가 감지되지 않았습니다.\")"
   ]
  },
  {
   "cell_type": "code",
   "execution_count": 26,
   "id": "986cf587",
   "metadata": {},
   "outputs": [
    {
     "name": "stdout",
     "output_type": "stream",
     "text": [
      "Epoch 1/40\n",
      "60/60 [==============================] - 6s 49ms/step - loss: 1.8679 - accuracy: 0.2677 - val_loss: 1.8662 - val_accuracy: 0.1667\n"
     ]
    },
    {
     "name": "stderr",
     "output_type": "stream",
     "text": [
      "/opt/conda/lib/python3.9/site-packages/keras/utils/generic_utils.py:494: CustomMaskWarning: Custom mask layers require a config and must override get_config. When loading, the custom mask layer must be passed to the custom_objects argument.\n",
      "  warnings.warn('Custom mask layers require a config and must override '\n"
     ]
    },
    {
     "name": "stdout",
     "output_type": "stream",
     "text": [
      "Epoch 2/40\n",
      "60/60 [==============================] - 2s 34ms/step - loss: 1.6645 - accuracy: 0.3625 - val_loss: 2.3062 - val_accuracy: 0.1708\n",
      "Epoch 3/40\n",
      "60/60 [==============================] - 2s 36ms/step - loss: 1.5392 - accuracy: 0.3885 - val_loss: 1.8199 - val_accuracy: 0.2875\n",
      "Epoch 4/40\n",
      "60/60 [==============================] - 2s 35ms/step - loss: 1.4242 - accuracy: 0.4375 - val_loss: 1.8534 - val_accuracy: 0.2583\n",
      "Epoch 5/40\n",
      "60/60 [==============================] - 2s 35ms/step - loss: 1.3392 - accuracy: 0.4812 - val_loss: 1.8191 - val_accuracy: 0.1875\n",
      "Epoch 6/40\n",
      "60/60 [==============================] - 2s 34ms/step - loss: 1.3078 - accuracy: 0.4927 - val_loss: 1.6931 - val_accuracy: 0.2292\n",
      "Epoch 7/40\n",
      "60/60 [==============================] - 2s 35ms/step - loss: 1.2169 - accuracy: 0.5375 - val_loss: 3.1524 - val_accuracy: 0.1875\n",
      "Epoch 8/40\n",
      "60/60 [==============================] - 2s 36ms/step - loss: 1.1632 - accuracy: 0.5729 - val_loss: 3.7940 - val_accuracy: 0.2792\n",
      "Epoch 9/40\n",
      "60/60 [==============================] - 2s 34ms/step - loss: 1.1473 - accuracy: 0.5542 - val_loss: 4.1833 - val_accuracy: 0.2542\n",
      "Epoch 10/40\n",
      "60/60 [==============================] - 2s 35ms/step - loss: 0.9599 - accuracy: 0.6344 - val_loss: 1.5526 - val_accuracy: 0.4167\n",
      "Epoch 11/40\n",
      "60/60 [==============================] - 2s 35ms/step - loss: 0.9058 - accuracy: 0.6656 - val_loss: 2.4970 - val_accuracy: 0.3125\n",
      "Epoch 12/40\n",
      "60/60 [==============================] - 2s 34ms/step - loss: 0.8733 - accuracy: 0.6760 - val_loss: 2.2930 - val_accuracy: 0.3625\n",
      "Epoch 13/40\n",
      "60/60 [==============================] - 2s 35ms/step - loss: 0.8797 - accuracy: 0.6625 - val_loss: 3.6943 - val_accuracy: 0.3042\n",
      "Epoch 14/40\n",
      "60/60 [==============================] - 2s 34ms/step - loss: 0.7981 - accuracy: 0.7115 - val_loss: 1.5216 - val_accuracy: 0.4583\n",
      "Epoch 15/40\n",
      "60/60 [==============================] - 2s 34ms/step - loss: 0.7981 - accuracy: 0.6865 - val_loss: 1.3811 - val_accuracy: 0.5125\n",
      "Epoch 16/40\n",
      "60/60 [==============================] - 2s 35ms/step - loss: 0.7953 - accuracy: 0.6875 - val_loss: 1.3130 - val_accuracy: 0.5500\n",
      "Epoch 17/40\n",
      "60/60 [==============================] - 2s 34ms/step - loss: 0.8118 - accuracy: 0.7073 - val_loss: 1.3024 - val_accuracy: 0.5333\n",
      "Epoch 18/40\n",
      "60/60 [==============================] - 2s 35ms/step - loss: 0.8032 - accuracy: 0.6958 - val_loss: 1.2615 - val_accuracy: 0.5333\n",
      "Epoch 19/40\n",
      "60/60 [==============================] - 2s 35ms/step - loss: 0.7958 - accuracy: 0.7229 - val_loss: 1.5690 - val_accuracy: 0.4625\n",
      "Epoch 20/40\n",
      "60/60 [==============================] - 2s 35ms/step - loss: 0.7781 - accuracy: 0.7042 - val_loss: 1.1945 - val_accuracy: 0.5583\n",
      "Epoch 21/40\n",
      "60/60 [==============================] - 2s 35ms/step - loss: 0.7638 - accuracy: 0.7188 - val_loss: 1.4646 - val_accuracy: 0.4875\n",
      "Epoch 22/40\n",
      "60/60 [==============================] - 2s 34ms/step - loss: 0.7771 - accuracy: 0.7281 - val_loss: 1.3518 - val_accuracy: 0.5083\n",
      "Epoch 23/40\n",
      "60/60 [==============================] - 2s 35ms/step - loss: 0.7903 - accuracy: 0.6958 - val_loss: 1.2995 - val_accuracy: 0.5000\n",
      "Epoch 24/40\n",
      "60/60 [==============================] - 2s 34ms/step - loss: 0.7792 - accuracy: 0.7271 - val_loss: 1.1794 - val_accuracy: 0.5625\n",
      "Epoch 25/40\n",
      "60/60 [==============================] - 2s 34ms/step - loss: 0.7646 - accuracy: 0.7188 - val_loss: 1.1438 - val_accuracy: 0.5917\n",
      "Epoch 26/40\n",
      "60/60 [==============================] - 2s 35ms/step - loss: 0.7635 - accuracy: 0.7240 - val_loss: 1.1366 - val_accuracy: 0.5792\n",
      "Epoch 27/40\n",
      "60/60 [==============================] - 2s 33ms/step - loss: 0.7933 - accuracy: 0.6990 - val_loss: 1.1471 - val_accuracy: 0.5792\n",
      "Epoch 28/40\n",
      "60/60 [==============================] - 2s 35ms/step - loss: 0.7689 - accuracy: 0.6969 - val_loss: 1.1464 - val_accuracy: 0.5917\n",
      "Epoch 29/40\n",
      "60/60 [==============================] - 2s 34ms/step - loss: 0.7358 - accuracy: 0.7344 - val_loss: 1.1369 - val_accuracy: 0.5875\n",
      "Epoch 30/40\n",
      "60/60 [==============================] - 2s 34ms/step - loss: 0.7663 - accuracy: 0.7156 - val_loss: 1.1329 - val_accuracy: 0.6000\n",
      "Epoch 31/40\n",
      "60/60 [==============================] - 2s 34ms/step - loss: 0.7551 - accuracy: 0.7250 - val_loss: 1.1305 - val_accuracy: 0.5833\n",
      "Epoch 32/40\n",
      "60/60 [==============================] - 2s 34ms/step - loss: 0.7481 - accuracy: 0.7229 - val_loss: 1.1283 - val_accuracy: 0.5917\n",
      "Epoch 33/40\n",
      "60/60 [==============================] - 2s 34ms/step - loss: 0.7590 - accuracy: 0.7250 - val_loss: 1.1265 - val_accuracy: 0.5792\n",
      "Epoch 34/40\n",
      "60/60 [==============================] - 2s 35ms/step - loss: 0.7752 - accuracy: 0.7010 - val_loss: 1.1256 - val_accuracy: 0.5875\n",
      "Epoch 35/40\n",
      "60/60 [==============================] - 2s 35ms/step - loss: 0.7624 - accuracy: 0.7271 - val_loss: 1.1244 - val_accuracy: 0.5833\n",
      "Epoch 36/40\n",
      "60/60 [==============================] - 2s 34ms/step - loss: 0.7518 - accuracy: 0.7354 - val_loss: 1.1253 - val_accuracy: 0.5833\n",
      "Epoch 37/40\n",
      "60/60 [==============================] - 2s 35ms/step - loss: 0.7658 - accuracy: 0.7052 - val_loss: 1.1257 - val_accuracy: 0.5875\n",
      "Epoch 38/40\n",
      "60/60 [==============================] - 2s 35ms/step - loss: 0.7385 - accuracy: 0.7219 - val_loss: 1.1240 - val_accuracy: 0.5750\n",
      "Epoch 39/40\n",
      "60/60 [==============================] - 2s 36ms/step - loss: 0.7454 - accuracy: 0.7167 - val_loss: 1.1229 - val_accuracy: 0.5792\n",
      "Epoch 40/40\n",
      "60/60 [==============================] - 2s 33ms/step - loss: 0.7938 - accuracy: 0.7073 - val_loss: 1.1222 - val_accuracy: 0.5833\n"
     ]
    }
   ],
   "source": [
    "# Train the model\n",
    "history = model.fit(\n",
    "    train_generator,\n",
    "    validation_data=val_generator,\n",
    "    epochs=epochs,\n",
    "    callbacks=[model_checkpoint, reduce_lr],\n",
    "    steps_per_epoch=train_generator.samples // batch_size,\n",
    "    validation_steps=val_generator.samples // batch_size\n",
    ")\n"
   ]
  },
  {
   "cell_type": "code",
   "execution_count": 29,
   "id": "c9e323c3",
   "metadata": {},
   "outputs": [
    {
     "name": "stdout",
     "output_type": "stream",
     "text": [
      "18/18 [==============================] - 1s 28ms/step - loss: 0.9945 - accuracy: 0.6632\n",
      "Test Loss: 0.9945, Test Accuracy: 0.6632\n"
     ]
    }
   ],
   "source": [
    "# Evaluate the model\n",
    "test_loss, test_acc = model.evaluate(test_generator, steps=test_generator.samples // batch_size)\n",
    "print(f'Test Loss: {test_loss:.4f}, Test Accuracy: {test_acc:.4f}')"
   ]
  },
  {
   "cell_type": "code",
   "execution_count": 30,
   "id": "b119172b",
   "metadata": {},
   "outputs": [
    {
     "data": {
      "image/png": "[encoded data removed]",
      "text/plain": [
       "<Figure size 1008x360 with 2 Axes>"
      ]
     },
     "metadata": {
      "needs_background": "light"
     },
     "output_type": "display_data"
    }
   ],
   "source": [
    "# Plot training history\n",
    "def plot_training_history(history):\n",
    "    epochs_range = range(1, len(history.history['loss']) + 1)\n",
    "\n",
    "    plt.figure(figsize=(14, 5))\n",
    "\n",
    "    # Loss graph\n",
    "    plt.subplot(1, 2, 1)\n",
    "    plt.plot(epochs_range, history.history['loss'], 'bo-', label='Training loss')\n",
    "    plt.plot(epochs_range, history.history['val_loss'], 'ro-', label='Validation loss')\n",
    "    plt.title('Training and Validation Loss')\n",
    "    plt.xlabel('Epochs')\n",
    "    plt.ylabel('Loss')\n",
    "    plt.legend()\n",
    "\n",
    "    # Accuracy graph\n",
    "    plt.subplot(1, 2, 2)\n",
    "    plt.plot(epochs_range, history.history['accuracy'], 'bo-', label='Training accuracy')\n",
    "    plt.plot(epochs_range, history.history['val_accuracy'], 'ro-', label='Validation accuracy')\n",
    "    plt.title('Training and Validation Accuracy')\n",
    "    plt.xlabel('Epochs')\n",
    "    plt.ylabel('Accuracy')\n",
    "    plt.legend()\n",
    "\n",
    "    plt.show()\n",
    "\n",
    "# Plot training and validation history\n",
    "plot_training_history(history)"
   ]
  },
  {
   "cell_type": "code",
   "execution_count": null,
   "id": "ec912413",
   "metadata": {},
   "outputs": [],
   "source": []
  }
 ],
 "metadata": {
  "kernelspec": {
   "display_name": "Python 3 (ipykernel)",
   "language": "python",
   "name": "python3"
  },
  "language_info": {
   "codemirror_mode": {
    "name": "ipython",
    "version": 3
   },
   "file_extension": ".py",
   "mimetype": "text/x-python",
   "name": "python",
   "nbconvert_exporter": "python",
   "pygments_lexer": "ipython3",
   "version": "3.9.7"
  }
 },
 "nbformat": 4,
 "nbformat_minor": 5
}
