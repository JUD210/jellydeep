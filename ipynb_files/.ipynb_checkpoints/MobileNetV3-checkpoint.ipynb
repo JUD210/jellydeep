{
 "cells": [
  {
   "cell_type": "code",
   "execution_count": 1,
   "id": "b5b98724",
   "metadata": {},
   "outputs": [],
   "source": [
    "# MobileNetV3로 만들기\n",
    "'''\n",
    "https://www.kaggle.com/code/guanlintao/mobilenetv3-jellyfish-image-predict/notebook\n",
    "여기에 있는 코드처럼 수정해서 성능을 올려야할 것 같은데, 일단 GPT로 한번 학습 성공하는데 의의를 두고 코드를 수정함\n",
    "'''\n",
    "import os\n",
    "import pandas as pd\n",
    "import numpy as np\n",
    "import matplotlib.pyplot as plt\n",
    "import tensorflow as tf\n",
    "from sklearn.model_selection import train_test_split\n",
    "from tensorflow.keras.preprocessing.image import ImageDataGenerator\n",
    "from tensorflow.keras.applications import MobileNetV3Small\n",
    "from tensorflow.keras.layers import Dense, GlobalAveragePooling2D\n",
    "from tensorflow.keras.models import Model\n",
    "from tensorflow.keras.optimizers import Adam\n"
   ]
  },
  {
   "cell_type": "code",
   "execution_count": 2,
   "id": "5aad0f92",
   "metadata": {},
   "outputs": [],
   "source": [
    "# Dataset path and categories\n",
    "dataset_path = \"../_preprocessed_datasets_del_aug_duplicate\"\n",
    "categories = [\"blue_jellyfish\", \"barrel_jellyfish\", \"compass_jellyfish\", \n",
    "              \"lions_mane_jellyfish\", \"mauve_stinger_jellyfish\", \"Moon_jellyfish\"]\n",
    "\n",
    "# Image size and hyperparameters\n",
    "img_height, img_width = 224, 224 \n",
    "batch_size = 16\n",
    "epochs = 40"
   ]
  },
  {
   "cell_type": "code",
   "execution_count": 3,
   "id": "8f38a88b",
   "metadata": {},
   "outputs": [],
   "source": [
    "# Prepare data\n",
    "def prepare_data(dataset_path, categories):\n",
    "    filepaths, labels = [], []\n",
    "    for label, category in enumerate(categories):\n",
    "        category_path = os.path.join(dataset_path, category)\n",
    "        if os.path.exists(category_path):\n",
    "            for file in os.listdir(category_path):\n",
    "                if file.endswith(('jpg', 'jpeg', 'png')):\n",
    "                    filepaths.append(os.path.join(category_path, file))\n",
    "                    labels.append(label)\n",
    "    return filepaths, labels\n",
    "\n",
    "filepaths, labels = prepare_data(dataset_path, categories)"
   ]
  },
  {
   "cell_type": "code",
   "execution_count": 4,
   "id": "7f310688",
   "metadata": {},
   "outputs": [],
   "source": [
    "# Split data into train, validation, and test sets\n",
    "train_files, test_files, train_labels, test_labels = train_test_split(\n",
    "    filepaths, labels, test_size=0.2, stratify=labels, random_state=42\n",
    ")\n",
    "\n",
    "train_files, val_files, train_labels, val_labels = train_test_split(\n",
    "    train_files, train_labels, test_size=0.2, stratify=train_labels, random_state=42\n",
    ")\n",
    "\n",
    "# Create DataFrame\n",
    "def create_dataframe(files, labels, categories):\n",
    "    label_to_class = {idx: name for idx, name in enumerate(categories)}\n",
    "    labels = [label_to_class[label] for label in labels]\n",
    "    return pd.DataFrame({'filename': files, 'class': labels})\n",
    "\n",
    "train_df = create_dataframe(train_files, train_labels, categories)\n",
    "val_df = create_dataframe(val_files, val_labels, categories)\n",
    "test_df = create_dataframe(test_files, test_labels, categories)\n",
    "\n"
   ]
  },
  {
   "cell_type": "code",
   "execution_count": 5,
   "id": "d8145fd7",
   "metadata": {},
   "outputs": [
    {
     "name": "stdout",
     "output_type": "stream",
     "text": [
      "Found 960 validated image filenames belonging to 6 classes.\n",
      "Found 240 validated image filenames belonging to 6 classes.\n",
      "Found 300 validated image filenames belonging to 6 classes.\n"
     ]
    }
   ],
   "source": [
    "# Data generators\n",
    "datagen = ImageDataGenerator(rescale=1./255)\n",
    "\n",
    "train_generator = datagen.flow_from_dataframe(\n",
    "    train_df, x_col='filename', y_col='class',\n",
    "    target_size=(img_height, img_width), batch_size=batch_size, class_mode='categorical'\n",
    ")\n",
    "\n",
    "val_generator = datagen.flow_from_dataframe(\n",
    "    val_df, x_col='filename', y_col='class',\n",
    "    target_size=(img_height, img_width), batch_size=batch_size, class_mode='categorical'\n",
    ")\n",
    "\n",
    "test_generator = datagen.flow_from_dataframe(\n",
    "    test_df, x_col='filename', y_col='class',\n",
    "    target_size=(img_height, img_width), batch_size=batch_size, class_mode='categorical', shuffle=False\n",
    ")\n",
    "\n"
   ]
  },
  {
   "cell_type": "code",
   "execution_count": 6,
   "id": "bb644b9c",
   "metadata": {},
   "outputs": [],
   "source": [
    "# Load MobileNetV3 model\n",
    "base_model = MobileNetV3Small(weights='imagenet', include_top=False, input_shape=(img_height, img_width, 3))\n",
    "x = base_model.output\n",
    "x = GlobalAveragePooling2D()(x)\n",
    "x = Dense(128, activation='relu')(x)\n",
    "output = Dense(len(categories), activation='softmax')(x)\n",
    "\n",
    "model = Model(inputs=base_model.input, outputs=output)\n",
    "\n",
    "\n",
    "# Freeze the first few layers and unfreeze the rest 수정한 코드\n",
    "for layer in base_model.layers[:-10]:  # 마지막 10개의 레이어는 학습 가능하게 설정\n",
    "    layer.trainable = False\n"
   ]
  },
  {
   "cell_type": "code",
   "execution_count": 7,
   "id": "156d65b3",
   "metadata": {},
   "outputs": [],
   "source": [
    "# Build the model 여기를 추가해야 학습이 진행됨\n",
    "x = base_model.output\n",
    "x = GlobalAveragePooling2D()(x)  # 또는 Flatten()(x)로 변경하여 시도 가능\n",
    "x = Dense(32, activation='relu')(x)  # Dense 레이어 크기를 더 줄임\n",
    "x = Dense(32, activation='relu')(x)  # layer 깊이 추가\n",
    "output = Dense(len(categories), activation='softmax')(x)\n",
    "\n",
    "model = Model(inputs=base_model.input, outputs=output)\n"
   ]
  },
  {
   "cell_type": "code",
   "execution_count": 8,
   "id": "06623a76",
   "metadata": {},
   "outputs": [],
   "source": [
    "# Compile the model\n",
    "model.compile(optimizer=Adam(learning_rate=0.001), loss='categorical_crossentropy', metrics=['accuracy'])\n"
   ]
  },
  {
   "cell_type": "code",
   "execution_count": 9,
   "id": "7e924bb0",
   "metadata": {},
   "outputs": [
    {
     "name": "stdout",
     "output_type": "stream",
     "text": [
      "GPU 메모리 상태: {'current': 7590656, 'peak': 12479744}\n"
     ]
    }
   ],
   "source": [
    "gpus = tf.config.experimental.list_physical_devices('GPU')\n",
    "if gpus:\n",
    "    for gpu in gpus:\n",
    "        details = tf.config.experimental.get_memory_info('GPU:0')\n",
    "        print(f\"GPU 메모리 상태: {details}\")\n",
    "else:\n",
    "    print(\"GPU가 감지되지 않았습니다.\")"
   ]
  },
  {
   "cell_type": "code",
   "execution_count": 10,
   "id": "35976d0c",
   "metadata": {},
   "outputs": [
    {
     "name": "stdout",
     "output_type": "stream",
     "text": [
      "Epoch 1/40\n",
      "60/60 [==============================] - 9s 50ms/step - loss: 1.8234 - accuracy: 0.1604 - val_loss: 1.7908 - val_accuracy: 0.1833\n",
      "Epoch 2/40\n",
      "60/60 [==============================] - 2s 37ms/step - loss: 1.7922 - accuracy: 0.1594 - val_loss: 1.7918 - val_accuracy: 0.1667\n",
      "Epoch 3/40\n",
      "60/60 [==============================] - 2s 35ms/step - loss: 1.7921 - accuracy: 0.1667 - val_loss: 1.7918 - val_accuracy: 0.1667\n",
      "Epoch 4/40\n",
      "60/60 [==============================] - 2s 36ms/step - loss: 1.7920 - accuracy: 0.1615 - val_loss: 1.7918 - val_accuracy: 0.1667\n",
      "Epoch 5/40\n",
      "60/60 [==============================] - 2s 36ms/step - loss: 1.7922 - accuracy: 0.1552 - val_loss: 1.7918 - val_accuracy: 0.1667\n",
      "Epoch 6/40\n",
      "60/60 [==============================] - 2s 36ms/step - loss: 1.7921 - accuracy: 0.1448 - val_loss: 1.7918 - val_accuracy: 0.1667\n",
      "Epoch 7/40\n",
      "60/60 [==============================] - 2s 37ms/step - loss: 1.7922 - accuracy: 0.1552 - val_loss: 1.7918 - val_accuracy: 0.1667\n",
      "Epoch 8/40\n",
      "60/60 [==============================] - 2s 36ms/step - loss: 1.7921 - accuracy: 0.1542 - val_loss: 1.7918 - val_accuracy: 0.1667\n",
      "Epoch 9/40\n",
      "60/60 [==============================] - 2s 36ms/step - loss: 1.7923 - accuracy: 0.1583 - val_loss: 1.7918 - val_accuracy: 0.1667\n",
      "Epoch 10/40\n",
      "60/60 [==============================] - 2s 36ms/step - loss: 1.7920 - accuracy: 0.1458 - val_loss: 1.7918 - val_accuracy: 0.1667\n",
      "Epoch 11/40\n",
      "60/60 [==============================] - 2s 37ms/step - loss: 1.7920 - accuracy: 0.1344 - val_loss: 1.7918 - val_accuracy: 0.1667\n",
      "Epoch 12/40\n",
      "60/60 [==============================] - 2s 36ms/step - loss: 1.7920 - accuracy: 0.1437 - val_loss: 1.7918 - val_accuracy: 0.1667\n",
      "Epoch 13/40\n",
      "60/60 [==============================] - 2s 37ms/step - loss: 1.7920 - accuracy: 0.1448 - val_loss: 1.7918 - val_accuracy: 0.1667\n",
      "Epoch 14/40\n",
      "60/60 [==============================] - 2s 37ms/step - loss: 1.7920 - accuracy: 0.1656 - val_loss: 1.7918 - val_accuracy: 0.1667\n",
      "Epoch 15/40\n",
      "60/60 [==============================] - 2s 36ms/step - loss: 1.7921 - accuracy: 0.1469 - val_loss: 1.7918 - val_accuracy: 0.1667\n",
      "Epoch 16/40\n",
      "60/60 [==============================] - 2s 34ms/step - loss: 1.7921 - accuracy: 0.1625 - val_loss: 1.7918 - val_accuracy: 0.1667\n",
      "Epoch 17/40\n",
      "60/60 [==============================] - 2s 36ms/step - loss: 1.7921 - accuracy: 0.1469 - val_loss: 1.7918 - val_accuracy: 0.1667\n",
      "Epoch 18/40\n",
      "60/60 [==============================] - 2s 35ms/step - loss: 1.7922 - accuracy: 0.1531 - val_loss: 1.7918 - val_accuracy: 0.1667\n",
      "Epoch 19/40\n",
      "60/60 [==============================] - 2s 34ms/step - loss: 1.7919 - accuracy: 0.1479 - val_loss: 1.7918 - val_accuracy: 0.1667\n",
      "Epoch 20/40\n",
      "60/60 [==============================] - 2s 36ms/step - loss: 1.7920 - accuracy: 0.1510 - val_loss: 1.7918 - val_accuracy: 0.1667\n",
      "Epoch 21/40\n",
      "60/60 [==============================] - 2s 36ms/step - loss: 1.7922 - accuracy: 0.1333 - val_loss: 1.7918 - val_accuracy: 0.1667\n",
      "Epoch 22/40\n",
      "60/60 [==============================] - 2s 34ms/step - loss: 1.7921 - accuracy: 0.1479 - val_loss: 1.7918 - val_accuracy: 0.1667\n",
      "Epoch 23/40\n",
      "60/60 [==============================] - 2s 37ms/step - loss: 1.7921 - accuracy: 0.1510 - val_loss: 1.7918 - val_accuracy: 0.1667\n",
      "Epoch 24/40\n",
      "60/60 [==============================] - 2s 36ms/step - loss: 1.7922 - accuracy: 0.1552 - val_loss: 1.7918 - val_accuracy: 0.1667\n",
      "Epoch 25/40\n",
      "60/60 [==============================] - 2s 36ms/step - loss: 1.7919 - accuracy: 0.1552 - val_loss: 1.7918 - val_accuracy: 0.1667\n",
      "Epoch 26/40\n",
      "60/60 [==============================] - 2s 36ms/step - loss: 1.7920 - accuracy: 0.1458 - val_loss: 1.7918 - val_accuracy: 0.1667\n",
      "Epoch 27/40\n",
      "60/60 [==============================] - 2s 35ms/step - loss: 1.7920 - accuracy: 0.1542 - val_loss: 1.7918 - val_accuracy: 0.1667\n",
      "Epoch 28/40\n",
      "60/60 [==============================] - 2s 36ms/step - loss: 1.7920 - accuracy: 0.1479 - val_loss: 1.7918 - val_accuracy: 0.1667\n",
      "Epoch 29/40\n",
      "60/60 [==============================] - 2s 35ms/step - loss: 1.7920 - accuracy: 0.1500 - val_loss: 1.7918 - val_accuracy: 0.1667\n",
      "Epoch 30/40\n",
      "60/60 [==============================] - 2s 36ms/step - loss: 1.7920 - accuracy: 0.1552 - val_loss: 1.7918 - val_accuracy: 0.1667\n",
      "Epoch 31/40\n",
      "60/60 [==============================] - 2s 36ms/step - loss: 1.7919 - accuracy: 0.1604 - val_loss: 1.7918 - val_accuracy: 0.1667\n",
      "Epoch 32/40\n",
      "60/60 [==============================] - 2s 35ms/step - loss: 1.7920 - accuracy: 0.1500 - val_loss: 1.7918 - val_accuracy: 0.1667\n",
      "Epoch 33/40\n",
      "60/60 [==============================] - 2s 35ms/step - loss: 1.7920 - accuracy: 0.1458 - val_loss: 1.7918 - val_accuracy: 0.1667\n",
      "Epoch 34/40\n",
      "60/60 [==============================] - 2s 36ms/step - loss: 1.7920 - accuracy: 0.1583 - val_loss: 1.7918 - val_accuracy: 0.1667\n",
      "Epoch 35/40\n",
      "60/60 [==============================] - 2s 36ms/step - loss: 1.7920 - accuracy: 0.1552 - val_loss: 1.7918 - val_accuracy: 0.1667\n",
      "Epoch 36/40\n",
      "60/60 [==============================] - 2s 35ms/step - loss: 1.7920 - accuracy: 0.1531 - val_loss: 1.7918 - val_accuracy: 0.1667\n",
      "Epoch 37/40\n",
      "60/60 [==============================] - 2s 35ms/step - loss: 1.7920 - accuracy: 0.1531 - val_loss: 1.7918 - val_accuracy: 0.1667\n",
      "Epoch 38/40\n",
      "60/60 [==============================] - 2s 36ms/step - loss: 1.7920 - accuracy: 0.1521 - val_loss: 1.7918 - val_accuracy: 0.1667\n",
      "Epoch 39/40\n",
      "60/60 [==============================] - 2s 36ms/step - loss: 1.7919 - accuracy: 0.1354 - val_loss: 1.7918 - val_accuracy: 0.1667\n",
      "Epoch 40/40\n",
      "60/60 [==============================] - 2s 35ms/step - loss: 1.7920 - accuracy: 0.1521 - val_loss: 1.7918 - val_accuracy: 0.1667\n"
     ]
    }
   ],
   "source": [
    "# Train the model\n",
    "history = model.fit(\n",
    "    train_generator,\n",
    "    validation_data=val_generator,\n",
    "    epochs=epochs,\n",
    "    steps_per_epoch=train_generator.samples // batch_size,\n",
    "    validation_steps=val_generator.samples // batch_size\n",
    ")\n"
   ]
  },
  {
   "cell_type": "code",
   "execution_count": 11,
   "id": "269646ea",
   "metadata": {},
   "outputs": [
    {
     "name": "stdout",
     "output_type": "stream",
     "text": [
      "18/18 [==============================] - 1s 28ms/step - loss: 1.7918 - accuracy: 0.1667\n",
      "Test Loss: 1.7918, Test Accuracy: 0.1667\n"
     ]
    }
   ],
   "source": [
    "\n",
    "# Evaluate the model\n",
    "test_loss, test_acc = model.evaluate(test_generator, steps=test_generator.samples // batch_size)\n",
    "print(f'Test Loss: {test_loss:.4f}, Test Accuracy: {test_acc:.4f}')\n"
   ]
  },
  {
   "cell_type": "code",
   "execution_count": 12,
   "id": "3f4b9126",
   "metadata": {},
   "outputs": [
    {
     "data": {
      "image/png": "[encoded data removed]",
      "text/plain": [
       "<Figure size 1008x360 with 2 Axes>"
      ]
     },
     "metadata": {
      "needs_background": "light"
     },
     "output_type": "display_data"
    }
   ],
   "source": [
    "\n",
    "# Plot training history\n",
    "def plot_training_history(history):\n",
    "    epochs_range = range(1, len(history.history['loss']) + 1)\n",
    "\n",
    "    plt.figure(figsize=(14, 5))\n",
    "\n",
    "    # Loss graph\n",
    "    plt.subplot(1, 2, 1)\n",
    "    plt.plot(epochs_range, history.history['loss'], 'bo-', label='Training loss')\n",
    "    plt.plot(epochs_range, history.history['val_loss'], 'ro-', label='Validation loss')\n",
    "    plt.title('Training and Validation Loss')\n",
    "    plt.xlabel('Epochs')\n",
    "    plt.ylabel('Loss')\n",
    "    plt.legend()\n",
    "\n",
    "    # Accuracy graph\n",
    "    plt.subplot(1, 2, 2)\n",
    "    plt.plot(epochs_range, history.history['accuracy'], 'bo-', label='Training accuracy')\n",
    "    plt.plot(epochs_range, history.history['val_accuracy'], 'ro-', label='Validation accuracy')\n",
    "    plt.title('Training and Validation Accuracy')\n",
    "    plt.xlabel('Epochs')\n",
    "    plt.ylabel('Accuracy')\n",
    "    plt.legend()\n",
    "\n",
    "    plt.show()\n",
    "\n",
    "# Plot training and validation history\n",
    "plot_training_history(history)"
   ]
  }
 ],
 "metadata": {
  "kernelspec": {
   "display_name": "Python 3 (ipykernel)",
   "language": "python",
   "name": "python3"
  },
  "language_info": {
   "codemirror_mode": {
    "name": "ipython",
    "version": 3
   },
   "file_extension": ".py",
   "mimetype": "text/x-python",
   "name": "python",
   "nbconvert_exporter": "python",
   "pygments_lexer": "ipython3",
   "version": "3.9.7"
  }
 },
 "nbformat": 4,
 "nbformat_minor": 5
}
