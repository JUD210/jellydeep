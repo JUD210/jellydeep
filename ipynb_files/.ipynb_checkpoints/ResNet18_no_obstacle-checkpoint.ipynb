{
 "cells": [
  {
   "cell_type": "code",
   "execution_count": 1,
   "id": "d3e0f11c",
   "metadata": {},
   "outputs": [
    {
     "name": "stdout",
     "output_type": "stream",
     "text": [
      "Requirement already satisfied: timm in /opt/conda/lib/python3.9/site-packages (1.0.11)\n",
      "Requirement already satisfied: pyyaml in /opt/conda/lib/python3.9/site-packages (from timm) (6.0)\n",
      "Requirement already satisfied: safetensors in /opt/conda/lib/python3.9/site-packages (from timm) (0.4.5)\n",
      "Requirement already satisfied: torchvision in /opt/conda/lib/python3.9/site-packages (from timm) (0.10.1+cu111)\n",
      "Requirement already satisfied: torch in /opt/conda/lib/python3.9/site-packages (from timm) (1.9.1+cu111)\n",
      "Requirement already satisfied: huggingface_hub in /opt/conda/lib/python3.9/site-packages (from timm) (0.0.19)\n",
      "Requirement already satisfied: tqdm in /opt/conda/lib/python3.9/site-packages (from huggingface_hub->timm) (4.62.3)\n",
      "Requirement already satisfied: typing-extensions in /opt/conda/lib/python3.9/site-packages (from huggingface_hub->timm) (4.0.1)\n",
      "Requirement already satisfied: filelock in /opt/conda/lib/python3.9/site-packages (from huggingface_hub->timm) (3.4.0)\n",
      "Requirement already satisfied: requests in /opt/conda/lib/python3.9/site-packages (from huggingface_hub->timm) (2.26.0)\n",
      "Requirement already satisfied: packaging>=20.9 in /opt/conda/lib/python3.9/site-packages (from huggingface_hub->timm) (21.3)\n",
      "Requirement already satisfied: pillow>=5.3.0 in /opt/conda/lib/python3.9/site-packages (from torchvision->timm) (8.3.2)\n",
      "Requirement already satisfied: numpy in /opt/conda/lib/python3.9/site-packages (from torchvision->timm) (1.21.4)\n",
      "Requirement already satisfied: pyparsing!=3.0.5,>=2.0.2 in /opt/conda/lib/python3.9/site-packages (from packaging>=20.9->huggingface_hub->timm) (3.0.6)\n",
      "Requirement already satisfied: certifi>=2017.4.17 in /opt/conda/lib/python3.9/site-packages (from requests->huggingface_hub->timm) (2021.10.8)\n",
      "Requirement already satisfied: charset-normalizer~=2.0.0 in /opt/conda/lib/python3.9/site-packages (from requests->huggingface_hub->timm) (2.0.8)\n",
      "Requirement already satisfied: urllib3<1.27,>=1.21.1 in /opt/conda/lib/python3.9/site-packages (from requests->huggingface_hub->timm) (1.26.7)\n",
      "Requirement already satisfied: idna<4,>=2.5 in /opt/conda/lib/python3.9/site-packages (from requests->huggingface_hub->timm) (2.10)\n",
      "\u001b[33mWARNING: Running pip as the 'root' user can result in broken permissions and conflicting behaviour with the system package manager. It is recommended to use a virtual environment instead: https://pip.pypa.io/warnings/venv\u001b[0m\n"
     ]
    }
   ],
   "source": [
    "!pip install timm"
   ]
  },
  {
   "cell_type": "code",
   "execution_count": 2,
   "id": "a3c2a17b",
   "metadata": {},
   "outputs": [],
   "source": [
    "import timm\n",
    "import torch\n",
    "import torch.nn as nn\n",
    "import pandas as pd\n",
    "import torch.optim as optim\n",
    "from torchvision import datasets, transforms\n",
    "from torch.utils.data import DataLoader, Dataset\n",
    "from PIL import Image\n",
    "import os\n",
    "import matplotlib.pyplot as plt\n",
    "from sklearn.model_selection import train_test_split\n"
   ]
  },
  {
   "cell_type": "code",
   "execution_count": 3,
   "id": "1759645d",
   "metadata": {},
   "outputs": [
    {
     "name": "stdout",
     "output_type": "stream",
     "text": [
      "Using cuda device\n"
     ]
    }
   ],
   "source": [
    "# [코드 2] 장치 설정 (GPU 사용 가능 시 GPU를 사용하도록 설정)\n",
    "device = torch.device('cuda' if torch.cuda.is_available() else 'cpu')\n",
    "print(f\"Using {device} device\")"
   ]
  },
  {
   "cell_type": "code",
   "execution_count": 4,
   "id": "30e67a1a",
   "metadata": {},
   "outputs": [],
   "source": [
    "# 데이터 경로 설정\n",
    "dataset_path = \"../_preprocessed_datasets_no_obstacle\"\n",
    "categories = [\"blue_jellyfish\", \"barrel_jellyfish\", \"compass_jellyfish\", \n",
    "              \"lions_mane_jellyfish\", \"mauve_stinger_jellyfish\", \"Moon_jellyfish\"]"
   ]
  },
  {
   "cell_type": "code",
   "execution_count": 5,
   "id": "c9c81c3d",
   "metadata": {},
   "outputs": [],
   "source": [
    "# 이미지 크기 및 하이퍼파라미터 설정\n",
    "img_height, img_width = 224, 224\n",
    "batch_size = 32"
   ]
  },
  {
   "cell_type": "code",
   "execution_count": 6,
   "id": "efbe1186",
   "metadata": {},
   "outputs": [],
   "source": [
    "# 데이터셋 준비\n",
    "def prepare_data(dataset_path, categories):\n",
    "    filepaths, labels = [], []\n",
    "    for label, category in enumerate(categories):\n",
    "        category_path = os.path.join(dataset_path, category)\n",
    "        if os.path.exists(category_path):\n",
    "            for file in os.listdir(category_path):\n",
    "                if file.endswith(('jpg', 'jpeg', 'png')):\n",
    "                    filepaths.append(os.path.join(category_path, file))\n",
    "                    labels.append(label)\n",
    "    return filepaths, labels\n",
    "\n",
    "filepaths, labels = prepare_data(dataset_path, categories)"
   ]
  },
  {
   "cell_type": "code",
   "execution_count": 7,
   "id": "b82c31ea",
   "metadata": {},
   "outputs": [],
   "source": [
    "# Train/Test 분리\n",
    "train_files, test_files, train_labels, test_labels = train_test_split(\n",
    "    filepaths, labels, test_size=0.2, stratify=labels, random_state=42\n",
    ")\n",
    "\n",
    "# Train/Validation 분리\n",
    "train_files, val_files, train_labels, val_labels = train_test_split(\n",
    "    train_files, train_labels, test_size=0.2, stratify=train_labels, random_state=42\n",
    ")"
   ]
  },
  {
   "cell_type": "code",
   "execution_count": 8,
   "id": "5be4555f",
   "metadata": {},
   "outputs": [],
   "source": [
    "# 숫자 라벨 -> 문자열 클래스 이름으로 변환\n",
    "label_to_class = {idx: name for idx, name in enumerate(categories)}\n",
    "train_labels = [label_to_class[label] for label in train_labels]\n",
    "val_labels = [label_to_class[label] for label in val_labels]\n",
    "test_labels = [label_to_class[label] for label in test_labels]"
   ]
  },
  {
   "cell_type": "code",
   "execution_count": 9,
   "id": "068a5966",
   "metadata": {},
   "outputs": [],
   "source": [
    "# DataFrame 생성\n",
    "train_df = pd.DataFrame({'filename': train_files, 'class': train_labels})\n",
    "val_df = pd.DataFrame({'filename': val_files, 'class': val_labels})\n",
    "test_df = pd.DataFrame({'filename': test_files, 'class': test_labels})\n"
   ]
  },
  {
   "cell_type": "code",
   "execution_count": 10,
   "id": "457cc128",
   "metadata": {},
   "outputs": [],
   "source": [
    "# Custom Dataset class\n",
    "class JellyfishDataset(Dataset):\n",
    "    def __init__(self, dataframe, transform=None):\n",
    "        self.dataframe = dataframe\n",
    "        self.transform = transform\n",
    "\n",
    "    def __len__(self):\n",
    "        return len(self.dataframe)\n",
    "\n",
    "    def __getitem__(self, idx):\n",
    "        img_path = self.dataframe.iloc[idx]['filename']\n",
    "        image = Image.open(img_path).convert('RGB')\n",
    "        label = categories.index(self.dataframe.iloc[idx]['class'])\n",
    "        \n",
    "        if self.transform:\n",
    "            image = self.transform(image)\n",
    "        \n",
    "        return image, label\n",
    "\n",
    "# Define transformations\n",
    "transform = transforms.Compose([\n",
    "    transforms.Resize((img_height, img_width)),\n",
    "    transforms.ToTensor(),\n",
    "    transforms.Normalize([0.485, 0.456, 0.406], [0.229, 0.224, 0.225])\n",
    "])\n",
    "\n",
    "\n",
    "# Create Dataset objects\n",
    "train_dataset = JellyfishDataset(train_df, transform=transform)\n",
    "val_dataset = JellyfishDataset(val_df, transform=transform)\n",
    "test_dataset = JellyfishDataset(test_df, transform=transform)\n"
   ]
  },
  {
   "cell_type": "code",
   "execution_count": 11,
   "id": "db9dd8c1",
   "metadata": {},
   "outputs": [],
   "source": [
    "\n",
    "# Create DataLoader objects\n",
    "train_loader = DataLoader(train_dataset, batch_size=batch_size, shuffle=True)\n",
    "val_loader = DataLoader(val_dataset, batch_size=batch_size, shuffle=False)\n",
    "test_loader = DataLoader(test_dataset, batch_size=batch_size, shuffle=False)\n"
   ]
  },
  {
   "cell_type": "code",
   "execution_count": 12,
   "id": "b7ad110c",
   "metadata": {},
   "outputs": [],
   "source": [
    "# Model creation using timm (resnet18)\n",
    "num_classes = len(categories)\n",
    "model = timm.create_model('resnet18', pretrained=False, num_classes=num_classes)\n",
    "model = model.to(device)\n"
   ]
  },
  {
   "cell_type": "code",
   "execution_count": 13,
   "id": "39210862",
   "metadata": {},
   "outputs": [],
   "source": [
    "# 손실 함수와 최적화 함수 설정\n",
    "criterion = nn.CrossEntropyLoss()\n",
    "optimizer = optim.Adam(model.parameters(), lr=0.001)\n"
   ]
  },
  {
   "cell_type": "code",
   "execution_count": 14,
   "id": "a2125a16",
   "metadata": {},
   "outputs": [],
   "source": [
    "# Model training function\n",
    "def train_model(model, train_loader, val_loader, loss_fn, optimizer, num_epochs=10, device='cpu'):\n",
    "    train_loss_history = []\n",
    "    train_acc_history = []\n",
    "    val_loss_history = []\n",
    "    val_acc_history = []\n",
    "\n",
    "    for epoch in range(num_epochs):\n",
    "        # Training phase\n",
    "        model.train()\n",
    "        running_loss = 0.0\n",
    "        correct = 0\n",
    "        total = 0\n",
    "\n",
    "        for images, labels in train_loader:\n",
    "            images, labels = images.to(device), labels.to(device)\n",
    "            optimizer.zero_grad()\n",
    "            outputs = model(images)\n",
    "            loss = loss_fn(outputs, labels)\n",
    "            loss.backward()\n",
    "            optimizer.step()\n",
    "            running_loss += loss.item() * images.size(0)\n",
    "            _, predicted = torch.max(outputs, 1)\n",
    "            correct += (predicted == labels).sum().item()\n",
    "            total += labels.size(0)\n",
    "\n",
    "        epoch_train_loss = running_loss / len(train_loader.dataset)\n",
    "        epoch_train_acc = correct / total\n",
    "\n",
    "        # Validation phase\n",
    "        model.eval()\n",
    "        val_running_loss = 0.0\n",
    "        val_correct = 0\n",
    "        val_total = 0\n",
    "\n",
    "        with torch.no_grad():\n",
    "            for val_images, val_labels in val_loader:\n",
    "                val_images, val_labels = val_images.to(device), val_labels.to(device)\n",
    "                val_outputs = model(val_images)\n",
    "                val_loss = loss_fn(val_outputs, val_labels)\n",
    "                val_running_loss += val_loss.item() * val_images.size(0)\n",
    "                _, val_predicted = torch.max(val_outputs, 1)\n",
    "                val_correct += (val_predicted == val_labels).sum().item()\n",
    "                val_total += val_labels.size(0)\n",
    "\n",
    "        epoch_val_loss = val_running_loss / len(val_loader.dataset)\n",
    "        epoch_val_acc = val_correct / val_total\n",
    "\n",
    "        train_loss_history.append(epoch_train_loss)\n",
    "        train_acc_history.append(epoch_train_acc)\n",
    "        val_loss_history.append(epoch_val_loss)\n",
    "        val_acc_history.append(epoch_val_acc)\n",
    "\n",
    "        print(f'Epoch {epoch + 1}/{num_epochs}, '\n",
    "              f'Train Loss: {epoch_train_loss:.4f}, Train Accuracy: {epoch_train_acc:.4f}, '\n",
    "              f'Validation Loss: {epoch_val_loss:.4f}, Validation Accuracy: {epoch_val_acc:.4f}')\n",
    "\n",
    "    return train_loss_history, train_acc_history, val_loss_history, val_acc_history\n"
   ]
  },
  {
   "cell_type": "code",
   "execution_count": 15,
   "id": "845d03c1",
   "metadata": {},
   "outputs": [],
   "source": [
    "# 모델 평가 함수 정의 (테스트 데이터셋)\n",
    "def evaluate_model(model, dataloader, loss_fn, device='cpu'):\n",
    "    model.eval()\n",
    "    running_loss = 0.0\n",
    "    correct = 0\n",
    "    total = 0\n",
    "\n",
    "    with torch.no_grad():\n",
    "        for images, labels in dataloader:\n",
    "            images, labels = images.to(device), labels.to(device)\n",
    "            outputs = model(images)\n",
    "            loss = loss_fn(outputs, labels)\n",
    "            running_loss += loss.item() * images.size(0)\n",
    "            _, predicted = torch.max(outputs, 1)\n",
    "            correct += (predicted == labels).sum().item()\n",
    "            total += labels.size(0)\n",
    "\n",
    "    epoch_loss = running_loss / len(dataloader.dataset)\n",
    "    epoch_acc = correct / total\n",
    "    return epoch_loss, epoch_acc"
   ]
  },
  {
   "cell_type": "code",
   "execution_count": 16,
   "id": "89df6f04",
   "metadata": {},
   "outputs": [
    {
     "name": "stdout",
     "output_type": "stream",
     "text": [
      "Epoch 1/40, Train Loss: 1.5221, Train Accuracy: 0.3927, Validation Loss: 1.3777, Validation Accuracy: 0.5000\n",
      "Epoch 2/40, Train Loss: 1.3221, Train Accuracy: 0.4969, Validation Loss: 1.2859, Validation Accuracy: 0.5333\n",
      "Epoch 3/40, Train Loss: 1.2402, Train Accuracy: 0.5104, Validation Loss: 1.1917, Validation Accuracy: 0.4958\n",
      "Epoch 4/40, Train Loss: 1.1398, Train Accuracy: 0.5615, Validation Loss: 1.0898, Validation Accuracy: 0.6250\n",
      "Epoch 5/40, Train Loss: 1.0538, Train Accuracy: 0.6198, Validation Loss: 1.1200, Validation Accuracy: 0.5667\n",
      "Epoch 6/40, Train Loss: 0.9452, Train Accuracy: 0.6417, Validation Loss: 1.0742, Validation Accuracy: 0.5792\n",
      "Epoch 7/40, Train Loss: 0.8995, Train Accuracy: 0.6708, Validation Loss: 0.8953, Validation Accuracy: 0.6750\n",
      "Epoch 8/40, Train Loss: 0.8360, Train Accuracy: 0.6906, Validation Loss: 0.7853, Validation Accuracy: 0.7167\n",
      "Epoch 9/40, Train Loss: 0.6940, Train Accuracy: 0.7490, Validation Loss: 0.9285, Validation Accuracy: 0.6708\n",
      "Epoch 10/40, Train Loss: 0.6063, Train Accuracy: 0.7917, Validation Loss: 0.5557, Validation Accuracy: 0.8208\n",
      "Epoch 11/40, Train Loss: 0.5231, Train Accuracy: 0.8187, Validation Loss: 0.6662, Validation Accuracy: 0.7750\n",
      "Epoch 12/40, Train Loss: 0.4466, Train Accuracy: 0.8500, Validation Loss: 0.5356, Validation Accuracy: 0.8042\n",
      "Epoch 13/40, Train Loss: 0.4564, Train Accuracy: 0.8510, Validation Loss: 0.6296, Validation Accuracy: 0.7667\n",
      "Epoch 14/40, Train Loss: 0.4263, Train Accuracy: 0.8635, Validation Loss: 0.4930, Validation Accuracy: 0.8292\n",
      "Epoch 15/40, Train Loss: 0.3159, Train Accuracy: 0.8969, Validation Loss: 0.3616, Validation Accuracy: 0.8625\n",
      "Epoch 16/40, Train Loss: 0.2807, Train Accuracy: 0.9104, Validation Loss: 0.4417, Validation Accuracy: 0.8375\n",
      "Epoch 17/40, Train Loss: 0.2241, Train Accuracy: 0.9406, Validation Loss: 0.3838, Validation Accuracy: 0.8667\n",
      "Epoch 18/40, Train Loss: 0.2012, Train Accuracy: 0.9365, Validation Loss: 0.2334, Validation Accuracy: 0.9167\n",
      "Epoch 19/40, Train Loss: 0.1844, Train Accuracy: 0.9375, Validation Loss: 0.4718, Validation Accuracy: 0.8167\n",
      "Epoch 20/40, Train Loss: 0.1754, Train Accuracy: 0.9417, Validation Loss: 0.3156, Validation Accuracy: 0.9042\n",
      "Epoch 21/40, Train Loss: 0.1511, Train Accuracy: 0.9510, Validation Loss: 0.3041, Validation Accuracy: 0.8708\n",
      "Epoch 22/40, Train Loss: 0.1306, Train Accuracy: 0.9594, Validation Loss: 0.4158, Validation Accuracy: 0.8500\n",
      "Epoch 23/40, Train Loss: 0.1182, Train Accuracy: 0.9667, Validation Loss: 0.2005, Validation Accuracy: 0.9208\n",
      "Epoch 24/40, Train Loss: 0.0955, Train Accuracy: 0.9781, Validation Loss: 0.1821, Validation Accuracy: 0.9208\n",
      "Epoch 25/40, Train Loss: 0.0900, Train Accuracy: 0.9771, Validation Loss: 0.1721, Validation Accuracy: 0.9458\n",
      "Epoch 26/40, Train Loss: 0.0535, Train Accuracy: 0.9844, Validation Loss: 0.2066, Validation Accuracy: 0.9417\n",
      "Epoch 27/40, Train Loss: 0.0547, Train Accuracy: 0.9854, Validation Loss: 0.1532, Validation Accuracy: 0.9417\n",
      "Epoch 28/40, Train Loss: 0.0263, Train Accuracy: 0.9969, Validation Loss: 0.1052, Validation Accuracy: 0.9583\n",
      "Epoch 29/40, Train Loss: 0.0311, Train Accuracy: 0.9948, Validation Loss: 0.1603, Validation Accuracy: 0.9458\n",
      "Epoch 30/40, Train Loss: 0.0356, Train Accuracy: 0.9906, Validation Loss: 0.1459, Validation Accuracy: 0.9500\n",
      "Epoch 31/40, Train Loss: 0.0367, Train Accuracy: 0.9906, Validation Loss: 0.1038, Validation Accuracy: 0.9667\n",
      "Epoch 32/40, Train Loss: 0.0619, Train Accuracy: 0.9802, Validation Loss: 0.3198, Validation Accuracy: 0.8875\n",
      "Epoch 33/40, Train Loss: 0.0790, Train Accuracy: 0.9708, Validation Loss: 0.3759, Validation Accuracy: 0.8833\n",
      "Epoch 34/40, Train Loss: 0.0780, Train Accuracy: 0.9792, Validation Loss: 0.2980, Validation Accuracy: 0.8958\n",
      "Epoch 35/40, Train Loss: 0.0801, Train Accuracy: 0.9771, Validation Loss: 0.2206, Validation Accuracy: 0.9167\n",
      "Epoch 36/40, Train Loss: 0.0645, Train Accuracy: 0.9760, Validation Loss: 0.2887, Validation Accuracy: 0.8958\n",
      "Epoch 37/40, Train Loss: 0.0428, Train Accuracy: 0.9885, Validation Loss: 0.1551, Validation Accuracy: 0.9458\n",
      "Epoch 38/40, Train Loss: 0.0469, Train Accuracy: 0.9875, Validation Loss: 0.1886, Validation Accuracy: 0.9333\n",
      "Epoch 39/40, Train Loss: 0.0293, Train Accuracy: 0.9896, Validation Loss: 0.1599, Validation Accuracy: 0.9250\n",
      "Epoch 40/40, Train Loss: 0.0300, Train Accuracy: 0.9938, Validation Loss: 0.1623, Validation Accuracy: 0.9583\n"
     ]
    }
   ],
   "source": [
    "# 모델 훈련\n",
    "epochs = 40\n",
    "train_loss_history, train_acc_history, val_loss_history, val_acc_history = train_model(\n",
    "    model, train_loader, val_loader, criterion, optimizer, epochs, device)\n"
   ]
  },
  {
   "cell_type": "code",
   "execution_count": 17,
   "id": "a57c904f",
   "metadata": {},
   "outputs": [
    {
     "name": "stdout",
     "output_type": "stream",
     "text": [
      "Test Loss: 0.1296, Test Accuracy: 0.9567\n"
     ]
    }
   ],
   "source": [
    "# 모델 검증(테스트 데이터셋)\n",
    "test_loss, test_acc = evaluate_model(model, test_loader, criterion, device)\n",
    "print(f'Test Loss: {test_loss:.4f}, Test Accuracy: {test_acc:.4f}')\n",
    "# \n"
   ]
  },
  {
   "cell_type": "code",
   "execution_count": 18,
   "id": "cc2c3e11",
   "metadata": {},
   "outputs": [],
   "source": [
    "# 훈련 이력 시각화 함수 (훈련 데이터와 검증 데이터 비교)\n",
    "def plot_training_history(train_loss, train_acc, val_loss, val_acc):\n",
    "    epochs_range = range(1, len(train_loss) + 1)\n",
    "\n",
    "    plt.figure(figsize=(14, 5))\n",
    "\n",
    "    # Loss 그래프\n",
    "    plt.subplot(1, 2, 1)\n",
    "    plt.plot(epochs_range, train_loss, 'bo-', label='Training loss')\n",
    "    plt.plot(epochs_range, val_loss, 'ro-', label='Validation loss')\n",
    "    plt.title('Training and Validation Loss')\n",
    "    plt.xlabel('Epochs')\n",
    "    plt.ylabel('Loss')\n",
    "    plt.legend()\n",
    "\n",
    "    # Accuracy 그래프\n",
    "    plt.subplot(1, 2, 2)\n",
    "    plt.plot(epochs_range, train_acc, 'bo-', label='Training accuracy')\n",
    "    plt.plot(epochs_range, val_acc, 'ro-', label='Validation accuracy')\n",
    "    plt.title('Training and Validation Accuracy')\n",
    "    plt.xlabel('Epochs')\n",
    "    plt.ylabel('Accuracy')\n",
    "    plt.legend()\n",
    "\n",
    "    plt.show()"
   ]
  },
  {
   "cell_type": "code",
   "execution_count": 19,
   "id": "a2b32f69",
   "metadata": {},
   "outputs": [
    {
     "data": {
      "image/png": "[encoded data removed]",
      "text/plain": [
       "<Figure size 1008x360 with 2 Axes>"
      ]
     },
     "metadata": {
      "needs_background": "light"
     },
     "output_type": "display_data"
    }
   ],
   "source": [
    "# 훈련 및 검증 이력 시각화\n",
    "plot_training_history(train_loss_history, train_acc_history, val_loss_history, val_acc_history)"
   ]
  },
  {
   "cell_type": "code",
   "execution_count": null,
   "id": "99274baa",
   "metadata": {},
   "outputs": [],
   "source": []
  }
 ],
 "metadata": {
  "kernelspec": {
   "display_name": "Python 3 (ipykernel)",
   "language": "python",
   "name": "python3"
  },
  "language_info": {
   "codemirror_mode": {
    "name": "ipython",
    "version": 3
   },
   "file_extension": ".py",
   "mimetype": "text/x-python",
   "name": "python",
   "nbconvert_exporter": "python",
   "pygments_lexer": "ipython3",
   "version": "3.9.7"
  }
 },
 "nbformat": 4,
 "nbformat_minor": 5
}
