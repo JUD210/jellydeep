{
 "cells": [
  {
   "cell_type": "code",
   "execution_count": 1,
   "id": "d0bff09c",
   "metadata": {},
   "outputs": [
    {
     "name": "stdout",
     "output_type": "stream",
     "text": [
      "Collecting keras-resnet\n",
      "  Downloading keras-resnet-0.2.0.tar.gz (9.3 kB)\n",
      "  Preparing metadata (setup.py) ... \u001b[?25ldone\n",
      "\u001b[?25hRequirement already satisfied: keras>=2.2.4 in /opt/conda/lib/python3.9/site-packages (from keras-resnet) (2.6.0)\n",
      "Building wheels for collected packages: keras-resnet\n",
      "  Building wheel for keras-resnet (setup.py) ... \u001b[?25ldone\n",
      "\u001b[?25h  Created wheel for keras-resnet: filename=keras_resnet-0.2.0-py2.py3-none-any.whl size=20486 sha256=0ce696d171fb22db4eec196571c3dd633cecc933a43772c46af6492790d0e6c9\n",
      "  Stored in directory: /aiffel/.cache/pip/wheels/53/ed/ef/144804f160c278c80d6429c97ed126b61276721894ce64cccc\n",
      "Successfully built keras-resnet\n",
      "Installing collected packages: keras-resnet\n",
      "Successfully installed keras-resnet-0.2.0\n",
      "\u001b[33mWARNING: Running pip as the 'root' user can result in broken permissions and conflicting behaviour with the system package manager. It is recommended to use a virtual environment instead: https://pip.pypa.io/warnings/venv\u001b[0m\n",
      "Note: you may need to restart the kernel to use updated packages.\n"
     ]
    }
   ],
   "source": [
    "pip install keras-resnet"
   ]
  },
  {
   "cell_type": "code",
   "execution_count": 1,
   "id": "2ee63d6d",
   "metadata": {},
   "outputs": [],
   "source": [
    "import tensorflow as tf\n",
    "from tensorflow.keras.preprocessing.image import ImageDataGenerator\n",
    "from tensorflow.keras.optimizers import Adam\n",
    "from sklearn.model_selection import train_test_split\n",
    "import pandas as pd\n",
    "import os\n",
    "import matplotlib.pyplot as plt\n",
    "from keras_resnet.models import ResNet18"
   ]
  },
  {
   "cell_type": "code",
   "execution_count": 2,
   "id": "9334c3e0",
   "metadata": {},
   "outputs": [],
   "source": [
    "# 데이터 경로 설정\n",
    "dataset_path = \"../_preprocessed_datasets_del_aug_duplicate\"\n",
    "categories = [\"blue_jellyfish\", \"barrel_jellyfish\", \"compass_jellyfish\", \n",
    "              \"lions_mane_jellyfish\", \"mauve_stinger_jellyfish\", \"Moon_jellyfish\"]\n",
    "# 하이퍼파라미터 설정\n",
    "img_height, img_width = 224, 224\n",
    "batch_size = 32\n",
    "epochs = 40\n",
    "learning_rate = 0.001"
   ]
  },
  {
   "cell_type": "code",
   "execution_count": 3,
   "id": "ec91ab28",
   "metadata": {},
   "outputs": [],
   "source": [
    "# 데이터 준비 함수\n",
    "def prepare_data(dataset_path, categories):\n",
    "    filepaths, labels = [], []\n",
    "    for label, category in enumerate(categories):\n",
    "        category_path = os.path.join(dataset_path, category)\n",
    "        if os.path.exists(category_path):\n",
    "            for file in os.listdir(category_path):\n",
    "                if file.endswith(('jpg', 'jpeg', 'png')):\n",
    "                    filepaths.append(os.path.join(category_path, file))\n",
    "                    labels.append(category)\n",
    "    return filepaths, labels\n",
    "\n",
    "filepaths, labels = prepare_data(dataset_path, categories)"
   ]
  },
  {
   "cell_type": "code",
   "execution_count": 4,
   "id": "92cfa70f",
   "metadata": {},
   "outputs": [],
   "source": [
    "# DataFrame 생성\n",
    "data = pd.DataFrame({'filename': filepaths, 'class': labels})"
   ]
  },
  {
   "cell_type": "code",
   "execution_count": 5,
   "id": "73d6a097",
   "metadata": {},
   "outputs": [],
   "source": [
    "# Train/Test 분리\n",
    "train_df, test_df = train_test_split(data, test_size=0.2, stratify=data['class'], random_state=42)\n",
    "\n",
    "# Train/Validation 분리\n",
    "train_df, val_df = train_test_split(train_df, test_size=0.2, stratify=train_df['class'], random_state=42)"
   ]
  },
  {
   "cell_type": "code",
   "execution_count": 6,
   "id": "2c0ca4c3",
   "metadata": {},
   "outputs": [
    {
     "name": "stdout",
     "output_type": "stream",
     "text": [
      "Found 960 validated image filenames belonging to 6 classes.\n",
      "Found 240 validated image filenames belonging to 6 classes.\n",
      "Found 300 validated image filenames belonging to 6 classes.\n"
     ]
    }
   ],
   "source": [
    "# ImageDataGenerator 사용\n",
    "train_datagen = ImageDataGenerator(\n",
    "    rescale=1./255,\n",
    "    rotation_range=20,\n",
    "    width_shift_range=0.2,\n",
    "    height_shift_range=0.2,\n",
    "    shear_range=0.2,\n",
    "    zoom_range=0.2,\n",
    "    horizontal_flip=True\n",
    ")\n",
    "\n",
    "val_test_datagen = ImageDataGenerator(rescale=1./255)\n",
    "\n",
    "train_generator = train_datagen.flow_from_dataframe(\n",
    "    train_df,\n",
    "    x_col='filename',\n",
    "    y_col='class',\n",
    "    target_size=(img_height, img_width),\n",
    "    batch_size=batch_size,\n",
    "    class_mode='categorical'\n",
    ")\n",
    "\n",
    "val_generator = val_test_datagen.flow_from_dataframe(\n",
    "    val_df,\n",
    "    x_col='filename',\n",
    "    y_col='class',\n",
    "    target_size=(img_height, img_width),\n",
    "    batch_size=batch_size,\n",
    "    class_mode='categorical'\n",
    ")\n",
    "\n",
    "test_generator = val_test_datagen.flow_from_dataframe(\n",
    "    test_df,\n",
    "    x_col='filename',\n",
    "    y_col='class',\n",
    "    target_size=(img_height, img_width),\n",
    "    batch_size=batch_size,\n",
    "    class_mode='categorical',\n",
    "    shuffle=False\n",
    ")"
   ]
  },
  {
   "cell_type": "code",
   "execution_count": 7,
   "id": "1212700f",
   "metadata": {},
   "outputs": [],
   "source": [
    "# ResNet18 모델 생성\n",
    "num_classes = len(categories)\n",
    "\n",
    "# 입력 텐서 정의\n",
    "inputs = tf.keras.Input(shape=(img_height, img_width, 3))"
   ]
  },
  {
   "cell_type": "code",
   "execution_count": 8,
   "id": "32270184",
   "metadata": {},
   "outputs": [],
   "source": [
    "# ResNet18 모델 불러오기\n",
    "resnet18 = ResNet18(inputs, classes=num_classes)\n",
    "\n",
    "# 모델 컴파일\n",
    "resnet18.compile(optimizer=Adam(learning_rate=learning_rate),\n",
    "                 loss='categorical_crossentropy',\n",
    "                 metrics=['accuracy'])"
   ]
  },
  {
   "cell_type": "code",
   "execution_count": 9,
   "id": "98bf64e7",
   "metadata": {},
   "outputs": [
    {
     "name": "stdout",
     "output_type": "stream",
     "text": [
      "Epoch 1/40\n",
      "30/30 [==============================] - 18s 388ms/step - loss: 2.2756 - accuracy: 0.2906 - val_loss: 118.9561 - val_accuracy: 0.1667\n",
      "Epoch 2/40\n",
      "30/30 [==============================] - 11s 363ms/step - loss: 1.4058 - accuracy: 0.4365 - val_loss: 1.9851 - val_accuracy: 0.2917\n",
      "Epoch 3/40\n",
      "30/30 [==============================] - 11s 372ms/step - loss: 1.3000 - accuracy: 0.5000 - val_loss: 2.2607 - val_accuracy: 0.1750\n",
      "Epoch 4/40\n",
      "30/30 [==============================] - 11s 369ms/step - loss: 1.2116 - accuracy: 0.5167 - val_loss: 2.3079 - val_accuracy: 0.1750\n",
      "Epoch 5/40\n",
      "30/30 [==============================] - 11s 359ms/step - loss: 1.1583 - accuracy: 0.5500 - val_loss: 2.7324 - val_accuracy: 0.1792\n",
      "Epoch 6/40\n",
      "30/30 [==============================] - 11s 364ms/step - loss: 1.0778 - accuracy: 0.5969 - val_loss: 2.8770 - val_accuracy: 0.1792\n",
      "Epoch 7/40\n",
      "30/30 [==============================] - 11s 358ms/step - loss: 1.1035 - accuracy: 0.5906 - val_loss: 2.9582 - val_accuracy: 0.2417\n",
      "Epoch 8/40\n",
      "30/30 [==============================] - 11s 362ms/step - loss: 0.9441 - accuracy: 0.6375 - val_loss: 2.3654 - val_accuracy: 0.3208\n",
      "Epoch 9/40\n",
      "30/30 [==============================] - 11s 359ms/step - loss: 0.9238 - accuracy: 0.6552 - val_loss: 2.5183 - val_accuracy: 0.3625\n",
      "Epoch 10/40\n",
      "30/30 [==============================] - 11s 362ms/step - loss: 0.9572 - accuracy: 0.6438 - val_loss: 2.4028 - val_accuracy: 0.3542\n",
      "Epoch 11/40\n",
      "30/30 [==============================] - 11s 368ms/step - loss: 0.8715 - accuracy: 0.6625 - val_loss: 2.3917 - val_accuracy: 0.3000\n",
      "Epoch 12/40\n",
      "30/30 [==============================] - 11s 367ms/step - loss: 0.7299 - accuracy: 0.7344 - val_loss: 1.9044 - val_accuracy: 0.4500\n",
      "Epoch 13/40\n",
      "30/30 [==============================] - 11s 359ms/step - loss: 0.7546 - accuracy: 0.7125 - val_loss: 1.7933 - val_accuracy: 0.4875\n",
      "Epoch 14/40\n",
      "30/30 [==============================] - 11s 368ms/step - loss: 0.7108 - accuracy: 0.7354 - val_loss: 4.9211 - val_accuracy: 0.3500\n",
      "Epoch 15/40\n",
      "30/30 [==============================] - 11s 359ms/step - loss: 0.7189 - accuracy: 0.7323 - val_loss: 1.3521 - val_accuracy: 0.5542\n",
      "Epoch 16/40\n",
      "30/30 [==============================] - 11s 360ms/step - loss: 0.6769 - accuracy: 0.7437 - val_loss: 1.8318 - val_accuracy: 0.6125\n",
      "Epoch 17/40\n",
      "30/30 [==============================] - 11s 360ms/step - loss: 0.5661 - accuracy: 0.7906 - val_loss: 1.3619 - val_accuracy: 0.6333\n",
      "Epoch 18/40\n",
      "30/30 [==============================] - 11s 367ms/step - loss: 0.6160 - accuracy: 0.7802 - val_loss: 1.6424 - val_accuracy: 0.5417\n",
      "Epoch 19/40\n",
      "30/30 [==============================] - 11s 362ms/step - loss: 0.6372 - accuracy: 0.7604 - val_loss: 2.9244 - val_accuracy: 0.3958\n",
      "Epoch 20/40\n",
      "30/30 [==============================] - 11s 358ms/step - loss: 0.5654 - accuracy: 0.7948 - val_loss: 2.0140 - val_accuracy: 0.6000\n",
      "Epoch 21/40\n",
      "30/30 [==============================] - 11s 361ms/step - loss: 0.4647 - accuracy: 0.8354 - val_loss: 1.9289 - val_accuracy: 0.5917\n",
      "Epoch 22/40\n",
      "30/30 [==============================] - 11s 359ms/step - loss: 0.4943 - accuracy: 0.8135 - val_loss: 2.1543 - val_accuracy: 0.4875\n",
      "Epoch 23/40\n",
      "30/30 [==============================] - 11s 359ms/step - loss: 0.5534 - accuracy: 0.7823 - val_loss: 1.1397 - val_accuracy: 0.6833\n",
      "Epoch 24/40\n",
      "30/30 [==============================] - 11s 361ms/step - loss: 0.4888 - accuracy: 0.8260 - val_loss: 2.8101 - val_accuracy: 0.5625\n",
      "Epoch 25/40\n",
      "30/30 [==============================] - 11s 364ms/step - loss: 0.4062 - accuracy: 0.8552 - val_loss: 1.4277 - val_accuracy: 0.7000\n",
      "Epoch 26/40\n",
      "30/30 [==============================] - 11s 370ms/step - loss: 0.3915 - accuracy: 0.8583 - val_loss: 0.9805 - val_accuracy: 0.7042\n",
      "Epoch 27/40\n",
      "30/30 [==============================] - 11s 370ms/step - loss: 0.3832 - accuracy: 0.8635 - val_loss: 1.6237 - val_accuracy: 0.5792\n",
      "Epoch 28/40\n",
      "30/30 [==============================] - 11s 370ms/step - loss: 0.4245 - accuracy: 0.8635 - val_loss: 2.2254 - val_accuracy: 0.5333\n",
      "Epoch 29/40\n",
      "30/30 [==============================] - 11s 362ms/step - loss: 0.3551 - accuracy: 0.8646 - val_loss: 0.7420 - val_accuracy: 0.7417\n",
      "Epoch 30/40\n",
      "30/30 [==============================] - 11s 360ms/step - loss: 0.2994 - accuracy: 0.8990 - val_loss: 1.3425 - val_accuracy: 0.6458\n",
      "Epoch 31/40\n",
      "30/30 [==============================] - 11s 354ms/step - loss: 0.3524 - accuracy: 0.8646 - val_loss: 1.0395 - val_accuracy: 0.7292\n",
      "Epoch 32/40\n",
      "30/30 [==============================] - 11s 359ms/step - loss: 0.3310 - accuracy: 0.8885 - val_loss: 0.7618 - val_accuracy: 0.7542\n",
      "Epoch 33/40\n",
      "30/30 [==============================] - 11s 362ms/step - loss: 0.3373 - accuracy: 0.8938 - val_loss: 2.1920 - val_accuracy: 0.5708\n",
      "Epoch 34/40\n",
      "30/30 [==============================] - 11s 357ms/step - loss: 0.3006 - accuracy: 0.8979 - val_loss: 1.0811 - val_accuracy: 0.7000\n",
      "Epoch 35/40\n",
      "30/30 [==============================] - 11s 363ms/step - loss: 0.3502 - accuracy: 0.8813 - val_loss: 1.9462 - val_accuracy: 0.5833\n",
      "Epoch 36/40\n",
      "30/30 [==============================] - 11s 360ms/step - loss: 0.2992 - accuracy: 0.8875 - val_loss: 1.2508 - val_accuracy: 0.6708\n",
      "Epoch 37/40\n",
      "30/30 [==============================] - 11s 365ms/step - loss: 0.2837 - accuracy: 0.9052 - val_loss: 0.6780 - val_accuracy: 0.8333\n",
      "Epoch 38/40\n",
      "30/30 [==============================] - 11s 359ms/step - loss: 0.4205 - accuracy: 0.8677 - val_loss: 0.5037 - val_accuracy: 0.8375\n",
      "Epoch 39/40\n",
      "30/30 [==============================] - 11s 363ms/step - loss: 0.2830 - accuracy: 0.9021 - val_loss: 1.0303 - val_accuracy: 0.7125\n",
      "Epoch 40/40\n",
      "30/30 [==============================] - 11s 358ms/step - loss: 0.2648 - accuracy: 0.9010 - val_loss: 0.4482 - val_accuracy: 0.8667\n",
      "10/10 [==============================] - 2s 232ms/step - loss: 0.3595 - accuracy: 0.9167\n",
      "Test Loss: 0.3595, Test Accuracy: 0.9167\n"
     ]
    }
   ],
   "source": [
    "# 모델 훈련\n",
    "history = resnet18.fit(\n",
    "    train_generator,\n",
    "    validation_data=val_generator,\n",
    "    epochs=epochs\n",
    ")\n",
    "\n",
    "# 테스트 평가\n",
    "test_loss, test_acc = resnet18.evaluate(test_generator)\n",
    "print(f\"Test Loss: {test_loss:.4f}, Test Accuracy: {test_acc:.4f}\")"
   ]
  },
  {
   "cell_type": "code",
   "execution_count": 10,
   "id": "be2ec358",
   "metadata": {},
   "outputs": [
    {
     "data": {
      "image/png": "[encoded data removed]",
      "text/plain": [
       "<Figure size 1008x360 with 2 Axes>"
      ]
     },
     "metadata": {
      "needs_background": "light"
     },
     "output_type": "display_data"
    }
   ],
   "source": [
    "# 훈련 이력 시각화\n",
    "def plot_training_history(history):\n",
    "    epochs_range = range(1, len(history.history['loss']) + 1)\n",
    "\n",
    "    plt.figure(figsize=(14, 5))\n",
    "\n",
    "    # Loss 그래프\n",
    "    plt.subplot(1, 2, 1)\n",
    "    plt.plot(epochs_range, history.history['loss'], 'bo-', label='Training loss')\n",
    "    plt.plot(epochs_range, history.history['val_loss'], 'ro-', label='Validation loss')\n",
    "    plt.title('Training and Validation Loss')\n",
    "    plt.xlabel('Epochs')\n",
    "    plt.ylabel('Loss')\n",
    "    plt.legend()\n",
    "\n",
    "    # Accuracy 그래프\n",
    "    plt.subplot(1, 2, 2)\n",
    "    plt.plot(epochs_range, history.history['accuracy'], 'bo-', label='Training accuracy')\n",
    "    plt.plot(epochs_range, history.history['val_accuracy'], 'ro-', label='Validation accuracy')\n",
    "    plt.title('Training and Validation Accuracy')\n",
    "    plt.xlabel('Epochs')\n",
    "    plt.ylabel('Accuracy')\n",
    "    plt.legend()\n",
    "\n",
    "    plt.show()\n",
    "\n",
    "plot_training_history(history)"
   ]
  },
  {
   "cell_type": "markdown",
   "id": "716c3cda",
   "metadata": {},
   "source": [
    "## ResNet18 모델\n",
    "---\n",
    "정확도가 91%까지 상승함"
   ]
  },
  {
   "cell_type": "code",
   "execution_count": 20,
   "id": "51ca0808",
   "metadata": {},
   "outputs": [
    {
     "name": "stdout",
     "output_type": "stream",
     "text": [
      "Custom Validation Set: 18 images\n",
      "Remaining Training Set: 1482 images\n",
      "Found 18 validated image filenames belonging to 6 classes.\n",
      "Found 1482 validated image filenames belonging to 6 classes.\n"
     ]
    }
   ],
   "source": [
    "# 원하는 검증 이미지 파일 리스트 정의\n",
    "desired_val_images = [\n",
    "    \"../_preprocessed_datasets_del_aug_duplicate/barrel_jellyfish/Aug_bal_87_17.jpg\",\n",
    "    \"../_preprocessed_datasets_del_aug_duplicate/barrel_jellyfish/Aug_bal_90_17.jpg\",\n",
    "    \"../_preprocessed_datasets_del_aug_duplicate/barrel_jellyfish/Aug_bal_97_17.jpg\",\n",
    "    \"../_preprocessed_datasets_del_aug_duplicate/lions_mane_jellyfish/Aug_bal_132_11.jpg\",\n",
    "    \"../_preprocessed_datasets_del_aug_duplicate/lions_mane_jellyfish/Aug_bal_171_17.jpg\",\n",
    "    \"../_preprocessed_datasets_del_aug_duplicate/lions_mane_jellyfish/Aug_bal_185_31.jpg\",\n",
    "    \"../_preprocessed_datasets_del_aug_duplicate/lions_mane_jellyfish/Aug_bal_29_74.jpg\",\n",
    "    \"../_preprocessed_datasets_del_aug_duplicate/lions_mane_jellyfish/Aug_bal_76_20.jpg\",\n",
    "    \"../_preprocessed_datasets_del_aug_duplicate/barrel_jellyfish/Aug_bal_123_15.jpg\",\n",
    "    \"../_preprocessed_datasets_del_aug_duplicate/barrel_jellyfish/Aug_bal_15_10.jpg\",\n",
    "    \"../_preprocessed_datasets_del_aug_duplicate/blue_jellyfish/Aug_bal_53_69.jpg\",\n",
    "    \"../_preprocessed_datasets_del_aug_duplicate/blue_jellyfish/Aug_bal_96_09.jpg\",\n",
    "    \"../_preprocessed_datasets_del_aug_duplicate/compass_jellyfish/Aug_bal_90_09.jpg\",\n",
    "    \"../_preprocessed_datasets_del_aug_duplicate/compass_jellyfish/Aug_bal_190_61.jpg\",\n",
    "    \"../_preprocessed_datasets_del_aug_duplicate/mauve_stinger_jellyfish/Aug_bal_111_05.jpg\",\n",
    "    \"../_preprocessed_datasets_del_aug_duplicate/mauve_stinger_jellyfish/Aug_bal_40_53.jpg\",\n",
    "    \"../_preprocessed_datasets_del_aug_duplicate/Moon_jellyfish/Aug_bal_2_22.jpg\",\n",
    "    \"../_preprocessed_datasets_del_aug_duplicate/Moon_jellyfish/Aug_bal_99_29.jpg\",\n",
    "]\n",
    "\n",
    "# 원하는 검증 이미지 데이터프레임으로 분리\n",
    "custom_val_df = data[data['filename'].isin(desired_val_images)]\n",
    "\n",
    "# 나머지 데이터를 학습 데이터로 유지\n",
    "custom_train_df = data[~data['filename'].isin(desired_val_images)]\n",
    "\n",
    "# 데이터 상태 출력\n",
    "print(f\"Custom Validation Set: {len(custom_val_df)} images\")\n",
    "print(f\"Remaining Training Set: {len(custom_train_df)} images\")\n",
    "\n",
    "# 검증 데이터 제너레이터\n",
    "custom_val_generator = val_test_datagen.flow_from_dataframe(\n",
    "    custom_val_df,\n",
    "    x_col='filename',\n",
    "    y_col='class',\n",
    "    target_size=(img_height, img_width),\n",
    "    batch_size=batch_size,\n",
    "    class_mode='categorical',\n",
    "    shuffle=False\n",
    ")\n",
    "\n",
    "# 학습 데이터 제너레이터\n",
    "custom_train_generator = train_datagen.flow_from_dataframe(\n",
    "    custom_train_df,\n",
    "    x_col='filename',\n",
    "    y_col='class',\n",
    "    target_size=(img_height, img_width),\n",
    "    batch_size=batch_size,\n",
    "    class_mode='categorical',\n",
    "    shuffle=True\n",
    ")"
   ]
  },
  {
   "cell_type": "markdown",
   "id": "d224f1cb",
   "metadata": {},
   "source": [
    "오류 수정중"
   ]
  },
  {
   "cell_type": "code",
   "execution_count": 21,
   "id": "bf10ccba",
   "metadata": {},
   "outputs": [
    {
     "name": "stdout",
     "output_type": "stream",
     "text": [
      "Train Generator Classes: {'Moon_jellyfish': 0, 'barrel_jellyfish': 1, 'blue_jellyfish': 2, 'compass_jellyfish': 3, 'lions_mane_jellyfish': 4, 'mauve_stinger_jellyfish': 5}\n",
      "Validation Generator Classes: {'Moon_jellyfish': 0, 'barrel_jellyfish': 1, 'blue_jellyfish': 2, 'compass_jellyfish': 3, 'lions_mane_jellyfish': 4, 'mauve_stinger_jellyfish': 5}\n"
     ]
    }
   ],
   "source": [
    "print(\"Train Generator Classes:\", custom_train_generator.class_indices)\n",
    "print(\"Validation Generator Classes:\", custom_val_generator.class_indices)"
   ]
  },
  {
   "cell_type": "code",
   "execution_count": 28,
   "id": "7e90d77e",
   "metadata": {},
   "outputs": [
    {
     "name": "stdout",
     "output_type": "stream",
     "text": [
      "Model output shape: (None, 6)\n"
     ]
    }
   ],
   "source": [
    "# 모델의 마지막 레이어 출력 확인\n",
    "model_output_shape = resnet18.output_shape\n",
    "print(f\"Model output shape: {model_output_shape}\")"
   ]
  },
  {
   "cell_type": "code",
   "execution_count": 31,
   "id": "6243adea",
   "metadata": {},
   "outputs": [
    {
     "ename": "TypeError",
     "evalue": "listdir: path should be string, bytes, os.PathLike, integer or None, not DataFrame",
     "output_type": "error",
     "traceback": [
      "\u001b[0;31m---------------------------------------------------------------------------\u001b[0m",
      "\u001b[0;31mTypeError\u001b[0m                                 Traceback (most recent call last)",
      "\u001b[0;32m/tmp/ipykernel_822/316899815.py\u001b[0m in \u001b[0;36m<module>\u001b[0;34m\u001b[0m\n\u001b[0;32m----> 1\u001b[0;31m custom_train_generator = train_datagen.flow_from_directory(\n\u001b[0m\u001b[1;32m      2\u001b[0m     \u001b[0mtrain_df\u001b[0m\u001b[0;34m,\u001b[0m\u001b[0;34m\u001b[0m\u001b[0;34m\u001b[0m\u001b[0m\n\u001b[1;32m      3\u001b[0m     \u001b[0mtarget_size\u001b[0m\u001b[0;34m=\u001b[0m\u001b[0;34m(\u001b[0m\u001b[0;36m224\u001b[0m\u001b[0;34m,\u001b[0m \u001b[0;36m224\u001b[0m\u001b[0;34m)\u001b[0m\u001b[0;34m,\u001b[0m\u001b[0;34m\u001b[0m\u001b[0;34m\u001b[0m\u001b[0m\n\u001b[1;32m      4\u001b[0m     \u001b[0mbatch_size\u001b[0m\u001b[0;34m=\u001b[0m\u001b[0mbatch_size\u001b[0m\u001b[0;34m,\u001b[0m\u001b[0;34m\u001b[0m\u001b[0;34m\u001b[0m\u001b[0m\n\u001b[1;32m      5\u001b[0m     \u001b[0mclass_mode\u001b[0m\u001b[0;34m=\u001b[0m\u001b[0;34m'categorical'\u001b[0m\u001b[0;34m,\u001b[0m  \u001b[0;31m# 원-핫 인코딩\u001b[0m\u001b[0;34m\u001b[0m\u001b[0;34m\u001b[0m\u001b[0m\n",
      "\u001b[0;32m/opt/conda/lib/python3.9/site-packages/keras/preprocessing/image.py\u001b[0m in \u001b[0;36mflow_from_directory\u001b[0;34m(self, directory, target_size, color_mode, classes, class_mode, batch_size, shuffle, seed, save_to_dir, save_prefix, save_format, follow_links, subset, interpolation)\u001b[0m\n\u001b[1;32m    974\u001b[0m             \u001b[0;32mand\u001b[0m\u001b[0;31m \u001b[0m\u001b[0;31m`\u001b[0m\u001b[0my\u001b[0m\u001b[0;31m`\u001b[0m \u001b[0;32mis\u001b[0m \u001b[0ma\u001b[0m \u001b[0mnumpy\u001b[0m \u001b[0marray\u001b[0m \u001b[0mof\u001b[0m \u001b[0mcorresponding\u001b[0m \u001b[0mlabels\u001b[0m\u001b[0;34m.\u001b[0m\u001b[0;34m\u001b[0m\u001b[0;34m\u001b[0m\u001b[0m\n\u001b[1;32m    975\u001b[0m     \"\"\"\n\u001b[0;32m--> 976\u001b[0;31m     return DirectoryIterator(\n\u001b[0m\u001b[1;32m    977\u001b[0m         \u001b[0mdirectory\u001b[0m\u001b[0;34m,\u001b[0m\u001b[0;34m\u001b[0m\u001b[0;34m\u001b[0m\u001b[0m\n\u001b[1;32m    978\u001b[0m         \u001b[0mself\u001b[0m\u001b[0;34m,\u001b[0m\u001b[0;34m\u001b[0m\u001b[0;34m\u001b[0m\u001b[0m\n",
      "\u001b[0;32m/opt/conda/lib/python3.9/site-packages/keras/preprocessing/image.py\u001b[0m in \u001b[0;36m__init__\u001b[0;34m(self, directory, image_data_generator, target_size, color_mode, classes, class_mode, batch_size, shuffle, seed, data_format, save_to_dir, save_prefix, save_format, follow_links, subset, interpolation, dtype)\u001b[0m\n\u001b[1;32m    392\u001b[0m         \u001b[0mdtype\u001b[0m \u001b[0;34m=\u001b[0m \u001b[0mbackend\u001b[0m\u001b[0;34m.\u001b[0m\u001b[0mfloatx\u001b[0m\u001b[0;34m(\u001b[0m\u001b[0;34m)\u001b[0m\u001b[0;34m\u001b[0m\u001b[0;34m\u001b[0m\u001b[0m\n\u001b[1;32m    393\u001b[0m       \u001b[0mkwargs\u001b[0m\u001b[0;34m[\u001b[0m\u001b[0;34m'dtype'\u001b[0m\u001b[0;34m]\u001b[0m \u001b[0;34m=\u001b[0m \u001b[0mdtype\u001b[0m\u001b[0;34m\u001b[0m\u001b[0;34m\u001b[0m\u001b[0m\n\u001b[0;32m--> 394\u001b[0;31m     super(DirectoryIterator, self).__init__(\n\u001b[0m\u001b[1;32m    395\u001b[0m         \u001b[0mdirectory\u001b[0m\u001b[0;34m,\u001b[0m \u001b[0mimage_data_generator\u001b[0m\u001b[0;34m,\u001b[0m\u001b[0;34m\u001b[0m\u001b[0;34m\u001b[0m\u001b[0m\n\u001b[1;32m    396\u001b[0m         \u001b[0mtarget_size\u001b[0m\u001b[0;34m=\u001b[0m\u001b[0mtarget_size\u001b[0m\u001b[0;34m,\u001b[0m\u001b[0;34m\u001b[0m\u001b[0;34m\u001b[0m\u001b[0m\n",
      "\u001b[0;32m/opt/conda/lib/python3.9/site-packages/keras_preprocessing/image/directory_iterator.py\u001b[0m in \u001b[0;36m__init__\u001b[0;34m(self, directory, image_data_generator, target_size, color_mode, classes, class_mode, batch_size, shuffle, seed, data_format, save_to_dir, save_prefix, save_format, follow_links, subset, interpolation, dtype)\u001b[0m\n\u001b[1;32m    113\u001b[0m         \u001b[0;32mif\u001b[0m \u001b[0;32mnot\u001b[0m \u001b[0mclasses\u001b[0m\u001b[0;34m:\u001b[0m\u001b[0;34m\u001b[0m\u001b[0;34m\u001b[0m\u001b[0m\n\u001b[1;32m    114\u001b[0m             \u001b[0mclasses\u001b[0m \u001b[0;34m=\u001b[0m \u001b[0;34m[\u001b[0m\u001b[0;34m]\u001b[0m\u001b[0;34m\u001b[0m\u001b[0;34m\u001b[0m\u001b[0m\n\u001b[0;32m--> 115\u001b[0;31m             \u001b[0;32mfor\u001b[0m \u001b[0msubdir\u001b[0m \u001b[0;32min\u001b[0m \u001b[0msorted\u001b[0m\u001b[0;34m(\u001b[0m\u001b[0mos\u001b[0m\u001b[0;34m.\u001b[0m\u001b[0mlistdir\u001b[0m\u001b[0;34m(\u001b[0m\u001b[0mdirectory\u001b[0m\u001b[0;34m)\u001b[0m\u001b[0;34m)\u001b[0m\u001b[0;34m:\u001b[0m\u001b[0;34m\u001b[0m\u001b[0;34m\u001b[0m\u001b[0m\n\u001b[0m\u001b[1;32m    116\u001b[0m                 \u001b[0;32mif\u001b[0m \u001b[0mos\u001b[0m\u001b[0;34m.\u001b[0m\u001b[0mpath\u001b[0m\u001b[0;34m.\u001b[0m\u001b[0misdir\u001b[0m\u001b[0;34m(\u001b[0m\u001b[0mos\u001b[0m\u001b[0;34m.\u001b[0m\u001b[0mpath\u001b[0m\u001b[0;34m.\u001b[0m\u001b[0mjoin\u001b[0m\u001b[0;34m(\u001b[0m\u001b[0mdirectory\u001b[0m\u001b[0;34m,\u001b[0m \u001b[0msubdir\u001b[0m\u001b[0;34m)\u001b[0m\u001b[0;34m)\u001b[0m\u001b[0;34m:\u001b[0m\u001b[0;34m\u001b[0m\u001b[0;34m\u001b[0m\u001b[0m\n\u001b[1;32m    117\u001b[0m                     \u001b[0mclasses\u001b[0m\u001b[0;34m.\u001b[0m\u001b[0mappend\u001b[0m\u001b[0;34m(\u001b[0m\u001b[0msubdir\u001b[0m\u001b[0;34m)\u001b[0m\u001b[0;34m\u001b[0m\u001b[0;34m\u001b[0m\u001b[0m\n",
      "\u001b[0;31mTypeError\u001b[0m: listdir: path should be string, bytes, os.PathLike, integer or None, not DataFrame"
     ]
    }
   ],
   "source": [
    "custom_train_generator = train_datagen.flow_from_directory(\n",
    "    train_df,\n",
    "    target_size=(224, 224),\n",
    "    batch_size=batch_size,\n",
    "    class_mode='categorical',  # 원-핫 인코딩\n",
    "    shuffle=True\n",
    ")\n",
    "\n",
    "custom_val_generator = val_datagen.flow_from_directory(\n",
    "    val_data_dir,\n",
    "    target_size=(224, 224),\n",
    "    batch_size=batch_size,\n",
    "    class_mode='categorical',  # 원-핫 인코딩\n",
    "    shuffle=False\n",
    ")"
   ]
  },
  {
   "cell_type": "code",
   "execution_count": 29,
   "id": "1e04716c",
   "metadata": {},
   "outputs": [
    {
     "name": "stdout",
     "output_type": "stream",
     "text": [
      "Labels shape: (32, 6)\n",
      "Sample Labels: [[0. 0. 0. 0. 1. 0.]\n",
      " [0. 0. 1. 0. 0. 0.]\n",
      " [0. 1. 0. 0. 0. 0.]\n",
      " [0. 0. 0. 0. 0. 1.]\n",
      " [0. 0. 0. 0. 1. 0.]]\n"
     ]
    }
   ],
   "source": [
    "# 첫 번째 배치의 라벨 출력\n",
    "images, labels = next(custom_train_generator)\n",
    "print(\"Labels shape:\", labels.shape)\n",
    "print(\"Sample Labels:\", labels[:5])"
   ]
  },
  {
   "cell_type": "code",
   "execution_count": 23,
   "id": "b9899b55",
   "metadata": {},
   "outputs": [
    {
     "name": "stdout",
     "output_type": "stream",
     "text": [
      "Found 18 validated image filenames belonging to 6 classes.\n"
     ]
    }
   ],
   "source": [
    "classes = list(custom_train_generator.class_indices.keys())\n",
    "\n",
    "# 검증 데이터 생성기 재생성\n",
    "custom_val_generator = val_test_datagen.flow_from_dataframe(\n",
    "    custom_val_df,\n",
    "    x_col='filename',\n",
    "    y_col='class',\n",
    "    target_size=(img_height, img_width),\n",
    "    batch_size=batch_size,\n",
    "    class_mode='categorical',\n",
    "    classes=classes,  # 학습 데이터 클래스와 동일한 순서 강제 적용\n",
    "    shuffle=False\n",
    ")"
   ]
  },
  {
   "cell_type": "code",
   "execution_count": 24,
   "id": "c00b416f",
   "metadata": {},
   "outputs": [
    {
     "name": "stdout",
     "output_type": "stream",
     "text": [
      "Model output size: (None, 6)\n"
     ]
    }
   ],
   "source": [
    "# 학습 데이터 클래스 수\n",
    "num_classes = len(custom_train_generator.class_indices)\n",
    "\n",
    "# 모델 출력 레이어 수정\n",
    "resnet18.layers[-1] = tf.keras.layers.Dense(num_classes, activation='softmax')\n",
    "\n",
    "# 모델 재컴파일\n",
    "resnet18.compile(optimizer='adam', loss='categorical_crossentropy', metrics=['accuracy'])\n",
    "\n",
    "print(f\"Model output size: {resnet18.output_shape}\")"
   ]
  },
  {
   "cell_type": "code",
   "execution_count": 25,
   "id": "cf8777d5",
   "metadata": {},
   "outputs": [
    {
     "name": "stdout",
     "output_type": "stream",
     "text": [
      "Validation Batch Shape: (18, 224, 224, 3) (18, 6)\n",
      "Sample Labels (One-hot): [[0. 0. 1. 0. 0. 0.]\n",
      " [0. 0. 1. 0. 0. 0.]\n",
      " [0. 1. 0. 0. 0. 0.]\n",
      " [0. 1. 0. 0. 0. 0.]\n",
      " [0. 1. 0. 0. 0. 0.]]\n"
     ]
    }
   ],
   "source": [
    "# 검증 데이터 제너레이터에서 첫 배치 데이터 확인\n",
    "val_images, val_labels = next(custom_val_generator)\n",
    "\n",
    "print(\"Validation Batch Shape:\", val_images.shape, val_labels.shape)\n",
    "print(\"Sample Labels (One-hot):\", val_labels[:5])"
   ]
  },
  {
   "cell_type": "code",
   "execution_count": 26,
   "id": "03b0647b",
   "metadata": {},
   "outputs": [
    {
     "name": "stdout",
     "output_type": "stream",
     "text": [
      "Classes in Validation DataFrame: ['blue_jellyfish' 'barrel_jellyfish' 'compass_jellyfish'\n",
      " 'lions_mane_jellyfish' 'mauve_stinger_jellyfish' 'Moon_jellyfish']\n",
      "Classes in Training DataFrame: ['blue_jellyfish' 'barrel_jellyfish' 'compass_jellyfish'\n",
      " 'lions_mane_jellyfish' 'mauve_stinger_jellyfish' 'Moon_jellyfish']\n"
     ]
    }
   ],
   "source": [
    "print(\"Classes in Validation DataFrame:\", custom_val_df['class'].unique())\n",
    "print(\"Classes in Training DataFrame:\", custom_train_df['class'].unique())"
   ]
  },
  {
   "cell_type": "markdown",
   "id": "7bec8228",
   "metadata": {},
   "source": [
    "---"
   ]
  },
  {
   "cell_type": "code",
   "execution_count": 27,
   "id": "4d5dc77a",
   "metadata": {},
   "outputs": [
    {
     "name": "stdout",
     "output_type": "stream",
     "text": [
      "Epoch 1/40\n",
      "47/47 [==============================] - ETA: 0s - loss: 0.3558 - accuracy: 0.8860"
     ]
    },
    {
     "ename": "InvalidArgumentError",
     "evalue": " logits and labels must be broadcastable: logits_size=[10,6] labels_size=[10,2]\n\t [[node categorical_crossentropy/softmax_cross_entropy_with_logits (defined at tmp/ipykernel_822/3364730345.py:2) ]] [Op:__inference_test_function_17368]\n\nFunction call stack:\ntest_function\n",
     "output_type": "error",
     "traceback": [
      "\u001b[0;31m---------------------------------------------------------------------------\u001b[0m",
      "\u001b[0;31mInvalidArgumentError\u001b[0m                      Traceback (most recent call last)",
      "\u001b[0;32m/tmp/ipykernel_822/3364730345.py\u001b[0m in \u001b[0;36m<module>\u001b[0;34m\u001b[0m\n\u001b[1;32m      1\u001b[0m \u001b[0;31m# 모델 학습\u001b[0m\u001b[0;34m\u001b[0m\u001b[0;34m\u001b[0m\u001b[0m\n\u001b[0;32m----> 2\u001b[0;31m history = resnet18.fit(\n\u001b[0m\u001b[1;32m      3\u001b[0m     \u001b[0mcustom_train_generator\u001b[0m\u001b[0;34m,\u001b[0m\u001b[0;34m\u001b[0m\u001b[0;34m\u001b[0m\u001b[0m\n\u001b[1;32m      4\u001b[0m     \u001b[0mvalidation_data\u001b[0m\u001b[0;34m=\u001b[0m\u001b[0mcustom_val_generator\u001b[0m\u001b[0;34m,\u001b[0m\u001b[0;34m\u001b[0m\u001b[0;34m\u001b[0m\u001b[0m\n\u001b[1;32m      5\u001b[0m     \u001b[0mepochs\u001b[0m\u001b[0;34m=\u001b[0m\u001b[0mepochs\u001b[0m\u001b[0;34m\u001b[0m\u001b[0;34m\u001b[0m\u001b[0m\n",
      "\u001b[0;32m/opt/conda/lib/python3.9/site-packages/keras/engine/training.py\u001b[0m in \u001b[0;36mfit\u001b[0;34m(self, x, y, batch_size, epochs, verbose, callbacks, validation_split, validation_data, shuffle, class_weight, sample_weight, initial_epoch, steps_per_epoch, validation_steps, validation_batch_size, validation_freq, max_queue_size, workers, use_multiprocessing)\u001b[0m\n\u001b[1;32m   1213\u001b[0m                 \u001b[0mmodel\u001b[0m\u001b[0;34m=\u001b[0m\u001b[0mself\u001b[0m\u001b[0;34m,\u001b[0m\u001b[0;34m\u001b[0m\u001b[0;34m\u001b[0m\u001b[0m\n\u001b[1;32m   1214\u001b[0m                 steps_per_execution=self._steps_per_execution)\n\u001b[0;32m-> 1215\u001b[0;31m           val_logs = self.evaluate(\n\u001b[0m\u001b[1;32m   1216\u001b[0m               \u001b[0mx\u001b[0m\u001b[0;34m=\u001b[0m\u001b[0mval_x\u001b[0m\u001b[0;34m,\u001b[0m\u001b[0;34m\u001b[0m\u001b[0;34m\u001b[0m\u001b[0m\n\u001b[1;32m   1217\u001b[0m               \u001b[0my\u001b[0m\u001b[0;34m=\u001b[0m\u001b[0mval_y\u001b[0m\u001b[0;34m,\u001b[0m\u001b[0;34m\u001b[0m\u001b[0;34m\u001b[0m\u001b[0m\n",
      "\u001b[0;32m/opt/conda/lib/python3.9/site-packages/keras/engine/training.py\u001b[0m in \u001b[0;36mevaluate\u001b[0;34m(self, x, y, batch_size, verbose, sample_weight, steps, callbacks, max_queue_size, workers, use_multiprocessing, return_dict, **kwargs)\u001b[0m\n\u001b[1;32m   1499\u001b[0m             \u001b[0;32mwith\u001b[0m \u001b[0mtf\u001b[0m\u001b[0;34m.\u001b[0m\u001b[0mprofiler\u001b[0m\u001b[0;34m.\u001b[0m\u001b[0mexperimental\u001b[0m\u001b[0;34m.\u001b[0m\u001b[0mTrace\u001b[0m\u001b[0;34m(\u001b[0m\u001b[0;34m'test'\u001b[0m\u001b[0;34m,\u001b[0m \u001b[0mstep_num\u001b[0m\u001b[0;34m=\u001b[0m\u001b[0mstep\u001b[0m\u001b[0;34m,\u001b[0m \u001b[0m_r\u001b[0m\u001b[0;34m=\u001b[0m\u001b[0;36m1\u001b[0m\u001b[0;34m)\u001b[0m\u001b[0;34m:\u001b[0m\u001b[0;34m\u001b[0m\u001b[0;34m\u001b[0m\u001b[0m\n\u001b[1;32m   1500\u001b[0m               \u001b[0mcallbacks\u001b[0m\u001b[0;34m.\u001b[0m\u001b[0mon_test_batch_begin\u001b[0m\u001b[0;34m(\u001b[0m\u001b[0mstep\u001b[0m\u001b[0;34m)\u001b[0m\u001b[0;34m\u001b[0m\u001b[0;34m\u001b[0m\u001b[0m\n\u001b[0;32m-> 1501\u001b[0;31m               \u001b[0mtmp_logs\u001b[0m \u001b[0;34m=\u001b[0m \u001b[0mself\u001b[0m\u001b[0;34m.\u001b[0m\u001b[0mtest_function\u001b[0m\u001b[0;34m(\u001b[0m\u001b[0miterator\u001b[0m\u001b[0;34m)\u001b[0m\u001b[0;34m\u001b[0m\u001b[0;34m\u001b[0m\u001b[0m\n\u001b[0m\u001b[1;32m   1502\u001b[0m               \u001b[0;32mif\u001b[0m \u001b[0mdata_handler\u001b[0m\u001b[0;34m.\u001b[0m\u001b[0mshould_sync\u001b[0m\u001b[0;34m:\u001b[0m\u001b[0;34m\u001b[0m\u001b[0;34m\u001b[0m\u001b[0m\n\u001b[1;32m   1503\u001b[0m                 \u001b[0mcontext\u001b[0m\u001b[0;34m.\u001b[0m\u001b[0masync_wait\u001b[0m\u001b[0;34m(\u001b[0m\u001b[0;34m)\u001b[0m\u001b[0;34m\u001b[0m\u001b[0;34m\u001b[0m\u001b[0m\n",
      "\u001b[0;32m/opt/conda/lib/python3.9/site-packages/tensorflow/python/eager/def_function.py\u001b[0m in \u001b[0;36m__call__\u001b[0;34m(self, *args, **kwds)\u001b[0m\n\u001b[1;32m    883\u001b[0m \u001b[0;34m\u001b[0m\u001b[0m\n\u001b[1;32m    884\u001b[0m       \u001b[0;32mwith\u001b[0m \u001b[0mOptionalXlaContext\u001b[0m\u001b[0;34m(\u001b[0m\u001b[0mself\u001b[0m\u001b[0;34m.\u001b[0m\u001b[0m_jit_compile\u001b[0m\u001b[0;34m)\u001b[0m\u001b[0;34m:\u001b[0m\u001b[0;34m\u001b[0m\u001b[0;34m\u001b[0m\u001b[0m\n\u001b[0;32m--> 885\u001b[0;31m         \u001b[0mresult\u001b[0m \u001b[0;34m=\u001b[0m \u001b[0mself\u001b[0m\u001b[0;34m.\u001b[0m\u001b[0m_call\u001b[0m\u001b[0;34m(\u001b[0m\u001b[0;34m*\u001b[0m\u001b[0margs\u001b[0m\u001b[0;34m,\u001b[0m \u001b[0;34m**\u001b[0m\u001b[0mkwds\u001b[0m\u001b[0;34m)\u001b[0m\u001b[0;34m\u001b[0m\u001b[0;34m\u001b[0m\u001b[0m\n\u001b[0m\u001b[1;32m    886\u001b[0m \u001b[0;34m\u001b[0m\u001b[0m\n\u001b[1;32m    887\u001b[0m       \u001b[0mnew_tracing_count\u001b[0m \u001b[0;34m=\u001b[0m \u001b[0mself\u001b[0m\u001b[0;34m.\u001b[0m\u001b[0mexperimental_get_tracing_count\u001b[0m\u001b[0;34m(\u001b[0m\u001b[0;34m)\u001b[0m\u001b[0;34m\u001b[0m\u001b[0;34m\u001b[0m\u001b[0m\n",
      "\u001b[0;32m/opt/conda/lib/python3.9/site-packages/tensorflow/python/eager/def_function.py\u001b[0m in \u001b[0;36m_call\u001b[0;34m(self, *args, **kwds)\u001b[0m\n\u001b[1;32m    954\u001b[0m               *args, **kwds)\n\u001b[1;32m    955\u001b[0m       \u001b[0;31m# If we did not create any variables the trace we have is good enough.\u001b[0m\u001b[0;34m\u001b[0m\u001b[0;34m\u001b[0m\u001b[0m\n\u001b[0;32m--> 956\u001b[0;31m       return self._concrete_stateful_fn._call_flat(\n\u001b[0m\u001b[1;32m    957\u001b[0m           filtered_flat_args, self._concrete_stateful_fn.captured_inputs)  # pylint: disable=protected-access\n\u001b[1;32m    958\u001b[0m \u001b[0;34m\u001b[0m\u001b[0m\n",
      "\u001b[0;32m/opt/conda/lib/python3.9/site-packages/tensorflow/python/eager/function.py\u001b[0m in \u001b[0;36m_call_flat\u001b[0;34m(self, args, captured_inputs, cancellation_manager)\u001b[0m\n\u001b[1;32m   1961\u001b[0m         and executing_eagerly):\n\u001b[1;32m   1962\u001b[0m       \u001b[0;31m# No tape is watching; skip to running the function.\u001b[0m\u001b[0;34m\u001b[0m\u001b[0;34m\u001b[0m\u001b[0m\n\u001b[0;32m-> 1963\u001b[0;31m       return self._build_call_outputs(self._inference_function.call(\n\u001b[0m\u001b[1;32m   1964\u001b[0m           ctx, args, cancellation_manager=cancellation_manager))\n\u001b[1;32m   1965\u001b[0m     forward_backward = self._select_forward_and_backward_functions(\n",
      "\u001b[0;32m/opt/conda/lib/python3.9/site-packages/tensorflow/python/eager/function.py\u001b[0m in \u001b[0;36mcall\u001b[0;34m(self, ctx, args, cancellation_manager)\u001b[0m\n\u001b[1;32m    589\u001b[0m       \u001b[0;32mwith\u001b[0m \u001b[0m_InterpolateFunctionError\u001b[0m\u001b[0;34m(\u001b[0m\u001b[0mself\u001b[0m\u001b[0;34m)\u001b[0m\u001b[0;34m:\u001b[0m\u001b[0;34m\u001b[0m\u001b[0;34m\u001b[0m\u001b[0m\n\u001b[1;32m    590\u001b[0m         \u001b[0;32mif\u001b[0m \u001b[0mcancellation_manager\u001b[0m \u001b[0;32mis\u001b[0m \u001b[0;32mNone\u001b[0m\u001b[0;34m:\u001b[0m\u001b[0;34m\u001b[0m\u001b[0;34m\u001b[0m\u001b[0m\n\u001b[0;32m--> 591\u001b[0;31m           outputs = execute.execute(\n\u001b[0m\u001b[1;32m    592\u001b[0m               \u001b[0mstr\u001b[0m\u001b[0;34m(\u001b[0m\u001b[0mself\u001b[0m\u001b[0;34m.\u001b[0m\u001b[0msignature\u001b[0m\u001b[0;34m.\u001b[0m\u001b[0mname\u001b[0m\u001b[0;34m)\u001b[0m\u001b[0;34m,\u001b[0m\u001b[0;34m\u001b[0m\u001b[0;34m\u001b[0m\u001b[0m\n\u001b[1;32m    593\u001b[0m               \u001b[0mnum_outputs\u001b[0m\u001b[0;34m=\u001b[0m\u001b[0mself\u001b[0m\u001b[0;34m.\u001b[0m\u001b[0m_num_outputs\u001b[0m\u001b[0;34m,\u001b[0m\u001b[0;34m\u001b[0m\u001b[0;34m\u001b[0m\u001b[0m\n",
      "\u001b[0;32m/opt/conda/lib/python3.9/site-packages/tensorflow/python/eager/execute.py\u001b[0m in \u001b[0;36mquick_execute\u001b[0;34m(op_name, num_outputs, inputs, attrs, ctx, name)\u001b[0m\n\u001b[1;32m     57\u001b[0m   \u001b[0;32mtry\u001b[0m\u001b[0;34m:\u001b[0m\u001b[0;34m\u001b[0m\u001b[0;34m\u001b[0m\u001b[0m\n\u001b[1;32m     58\u001b[0m     \u001b[0mctx\u001b[0m\u001b[0;34m.\u001b[0m\u001b[0mensure_initialized\u001b[0m\u001b[0;34m(\u001b[0m\u001b[0;34m)\u001b[0m\u001b[0;34m\u001b[0m\u001b[0;34m\u001b[0m\u001b[0m\n\u001b[0;32m---> 59\u001b[0;31m     tensors = pywrap_tfe.TFE_Py_Execute(ctx._handle, device_name, op_name,\n\u001b[0m\u001b[1;32m     60\u001b[0m                                         inputs, attrs, num_outputs)\n\u001b[1;32m     61\u001b[0m   \u001b[0;32mexcept\u001b[0m \u001b[0mcore\u001b[0m\u001b[0;34m.\u001b[0m\u001b[0m_NotOkStatusException\u001b[0m \u001b[0;32mas\u001b[0m \u001b[0me\u001b[0m\u001b[0;34m:\u001b[0m\u001b[0;34m\u001b[0m\u001b[0;34m\u001b[0m\u001b[0m\n",
      "\u001b[0;31mInvalidArgumentError\u001b[0m:  logits and labels must be broadcastable: logits_size=[10,6] labels_size=[10,2]\n\t [[node categorical_crossentropy/softmax_cross_entropy_with_logits (defined at tmp/ipykernel_822/3364730345.py:2) ]] [Op:__inference_test_function_17368]\n\nFunction call stack:\ntest_function\n"
     ]
    }
   ],
   "source": [
    "# 모델 학습\n",
    "history = resnet18.fit(\n",
    "    custom_train_generator,\n",
    "    validation_data=custom_val_generator,\n",
    "    epochs=epochs\n",
    ")\n",
    "\n",
    "# 테스트 데이터 평가\n",
    "test_loss, test_acc = resnet18.evaluate(test_generator)\n",
    "print(f\"Test Loss: {test_loss:.4f}, Test Accuracy: {test_acc:.4f}\")"
   ]
  },
  {
   "cell_type": "code",
   "execution_count": null,
   "id": "582157ee",
   "metadata": {},
   "outputs": [],
   "source": [
    "# 훈련 이력 시각화\n",
    "def plot_training_history(history):\n",
    "    epochs_range = range(1, len(history.history['loss']) + 1)\n",
    "\n",
    "    plt.figure(figsize=(14, 5))\n",
    "\n",
    "    # Loss 그래프\n",
    "    plt.subplot(1, 2, 1)\n",
    "    plt.plot(epochs_range, history.history['loss'], 'bo-', label='Training loss')\n",
    "    plt.plot(epochs_range, history.history['val_loss'], 'ro-', label='Validation loss')\n",
    "    plt.title('Training and Validation Loss')\n",
    "    plt.xlabel('Epochs')\n",
    "    plt.ylabel('Loss')\n",
    "    plt.legend()\n",
    "\n",
    "    # Accuracy 그래프\n",
    "    plt.subplot(1, 2, 2)\n",
    "    plt.plot(epochs_range, history.history['accuracy'], 'bo-', label='Training accuracy')\n",
    "    plt.plot(epochs_range, history.history['val_accuracy'], 'ro-', label='Validation accuracy')\n",
    "    plt.title('Training and Validation Accuracy')\n",
    "    plt.xlabel('Epochs')\n",
    "    plt.ylabel('Accuracy')\n",
    "    plt.legend()\n",
    "\n",
    "    plt.show()\n",
    "\n",
    "plot_training_history(history)"
   ]
  },
  {
   "cell_type": "code",
   "execution_count": null,
   "id": "7f604498",
   "metadata": {},
   "outputs": [],
   "source": [
    "# 검증 데이터와 모델 추론 결과 비교\n",
    "def evaluate_validation_results(model, val_generator, categories):\n",
    "    val_generator.reset()\n",
    "    predictions = model.predict(val_generator)\n",
    "    predicted_classes = np.argmax(predictions, axis=1)\n",
    "    true_classes = val_generator.classes\n",
    "    class_labels = list(val_generator.class_indices.keys())\n",
    "\n",
    "    # 결과 데이터프레임 생성\n",
    "    results_df = pd.DataFrame({\n",
    "        \"Filename\": val_generator.filenames,\n",
    "        \"True Label\": [class_labels[i] for i in true_classes],\n",
    "        \"Predicted Label\": [class_labels[i] for i in predicted_classes],\n",
    "        \"Confidence\": np.max(predictions, axis=1)  # 가장 높은 확률값\n",
    "    })\n",
    "\n",
    "    return results_df\n",
    "\n",
    "# 검증 결과 저장\n",
    "validation_results_df = evaluate_validation_results(resnet18, custom_val_generator, categories)"
   ]
  },
  {
   "cell_type": "code",
   "execution_count": null,
   "id": "4b423e38",
   "metadata": {},
   "outputs": [],
   "source": [
    "# 결과 출력\n",
    "print(validation_results_df)"
   ]
  },
  {
   "cell_type": "code",
   "execution_count": null,
   "id": "0b667429",
   "metadata": {},
   "outputs": [],
   "source": [
    "# 잘못된 예측 시각화\n",
    "def plot_misclassified_samples(results_df, num_samples=5):\n",
    "    misclassified_df = results_df[results_df[\"True Label\"] != results_df[\"Predicted Label\"]]\n",
    "    misclassified_samples = misclassified_df.head(num_samples)\n",
    "\n",
    "    for _, row in misclassified_samples.iterrows():\n",
    "        img_path = row[\"Filename\"]\n",
    "        true_label = row[\"True Label\"]\n",
    "        predicted_label = row[\"Predicted Label\"]\n",
    "        confidence = row[\"Confidence\"]\n",
    "\n",
    "        # 이미지 로드\n",
    "        img = plt.imread(img_path)\n",
    "        plt.imshow(img)\n",
    "        plt.title(f\"True: {true_label}, Predicted: {predicted_label}, Confidence: {confidence:.2f}\")\n",
    "        plt.axis(\"off\")\n",
    "        plt.show()\n",
    "\n",
    "# 잘못된 예측 시각화 실행\n",
    "plot_misclassified_samples(validation_results_df, num_samples=5)"
   ]
  }
 ],
 "metadata": {
  "kernelspec": {
   "display_name": "Python 3 (ipykernel)",
   "language": "python",
   "name": "python3"
  },
  "language_info": {
   "codemirror_mode": {
    "name": "ipython",
    "version": 3
   },
   "file_extension": ".py",
   "mimetype": "text/x-python",
   "name": "python",
   "nbconvert_exporter": "python",
   "pygments_lexer": "ipython3",
   "version": "3.9.7"
  }
 },
 "nbformat": 4,
 "nbformat_minor": 5
}
