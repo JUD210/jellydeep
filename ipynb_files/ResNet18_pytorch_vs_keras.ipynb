{
 "cells": [
  {
   "cell_type": "code",
   "execution_count": 1,
   "id": "482c1239",
   "metadata": {},
   "outputs": [
    {
     "name": "stdout",
     "output_type": "stream",
     "text": [
      "Requirement already satisfied: torchviz in /opt/conda/lib/python3.9/site-packages (0.0.2)\n",
      "Requirement already satisfied: graphviz in /opt/conda/lib/python3.9/site-packages (from torchviz) (0.20.3)\n",
      "Requirement already satisfied: torch in /opt/conda/lib/python3.9/site-packages (from torchviz) (1.9.1+cu111)\n",
      "Requirement already satisfied: typing-extensions in /opt/conda/lib/python3.9/site-packages (from torch->torchviz) (4.0.1)\n",
      "\u001b[33mWARNING: Running pip as the 'root' user can result in broken permissions and conflicting behaviour with the system package manager. It is recommended to use a virtual environment instead: https://pip.pypa.io/warnings/venv\u001b[0m\n",
      "Requirement already satisfied: timm in /opt/conda/lib/python3.9/site-packages (1.0.11)\n",
      "Requirement already satisfied: huggingface_hub in /opt/conda/lib/python3.9/site-packages (from timm) (0.0.19)\n",
      "Requirement already satisfied: torchvision in /opt/conda/lib/python3.9/site-packages (from timm) (0.10.1+cu111)\n",
      "Requirement already satisfied: safetensors in /opt/conda/lib/python3.9/site-packages (from timm) (0.4.5)\n",
      "Requirement already satisfied: torch in /opt/conda/lib/python3.9/site-packages (from timm) (1.9.1+cu111)\n",
      "Requirement already satisfied: pyyaml in /opt/conda/lib/python3.9/site-packages (from timm) (6.0)\n",
      "Requirement already satisfied: tqdm in /opt/conda/lib/python3.9/site-packages (from huggingface_hub->timm) (4.62.3)\n",
      "Requirement already satisfied: packaging>=20.9 in /opt/conda/lib/python3.9/site-packages (from huggingface_hub->timm) (21.3)\n",
      "Requirement already satisfied: typing-extensions in /opt/conda/lib/python3.9/site-packages (from huggingface_hub->timm) (4.0.1)\n",
      "Requirement already satisfied: requests in /opt/conda/lib/python3.9/site-packages (from huggingface_hub->timm) (2.26.0)\n",
      "Requirement already satisfied: filelock in /opt/conda/lib/python3.9/site-packages (from huggingface_hub->timm) (3.4.0)\n",
      "Requirement already satisfied: numpy in /opt/conda/lib/python3.9/site-packages (from torchvision->timm) (1.21.4)\n",
      "Requirement already satisfied: pillow>=5.3.0 in /opt/conda/lib/python3.9/site-packages (from torchvision->timm) (8.3.2)\n",
      "Requirement already satisfied: pyparsing!=3.0.5,>=2.0.2 in /opt/conda/lib/python3.9/site-packages (from packaging>=20.9->huggingface_hub->timm) (3.0.6)\n",
      "Requirement already satisfied: urllib3<1.27,>=1.21.1 in /opt/conda/lib/python3.9/site-packages (from requests->huggingface_hub->timm) (1.26.7)\n",
      "Requirement already satisfied: idna<4,>=2.5 in /opt/conda/lib/python3.9/site-packages (from requests->huggingface_hub->timm) (2.10)\n",
      "Requirement already satisfied: charset-normalizer~=2.0.0 in /opt/conda/lib/python3.9/site-packages (from requests->huggingface_hub->timm) (2.0.8)\n",
      "Requirement already satisfied: certifi>=2017.4.17 in /opt/conda/lib/python3.9/site-packages (from requests->huggingface_hub->timm) (2021.10.8)\n",
      "\u001b[33mWARNING: Running pip as the 'root' user can result in broken permissions and conflicting behaviour with the system package manager. It is recommended to use a virtual environment instead: https://pip.pypa.io/warnings/venv\u001b[0m\n",
      "Requirement already satisfied: keras-resnet in /opt/conda/lib/python3.9/site-packages (0.2.0)\n",
      "Requirement already satisfied: keras>=2.2.4 in /opt/conda/lib/python3.9/site-packages (from keras-resnet) (2.6.0)\n",
      "\u001b[33mWARNING: Running pip as the 'root' user can result in broken permissions and conflicting behaviour with the system package manager. It is recommended to use a virtual environment instead: https://pip.pypa.io/warnings/venv\u001b[0m\n"
     ]
    }
   ],
   "source": [
    "!pip install torchviz\n",
    "!pip install timm\n",
    "!pip install keras-resnet"
   ]
  },
  {
   "cell_type": "code",
   "execution_count": null,
   "id": "8bfc9c75",
   "metadata": {},
   "outputs": [],
   "source": [
    "import timm\n",
    "from torchviz import make_dot\n",
    "import torch\n",
    "\n",
    "# 이미지 크기 및 클래스 개수 설정\n",
    "num_classes = 10  # 분류할 클래스 개수\n",
    "img_height, img_width = 224, 224  # 입력 이미지 크기\n",
    "\n",
    "# PyTorch 모델 생성\n",
    "resnet18_pytorch = timm.create_model('resnet18', pretrained=False, num_classes=num_classes)\n",
    "\n",
    "# 더미 입력 데이터 생성\n",
    "dummy_input = torch.randn(1, 3, img_height, img_width)  # 배치 크기 1, 채널 3, 높이 224, 너비 224\n",
    "\n",
    "# 모델 그래프 생성 및 시각화\n",
    "resnet18_graph = make_dot(resnet18_pytorch(dummy_input), params=dict(resnet18_pytorch.named_parameters()))\n",
    "resnet18_graph.format = 'png'\n",
    "resnet18_graph.render('resnet18_pytorch')"
   ]
  },
  {
   "cell_type": "code",
   "execution_count": null,
   "id": "50d76016",
   "metadata": {},
   "outputs": [],
   "source": [
    "from tensorflow.keras.utils import plot_model\n",
    "import keras_resnet.models\n",
    "import tensorflow as tf\n",
    "\n",
    "# 이미지 크기 및 클래스 개수 설정\n",
    "num_classes = 10  # 분류할 클래스 개수\n",
    "img_height, img_width = 224, 224  # 입력 이미지 크기\n",
    "\n",
    "# ResNet18 모델 생성\n",
    "inputs = tf.keras.Input(shape=(img_height, img_width, 3))\n",
    "resnet18_keras = keras_resnet.models.ResNet18(inputs, classes=num_classes)\n",
    "\n",
    "# 모델 구조 저장 및 출력\n",
    "plot_model(resnet18_keras, to_file='resnet18_keras.png', show_shapes=True, show_layer_names=True)\n"
   ]
  },
  {
   "cell_type": "code",
   "execution_count": null,
   "id": "d750ab47",
   "metadata": {},
   "outputs": [],
   "source": []
  }
 ],
 "metadata": {
  "kernelspec": {
   "display_name": "Python 3 (ipykernel)",
   "language": "python",
   "name": "python3"
  },
  "language_info": {
   "codemirror_mode": {
    "name": "ipython",
    "version": 3
   },
   "file_extension": ".py",
   "mimetype": "text/x-python",
   "name": "python",
   "nbconvert_exporter": "python",
   "pygments_lexer": "ipython3",
   "version": "3.9.7"
  }
 },
 "nbformat": 4,
 "nbformat_minor": 5
}
