{
 "cells": [
  {
   "cell_type": "code",
   "execution_count": 1,
   "id": "6c0fbd38",
   "metadata": {},
   "outputs": [
    {
     "name": "stdout",
     "output_type": "stream",
     "text": [
      "Requirement already satisfied: timm in /opt/conda/lib/python3.9/site-packages (1.0.11)\n",
      "Requirement already satisfied: torchvision in /opt/conda/lib/python3.9/site-packages (from timm) (0.10.1+cu111)\n",
      "Requirement already satisfied: pyyaml in /opt/conda/lib/python3.9/site-packages (from timm) (6.0)\n",
      "Requirement already satisfied: torch in /opt/conda/lib/python3.9/site-packages (from timm) (1.9.1+cu111)\n",
      "Requirement already satisfied: safetensors in /opt/conda/lib/python3.9/site-packages (from timm) (0.4.5)\n",
      "Requirement already satisfied: huggingface_hub in /opt/conda/lib/python3.9/site-packages (from timm) (0.0.19)\n",
      "Requirement already satisfied: tqdm in /opt/conda/lib/python3.9/site-packages (from huggingface_hub->timm) (4.62.3)\n",
      "Requirement already satisfied: filelock in /opt/conda/lib/python3.9/site-packages (from huggingface_hub->timm) (3.4.0)\n",
      "Requirement already satisfied: packaging>=20.9 in /opt/conda/lib/python3.9/site-packages (from huggingface_hub->timm) (21.3)\n",
      "Requirement already satisfied: typing-extensions in /opt/conda/lib/python3.9/site-packages (from huggingface_hub->timm) (4.0.1)\n",
      "Requirement already satisfied: requests in /opt/conda/lib/python3.9/site-packages (from huggingface_hub->timm) (2.26.0)\n",
      "Requirement already satisfied: numpy in /opt/conda/lib/python3.9/site-packages (from torchvision->timm) (1.21.4)\n",
      "Requirement already satisfied: pillow>=5.3.0 in /opt/conda/lib/python3.9/site-packages (from torchvision->timm) (8.3.2)\n",
      "Requirement already satisfied: pyparsing!=3.0.5,>=2.0.2 in /opt/conda/lib/python3.9/site-packages (from packaging>=20.9->huggingface_hub->timm) (3.0.6)\n",
      "Requirement already satisfied: idna<4,>=2.5 in /opt/conda/lib/python3.9/site-packages (from requests->huggingface_hub->timm) (2.10)\n",
      "Requirement already satisfied: urllib3<1.27,>=1.21.1 in /opt/conda/lib/python3.9/site-packages (from requests->huggingface_hub->timm) (1.26.7)\n",
      "Requirement already satisfied: certifi>=2017.4.17 in /opt/conda/lib/python3.9/site-packages (from requests->huggingface_hub->timm) (2021.10.8)\n",
      "Requirement already satisfied: charset-normalizer~=2.0.0 in /opt/conda/lib/python3.9/site-packages (from requests->huggingface_hub->timm) (2.0.8)\n",
      "\u001b[33mWARNING: Running pip as the 'root' user can result in broken permissions and conflicting behaviour with the system package manager. It is recommended to use a virtual environment instead: https://pip.pypa.io/warnings/venv\u001b[0m\n"
     ]
    }
   ],
   "source": [
    "!pip install timm"
   ]
  },
  {
   "cell_type": "code",
   "execution_count": 2,
   "id": "ed70e331",
   "metadata": {},
   "outputs": [],
   "source": [
    "import timm\n",
    "import torch\n",
    "import torch.nn as nn\n",
    "import pandas as pd\n",
    "import torch.optim as optim\n",
    "from torchvision import datasets, transforms\n",
    "from torch.utils.data import DataLoader, Dataset\n",
    "from PIL import Image\n",
    "import os\n",
    "import matplotlib.pyplot as plt\n",
    "from sklearn.model_selection import train_test_split\n"
   ]
  },
  {
   "cell_type": "code",
   "execution_count": 3,
   "id": "ba98453b",
   "metadata": {},
   "outputs": [
    {
     "name": "stdout",
     "output_type": "stream",
     "text": [
      "Using cuda device\n"
     ]
    }
   ],
   "source": [
    "# [코드 2] 장치 설정 (GPU 사용 가능 시 GPU를 사용하도록 설정)\n",
    "device = torch.device('cuda' if torch.cuda.is_available() else 'cpu')\n",
    "print(f\"Using {device} device\")"
   ]
  },
  {
   "cell_type": "code",
   "execution_count": 4,
   "id": "f9b3f616",
   "metadata": {},
   "outputs": [],
   "source": [
    "# 데이터 경로 설정\n",
    "dataset_path = \"../_preprocessed_datasets_del_aug_duplicate\"\n",
    "categories = [\"blue_jellyfish\", \"barrel_jellyfish\", \"compass_jellyfish\", \n",
    "              \"lions_mane_jellyfish\", \"mauve_stinger_jellyfish\", \"Moon_jellyfish\"]"
   ]
  },
  {
   "cell_type": "code",
   "execution_count": 5,
   "id": "2902c77a",
   "metadata": {},
   "outputs": [],
   "source": [
    "# 이미지 크기 및 하이퍼파라미터 설정\n",
    "img_height, img_width = 224, 224\n",
    "batch_size = 32"
   ]
  },
  {
   "cell_type": "code",
   "execution_count": 6,
   "id": "2f70bf44",
   "metadata": {},
   "outputs": [],
   "source": [
    "# 데이터셋 준비\n",
    "def prepare_data(dataset_path, categories):\n",
    "    filepaths, labels = [], []\n",
    "    for label, category in enumerate(categories):\n",
    "        category_path = os.path.join(dataset_path, category)\n",
    "        if os.path.exists(category_path):\n",
    "            for file in os.listdir(category_path):\n",
    "                if file.endswith(('jpg', 'jpeg', 'png')):\n",
    "                    filepaths.append(os.path.join(category_path, file))\n",
    "                    labels.append(label)\n",
    "    return filepaths, labels\n",
    "\n",
    "filepaths, labels = prepare_data(dataset_path, categories)"
   ]
  },
  {
   "cell_type": "code",
   "execution_count": 7,
   "id": "5ff75506",
   "metadata": {},
   "outputs": [],
   "source": [
    "# Train/Test 분리\n",
    "train_files, test_files, train_labels, test_labels = train_test_split(\n",
    "    filepaths, labels, test_size=0.2, stratify=labels, random_state=42\n",
    ")\n",
    "\n",
    "# Train/Validation 분리\n",
    "train_files, val_files, train_labels, val_labels = train_test_split(\n",
    "    train_files, train_labels, test_size=0.2, stratify=train_labels, random_state=42\n",
    ")"
   ]
  },
  {
   "cell_type": "code",
   "execution_count": 8,
   "id": "5d633810",
   "metadata": {},
   "outputs": [],
   "source": [
    "# 숫자 라벨 -> 문자열 클래스 이름으로 변환\n",
    "label_to_class = {idx: name for idx, name in enumerate(categories)}\n",
    "train_labels = [label_to_class[label] for label in train_labels]\n",
    "val_labels = [label_to_class[label] for label in val_labels]\n",
    "test_labels = [label_to_class[label] for label in test_labels]"
   ]
  },
  {
   "cell_type": "code",
   "execution_count": 9,
   "id": "5da977ea",
   "metadata": {},
   "outputs": [],
   "source": [
    "# DataFrame 생성\n",
    "train_df = pd.DataFrame({'filename': train_files, 'class': train_labels})\n",
    "val_df = pd.DataFrame({'filename': val_files, 'class': val_labels})\n",
    "test_df = pd.DataFrame({'filename': test_files, 'class': test_labels})\n"
   ]
  },
  {
   "cell_type": "code",
   "execution_count": 10,
   "id": "75ce721b",
   "metadata": {},
   "outputs": [],
   "source": [
    "# Custom Dataset class\n",
    "class JellyfishDataset(Dataset):\n",
    "    def __init__(self, dataframe, transform=None):\n",
    "        self.dataframe = dataframe\n",
    "        self.transform = transform\n",
    "\n",
    "    def __len__(self):\n",
    "        return len(self.dataframe)\n",
    "\n",
    "    def __getitem__(self, idx):\n",
    "        img_path = self.dataframe.iloc[idx]['filename']\n",
    "        image = Image.open(img_path).convert('RGB')\n",
    "        label = categories.index(self.dataframe.iloc[idx]['class'])\n",
    "        \n",
    "        if self.transform:\n",
    "            image = self.transform(image)\n",
    "        \n",
    "        return image, label\n",
    "\n",
    "# Define transformations\n",
    "transform = transforms.Compose([\n",
    "    transforms.Resize((img_height, img_width)),\n",
    "    transforms.ToTensor(),\n",
    "    transforms.Normalize([0.485, 0.456, 0.406], [0.229, 0.224, 0.225])\n",
    "])\n",
    "\n",
    "\n",
    "# Create Dataset objects\n",
    "train_dataset = JellyfishDataset(train_df, transform=transform)\n",
    "val_dataset = JellyfishDataset(val_df, transform=transform)\n",
    "test_dataset = JellyfishDataset(test_df, transform=transform)\n"
   ]
  },
  {
   "cell_type": "code",
   "execution_count": 11,
   "id": "99ddad73",
   "metadata": {},
   "outputs": [],
   "source": [
    "\n",
    "# Create DataLoader objects\n",
    "train_loader = DataLoader(train_dataset, batch_size=batch_size, shuffle=True)\n",
    "val_loader = DataLoader(val_dataset, batch_size=batch_size, shuffle=False)\n",
    "test_loader = DataLoader(test_dataset, batch_size=batch_size, shuffle=False)\n"
   ]
  },
  {
   "cell_type": "code",
   "execution_count": 13,
   "id": "5b2a4eef",
   "metadata": {},
   "outputs": [],
   "source": [
    "# Model creation using timm (resnet50)\n",
    "num_classes = len(categories)\n",
    "model = timm.create_model('resnet50', pretrained=False, num_classes=num_classes)\n",
    "model = model.to(device)\n"
   ]
  },
  {
   "cell_type": "code",
   "execution_count": 14,
   "id": "2d20d97d",
   "metadata": {},
   "outputs": [],
   "source": [
    "# 손실 함수와 최적화 함수 설정\n",
    "criterion = nn.CrossEntropyLoss()\n",
    "optimizer = optim.Adam(model.parameters(), lr=0.001)\n"
   ]
  },
  {
   "cell_type": "code",
   "execution_count": 15,
   "id": "81955e67",
   "metadata": {},
   "outputs": [],
   "source": [
    "# Model training function\n",
    "def train_model(model, train_loader, val_loader, loss_fn, optimizer, num_epochs=10, device='cpu'):\n",
    "    train_loss_history = []\n",
    "    train_acc_history = []\n",
    "    val_loss_history = []\n",
    "    val_acc_history = []\n",
    "\n",
    "    for epoch in range(num_epochs):\n",
    "        # Training phase\n",
    "        model.train()\n",
    "        running_loss = 0.0\n",
    "        correct = 0\n",
    "        total = 0\n",
    "\n",
    "        for images, labels in train_loader:\n",
    "            images, labels = images.to(device), labels.to(device)\n",
    "            optimizer.zero_grad()\n",
    "            outputs = model(images)\n",
    "            loss = loss_fn(outputs, labels)\n",
    "            loss.backward()\n",
    "            optimizer.step()\n",
    "            running_loss += loss.item() * images.size(0)\n",
    "            _, predicted = torch.max(outputs, 1)\n",
    "            correct += (predicted == labels).sum().item()\n",
    "            total += labels.size(0)\n",
    "\n",
    "        epoch_train_loss = running_loss / len(train_loader.dataset)\n",
    "        epoch_train_acc = correct / total\n",
    "\n",
    "        # Validation phase\n",
    "        model.eval()\n",
    "        val_running_loss = 0.0\n",
    "        val_correct = 0\n",
    "        val_total = 0\n",
    "\n",
    "        with torch.no_grad():\n",
    "            for val_images, val_labels in val_loader:\n",
    "                val_images, val_labels = val_images.to(device), val_labels.to(device)\n",
    "                val_outputs = model(val_images)\n",
    "                val_loss = loss_fn(val_outputs, val_labels)\n",
    "                val_running_loss += val_loss.item() * val_images.size(0)\n",
    "                _, val_predicted = torch.max(val_outputs, 1)\n",
    "                val_correct += (val_predicted == val_labels).sum().item()\n",
    "                val_total += val_labels.size(0)\n",
    "\n",
    "        epoch_val_loss = val_running_loss / len(val_loader.dataset)\n",
    "        epoch_val_acc = val_correct / val_total\n",
    "\n",
    "        train_loss_history.append(epoch_train_loss)\n",
    "        train_acc_history.append(epoch_train_acc)\n",
    "        val_loss_history.append(epoch_val_loss)\n",
    "        val_acc_history.append(epoch_val_acc)\n",
    "\n",
    "        print(f'Epoch {epoch + 1}/{num_epochs}, '\n",
    "              f'Train Loss: {epoch_train_loss:.4f}, Train Accuracy: {epoch_train_acc:.4f}, '\n",
    "              f'Validation Loss: {epoch_val_loss:.4f}, Validation Accuracy: {epoch_val_acc:.4f}')\n",
    "\n",
    "    return train_loss_history, train_acc_history, val_loss_history, val_acc_history\n"
   ]
  },
  {
   "cell_type": "code",
   "execution_count": 16,
   "id": "5381658c",
   "metadata": {},
   "outputs": [],
   "source": [
    "# 모델 평가 함수 정의 (테스트 데이터셋)\n",
    "def evaluate_model(model, dataloader, loss_fn, device='cpu'):\n",
    "    model.eval()\n",
    "    running_loss = 0.0\n",
    "    correct = 0\n",
    "    total = 0\n",
    "\n",
    "    with torch.no_grad():\n",
    "        for images, labels in dataloader:\n",
    "            images, labels = images.to(device), labels.to(device)\n",
    "            outputs = model(images)\n",
    "            loss = loss_fn(outputs, labels)\n",
    "            running_loss += loss.item() * images.size(0)\n",
    "            _, predicted = torch.max(outputs, 1)\n",
    "            correct += (predicted == labels).sum().item()\n",
    "            total += labels.size(0)\n",
    "\n",
    "    epoch_loss = running_loss / len(dataloader.dataset)\n",
    "    epoch_acc = correct / total\n",
    "    return epoch_loss, epoch_acc"
   ]
  },
  {
   "cell_type": "code",
   "execution_count": 17,
   "id": "10dd2ae8",
   "metadata": {},
   "outputs": [
    {
     "name": "stdout",
     "output_type": "stream",
     "text": [
      "Epoch 1/40, Train Loss: 1.5560, Train Accuracy: 0.3979, Validation Loss: 1.4300, Validation Accuracy: 0.4667\n",
      "Epoch 2/40, Train Loss: 1.2567, Train Accuracy: 0.5135, Validation Loss: 1.4048, Validation Accuracy: 0.4208\n",
      "Epoch 3/40, Train Loss: 1.1864, Train Accuracy: 0.5458, Validation Loss: 1.3170, Validation Accuracy: 0.5083\n",
      "Epoch 4/40, Train Loss: 1.0350, Train Accuracy: 0.6083, Validation Loss: 1.2254, Validation Accuracy: 0.6000\n",
      "Epoch 5/40, Train Loss: 1.0243, Train Accuracy: 0.6323, Validation Loss: 1.2776, Validation Accuracy: 0.5542\n",
      "Epoch 6/40, Train Loss: 0.9636, Train Accuracy: 0.6333, Validation Loss: 1.1733, Validation Accuracy: 0.5333\n",
      "Epoch 7/40, Train Loss: 0.8288, Train Accuracy: 0.7021, Validation Loss: 1.4834, Validation Accuracy: 0.5167\n",
      "Epoch 8/40, Train Loss: 0.7950, Train Accuracy: 0.7240, Validation Loss: 0.9204, Validation Accuracy: 0.6708\n",
      "Epoch 9/40, Train Loss: 0.6315, Train Accuracy: 0.7667, Validation Loss: 0.8251, Validation Accuracy: 0.7125\n",
      "Epoch 10/40, Train Loss: 0.5920, Train Accuracy: 0.7865, Validation Loss: 0.9276, Validation Accuracy: 0.6500\n",
      "Epoch 11/40, Train Loss: 0.4846, Train Accuracy: 0.8323, Validation Loss: 0.8891, Validation Accuracy: 0.6958\n",
      "Epoch 12/40, Train Loss: 0.4792, Train Accuracy: 0.8219, Validation Loss: 0.9586, Validation Accuracy: 0.7125\n",
      "Epoch 13/40, Train Loss: 0.4631, Train Accuracy: 0.8385, Validation Loss: 0.8938, Validation Accuracy: 0.7042\n",
      "Epoch 14/40, Train Loss: 0.4073, Train Accuracy: 0.8552, Validation Loss: 0.7698, Validation Accuracy: 0.7000\n",
      "Epoch 15/40, Train Loss: 0.2721, Train Accuracy: 0.9062, Validation Loss: 0.6072, Validation Accuracy: 0.8000\n",
      "Epoch 16/40, Train Loss: 0.2322, Train Accuracy: 0.9229, Validation Loss: 0.6328, Validation Accuracy: 0.8333\n",
      "Epoch 17/40, Train Loss: 0.2356, Train Accuracy: 0.9271, Validation Loss: 0.6601, Validation Accuracy: 0.7583\n",
      "Epoch 18/40, Train Loss: 0.2232, Train Accuracy: 0.9187, Validation Loss: 0.9020, Validation Accuracy: 0.7292\n",
      "Epoch 19/40, Train Loss: 0.2491, Train Accuracy: 0.9125, Validation Loss: 0.9375, Validation Accuracy: 0.7667\n",
      "Epoch 20/40, Train Loss: 0.2768, Train Accuracy: 0.9115, Validation Loss: 1.0929, Validation Accuracy: 0.7417\n",
      "Epoch 21/40, Train Loss: 0.2741, Train Accuracy: 0.9135, Validation Loss: 0.5945, Validation Accuracy: 0.7625\n",
      "Epoch 22/40, Train Loss: 0.1657, Train Accuracy: 0.9458, Validation Loss: 0.7731, Validation Accuracy: 0.7667\n",
      "Epoch 23/40, Train Loss: 0.1049, Train Accuracy: 0.9698, Validation Loss: 0.7570, Validation Accuracy: 0.8000\n",
      "Epoch 24/40, Train Loss: 0.0938, Train Accuracy: 0.9729, Validation Loss: 0.6079, Validation Accuracy: 0.8000\n",
      "Epoch 25/40, Train Loss: 0.0855, Train Accuracy: 0.9729, Validation Loss: 0.6036, Validation Accuracy: 0.7875\n",
      "Epoch 26/40, Train Loss: 0.0425, Train Accuracy: 0.9906, Validation Loss: 0.4975, Validation Accuracy: 0.8583\n",
      "Epoch 27/40, Train Loss: 0.0256, Train Accuracy: 0.9969, Validation Loss: 0.5627, Validation Accuracy: 0.8417\n",
      "Epoch 28/40, Train Loss: 0.0621, Train Accuracy: 0.9792, Validation Loss: 0.7896, Validation Accuracy: 0.7833\n",
      "Epoch 29/40, Train Loss: 0.1327, Train Accuracy: 0.9573, Validation Loss: 1.2110, Validation Accuracy: 0.7417\n",
      "Epoch 30/40, Train Loss: 0.1193, Train Accuracy: 0.9635, Validation Loss: 0.8462, Validation Accuracy: 0.7542\n",
      "Epoch 31/40, Train Loss: 0.1077, Train Accuracy: 0.9719, Validation Loss: 0.8679, Validation Accuracy: 0.8083\n",
      "Epoch 32/40, Train Loss: 0.0889, Train Accuracy: 0.9698, Validation Loss: 0.5696, Validation Accuracy: 0.8292\n",
      "Epoch 33/40, Train Loss: 0.0451, Train Accuracy: 0.9854, Validation Loss: 0.5452, Validation Accuracy: 0.8167\n",
      "Epoch 34/40, Train Loss: 0.0402, Train Accuracy: 0.9906, Validation Loss: 0.5291, Validation Accuracy: 0.8375\n",
      "Epoch 35/40, Train Loss: 0.0265, Train Accuracy: 0.9927, Validation Loss: 0.5911, Validation Accuracy: 0.8333\n",
      "Epoch 36/40, Train Loss: 0.0201, Train Accuracy: 0.9948, Validation Loss: 0.5561, Validation Accuracy: 0.8333\n",
      "Epoch 37/40, Train Loss: 0.0181, Train Accuracy: 0.9969, Validation Loss: 0.5835, Validation Accuracy: 0.8542\n",
      "Epoch 38/40, Train Loss: 0.0105, Train Accuracy: 1.0000, Validation Loss: 0.7037, Validation Accuracy: 0.8125\n",
      "Epoch 39/40, Train Loss: 0.0064, Train Accuracy: 1.0000, Validation Loss: 0.5236, Validation Accuracy: 0.8375\n",
      "Epoch 40/40, Train Loss: 0.0046, Train Accuracy: 1.0000, Validation Loss: 0.5251, Validation Accuracy: 0.8417\n"
     ]
    }
   ],
   "source": [
    "# 모델 훈련\n",
    "epochs = 40\n",
    "train_loss_history, train_acc_history, val_loss_history, val_acc_history = train_model(\n",
    "    model, train_loader, val_loader, criterion, optimizer, epochs, device)\n"
   ]
  },
  {
   "cell_type": "code",
   "execution_count": 18,
   "id": "ac30f1cc",
   "metadata": {},
   "outputs": [
    {
     "name": "stdout",
     "output_type": "stream",
     "text": [
      "Test Loss: 0.4315, Test Accuracy: 0.8800\n"
     ]
    }
   ],
   "source": [
    "# 모델 검증(테스트 데이터셋)\n",
    "test_loss, test_acc = evaluate_model(model, test_loader, criterion, device)\n",
    "print(f'Test Loss: {test_loss:.4f}, Test Accuracy: {test_acc:.4f}')\n",
    "# 과적합이 발생함\n"
   ]
  },
  {
   "cell_type": "code",
   "execution_count": 19,
   "id": "62eaeeaf",
   "metadata": {},
   "outputs": [],
   "source": [
    "# 훈련 이력 시각화 함수 (훈련 데이터와 검증 데이터 비교)\n",
    "def plot_training_history(train_loss, train_acc, val_loss, val_acc):\n",
    "    epochs_range = range(1, len(train_loss) + 1)\n",
    "\n",
    "    plt.figure(figsize=(14, 5))\n",
    "\n",
    "    # Loss 그래프\n",
    "    plt.subplot(1, 2, 1)\n",
    "    plt.plot(epochs_range, train_loss, 'bo-', label='Training loss')\n",
    "    plt.plot(epochs_range, val_loss, 'ro-', label='Validation loss')\n",
    "    plt.title('Training and Validation Loss')\n",
    "    plt.xlabel('Epochs')\n",
    "    plt.ylabel('Loss')\n",
    "    plt.legend()\n",
    "\n",
    "    # Accuracy 그래프\n",
    "    plt.subplot(1, 2, 2)\n",
    "    plt.plot(epochs_range, train_acc, 'bo-', label='Training accuracy')\n",
    "    plt.plot(epochs_range, val_acc, 'ro-', label='Validation accuracy')\n",
    "    plt.title('Training and Validation Accuracy')\n",
    "    plt.xlabel('Epochs')\n",
    "    plt.ylabel('Accuracy')\n",
    "    plt.legend()\n",
    "\n",
    "    plt.show()"
   ]
  },
  {
   "cell_type": "code",
   "execution_count": 20,
   "id": "f5ca6e37",
   "metadata": {},
   "outputs": [
    {
     "data": {
      "image/png": "[encoded data removed]",
      "text/plain": [
       "<Figure size 1008x360 with 2 Axes>"
      ]
     },
     "metadata": {
      "needs_background": "light"
     },
     "output_type": "display_data"
    }
   ],
   "source": [
    "# 훈련 및 검증 이력 시각화\n",
    "plot_training_history(train_loss_history, train_acc_history, val_loss_history, val_acc_history)"
   ]
  },
  {
   "cell_type": "code",
   "execution_count": null,
   "id": "0a75c548",
   "metadata": {},
   "outputs": [],
   "source": []
  },
  {
   "cell_type": "code",
   "execution_count": null,
   "id": "7b1c7dee",
   "metadata": {},
   "outputs": [],
   "source": []
  }
 ],
 "metadata": {
  "kernelspec": {
   "display_name": "Python 3 (ipykernel)",
   "language": "python",
   "name": "python3"
  },
  "language_info": {
   "codemirror_mode": {
    "name": "ipython",
    "version": 3
   },
   "file_extension": ".py",
   "mimetype": "text/x-python",
   "name": "python",
   "nbconvert_exporter": "python",
   "pygments_lexer": "ipython3",
   "version": "3.9.7"
  }
 },
 "nbformat": 4,
 "nbformat_minor": 5
}
