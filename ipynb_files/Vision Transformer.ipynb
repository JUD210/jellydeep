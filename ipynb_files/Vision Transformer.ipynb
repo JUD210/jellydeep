{
 "cells": [
  {
   "cell_type": "code",
   "execution_count": 1,
   "id": "3d7dcd85",
   "metadata": {},
   "outputs": [
    {
     "name": "stdout",
     "output_type": "stream",
     "text": [
      "Requirement already satisfied: vit-keras in /opt/conda/lib/python3.9/site-packages (0.1.2)\n",
      "Requirement already satisfied: scipy in /opt/conda/lib/python3.9/site-packages (from vit-keras) (1.7.1)\n",
      "Requirement already satisfied: validators in /opt/conda/lib/python3.9/site-packages (from vit-keras) (0.18.2)\n",
      "Requirement already satisfied: numpy<1.23.0,>=1.16.5 in /opt/conda/lib/python3.9/site-packages (from scipy->vit-keras) (1.21.4)\n",
      "Requirement already satisfied: six>=1.4.0 in /opt/conda/lib/python3.9/site-packages (from validators->vit-keras) (1.16.0)\n",
      "Requirement already satisfied: decorator>=3.4.0 in /opt/conda/lib/python3.9/site-packages (from validators->vit-keras) (4.4.2)\n",
      "\u001b[33mWARNING: Running pip as the 'root' user can result in broken permissions and conflicting behaviour with the system package manager. It is recommended to use a virtual environment instead: https://pip.pypa.io/warnings/venv\u001b[0m\n"
     ]
    }
   ],
   "source": [
    "!pip install vit-keras"
   ]
  },
  {
   "cell_type": "code",
   "execution_count": 2,
   "id": "0711433b",
   "metadata": {},
   "outputs": [
    {
     "name": "stdout",
     "output_type": "stream",
     "text": [
      "vit_keras installed successfully!\n"
     ]
    }
   ],
   "source": [
    "import vit_keras\n",
    "print(\"vit_keras installed successfully!\")\n"
   ]
  },
  {
   "cell_type": "code",
   "execution_count": 3,
   "id": "69f35ec4",
   "metadata": {},
   "outputs": [],
   "source": [
    "import os\n",
    "import pandas as pd\n",
    "import numpy as np\n",
    "import matplotlib.pyplot as plt\n",
    "from sklearn.model_selection import train_test_split\n",
    "from tensorflow.keras.preprocessing.image import ImageDataGenerator\n",
    "from tensorflow.keras.layers import Dense, Flatten, Input, Dropout, BatchNormalization\n",
    "from tensorflow.keras.models import Model\n",
    "from tensorflow.keras.optimizers import Adam\n",
    "from vit_keras import vit, utils\n",
    "import tensorflow as tf"
   ]
  },
  {
   "cell_type": "code",
   "execution_count": 4,
   "id": "3aad1098",
   "metadata": {},
   "outputs": [],
   "source": [
    "# Dataset path and categories\n",
    "dataset_path = \"../_preprocessed_datasets_del_aug_duplicate\"\n",
    "categories = [\"blue_jellyfish\", \"barrel_jellyfish\", \"compass_jellyfish\", \n",
    "              \"lions_mane_jellyfish\", \"mauve_stinger_jellyfish\", \"Moon_jellyfish\"]"
   ]
  },
  {
   "cell_type": "code",
   "execution_count": 5,
   "id": "1a94e882",
   "metadata": {},
   "outputs": [],
   "source": [
    "# Image size and hyperparameters\n",
    "img_height, img_width = 224, 224\n",
    "batch_size = 16 \n",
    "epochs = 30\n"
   ]
  },
  {
   "cell_type": "code",
   "execution_count": 6,
   "id": "cc1906fc",
   "metadata": {},
   "outputs": [],
   "source": [
    "# Prepare data\n",
    "def prepare_data(dataset_path, categories):\n",
    "    filepaths, labels = [], []\n",
    "    for label, category in enumerate(categories):\n",
    "        category_path = os.path.join(dataset_path, category)\n",
    "        if os.path.exists(category_path):\n",
    "            for file in os.listdir(category_path):\n",
    "                if file.endswith(('jpg', 'jpeg', 'png')):\n",
    "                    filepaths.append(os.path.join(category_path, file))\n",
    "                    labels.append(label)\n",
    "    return filepaths, labels\n",
    "\n",
    "filepaths, labels = prepare_data(dataset_path, categories)\n"
   ]
  },
  {
   "cell_type": "code",
   "execution_count": 7,
   "id": "d6b86981",
   "metadata": {},
   "outputs": [],
   "source": [
    "\n",
    "# Split data into train, validation, and test sets\n",
    "train_files, test_files, train_labels, test_labels = train_test_split(\n",
    "    filepaths, labels, test_size=0.2, stratify=labels, random_state=42\n",
    ")\n",
    "\n",
    "train_files, val_files, train_labels, val_labels = train_test_split(\n",
    "    train_files, train_labels, test_size=0.2, stratify=train_labels, random_state=42\n",
    ")\n",
    "\n"
   ]
  },
  {
   "cell_type": "code",
   "execution_count": 8,
   "id": "4095aac0",
   "metadata": {},
   "outputs": [],
   "source": [
    "# Create DataFrame\n",
    "def create_dataframe(files, labels, categories):\n",
    "    label_to_class = {idx: name for idx, name in enumerate(categories)}\n",
    "    labels = [label_to_class[label] for label in labels]\n",
    "    return pd.DataFrame({'filename': files, 'class': labels})\n",
    "\n",
    "train_df = create_dataframe(train_files, train_labels, categories)\n",
    "val_df = create_dataframe(val_files, val_labels, categories)\n",
    "test_df = create_dataframe(test_files, test_labels, categories)\n"
   ]
  },
  {
   "cell_type": "code",
   "execution_count": 9,
   "id": "0cc8ed21",
   "metadata": {},
   "outputs": [
    {
     "name": "stdout",
     "output_type": "stream",
     "text": [
      "Found 960 validated image filenames belonging to 6 classes.\n",
      "Found 240 validated image filenames belonging to 6 classes.\n",
      "Found 300 validated image filenames belonging to 6 classes.\n"
     ]
    }
   ],
   "source": [
    "# Data generators\n",
    "datagen = ImageDataGenerator(rescale=1./255)\n",
    "\n",
    "train_generator = datagen.flow_from_dataframe(\n",
    "    train_df, x_col='filename', y_col='class',\n",
    "    target_size=(img_height, img_width), batch_size=batch_size, class_mode='categorical'\n",
    ")\n",
    "\n",
    "val_generator = datagen.flow_from_dataframe(\n",
    "    val_df, x_col='filename', y_col='class',\n",
    "    target_size=(img_height, img_width), batch_size=batch_size, class_mode='categorical'\n",
    ")\n",
    "\n",
    "test_generator = datagen.flow_from_dataframe(\n",
    "    test_df, x_col='filename', y_col='class',\n",
    "    target_size=(img_height, img_width), batch_size=batch_size, class_mode='categorical', shuffle=False\n",
    ")"
   ]
  },
  {
   "cell_type": "code",
   "execution_count": 10,
   "id": "ec94f16c",
   "metadata": {},
   "outputs": [
    {
     "name": "stderr",
     "output_type": "stream",
     "text": [
      "/opt/conda/lib/python3.9/site-packages/vit_keras/utils.py:81: UserWarning: Resizing position embeddings from 24, 24 to 14, 14\n",
      "  warnings.warn(\n"
     ]
    }
   ],
   "source": [
    "# Load Vision Transformer (ViT) model\n",
    "vit_model = vit.vit_b16(\n",
    "    image_size=img_height,\n",
    "    activation='softmax',\n",
    "    pretrained=True,\n",
    "    include_top=False,\n",
    "    pretrained_top=False\n",
    ")"
   ]
  },
  {
   "cell_type": "code",
   "execution_count": 11,
   "id": "ea38dfb0",
   "metadata": {},
   "outputs": [],
   "source": [
    "# Build the model\n",
    "inputs = Input(shape=(img_height, img_width, 3))\n",
    "x = vit_model(inputs)\n",
    "x = Flatten()(x)  # GlobalAveragePooling2D 대신 Flatten으로 변경\n",
    "x = BatchNormalization()(x)  # 배치 정규화 추가\n",
    "x = Dense(128, activation='relu')(x)  # 노드 수 증가\n",
    "x = Dropout(0.5)(x)  # 드롭아웃 추가하여 과적합 방지\n",
    "x = Dense(64, activation='relu')(x)\n",
    "output = Dense(len(categories), activation='softmax')(x)\n",
    "\n",
    "model = Model(inputs=inputs, outputs=output)"
   ]
  },
  {
   "cell_type": "code",
   "execution_count": 12,
   "id": "c8c6a01d",
   "metadata": {},
   "outputs": [],
   "source": [
    "# Compile the model\n",
    "model.compile(optimizer=Adam(learning_rate=0.001), loss='categorical_crossentropy', metrics=['accuracy'])"
   ]
  },
  {
   "cell_type": "code",
   "execution_count": 13,
   "id": "f50c2402",
   "metadata": {},
   "outputs": [
    {
     "name": "stdout",
     "output_type": "stream",
     "text": [
      "Epoch 1/30\n",
      "60/60 [==============================] - 62s 738ms/step - loss: 2.1108 - accuracy: 0.2208 - val_loss: 1.7201 - val_accuracy: 0.2708\n",
      "Epoch 2/30\n",
      "60/60 [==============================] - 43s 717ms/step - loss: 1.7325 - accuracy: 0.3271 - val_loss: 2.4966 - val_accuracy: 0.1667\n",
      "Epoch 3/30\n",
      "60/60 [==============================] - 42s 708ms/step - loss: 1.6818 - accuracy: 0.3208 - val_loss: 1.7029 - val_accuracy: 0.2833\n",
      "Epoch 4/30\n",
      "60/60 [==============================] - 43s 713ms/step - loss: 1.5635 - accuracy: 0.3615 - val_loss: 1.8713 - val_accuracy: 0.3000\n",
      "Epoch 5/30\n",
      "60/60 [==============================] - 43s 710ms/step - loss: 1.5261 - accuracy: 0.3792 - val_loss: 2.1202 - val_accuracy: 0.2375\n",
      "Epoch 6/30\n",
      "60/60 [==============================] - 43s 710ms/step - loss: 1.4813 - accuracy: 0.3990 - val_loss: 1.8861 - val_accuracy: 0.2625\n",
      "Epoch 7/30\n",
      "60/60 [==============================] - 43s 710ms/step - loss: 1.4344 - accuracy: 0.3906 - val_loss: 2.3692 - val_accuracy: 0.2125\n",
      "Epoch 8/30\n",
      "60/60 [==============================] - 43s 710ms/step - loss: 1.4399 - accuracy: 0.4125 - val_loss: 1.3906 - val_accuracy: 0.4292\n",
      "Epoch 9/30\n",
      "60/60 [==============================] - 43s 710ms/step - loss: 1.3198 - accuracy: 0.4688 - val_loss: 2.2868 - val_accuracy: 0.3750\n",
      "Epoch 10/30\n",
      "60/60 [==============================] - 43s 710ms/step - loss: 1.3177 - accuracy: 0.4667 - val_loss: 1.4846 - val_accuracy: 0.3833\n",
      "Epoch 11/30\n",
      "60/60 [==============================] - 43s 710ms/step - loss: 1.3073 - accuracy: 0.4792 - val_loss: 1.3545 - val_accuracy: 0.4333\n",
      "Epoch 12/30\n",
      "60/60 [==============================] - 43s 710ms/step - loss: 1.2106 - accuracy: 0.5021 - val_loss: 1.6370 - val_accuracy: 0.3750\n",
      "Epoch 13/30\n",
      "60/60 [==============================] - 43s 710ms/step - loss: 1.1935 - accuracy: 0.5094 - val_loss: 1.2421 - val_accuracy: 0.4458\n",
      "Epoch 14/30\n",
      "60/60 [==============================] - 43s 710ms/step - loss: 1.1459 - accuracy: 0.5271 - val_loss: 1.8122 - val_accuracy: 0.4083\n",
      "Epoch 15/30\n",
      "60/60 [==============================] - 43s 711ms/step - loss: 1.1153 - accuracy: 0.5479 - val_loss: 1.8670 - val_accuracy: 0.3875\n",
      "Epoch 16/30\n",
      "60/60 [==============================] - 43s 711ms/step - loss: 1.1192 - accuracy: 0.5479 - val_loss: 2.1175 - val_accuracy: 0.3250\n",
      "Epoch 17/30\n",
      "60/60 [==============================] - 43s 711ms/step - loss: 1.0696 - accuracy: 0.5802 - val_loss: 1.4628 - val_accuracy: 0.4833\n",
      "Epoch 18/30\n",
      "60/60 [==============================] - 43s 711ms/step - loss: 1.0657 - accuracy: 0.5823 - val_loss: 1.2702 - val_accuracy: 0.5583\n",
      "Epoch 19/30\n",
      "60/60 [==============================] - 43s 711ms/step - loss: 1.0049 - accuracy: 0.6021 - val_loss: 1.6300 - val_accuracy: 0.4375\n",
      "Epoch 20/30\n",
      "60/60 [==============================] - 43s 711ms/step - loss: 0.9062 - accuracy: 0.6458 - val_loss: 1.5453 - val_accuracy: 0.4917\n",
      "Epoch 21/30\n",
      "60/60 [==============================] - 43s 710ms/step - loss: 0.9410 - accuracy: 0.6292 - val_loss: 1.3645 - val_accuracy: 0.4958\n",
      "Epoch 22/30\n",
      "60/60 [==============================] - 43s 709ms/step - loss: 0.8860 - accuracy: 0.6594 - val_loss: 1.7572 - val_accuracy: 0.4458\n",
      "Epoch 23/30\n",
      "60/60 [==============================] - 42s 709ms/step - loss: 0.7927 - accuracy: 0.7010 - val_loss: 1.3437 - val_accuracy: 0.5167\n",
      "Epoch 24/30\n",
      "60/60 [==============================] - 43s 709ms/step - loss: 0.8195 - accuracy: 0.7031 - val_loss: 1.2278 - val_accuracy: 0.5875\n",
      "Epoch 25/30\n",
      "60/60 [==============================] - 43s 711ms/step - loss: 0.7782 - accuracy: 0.7146 - val_loss: 1.0828 - val_accuracy: 0.5333\n",
      "Epoch 26/30\n",
      "60/60 [==============================] - 43s 710ms/step - loss: 0.7593 - accuracy: 0.7406 - val_loss: 1.1485 - val_accuracy: 0.5917\n",
      "Epoch 27/30\n",
      "60/60 [==============================] - 43s 710ms/step - loss: 0.8493 - accuracy: 0.6906 - val_loss: 1.9840 - val_accuracy: 0.4167\n",
      "Epoch 28/30\n",
      "60/60 [==============================] - 43s 711ms/step - loss: 0.7099 - accuracy: 0.7479 - val_loss: 1.8204 - val_accuracy: 0.4625\n",
      "Epoch 29/30\n",
      "60/60 [==============================] - 43s 710ms/step - loss: 0.6934 - accuracy: 0.7510 - val_loss: 2.0277 - val_accuracy: 0.4292\n",
      "Epoch 30/30\n",
      "60/60 [==============================] - 43s 710ms/step - loss: 0.6872 - accuracy: 0.7521 - val_loss: 1.2550 - val_accuracy: 0.5750\n"
     ]
    }
   ],
   "source": [
    "# Train the model\n",
    "history = model.fit(\n",
    "    train_generator,\n",
    "    validation_data=val_generator,\n",
    "    epochs=epochs,\n",
    "    steps_per_epoch=train_generator.samples // batch_size,\n",
    "    validation_steps=val_generator.samples // batch_size\n",
    ")"
   ]
  },
  {
   "cell_type": "code",
   "execution_count": 14,
   "id": "d3edd349",
   "metadata": {},
   "outputs": [
    {
     "name": "stdout",
     "output_type": "stream",
     "text": [
      "18/18 [==============================] - 4s 219ms/step - loss: 1.4918 - accuracy: 0.5382\n",
      "Test Loss: 1.4918, Test Accuracy: 0.5382\n"
     ]
    }
   ],
   "source": [
    "# Evaluate the model\n",
    "test_loss, test_acc = model.evaluate(test_generator, steps=test_generator.samples // batch_size)\n",
    "print(f'Test Loss: {test_loss:.4f}, Test Accuracy: {test_acc:.4f}')"
   ]
  },
  {
   "cell_type": "code",
   "execution_count": 15,
   "id": "518eda06",
   "metadata": {},
   "outputs": [
    {
     "data": {
      "image/png": "[encoded data removed]",
      "text/plain": [
       "<Figure size 1008x360 with 2 Axes>"
      ]
     },
     "metadata": {
      "needs_background": "light"
     },
     "output_type": "display_data"
    }
   ],
   "source": [
    "# Plot training history\n",
    "def plot_training_history(history):\n",
    "    epochs_range = range(1, len(history.history['loss']) + 1)\n",
    "\n",
    "    plt.figure(figsize=(14, 5))\n",
    "\n",
    "    # Loss graph\n",
    "    plt.subplot(1, 2, 1)\n",
    "    plt.plot(epochs_range, history.history['loss'], 'bo-', label='Training loss')\n",
    "    plt.plot(epochs_range, history.history['val_loss'], 'ro-', label='Validation loss')\n",
    "    plt.title('Training and Validation Loss')\n",
    "    plt.xlabel('Epochs')\n",
    "    plt.ylabel('Loss')\n",
    "    plt.legend()\n",
    "\n",
    "    # Accuracy graph\n",
    "    plt.subplot(1, 2, 2)\n",
    "    plt.plot(epochs_range, history.history['accuracy'], 'bo-', label='Training accuracy')\n",
    "    plt.plot(epochs_range, history.history['val_accuracy'], 'ro-', label='Validation accuracy')\n",
    "    plt.title('Training and Validation Accuracy')\n",
    "    plt.xlabel('Epochs')\n",
    "    plt.ylabel('Accuracy')\n",
    "    plt.legend()\n",
    "\n",
    "    plt.show()\n",
    "\n",
    "# Plot training and validation history\n",
    "plot_training_history(history)"
   ]
  }
 ],
 "metadata": {
  "kernelspec": {
   "display_name": "Python 3 (ipykernel)",
   "language": "python",
   "name": "python3"
  },
  "language_info": {
   "codemirror_mode": {
    "name": "ipython",
    "version": 3
   },
   "file_extension": ".py",
   "mimetype": "text/x-python",
   "name": "python",
   "nbconvert_exporter": "python",
   "pygments_lexer": "ipython3",
   "version": "3.9.7"
  }
 },
 "nbformat": 4,
 "nbformat_minor": 5
}
