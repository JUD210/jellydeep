{
 "cells": [
  {
   "cell_type": "code",
   "execution_count": 1,
   "id": "122a6151",
   "metadata": {},
   "outputs": [],
   "source": [
    "# efficientNet 사용\n",
    "import os\n",
    "import tensorflow as tf\n",
    "import pandas as pd\n",
    "from tensorflow.keras.preprocessing.image import ImageDataGenerator\n",
    "from tensorflow.keras.callbacks import LearningRateScheduler\n",
    "from tensorflow.keras.applications import EfficientNetB3\n",
    "from tensorflow.keras import layers, models\n",
    "from sklearn.model_selection import train_test_split\n"
   ]
  },
  {
   "cell_type": "code",
   "execution_count": 2,
   "id": "adc1d1fd",
   "metadata": {},
   "outputs": [
    {
     "name": "stdout",
     "output_type": "stream",
     "text": [
      "Checking path: ../_preprocessed_datasets_del_aug_duplicate/blue_jellyfish\n",
      "Exists: True\n",
      "Checking path: ../_preprocessed_datasets_del_aug_duplicate/barrel_jellyfish\n",
      "Exists: True\n",
      "Checking path: ../_preprocessed_datasets_del_aug_duplicate/compass_jellyfish\n",
      "Exists: True\n",
      "Checking path: ../_preprocessed_datasets_del_aug_duplicate/lions_mane_jellyfish\n",
      "Exists: True\n",
      "Checking path: ../_preprocessed_datasets_del_aug_duplicate/mauve_stinger_jellyfish\n",
      "Exists: True\n",
      "Checking path: ../_preprocessed_datasets_del_aug_duplicate/Moon_jellyfish\n",
      "Exists: True\n"
     ]
    }
   ],
   "source": [
    "# 경로 확인\n",
    "dataset_path = \"../_preprocessed_datasets_del_aug_duplicate\"\n",
    "categories = [\"blue_jellyfish\", \"barrel_jellyfish\", \"compass_jellyfish\", \n",
    "              \"lions_mane_jellyfish\", \"mauve_stinger_jellyfish\", \"Moon_jellyfish\"]\n",
    "\n",
    "for category in categories:\n",
    "    category_path = os.path.join(dataset_path, category)\n",
    "    print(f\"Checking path: {category_path}\")\n",
    "    print(\"Exists:\", os.path.exists(category_path))\n"
   ]
  },
  {
   "cell_type": "code",
   "execution_count": 3,
   "id": "f855fa72",
   "metadata": {},
   "outputs": [],
   "source": [
    "# 데이터 경로 설정\n",
    "dataset_path = \"../_preprocessed_datasets_del_aug_duplicate\"\n",
    "categories = [\"blue_jellyfish\", \"barrel_jellyfish\", \"compass_jellyfish\", \n",
    "              \"lions_mane_jellyfish\", \"mauve_stinger_jellyfish\", \"Moon_jellyfish\"]"
   ]
  },
  {
   "cell_type": "code",
   "execution_count": 4,
   "id": "fd24f092",
   "metadata": {},
   "outputs": [],
   "source": [
    "# 이미지 크기 및 하이퍼파라미터 설정\n",
    "img_height, img_width = 224, 224\n",
    "batch_size = 32"
   ]
  },
  {
   "cell_type": "code",
   "execution_count": 5,
   "id": "d7cad4a4",
   "metadata": {},
   "outputs": [],
   "source": [
    "# 데이터셋 준비\n",
    "def prepare_data(dataset_path, categories):\n",
    "    filepaths, labels = [], []\n",
    "    for label, category in enumerate(categories):\n",
    "        category_path = os.path.join(dataset_path, category)\n",
    "        if os.path.exists(category_path):\n",
    "            for file in os.listdir(category_path):\n",
    "                if file.endswith(('jpg', 'jpeg', 'png')):\n",
    "                    filepaths.append(os.path.join(category_path, file))\n",
    "                    labels.append(label)\n",
    "    return filepaths, labels\n",
    "\n",
    "filepaths, labels = prepare_data(dataset_path, categories)"
   ]
  },
  {
   "cell_type": "code",
   "execution_count": 6,
   "id": "28650edd",
   "metadata": {},
   "outputs": [],
   "source": [
    "# Train/Test 분리\n",
    "train_files, test_files, train_labels, test_labels = train_test_split(\n",
    "    filepaths, labels, test_size=0.2, stratify=labels, random_state=42\n",
    ")\n",
    "\n",
    "# Train/Validation 분리\n",
    "train_files, val_files, train_labels, val_labels = train_test_split(\n",
    "    train_files, train_labels, test_size=0.2, stratify=train_labels, random_state=42\n",
    ")"
   ]
  },
  {
   "cell_type": "code",
   "execution_count": 7,
   "id": "85848b7f",
   "metadata": {},
   "outputs": [],
   "source": [
    "# 숫자 라벨 -> 문자열 클래스 이름으로 변환\n",
    "label_to_class = {idx: name for idx, name in enumerate(categories)}\n",
    "train_labels = [label_to_class[label] for label in train_labels]\n",
    "val_labels = [label_to_class[label] for label in val_labels]\n",
    "test_labels = [label_to_class[label] for label in test_labels]"
   ]
  },
  {
   "cell_type": "code",
   "execution_count": 8,
   "id": "5b614b9e",
   "metadata": {},
   "outputs": [],
   "source": [
    "# DataFrame 생성\n",
    "train_df = pd.DataFrame({'filename': train_files, 'class': train_labels})\n",
    "val_df = pd.DataFrame({'filename': val_files, 'class': val_labels})\n",
    "test_df = pd.DataFrame({'filename': test_files, 'class': test_labels})\n"
   ]
  },
  {
   "cell_type": "code",
   "execution_count": 9,
   "id": "8557fe4d",
   "metadata": {},
   "outputs": [],
   "source": [
    "# ImageDataGenerator로 데이터 준비\n",
    "train_datagen = ImageDataGenerator(rescale=1./255, rotation_range=30, \n",
    "                                   width_shift_range=0.2, height_shift_range=0.2, \n",
    "                                   shear_range=0.2, zoom_range=0.2, horizontal_flip=True)\n",
    "\n",
    "\n",
    "val_datagen = ImageDataGenerator(rescale=1./255)\n",
    "test_datagen = ImageDataGenerator(rescale=1./255)"
   ]
  },
  {
   "cell_type": "code",
   "execution_count": 10,
   "id": "39b270b8",
   "metadata": {},
   "outputs": [
    {
     "name": "stdout",
     "output_type": "stream",
     "text": [
      "Found 960 validated image filenames belonging to 6 classes.\n",
      "Found 240 validated image filenames belonging to 6 classes.\n",
      "Found 300 validated image filenames belonging to 6 classes.\n"
     ]
    }
   ],
   "source": [
    "# 데이터 생성\n",
    "train_generator = train_datagen.flow_from_dataframe(\n",
    "    dataframe=pd.DataFrame({'filename': train_files, 'class': train_labels}),\n",
    "    x_col='filename', y_col='class',\n",
    "    target_size=(img_height, img_width), batch_size=batch_size, class_mode='categorical'\n",
    ")\n",
    "\n",
    "val_generator = val_datagen.flow_from_dataframe(\n",
    "    dataframe=pd.DataFrame({'filename': val_files, 'class': val_labels}),\n",
    "    x_col='filename', y_col='class',\n",
    "    target_size=(img_height, img_width), batch_size=batch_size, class_mode='categorical'\n",
    ")\n",
    "\n",
    "test_generator = test_datagen.flow_from_dataframe(\n",
    "    dataframe=pd.DataFrame({'filename': test_files, 'class': test_labels}),\n",
    "    x_col='filename', y_col='class',\n",
    "    target_size=(img_height, img_width), batch_size=batch_size, class_mode='categorical',\n",
    "    shuffle=False\n",
    ")"
   ]
  },
  {
   "cell_type": "code",
   "execution_count": 11,
   "id": "31d063ef",
   "metadata": {},
   "outputs": [],
   "source": [
    "# EfficientNet 모델 정의\n",
    "base_model = EfficientNetB3(weights='imagenet', include_top=False, input_shape=(img_height, img_width, 3))\n",
    "base_model.trainable = True  # 전체를 학습 가능하게 설정\n",
    "# 특정 레이어까지만 학습 가능하게 제한할 수도 있음\n",
    "for layer in base_model.layers[:150]:\n",
    "    layer.trainable = False\n",
    "\n",
    "model = models.Sequential([\n",
    "    base_model,\n",
    "    layers.GlobalAveragePooling2D(),\n",
    "    layers.Dense(256, activation='relu'),  # 추가 레이어\n",
    "    layers.Dense(256, activation='relu'),  # 추가 레이어\n",
    "    layers.Dense(256, activation='relu'),  # 추가 레이어\n",
    "    layers.Dropout(0.5),\n",
    "    layers.Dense(len(categories), activation='softmax')\n",
    "])\n",
    "\n",
    "model.compile(optimizer=tf.keras.optimizers.Adam(learning_rate=1e-5),\n",
    "              loss='categorical_crossentropy',\n",
    "              metrics=['accuracy'])"
   ]
  },
  {
   "cell_type": "code",
   "execution_count": 12,
   "id": "c5b66fb4",
   "metadata": {},
   "outputs": [
    {
     "name": "stdout",
     "output_type": "stream",
     "text": [
      "GPU is available.\n",
      "GPU 0: Tesla T4\n",
      "Using /GPU:0 for computations\n"
     ]
    }
   ],
   "source": [
    "import tensorflow as tf\n",
    "\n",
    "# GPU 사용 가능 여부 확인\n",
    "gpus = tf.config.list_physical_devices('GPU')\n",
    "\n",
    "if gpus:\n",
    "    print(\"GPU is available.\")\n",
    "    for i, gpu in enumerate(gpus):\n",
    "        gpu_details = tf.config.experimental.get_device_details(gpu)  # GPU 상세 정보\n",
    "        gpu_name = gpu_details.get('device_name', 'Unknown GPU')\n",
    "        print(f\"GPU {i}: {gpu_name}\")\n",
    "else:\n",
    "    print(\"GPU is not available.\")\n",
    "\n",
    "# 장치 설정\n",
    "device_name = \"/GPU:0\" if gpus else \"/CPU:0\"\n",
    "\n",
    "# 특정 장치에서 실행\n",
    "with tf.device(device_name):\n",
    "    print(f\"Using {device_name} for computations\")\n"
   ]
  },
  {
   "cell_type": "code",
   "execution_count": 13,
   "id": "54ffd1bf",
   "metadata": {},
   "outputs": [],
   "source": [
    "# 학습률 스케줄러 함수 정의\n",
    "def lr_scheduler(epoch, lr):\n",
    "    # 예: 매 epoch마다 학습률을 0.9배로 감소\n",
    "    return lr * 0.9\n",
    "\n",
    "# LearningRateScheduler 콜백 생성\n",
    "lr_callback = LearningRateScheduler(lr_scheduler)"
   ]
  },
  {
   "cell_type": "code",
   "execution_count": 14,
   "id": "07218814",
   "metadata": {},
   "outputs": [
    {
     "name": "stdout",
     "output_type": "stream",
     "text": [
      "Epoch 1/50\n",
      "30/30 [==============================] - 29s 481ms/step - loss: 1.8129 - accuracy: 0.1635 - val_loss: 1.7959 - val_accuracy: 0.1667\n",
      "Epoch 2/50\n",
      "30/30 [==============================] - 12s 385ms/step - loss: 1.8020 - accuracy: 0.1854 - val_loss: 1.7946 - val_accuracy: 0.1667\n",
      "Epoch 3/50\n",
      "30/30 [==============================] - 12s 388ms/step - loss: 1.8055 - accuracy: 0.1625 - val_loss: 1.7962 - val_accuracy: 0.1500\n",
      "Epoch 4/50\n",
      "30/30 [==============================] - 12s 390ms/step - loss: 1.7925 - accuracy: 0.1969 - val_loss: 1.7989 - val_accuracy: 0.1667\n",
      "Epoch 5/50\n",
      "30/30 [==============================] - 12s 381ms/step - loss: 1.7981 - accuracy: 0.1719 - val_loss: 1.8015 - val_accuracy: 0.1667\n",
      "Epoch 6/50\n",
      "30/30 [==============================] - 12s 386ms/step - loss: 1.7970 - accuracy: 0.1698 - val_loss: 1.7960 - val_accuracy: 0.1667\n",
      "Epoch 7/50\n",
      "30/30 [==============================] - 12s 382ms/step - loss: 1.7931 - accuracy: 0.1844 - val_loss: 1.7949 - val_accuracy: 0.1667\n",
      "Epoch 8/50\n",
      "30/30 [==============================] - 12s 385ms/step - loss: 1.7939 - accuracy: 0.1865 - val_loss: 1.7955 - val_accuracy: 0.1625\n",
      "Epoch 9/50\n",
      "30/30 [==============================] - 12s 382ms/step - loss: 1.7954 - accuracy: 0.1771 - val_loss: 1.7929 - val_accuracy: 0.1750\n",
      "Epoch 10/50\n",
      "30/30 [==============================] - 12s 379ms/step - loss: 1.7900 - accuracy: 0.1792 - val_loss: 1.7891 - val_accuracy: 0.2042\n",
      "Epoch 11/50\n",
      "30/30 [==============================] - 12s 384ms/step - loss: 1.7928 - accuracy: 0.1906 - val_loss: 1.7870 - val_accuracy: 0.2208\n",
      "Epoch 12/50\n",
      "30/30 [==============================] - 12s 382ms/step - loss: 1.7890 - accuracy: 0.2010 - val_loss: 1.7881 - val_accuracy: 0.2208\n",
      "Epoch 13/50\n",
      "30/30 [==============================] - 12s 389ms/step - loss: 1.7969 - accuracy: 0.1917 - val_loss: 1.7937 - val_accuracy: 0.1792\n",
      "Epoch 14/50\n",
      "30/30 [==============================] - 12s 386ms/step - loss: 1.7857 - accuracy: 0.1937 - val_loss: 1.7931 - val_accuracy: 0.1792\n",
      "Epoch 15/50\n",
      "30/30 [==============================] - 12s 386ms/step - loss: 1.7833 - accuracy: 0.1729 - val_loss: 1.7934 - val_accuracy: 0.2167\n",
      "Epoch 16/50\n",
      "30/30 [==============================] - 12s 391ms/step - loss: 1.7852 - accuracy: 0.2021 - val_loss: 1.7933 - val_accuracy: 0.2375\n",
      "Epoch 17/50\n",
      "30/30 [==============================] - 12s 380ms/step - loss: 1.7957 - accuracy: 0.1760 - val_loss: 1.7926 - val_accuracy: 0.2292\n",
      "Epoch 18/50\n",
      "30/30 [==============================] - 12s 387ms/step - loss: 1.7854 - accuracy: 0.2062 - val_loss: 1.7918 - val_accuracy: 0.1917\n",
      "Epoch 19/50\n",
      "30/30 [==============================] - 12s 382ms/step - loss: 1.7857 - accuracy: 0.1979 - val_loss: 1.7911 - val_accuracy: 0.2000\n",
      "Epoch 20/50\n",
      "30/30 [==============================] - 12s 382ms/step - loss: 1.7916 - accuracy: 0.1792 - val_loss: 1.7900 - val_accuracy: 0.1875\n",
      "Epoch 21/50\n",
      "30/30 [==============================] - 12s 385ms/step - loss: 1.7904 - accuracy: 0.2021 - val_loss: 1.7907 - val_accuracy: 0.1875\n",
      "Epoch 22/50\n",
      "30/30 [==============================] - 12s 386ms/step - loss: 1.7886 - accuracy: 0.1865 - val_loss: 1.7909 - val_accuracy: 0.1750\n",
      "Epoch 23/50\n",
      "30/30 [==============================] - 12s 391ms/step - loss: 1.7835 - accuracy: 0.1708 - val_loss: 1.7906 - val_accuracy: 0.1750\n",
      "Epoch 24/50\n",
      "30/30 [==============================] - 12s 378ms/step - loss: 1.7744 - accuracy: 0.2208 - val_loss: 1.7908 - val_accuracy: 0.1750\n",
      "Epoch 25/50\n",
      "30/30 [==============================] - 12s 380ms/step - loss: 1.7781 - accuracy: 0.2208 - val_loss: 1.7910 - val_accuracy: 0.1792\n",
      "Epoch 26/50\n",
      "30/30 [==============================] - 12s 383ms/step - loss: 1.7817 - accuracy: 0.1937 - val_loss: 1.7911 - val_accuracy: 0.1833\n",
      "Epoch 27/50\n",
      "30/30 [==============================] - 12s 410ms/step - loss: 1.7854 - accuracy: 0.1937 - val_loss: 1.7917 - val_accuracy: 0.1875\n",
      "Epoch 28/50\n",
      "30/30 [==============================] - 12s 408ms/step - loss: 1.7874 - accuracy: 0.1792 - val_loss: 1.7920 - val_accuracy: 0.1833\n",
      "Epoch 29/50\n",
      "30/30 [==============================] - 12s 387ms/step - loss: 1.7877 - accuracy: 0.1792 - val_loss: 1.7916 - val_accuracy: 0.1833\n",
      "Epoch 30/50\n",
      "30/30 [==============================] - 12s 384ms/step - loss: 1.7818 - accuracy: 0.1958 - val_loss: 1.7913 - val_accuracy: 0.1875\n",
      "Epoch 31/50\n",
      "30/30 [==============================] - 12s 390ms/step - loss: 1.7836 - accuracy: 0.2062 - val_loss: 1.7911 - val_accuracy: 0.1833\n",
      "Epoch 32/50\n",
      "30/30 [==============================] - 12s 380ms/step - loss: 1.7891 - accuracy: 0.1844 - val_loss: 1.7912 - val_accuracy: 0.1875\n",
      "Epoch 33/50\n",
      "30/30 [==============================] - 12s 391ms/step - loss: 1.7822 - accuracy: 0.2031 - val_loss: 1.7908 - val_accuracy: 0.1833\n",
      "Epoch 34/50\n",
      "30/30 [==============================] - 12s 378ms/step - loss: 1.7814 - accuracy: 0.1948 - val_loss: 1.7909 - val_accuracy: 0.1833\n",
      "Epoch 35/50\n",
      "30/30 [==============================] - 12s 379ms/step - loss: 1.7792 - accuracy: 0.2062 - val_loss: 1.7912 - val_accuracy: 0.1875\n",
      "Epoch 36/50\n",
      "30/30 [==============================] - 12s 384ms/step - loss: 1.7838 - accuracy: 0.2031 - val_loss: 1.7911 - val_accuracy: 0.1833\n",
      "Epoch 37/50\n",
      "30/30 [==============================] - 12s 380ms/step - loss: 1.7818 - accuracy: 0.1906 - val_loss: 1.7914 - val_accuracy: 0.1875\n",
      "Epoch 38/50\n",
      "30/30 [==============================] - 12s 384ms/step - loss: 1.7741 - accuracy: 0.2292 - val_loss: 1.7915 - val_accuracy: 0.1875\n",
      "Epoch 39/50\n",
      "30/30 [==============================] - 12s 378ms/step - loss: 1.7795 - accuracy: 0.1896 - val_loss: 1.7914 - val_accuracy: 0.1833\n",
      "Epoch 40/50\n",
      "30/30 [==============================] - 12s 381ms/step - loss: 1.7831 - accuracy: 0.2021 - val_loss: 1.7914 - val_accuracy: 0.1792\n",
      "Epoch 41/50\n",
      "30/30 [==============================] - 12s 381ms/step - loss: 1.7896 - accuracy: 0.2010 - val_loss: 1.7914 - val_accuracy: 0.1792\n",
      "Epoch 42/50\n",
      "30/30 [==============================] - 12s 381ms/step - loss: 1.7786 - accuracy: 0.2208 - val_loss: 1.7917 - val_accuracy: 0.1833\n",
      "Epoch 43/50\n",
      "30/30 [==============================] - 12s 382ms/step - loss: 1.7825 - accuracy: 0.2052 - val_loss: 1.7917 - val_accuracy: 0.1792\n",
      "Epoch 44/50\n",
      "30/30 [==============================] - 12s 384ms/step - loss: 1.7779 - accuracy: 0.2188 - val_loss: 1.7915 - val_accuracy: 0.1792\n",
      "Epoch 45/50\n",
      "30/30 [==============================] - 12s 381ms/step - loss: 1.7846 - accuracy: 0.1823 - val_loss: 1.7917 - val_accuracy: 0.1792\n",
      "Epoch 46/50\n",
      "30/30 [==============================] - 11s 376ms/step - loss: 1.7841 - accuracy: 0.2062 - val_loss: 1.7919 - val_accuracy: 0.1792\n",
      "Epoch 47/50\n",
      "30/30 [==============================] - 11s 376ms/step - loss: 1.7934 - accuracy: 0.1885 - val_loss: 1.7921 - val_accuracy: 0.1792\n",
      "Epoch 48/50\n",
      "30/30 [==============================] - 12s 381ms/step - loss: 1.7816 - accuracy: 0.2188 - val_loss: 1.7915 - val_accuracy: 0.1750\n",
      "Epoch 49/50\n",
      "30/30 [==============================] - 12s 384ms/step - loss: 1.7834 - accuracy: 0.1844 - val_loss: 1.7917 - val_accuracy: 0.1792\n",
      "Epoch 50/50\n",
      "30/30 [==============================] - 12s 382ms/step - loss: 1.7846 - accuracy: 0.1917 - val_loss: 1.7917 - val_accuracy: 0.1833\n"
     ]
    }
   ],
   "source": [
    "# 모델 학습\n",
    "history = model.fit(\n",
    "    train_generator,\n",
    "    validation_data=val_generator,\n",
    "    epochs=50,\n",
    "    callbacks=[lr_callback]  # 학습률 스케줄러 콜백 추가\n",
    ")"
   ]
  },
  {
   "cell_type": "code",
   "execution_count": 15,
   "id": "744ae0a3",
   "metadata": {},
   "outputs": [
    {
     "name": "stdout",
     "output_type": "stream",
     "text": [
      "10/10 [==============================] - 2s 176ms/step - loss: 1.7928 - accuracy: 0.1767\n",
      "Test Accuracy: 17.67%\n"
     ]
    }
   ],
   "source": [
    "# 모델 평가\n",
    "test_loss, test_accuracy = model.evaluate(test_generator)\n",
    "print(f\"Test Accuracy: {test_accuracy * 100:.2f}%\")"
   ]
  },
  {
   "cell_type": "code",
   "execution_count": 16,
   "id": "3f2e8a1e",
   "metadata": {},
   "outputs": [
    {
     "data": {
      "image/png": "[encoded data removed]",
      "text/plain": [
       "<Figure size 864x288 with 2 Axes>"
      ]
     },
     "metadata": {
      "needs_background": "light"
     },
     "output_type": "display_data"
    }
   ],
   "source": [
    "# 결과 시각화 (학습/검증 정확도, 손실)\n",
    "import matplotlib.pyplot as plt\n",
    "\n",
    "plt.figure(figsize=(12, 4))\n",
    "plt.subplot(1, 2, 1)\n",
    "plt.plot(history.history['accuracy'], label='Train Accuracy')\n",
    "plt.plot(history.history['val_accuracy'], label='Validation Accuracy')\n",
    "plt.legend()\n",
    "plt.title('Accuracy')\n",
    "\n",
    "plt.subplot(1, 2, 2)\n",
    "plt.plot(history.history['loss'], label='Train Loss')\n",
    "plt.plot(history.history['val_loss'], label='Validation Loss')\n",
    "plt.legend()\n",
    "plt.title('Loss')\n",
    "\n",
    "plt.show()"
   ]
  },
  {
   "cell_type": "code",
   "execution_count": null,
   "id": "564b65cd",
   "metadata": {},
   "outputs": [],
   "source": []
  },
  {
   "cell_type": "code",
   "execution_count": null,
   "id": "612e6690",
   "metadata": {},
   "outputs": [],
   "source": []
  }
 ],
 "metadata": {
  "kernelspec": {
   "display_name": "Python 3 (ipykernel)",
   "language": "python",
   "name": "python3"
  },
  "language_info": {
   "codemirror_mode": {
    "name": "ipython",
    "version": 3
   },
   "file_extension": ".py",
   "mimetype": "text/x-python",
   "name": "python",
   "nbconvert_exporter": "python",
   "pygments_lexer": "ipython3",
   "version": "3.9.7"
  }
 },
 "nbformat": 4,
 "nbformat_minor": 5
}
