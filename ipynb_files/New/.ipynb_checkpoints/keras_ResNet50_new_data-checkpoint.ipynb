{
 "cells": [
  {
   "cell_type": "code",
   "execution_count": 1,
   "id": "2c1c7bf5",
   "metadata": {},
   "outputs": [],
   "source": [
    "import tensorflow as tf\n",
    "from tensorflow.keras.preprocessing.image import ImageDataGenerator\n",
    "from tensorflow.keras.optimizers import Adam, SGD\n",
    "from sklearn.model_selection import train_test_split\n",
    "import pandas as pd\n",
    "import os\n",
    "import matplotlib.pyplot as plt\n",
    "from tensorflow.keras.applications import ResNet50\n",
    "import numpy as np\n",
    "from PIL import Image, UnidentifiedImageError"
   ]
  },
  {
   "cell_type": "code",
   "execution_count": 2,
   "id": "e7e3b51c",
   "metadata": {},
   "outputs": [],
   "source": [
    "# 데이터 준비 함수\n",
    "def prepare_data(dataset_path, categories, num_samples_per_category=400):\n",
    "    filepaths, labels = [], []\n",
    "    for label, category in enumerate(categories):\n",
    "        category_path = os.path.join(dataset_path, category)\n",
    "        if os.path.exists(category_path):\n",
    "            all_files = [file for file in os.listdir(category_path) if file.endswith(('jpg', 'jpeg', 'png', '.jfif'))]\n",
    "            sampled_files = np.random.choice(all_files, min(num_samples_per_category, len(all_files)), replace=False)\n",
    "            for file in sampled_files:\n",
    "                file_path = os.path.join(category_path, file)\n",
    "                try:\n",
    "                    # 이미지 파일이 열리는지 확인\n",
    "                    with Image.open(file_path) as img:\n",
    "                        img.verify()  # 파일이 손상되지 않았는지 확인\n",
    "                    filepaths.append(file_path)\n",
    "                    labels.append(category)\n",
    "                except (UnidentifiedImageError, IOError):\n",
    "                    print(f\"Skipping corrupted image file: {file_path}\")\n",
    "    return filepaths, labels\n",
    "\n",
    "\n",
    "# 경로와 카테고리 정의\n",
    "data_path = \"../../raw_data_new\"\n",
    "categories = [\"blue_jellyfish\", \"barrel_jellyfish\", \"compass_jellyfish\",\n",
    "              \"lions_mane_jellyfish\", \"mauve_stinger_jellyfish\", \"moon_jellyfish\"]"
   ]
  },
  {
   "cell_type": "code",
   "execution_count": 3,
   "id": "c85e6894",
   "metadata": {},
   "outputs": [],
   "source": [
    "# 데이터 준비\n",
    "filepaths, labels = prepare_data(data_path, categories)\n",
    "\n",
    "# DataFrame 생성\n",
    "data = pd.DataFrame({'filename': filepaths, 'class': labels})\n",
    "\n",
    "# Train/Test 분리\n",
    "train_df, test_df = train_test_split(data, test_size=0.2, stratify=data['class'], random_state=42)\n",
    "\n",
    "# Train/Validation 분리\n",
    "train_df, val_df = train_test_split(train_df, test_size=0.2, stratify=train_df['class'], random_state=42)"
   ]
  },
  {
   "cell_type": "code",
   "execution_count": 4,
   "id": "bd3f8294",
   "metadata": {},
   "outputs": [],
   "source": [
    "# 데이터 증강 설정 (옵션 강화)\n",
    "augmentation_generator = ImageDataGenerator(\n",
    "    rotation_range=30,           # 회전 범위 증가\n",
    "    width_shift_range=0.3,       # 가로 이동 범위 증가\n",
    "    height_shift_range=0.3,      # 세로 이동 범위 증가\n",
    "    shear_range=0.3,             # 전단 변환 범위 증가\n",
    "    zoom_range=0.3,              # 확대/축소 범위 증가\n",
    "    brightness_range=[0.7, 1.3], # 밝기 조정 추가\n",
    "    horizontal_flip=True,        # 좌우 반전\n",
    "    vertical_flip=True,          # 상하 반전 추가\n",
    "    fill_mode='nearest'          # 채움 모드\n",
    ")\n"
   ]
  },
  {
   "cell_type": "code",
   "execution_count": 5,
   "id": "d86ec321",
   "metadata": {},
   "outputs": [],
   "source": [
    "# flow_from_dataframe 설정\n",
    "def create_data_generator(generator, dataframe, target_size, batch_size):\n",
    "    return generator.flow_from_dataframe(\n",
    "        dataframe,\n",
    "        x_col='filename',\n",
    "        y_col='class',\n",
    "        target_size=target_size,\n",
    "        batch_size=batch_size,\n",
    "        class_mode='categorical',\n",
    "        shuffle=True\n",
    "    )\n",
    "\n",
    "# 이미지 크기와 배치 사이즈 설정\n",
    "img_height, img_width = 224, 224\n",
    "batch_size = 4 # GPU 이슈로 16에서 줄여봄"
   ]
  },
  {
   "cell_type": "code",
   "execution_count": 6,
   "id": "6c8d4f6d",
   "metadata": {},
   "outputs": [
    {
     "name": "stdout",
     "output_type": "stream",
     "text": [
      "Found 1444 validated image filenames belonging to 6 classes.\n",
      "Found 367 validated image filenames belonging to 6 classes.\n",
      "Found 459 validated image filenames belonging to 6 classes.\n"
     ]
    },
    {
     "name": "stderr",
     "output_type": "stream",
     "text": [
      "/opt/conda/lib/python3.9/site-packages/keras_preprocessing/image/dataframe_iterator.py:279: UserWarning: Found 92 invalid image filename(s) in x_col=\"filename\". These filename(s) will be ignored.\n",
      "  warnings.warn(\n",
      "/opt/conda/lib/python3.9/site-packages/keras_preprocessing/image/dataframe_iterator.py:279: UserWarning: Found 17 invalid image filename(s) in x_col=\"filename\". These filename(s) will be ignored.\n",
      "  warnings.warn(\n",
      "/opt/conda/lib/python3.9/site-packages/keras_preprocessing/image/dataframe_iterator.py:279: UserWarning: Found 21 invalid image filename(s) in x_col=\"filename\". These filename(s) will be ignored.\n",
      "  warnings.warn(\n"
     ]
    }
   ],
   "source": [
    "# 데이터 제너레이터 생성\n",
    "train_generator = create_data_generator(augmentation_generator, train_df, (img_height, img_width), batch_size)\n",
    "val_generator = create_data_generator(augmentation_generator, val_df, (img_height, img_width), batch_size)\n",
    "test_generator = create_data_generator(augmentation_generator, test_df, (img_height, img_width), batch_size)\n",
    "\n",
    "# 클래스 수 정의\n",
    "num_classes = len(categories)"
   ]
  },
  {
   "cell_type": "code",
   "execution_count": 7,
   "id": "e339157a",
   "metadata": {},
   "outputs": [],
   "source": [
    "# ResNet50 모델 생성\n",
    "inputs = tf.keras.Input(shape=(img_height, img_width, 3))\n",
    "resnet50 = ResNet50(weights='imagenet', include_top=False, input_tensor=inputs)\n",
    "x = tf.keras.layers.GlobalAveragePooling2D()(resnet50.output)\n",
    "outputs = tf.keras.layers.Dense(num_classes, activation='softmax')(x)\n",
    "resnet50 = tf.keras.Model(inputs, outputs)"
   ]
  },
  {
   "cell_type": "code",
   "execution_count": 8,
   "id": "54ae82ca",
   "metadata": {},
   "outputs": [
    {
     "name": "stdout",
     "output_type": "stream",
     "text": [
      "Epoch 1/30\n"
     ]
    },
    {
     "ename": "InternalError",
     "evalue": " cuDNN launch failure : input shape ([4,64,112,112])\n\t [[node model/conv1_bn/FusedBatchNormV3 (defined at tmp/ipykernel_2308/3053440687.py:10) ]] [Op:__inference_train_function_10446]\n\nFunction call stack:\ntrain_function\n",
     "output_type": "error",
     "traceback": [
      "\u001b[0;31m---------------------------------------------------------------------------\u001b[0m",
      "\u001b[0;31mInternalError\u001b[0m                             Traceback (most recent call last)",
      "\u001b[0;32m/tmp/ipykernel_2308/3053440687.py\u001b[0m in \u001b[0;36m<module>\u001b[0;34m\u001b[0m\n\u001b[1;32m      8\u001b[0m \u001b[0mepochs\u001b[0m \u001b[0;34m=\u001b[0m \u001b[0;36m30\u001b[0m\u001b[0;34m\u001b[0m\u001b[0;34m\u001b[0m\u001b[0m\n\u001b[1;32m      9\u001b[0m \u001b[0;32mtry\u001b[0m\u001b[0;34m:\u001b[0m\u001b[0;34m\u001b[0m\u001b[0;34m\u001b[0m\u001b[0m\n\u001b[0;32m---> 10\u001b[0;31m     history = resnet50.fit(\n\u001b[0m\u001b[1;32m     11\u001b[0m         \u001b[0mtrain_generator\u001b[0m\u001b[0;34m,\u001b[0m\u001b[0;34m\u001b[0m\u001b[0;34m\u001b[0m\u001b[0m\n\u001b[1;32m     12\u001b[0m         \u001b[0mvalidation_data\u001b[0m\u001b[0;34m=\u001b[0m\u001b[0mval_generator\u001b[0m\u001b[0;34m,\u001b[0m\u001b[0;34m\u001b[0m\u001b[0;34m\u001b[0m\u001b[0m\n",
      "\u001b[0;32m/opt/conda/lib/python3.9/site-packages/keras/engine/training.py\u001b[0m in \u001b[0;36mfit\u001b[0;34m(self, x, y, batch_size, epochs, verbose, callbacks, validation_split, validation_data, shuffle, class_weight, sample_weight, initial_epoch, steps_per_epoch, validation_steps, validation_batch_size, validation_freq, max_queue_size, workers, use_multiprocessing)\u001b[0m\n\u001b[1;32m   1182\u001b[0m                 _r=1):\n\u001b[1;32m   1183\u001b[0m               \u001b[0mcallbacks\u001b[0m\u001b[0;34m.\u001b[0m\u001b[0mon_train_batch_begin\u001b[0m\u001b[0;34m(\u001b[0m\u001b[0mstep\u001b[0m\u001b[0;34m)\u001b[0m\u001b[0;34m\u001b[0m\u001b[0;34m\u001b[0m\u001b[0m\n\u001b[0;32m-> 1184\u001b[0;31m               \u001b[0mtmp_logs\u001b[0m \u001b[0;34m=\u001b[0m \u001b[0mself\u001b[0m\u001b[0;34m.\u001b[0m\u001b[0mtrain_function\u001b[0m\u001b[0;34m(\u001b[0m\u001b[0miterator\u001b[0m\u001b[0;34m)\u001b[0m\u001b[0;34m\u001b[0m\u001b[0;34m\u001b[0m\u001b[0m\n\u001b[0m\u001b[1;32m   1185\u001b[0m               \u001b[0;32mif\u001b[0m \u001b[0mdata_handler\u001b[0m\u001b[0;34m.\u001b[0m\u001b[0mshould_sync\u001b[0m\u001b[0;34m:\u001b[0m\u001b[0;34m\u001b[0m\u001b[0;34m\u001b[0m\u001b[0m\n\u001b[1;32m   1186\u001b[0m                 \u001b[0mcontext\u001b[0m\u001b[0;34m.\u001b[0m\u001b[0masync_wait\u001b[0m\u001b[0;34m(\u001b[0m\u001b[0;34m)\u001b[0m\u001b[0;34m\u001b[0m\u001b[0;34m\u001b[0m\u001b[0m\n",
      "\u001b[0;32m/opt/conda/lib/python3.9/site-packages/tensorflow/python/eager/def_function.py\u001b[0m in \u001b[0;36m__call__\u001b[0;34m(self, *args, **kwds)\u001b[0m\n\u001b[1;32m    883\u001b[0m \u001b[0;34m\u001b[0m\u001b[0m\n\u001b[1;32m    884\u001b[0m       \u001b[0;32mwith\u001b[0m \u001b[0mOptionalXlaContext\u001b[0m\u001b[0;34m(\u001b[0m\u001b[0mself\u001b[0m\u001b[0;34m.\u001b[0m\u001b[0m_jit_compile\u001b[0m\u001b[0;34m)\u001b[0m\u001b[0;34m:\u001b[0m\u001b[0;34m\u001b[0m\u001b[0;34m\u001b[0m\u001b[0m\n\u001b[0;32m--> 885\u001b[0;31m         \u001b[0mresult\u001b[0m \u001b[0;34m=\u001b[0m \u001b[0mself\u001b[0m\u001b[0;34m.\u001b[0m\u001b[0m_call\u001b[0m\u001b[0;34m(\u001b[0m\u001b[0;34m*\u001b[0m\u001b[0margs\u001b[0m\u001b[0;34m,\u001b[0m \u001b[0;34m**\u001b[0m\u001b[0mkwds\u001b[0m\u001b[0;34m)\u001b[0m\u001b[0;34m\u001b[0m\u001b[0;34m\u001b[0m\u001b[0m\n\u001b[0m\u001b[1;32m    886\u001b[0m \u001b[0;34m\u001b[0m\u001b[0m\n\u001b[1;32m    887\u001b[0m       \u001b[0mnew_tracing_count\u001b[0m \u001b[0;34m=\u001b[0m \u001b[0mself\u001b[0m\u001b[0;34m.\u001b[0m\u001b[0mexperimental_get_tracing_count\u001b[0m\u001b[0;34m(\u001b[0m\u001b[0;34m)\u001b[0m\u001b[0;34m\u001b[0m\u001b[0;34m\u001b[0m\u001b[0m\n",
      "\u001b[0;32m/opt/conda/lib/python3.9/site-packages/tensorflow/python/eager/def_function.py\u001b[0m in \u001b[0;36m_call\u001b[0;34m(self, *args, **kwds)\u001b[0m\n\u001b[1;32m    948\u001b[0m         \u001b[0;31m# Lifting succeeded, so variables are initialized and we can run the\u001b[0m\u001b[0;34m\u001b[0m\u001b[0;34m\u001b[0m\u001b[0m\n\u001b[1;32m    949\u001b[0m         \u001b[0;31m# stateless function.\u001b[0m\u001b[0;34m\u001b[0m\u001b[0;34m\u001b[0m\u001b[0m\n\u001b[0;32m--> 950\u001b[0;31m         \u001b[0;32mreturn\u001b[0m \u001b[0mself\u001b[0m\u001b[0;34m.\u001b[0m\u001b[0m_stateless_fn\u001b[0m\u001b[0;34m(\u001b[0m\u001b[0;34m*\u001b[0m\u001b[0margs\u001b[0m\u001b[0;34m,\u001b[0m \u001b[0;34m**\u001b[0m\u001b[0mkwds\u001b[0m\u001b[0;34m)\u001b[0m\u001b[0;34m\u001b[0m\u001b[0;34m\u001b[0m\u001b[0m\n\u001b[0m\u001b[1;32m    951\u001b[0m     \u001b[0;32melse\u001b[0m\u001b[0;34m:\u001b[0m\u001b[0;34m\u001b[0m\u001b[0;34m\u001b[0m\u001b[0m\n\u001b[1;32m    952\u001b[0m       \u001b[0m_\u001b[0m\u001b[0;34m,\u001b[0m \u001b[0m_\u001b[0m\u001b[0;34m,\u001b[0m \u001b[0m_\u001b[0m\u001b[0;34m,\u001b[0m \u001b[0mfiltered_flat_args\u001b[0m \u001b[0;34m=\u001b[0m\u001b[0;31m \u001b[0m\u001b[0;31m\\\u001b[0m\u001b[0;34m\u001b[0m\u001b[0;34m\u001b[0m\u001b[0m\n",
      "\u001b[0;32m/opt/conda/lib/python3.9/site-packages/tensorflow/python/eager/function.py\u001b[0m in \u001b[0;36m__call__\u001b[0;34m(self, *args, **kwargs)\u001b[0m\n\u001b[1;32m   3037\u001b[0m       (graph_function,\n\u001b[1;32m   3038\u001b[0m        filtered_flat_args) = self._maybe_define_function(args, kwargs)\n\u001b[0;32m-> 3039\u001b[0;31m     return graph_function._call_flat(\n\u001b[0m\u001b[1;32m   3040\u001b[0m         filtered_flat_args, captured_inputs=graph_function.captured_inputs)  # pylint: disable=protected-access\n\u001b[1;32m   3041\u001b[0m \u001b[0;34m\u001b[0m\u001b[0m\n",
      "\u001b[0;32m/opt/conda/lib/python3.9/site-packages/tensorflow/python/eager/function.py\u001b[0m in \u001b[0;36m_call_flat\u001b[0;34m(self, args, captured_inputs, cancellation_manager)\u001b[0m\n\u001b[1;32m   1961\u001b[0m         and executing_eagerly):\n\u001b[1;32m   1962\u001b[0m       \u001b[0;31m# No tape is watching; skip to running the function.\u001b[0m\u001b[0;34m\u001b[0m\u001b[0;34m\u001b[0m\u001b[0m\n\u001b[0;32m-> 1963\u001b[0;31m       return self._build_call_outputs(self._inference_function.call(\n\u001b[0m\u001b[1;32m   1964\u001b[0m           ctx, args, cancellation_manager=cancellation_manager))\n\u001b[1;32m   1965\u001b[0m     forward_backward = self._select_forward_and_backward_functions(\n",
      "\u001b[0;32m/opt/conda/lib/python3.9/site-packages/tensorflow/python/eager/function.py\u001b[0m in \u001b[0;36mcall\u001b[0;34m(self, ctx, args, cancellation_manager)\u001b[0m\n\u001b[1;32m    589\u001b[0m       \u001b[0;32mwith\u001b[0m \u001b[0m_InterpolateFunctionError\u001b[0m\u001b[0;34m(\u001b[0m\u001b[0mself\u001b[0m\u001b[0;34m)\u001b[0m\u001b[0;34m:\u001b[0m\u001b[0;34m\u001b[0m\u001b[0;34m\u001b[0m\u001b[0m\n\u001b[1;32m    590\u001b[0m         \u001b[0;32mif\u001b[0m \u001b[0mcancellation_manager\u001b[0m \u001b[0;32mis\u001b[0m \u001b[0;32mNone\u001b[0m\u001b[0;34m:\u001b[0m\u001b[0;34m\u001b[0m\u001b[0;34m\u001b[0m\u001b[0m\n\u001b[0;32m--> 591\u001b[0;31m           outputs = execute.execute(\n\u001b[0m\u001b[1;32m    592\u001b[0m               \u001b[0mstr\u001b[0m\u001b[0;34m(\u001b[0m\u001b[0mself\u001b[0m\u001b[0;34m.\u001b[0m\u001b[0msignature\u001b[0m\u001b[0;34m.\u001b[0m\u001b[0mname\u001b[0m\u001b[0;34m)\u001b[0m\u001b[0;34m,\u001b[0m\u001b[0;34m\u001b[0m\u001b[0;34m\u001b[0m\u001b[0m\n\u001b[1;32m    593\u001b[0m               \u001b[0mnum_outputs\u001b[0m\u001b[0;34m=\u001b[0m\u001b[0mself\u001b[0m\u001b[0;34m.\u001b[0m\u001b[0m_num_outputs\u001b[0m\u001b[0;34m,\u001b[0m\u001b[0;34m\u001b[0m\u001b[0;34m\u001b[0m\u001b[0m\n",
      "\u001b[0;32m/opt/conda/lib/python3.9/site-packages/tensorflow/python/eager/execute.py\u001b[0m in \u001b[0;36mquick_execute\u001b[0;34m(op_name, num_outputs, inputs, attrs, ctx, name)\u001b[0m\n\u001b[1;32m     57\u001b[0m   \u001b[0;32mtry\u001b[0m\u001b[0;34m:\u001b[0m\u001b[0;34m\u001b[0m\u001b[0;34m\u001b[0m\u001b[0m\n\u001b[1;32m     58\u001b[0m     \u001b[0mctx\u001b[0m\u001b[0;34m.\u001b[0m\u001b[0mensure_initialized\u001b[0m\u001b[0;34m(\u001b[0m\u001b[0;34m)\u001b[0m\u001b[0;34m\u001b[0m\u001b[0;34m\u001b[0m\u001b[0m\n\u001b[0;32m---> 59\u001b[0;31m     tensors = pywrap_tfe.TFE_Py_Execute(ctx._handle, device_name, op_name,\n\u001b[0m\u001b[1;32m     60\u001b[0m                                         inputs, attrs, num_outputs)\n\u001b[1;32m     61\u001b[0m   \u001b[0;32mexcept\u001b[0m \u001b[0mcore\u001b[0m\u001b[0;34m.\u001b[0m\u001b[0m_NotOkStatusException\u001b[0m \u001b[0;32mas\u001b[0m \u001b[0me\u001b[0m\u001b[0;34m:\u001b[0m\u001b[0;34m\u001b[0m\u001b[0;34m\u001b[0m\u001b[0m\n",
      "\u001b[0;31mInternalError\u001b[0m:  cuDNN launch failure : input shape ([4,64,112,112])\n\t [[node model/conv1_bn/FusedBatchNormV3 (defined at tmp/ipykernel_2308/3053440687.py:10) ]] [Op:__inference_train_function_10446]\n\nFunction call stack:\ntrain_function\n"
     ]
    }
   ],
   "source": [
    "# 모델 컴파일\n",
    "learning_rate = 0.001\n",
    "resnet50.compile(optimizer=SGD(learning_rate=learning_rate, momentum=0.9),\n",
    "                 loss='categorical_crossentropy',\n",
    "                 metrics=['accuracy'])\n",
    "\n",
    "# 모델 훈련\n",
    "epochs = 30\n",
    "try:\n",
    "    history = resnet50.fit(\n",
    "        train_generator,\n",
    "        validation_data=val_generator,\n",
    "        epochs=epochs,\n",
    "        verbose=1  # 진행 상태 출력\n",
    "    )\n",
    "except UnidentifiedImageError as e:\n",
    "    print(f\"Error during training: {e}\")"
   ]
  },
  {
   "cell_type": "code",
   "execution_count": null,
   "id": "8aa04b5f",
   "metadata": {},
   "outputs": [],
   "source": [
    "# 모델 저장\n",
    "resnet18.save('../ipynb_files/output_models/resnet50.h5')"
   ]
  },
  {
   "cell_type": "code",
   "execution_count": null,
   "id": "54ac9457",
   "metadata": {},
   "outputs": [],
   "source": [
    "# 테스트 평가\n",
    "try:\n",
    "    test_loss, test_acc = resnet18.evaluate(test_generator, verbose=0)\n",
    "    print(f\"Test Loss: {test_loss:.4f}, Test Accuracy = {test_acc:.4f}\")\n",
    "except UnidentifiedImageError as e:\n",
    "    print(f\"Error during evaluation: {e}\")"
   ]
  },
  {
   "cell_type": "code",
   "execution_count": null,
   "id": "1040d066",
   "metadata": {},
   "outputs": [],
   "source": [
    "# 시각화를 위한 데이터 저장용 리스트\n",
    "all_train_acc = [history.history['accuracy']]\n",
    "all_val_acc = [history.history['val_accuracy']]\n",
    "all_train_loss = [history.history['loss']]\n",
    "all_val_loss = [history.history['val_loss']]\n",
    "\n",
    "# 결과 시각화 함수\n",
    "def plot_comparison(all_train_acc, all_val_acc, all_train_loss, all_val_loss):\n",
    "    epochs_range = range(1, epochs + 1)\n",
    "    \n",
    "    # Accuracy 그래프\n",
    "    plt.figure(figsize=(14, 7))\n",
    "    \n",
    "    # Training Accuracy\n",
    "    for i, train_acc in enumerate(all_train_acc):\n",
    "        plt.plot(epochs_range, train_acc, label=f'Run {i+1} Training Accuracy')\n",
    "    # Validation Accuracy\n",
    "    for i, val_acc in enumerate(all_val_acc):\n",
    "        plt.plot(epochs_range, val_acc, linestyle='--', label=f'Run {i+1} Validation Accuracy')\n",
    "    \n",
    "    plt.title('Training and Validation Accuracy Across Runs')\n",
    "    plt.xlabel('Epochs')\n",
    "    plt.ylabel('Accuracy')\n",
    "    plt.legend()\n",
    "    plt.show()\n",
    "\n",
    "    # Loss 그래프\n",
    "    plt.figure(figsize=(14, 7))\n",
    "    \n",
    "    # Training Loss\n",
    "    for i, train_loss in enumerate(all_train_loss):\n",
    "        plt.plot(epochs_range, train_loss, label=f'Run {i+1} Training Loss')\n",
    "    # Validation Loss\n",
    "    for i, val_loss in enumerate(all_val_loss):\n",
    "        plt.plot(epochs_range, val_loss, linestyle='--', label=f'Run {i+1} Validation Loss')\n",
    "    \n",
    "    plt.title('Training and Validation Loss Across Runs')\n",
    "    plt.xlabel('Epochs')\n",
    "    plt.ylabel('Loss')\n",
    "    plt.legend()\n",
    "    plt.show()\n",
    "\n",
    "# 결과 시각화 호출\n",
    "plot_comparison(all_train_acc, all_val_acc, all_train_loss, all_val_loss)"
   ]
  },
  {
   "cell_type": "code",
   "execution_count": null,
   "id": "ac1d86e5",
   "metadata": {},
   "outputs": [],
   "source": []
  },
  {
   "cell_type": "code",
   "execution_count": null,
   "id": "5250cb49",
   "metadata": {},
   "outputs": [],
   "source": []
  }
 ],
 "metadata": {
  "kernelspec": {
   "display_name": "Python 3 (ipykernel)",
   "language": "python",
   "name": "python3"
  },
  "language_info": {
   "codemirror_mode": {
    "name": "ipython",
    "version": 3
   },
   "file_extension": ".py",
   "mimetype": "text/x-python",
   "name": "python",
   "nbconvert_exporter": "python",
   "pygments_lexer": "ipython3",
   "version": "3.9.7"
  }
 },
 "nbformat": 4,
 "nbformat_minor": 5
}
