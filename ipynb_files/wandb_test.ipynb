{
 "cells": [
  {
   "cell_type": "code",
   "execution_count": 4,
   "id": "5f470749",
   "metadata": {
    "scrolled": false
   },
   "outputs": [
    {
     "name": "stderr",
     "output_type": "stream",
     "text": [
      "\u001b[34m\u001b[1mwandb\u001b[0m: \u001b[33mWARNING\u001b[0m Malformed sweep config detected! This may cause your sweep to behave in unexpected ways.\n",
      "\u001b[34m\u001b[1mwandb\u001b[0m: \u001b[33mWARNING\u001b[0m To avoid this, please fix the sweep config schema violations below:\n",
      "\u001b[34m\u001b[1mwandb\u001b[0m: \u001b[33mWARNING\u001b[0m   Violation 1. lr uses log_uniform, where min/max specify base-e exponents. Use log_uniform_values to specify limit values.\n"
     ]
    },
    {
     "name": "stdout",
     "output_type": "stream",
     "text": [
      "Create sweep with ID: rpl6i6uu\n",
      "Sweep URL: https://wandb.ai/kyskyj22-aiffel/jellyfish_classification/sweeps/rpl6i6uu\n"
     ]
    },
    {
     "name": "stderr",
     "output_type": "stream",
     "text": [
      "\u001b[34m\u001b[1mwandb\u001b[0m: Agent Starting Run: 2q21nu13 with config:\n",
      "\u001b[34m\u001b[1mwandb\u001b[0m: \tbatch_size: 32\n",
      "\u001b[34m\u001b[1mwandb\u001b[0m: \tepochs: 5\n",
      "\u001b[34m\u001b[1mwandb\u001b[0m: \tlr: 1.003450881832327\n",
      "\u001b[34m\u001b[1mwandb\u001b[0m: Currently logged in as: \u001b[33mkyskyj22\u001b[0m (\u001b[33mkyskyj22-aiffel\u001b[0m). Use \u001b[1m`wandb login --relogin`\u001b[0m to force relogin\n",
      "\u001b[34m\u001b[1mwandb\u001b[0m: \u001b[33mWARNING\u001b[0m Ignored wandb.init() arg project when running a sweep.\n"
     ]
    },
    {
     "data": {
      "text/html": [
       "wandb version 0.18.7 is available!  To upgrade, please run:\n",
       " $ pip install wandb --upgrade"
      ],
      "text/plain": [
       "<IPython.core.display.HTML object>"
      ]
     },
     "metadata": {},
     "output_type": "display_data"
    },
    {
     "data": {
      "text/html": [
       "Tracking run with wandb version 0.16.0"
      ],
      "text/plain": [
       "<IPython.core.display.HTML object>"
      ]
     },
     "metadata": {},
     "output_type": "display_data"
    },
    {
     "data": {
      "text/html": [
       "Run data is saved locally in <code>/aiffel/aiffel/jellyfish/wandb/run-20241115_074414-2q21nu13</code>"
      ],
      "text/plain": [
       "<IPython.core.display.HTML object>"
      ]
     },
     "metadata": {},
     "output_type": "display_data"
    },
    {
     "data": {
      "text/html": [
       "Syncing run <strong><a href='https://wandb.ai/kyskyj22-aiffel/jellyfish_classification/runs/2q21nu13' target=\"_blank\">fine-sweep-1</a></strong> to <a href='https://wandb.ai/kyskyj22-aiffel/jellyfish_classification' target=\"_blank\">Weights & Biases</a> (<a href='https://wandb.me/run' target=\"_blank\">docs</a>)<br/>Sweep page: <a href='https://wandb.ai/kyskyj22-aiffel/jellyfish_classification/sweeps/rpl6i6uu' target=\"_blank\">https://wandb.ai/kyskyj22-aiffel/jellyfish_classification/sweeps/rpl6i6uu</a>"
      ],
      "text/plain": [
       "<IPython.core.display.HTML object>"
      ]
     },
     "metadata": {},
     "output_type": "display_data"
    },
    {
     "data": {
      "text/html": [
       " View project at <a href='https://wandb.ai/kyskyj22-aiffel/jellyfish_classification' target=\"_blank\">https://wandb.ai/kyskyj22-aiffel/jellyfish_classification</a>"
      ],
      "text/plain": [
       "<IPython.core.display.HTML object>"
      ]
     },
     "metadata": {},
     "output_type": "display_data"
    },
    {
     "data": {
      "text/html": [
       " View sweep at <a href='https://wandb.ai/kyskyj22-aiffel/jellyfish_classification/sweeps/rpl6i6uu' target=\"_blank\">https://wandb.ai/kyskyj22-aiffel/jellyfish_classification/sweeps/rpl6i6uu</a>"
      ],
      "text/plain": [
       "<IPython.core.display.HTML object>"
      ]
     },
     "metadata": {},
     "output_type": "display_data"
    },
    {
     "data": {
      "text/html": [
       " View run at <a href='https://wandb.ai/kyskyj22-aiffel/jellyfish_classification/runs/2q21nu13' target=\"_blank\">https://wandb.ai/kyskyj22-aiffel/jellyfish_classification/runs/2q21nu13</a>"
      ],
      "text/plain": [
       "<IPython.core.display.HTML object>"
      ]
     },
     "metadata": {},
     "output_type": "display_data"
    },
    {
     "name": "stdout",
     "output_type": "stream",
     "text": [
      "Found 900 images belonging to 6 classes.\n",
      "Found 39 images belonging to 6 classes.\n"
     ]
    },
    {
     "name": "stderr",
     "output_type": "stream",
     "text": [
      "\u001b[34m\u001b[1mwandb\u001b[0m: \u001b[33mWARNING\u001b[0m The save_model argument by default saves the model in the HDF5 format that cannot save custom objects like subclassed models and custom layers. This behavior will be deprecated in a future release in favor of the SavedModel format. Meanwhile, the HDF5 model is saved as W&B files and the SavedModel as W&B Artifacts.\n"
     ]
    },
    {
     "name": "stdout",
     "output_type": "stream",
     "text": [
      "Epoch 1/5\n",
      "29/29 [==============================] - 14s 329ms/step - loss: 32069110.0000 - accuracy: 0.1589 - val_loss: 2.3006 - val_accuracy: 0.1538\n",
      "INFO:tensorflow:Assets written to: /aiffel/aiffel/jellyfish/wandb/run-20241115_074414-2q21nu13/files/model-best/assets\n"
     ]
    },
    {
     "name": "stderr",
     "output_type": "stream",
     "text": [
      "\u001b[34m\u001b[1mwandb\u001b[0m: Adding directory to artifact (/aiffel/aiffel/jellyfish/wandb/run-20241115_074414-2q21nu13/files/model-best)... Done. 4.0s\n"
     ]
    },
    {
     "name": "stdout",
     "output_type": "stream",
     "text": [
      "Epoch 2/5\n",
      "29/29 [==============================] - 10s 339ms/step - loss: 2.4291 - accuracy: 0.1744 - val_loss: 1.9376 - val_accuracy: 0.1538\n",
      "INFO:tensorflow:Assets written to: /aiffel/aiffel/jellyfish/wandb/run-20241115_074414-2q21nu13/files/model-best/assets\n"
     ]
    },
    {
     "name": "stderr",
     "output_type": "stream",
     "text": [
      "\u001b[34m\u001b[1mwandb\u001b[0m: Adding directory to artifact (/aiffel/aiffel/jellyfish/wandb/run-20241115_074414-2q21nu13/files/model-best)... Done. 4.5s\n"
     ]
    },
    {
     "name": "stdout",
     "output_type": "stream",
     "text": [
      "Epoch 3/5\n",
      "29/29 [==============================] - 10s 333ms/step - loss: 2.5911 - accuracy: 0.1522 - val_loss: 2.7456 - val_accuracy: 0.1795\n",
      "Epoch 4/5\n",
      "29/29 [==============================] - 10s 331ms/step - loss: 2.0800 - accuracy: 0.1556 - val_loss: 1.9316 - val_accuracy: 0.1795\n",
      "INFO:tensorflow:Assets written to: /aiffel/aiffel/jellyfish/wandb/run-20241115_074414-2q21nu13/files/model-best/assets\n"
     ]
    },
    {
     "name": "stderr",
     "output_type": "stream",
     "text": [
      "\u001b[34m\u001b[1mwandb\u001b[0m: Adding directory to artifact (/aiffel/aiffel/jellyfish/wandb/run-20241115_074414-2q21nu13/files/model-best)... Done. 3.2s\n"
     ]
    },
    {
     "name": "stdout",
     "output_type": "stream",
     "text": [
      "Epoch 5/5\n",
      "29/29 [==============================] - 10s 341ms/step - loss: 2.2176 - accuracy: 0.1689 - val_loss: 2.3726 - val_accuracy: 0.1795\n"
     ]
    },
    {
     "data": {
      "application/vnd.jupyter.widget-view+json": {
       "model_id": "",
       "version_major": 2,
       "version_minor": 0
      },
      "text/plain": [
       "VBox(children=(Label(value='1094.928 MB of 1094.928 MB uploaded (0.029 MB deduped)\\r'), FloatProgress(value=1.…"
      ]
     },
     "metadata": {},
     "output_type": "display_data"
    },
    {
     "data": {
      "text/html": [
       "<style>\n",
       "    table.wandb td:nth-child(1) { padding: 0 10px; text-align: left ; width: auto;} td:nth-child(2) {text-align: left ; width: 100%}\n",
       "    .wandb-row { display: flex; flex-direction: row; flex-wrap: wrap; justify-content: flex-start; width: 100% }\n",
       "    .wandb-col { display: flex; flex-direction: column; flex-basis: 100%; flex: 1; padding: 10px; }\n",
       "    </style>\n",
       "<div class=\"wandb-row\"><div class=\"wandb-col\"><h3>Run history:</h3><br/><table class=\"wandb\"><tr><td>accuracy</td><td>▃█▁▂▆</td></tr><tr><td>epoch</td><td>▁▃▅▆█</td></tr><tr><td>loss</td><td>█▁▁▁▁</td></tr><tr><td>val_accuracy</td><td>▁▁████</td></tr><tr><td>val_loss</td><td>▄▁█▁▅</td></tr></table><br/></div><div class=\"wandb-col\"><h3>Run summary:</h3><br/><table class=\"wandb\"><tr><td>accuracy</td><td>0.16889</td></tr><tr><td>best_epoch</td><td>3</td></tr><tr><td>best_val_loss</td><td>1.93159</td></tr><tr><td>epoch</td><td>4</td></tr><tr><td>loss</td><td>2.21755</td></tr><tr><td>val_accuracy</td><td>0.17949</td></tr><tr><td>val_loss</td><td>2.37265</td></tr></table><br/></div></div>"
      ],
      "text/plain": [
       "<IPython.core.display.HTML object>"
      ]
     },
     "metadata": {},
     "output_type": "display_data"
    },
    {
     "data": {
      "text/html": [
       " View run <strong style=\"color:#cdcd00\">fine-sweep-1</strong> at: <a href='https://wandb.ai/kyskyj22-aiffel/jellyfish_classification/runs/2q21nu13' target=\"_blank\">https://wandb.ai/kyskyj22-aiffel/jellyfish_classification/runs/2q21nu13</a><br/>Synced 5 W&B file(s), 1 media file(s), 12 artifact file(s) and 1 other file(s)"
      ],
      "text/plain": [
       "<IPython.core.display.HTML object>"
      ]
     },
     "metadata": {},
     "output_type": "display_data"
    },
    {
     "data": {
      "text/html": [
       "Find logs at: <code>./wandb/run-20241115_074414-2q21nu13/logs</code>"
      ],
      "text/plain": [
       "<IPython.core.display.HTML object>"
      ]
     },
     "metadata": {},
     "output_type": "display_data"
    },
    {
     "name": "stderr",
     "output_type": "stream",
     "text": [
      "\u001b[34m\u001b[1mwandb\u001b[0m: Agent Starting Run: arh3jpkt with config:\n",
      "\u001b[34m\u001b[1mwandb\u001b[0m: \tbatch_size: 16\n",
      "\u001b[34m\u001b[1mwandb\u001b[0m: \tepochs: 10\n",
      "\u001b[34m\u001b[1mwandb\u001b[0m: \tlr: 1.000542096144383\n",
      "\u001b[34m\u001b[1mwandb\u001b[0m: \u001b[33mWARNING\u001b[0m Ignored wandb.init() arg project when running a sweep.\n"
     ]
    },
    {
     "data": {
      "text/html": [
       "wandb version 0.18.7 is available!  To upgrade, please run:\n",
       " $ pip install wandb --upgrade"
      ],
      "text/plain": [
       "<IPython.core.display.HTML object>"
      ]
     },
     "metadata": {},
     "output_type": "display_data"
    },
    {
     "data": {
      "text/html": [
       "Tracking run with wandb version 0.16.0"
      ],
      "text/plain": [
       "<IPython.core.display.HTML object>"
      ]
     },
     "metadata": {},
     "output_type": "display_data"
    },
    {
     "data": {
      "text/html": [
       "Run data is saved locally in <code>/aiffel/aiffel/jellyfish/wandb/run-20241115_074546-arh3jpkt</code>"
      ],
      "text/plain": [
       "<IPython.core.display.HTML object>"
      ]
     },
     "metadata": {},
     "output_type": "display_data"
    },
    {
     "data": {
      "text/html": [
       "Syncing run <strong><a href='https://wandb.ai/kyskyj22-aiffel/jellyfish_classification/runs/arh3jpkt' target=\"_blank\">misunderstood-sweep-2</a></strong> to <a href='https://wandb.ai/kyskyj22-aiffel/jellyfish_classification' target=\"_blank\">Weights & Biases</a> (<a href='https://wandb.me/run' target=\"_blank\">docs</a>)<br/>Sweep page: <a href='https://wandb.ai/kyskyj22-aiffel/jellyfish_classification/sweeps/rpl6i6uu' target=\"_blank\">https://wandb.ai/kyskyj22-aiffel/jellyfish_classification/sweeps/rpl6i6uu</a>"
      ],
      "text/plain": [
       "<IPython.core.display.HTML object>"
      ]
     },
     "metadata": {},
     "output_type": "display_data"
    },
    {
     "data": {
      "text/html": [
       " View project at <a href='https://wandb.ai/kyskyj22-aiffel/jellyfish_classification' target=\"_blank\">https://wandb.ai/kyskyj22-aiffel/jellyfish_classification</a>"
      ],
      "text/plain": [
       "<IPython.core.display.HTML object>"
      ]
     },
     "metadata": {},
     "output_type": "display_data"
    },
    {
     "data": {
      "text/html": [
       " View sweep at <a href='https://wandb.ai/kyskyj22-aiffel/jellyfish_classification/sweeps/rpl6i6uu' target=\"_blank\">https://wandb.ai/kyskyj22-aiffel/jellyfish_classification/sweeps/rpl6i6uu</a>"
      ],
      "text/plain": [
       "<IPython.core.display.HTML object>"
      ]
     },
     "metadata": {},
     "output_type": "display_data"
    },
    {
     "data": {
      "text/html": [
       " View run at <a href='https://wandb.ai/kyskyj22-aiffel/jellyfish_classification/runs/arh3jpkt' target=\"_blank\">https://wandb.ai/kyskyj22-aiffel/jellyfish_classification/runs/arh3jpkt</a>"
      ],
      "text/plain": [
       "<IPython.core.display.HTML object>"
      ]
     },
     "metadata": {},
     "output_type": "display_data"
    },
    {
     "name": "stdout",
     "output_type": "stream",
     "text": [
      "Found 900 images belonging to 6 classes.\n",
      "Found 39 images belonging to 6 classes.\n",
      "Epoch 1/10\n",
      "29/29 [==============================] - 10s 333ms/step - loss: 18589364.0000 - accuracy: 0.1700 - val_loss: 2.0621 - val_accuracy: 0.1795\n",
      "INFO:tensorflow:Assets written to: /aiffel/aiffel/jellyfish/wandb/run-20241115_074546-arh3jpkt/files/model-best/assets\n"
     ]
    },
    {
     "name": "stderr",
     "output_type": "stream",
     "text": [
      "\u001b[34m\u001b[1mwandb\u001b[0m: Adding directory to artifact (/aiffel/aiffel/jellyfish/wandb/run-20241115_074546-arh3jpkt/files/model-best)... Done. 4.7s\n"
     ]
    },
    {
     "name": "stdout",
     "output_type": "stream",
     "text": [
      "Epoch 2/10\n",
      "29/29 [==============================] - 10s 344ms/step - loss: 1.9445 - accuracy: 0.1633 - val_loss: 1.8057 - val_accuracy: 0.1795\n",
      "INFO:tensorflow:Assets written to: /aiffel/aiffel/jellyfish/wandb/run-20241115_074546-arh3jpkt/files/model-best/assets\n"
     ]
    },
    {
     "name": "stderr",
     "output_type": "stream",
     "text": [
      "\u001b[34m\u001b[1mwandb\u001b[0m: Adding directory to artifact (/aiffel/aiffel/jellyfish/wandb/run-20241115_074546-arh3jpkt/files/model-best)... Done. 3.2s\n"
     ]
    },
    {
     "name": "stdout",
     "output_type": "stream",
     "text": [
      "Epoch 3/10\n",
      "29/29 [==============================] - 10s 338ms/step - loss: 1.8299 - accuracy: 0.1578 - val_loss: 1.8524 - val_accuracy: 0.1538\n",
      "Epoch 4/10\n",
      "29/29 [==============================] - 10s 328ms/step - loss: 1.8423 - accuracy: 0.1533 - val_loss: 1.8058 - val_accuracy: 0.1795\n",
      "Epoch 5/10\n",
      "29/29 [==============================] - 10s 326ms/step - loss: 1.8234 - accuracy: 0.1556 - val_loss: 1.8441 - val_accuracy: 0.1795\n",
      "Epoch 6/10\n",
      "29/29 [==============================] - 10s 331ms/step - loss: 1.8760 - accuracy: 0.1689 - val_loss: 1.8385 - val_accuracy: 0.1795\n",
      "Epoch 7/10\n",
      "29/29 [==============================] - 10s 325ms/step - loss: 1.8498 - accuracy: 0.1689 - val_loss: 1.9264 - val_accuracy: 0.1795\n",
      "Epoch 8/10\n",
      "29/29 [==============================] - 10s 328ms/step - loss: 1.8889 - accuracy: 0.1567 - val_loss: 1.9003 - val_accuracy: 0.1282\n",
      "Epoch 9/10\n",
      "29/29 [==============================] - 9s 322ms/step - loss: 1.8451 - accuracy: 0.1467 - val_loss: 1.8568 - val_accuracy: 0.1795\n",
      "Epoch 10/10\n",
      "29/29 [==============================] - 9s 322ms/step - loss: 1.8582 - accuracy: 0.1733 - val_loss: 1.8456 - val_accuracy: 0.1282\n"
     ]
    },
    {
     "data": {
      "application/vnd.jupyter.widget-view+json": {
       "model_id": "",
       "version_major": 2,
       "version_minor": 0
      },
      "text/plain": [
       "VBox(children=(Label(value='821.170 MB of 821.170 MB uploaded (0.014 MB deduped)\\r'), FloatProgress(value=1.0,…"
      ]
     },
     "metadata": {},
     "output_type": "display_data"
    },
    {
     "data": {
      "text/html": [
       "<style>\n",
       "    table.wandb td:nth-child(1) { padding: 0 10px; text-align: left ; width: auto;} td:nth-child(2) {text-align: left ; width: 100%}\n",
       "    .wandb-row { display: flex; flex-direction: row; flex-wrap: wrap; justify-content: flex-start; width: 100% }\n",
       "    .wandb-col { display: flex; flex-direction: column; flex-basis: 100%; flex: 1; padding: 10px; }\n",
       "    </style>\n",
       "<div class=\"wandb-row\"><div class=\"wandb-col\"><h3>Run history:</h3><br/><table class=\"wandb\"><tr><td>accuracy</td><td>▇▅▄▃▃▇▇▄▁█</td></tr><tr><td>epoch</td><td>▁▂▃▃▄▅▆▆▇█</td></tr><tr><td>loss</td><td>█▁▁▁▁▁▁▁▁▁</td></tr><tr><td>val_accuracy</td><td>██▅████▁█▁▁</td></tr><tr><td>val_loss</td><td>█▁▂▁▂▂▄▄▂▂</td></tr></table><br/></div><div class=\"wandb-col\"><h3>Run summary:</h3><br/><table class=\"wandb\"><tr><td>accuracy</td><td>0.17333</td></tr><tr><td>best_epoch</td><td>1</td></tr><tr><td>best_val_loss</td><td>1.80568</td></tr><tr><td>epoch</td><td>9</td></tr><tr><td>loss</td><td>1.8582</td></tr><tr><td>val_accuracy</td><td>0.12821</td></tr><tr><td>val_loss</td><td>1.84562</td></tr></table><br/></div></div>"
      ],
      "text/plain": [
       "<IPython.core.display.HTML object>"
      ]
     },
     "metadata": {},
     "output_type": "display_data"
    },
    {
     "data": {
      "text/html": [
       " View run <strong style=\"color:#cdcd00\">misunderstood-sweep-2</strong> at: <a href='https://wandb.ai/kyskyj22-aiffel/jellyfish_classification/runs/arh3jpkt' target=\"_blank\">https://wandb.ai/kyskyj22-aiffel/jellyfish_classification/runs/arh3jpkt</a><br/>Synced 5 W&B file(s), 1 media file(s), 8 artifact file(s) and 1 other file(s)"
      ],
      "text/plain": [
       "<IPython.core.display.HTML object>"
      ]
     },
     "metadata": {},
     "output_type": "display_data"
    },
    {
     "data": {
      "text/html": [
       "Find logs at: <code>./wandb/run-20241115_074546-arh3jpkt/logs</code>"
      ],
      "text/plain": [
       "<IPython.core.display.HTML object>"
      ]
     },
     "metadata": {},
     "output_type": "display_data"
    },
    {
     "name": "stderr",
     "output_type": "stream",
     "text": [
      "\u001b[34m\u001b[1mwandb\u001b[0m: Agent Starting Run: zs165xez with config:\n",
      "\u001b[34m\u001b[1mwandb\u001b[0m: \tbatch_size: 16\n",
      "\u001b[34m\u001b[1mwandb\u001b[0m: \tepochs: 20\n",
      "\u001b[34m\u001b[1mwandb\u001b[0m: \tlr: 1.0064279877040254\n",
      "\u001b[34m\u001b[1mwandb\u001b[0m: \u001b[33mWARNING\u001b[0m Ignored wandb.init() arg project when running a sweep.\n"
     ]
    },
    {
     "data": {
      "text/html": [
       "wandb version 0.18.7 is available!  To upgrade, please run:\n",
       " $ pip install wandb --upgrade"
      ],
      "text/plain": [
       "<IPython.core.display.HTML object>"
      ]
     },
     "metadata": {},
     "output_type": "display_data"
    },
    {
     "data": {
      "text/html": [
       "Tracking run with wandb version 0.16.0"
      ],
      "text/plain": [
       "<IPython.core.display.HTML object>"
      ]
     },
     "metadata": {},
     "output_type": "display_data"
    },
    {
     "data": {
      "text/html": [
       "Run data is saved locally in <code>/aiffel/aiffel/jellyfish/wandb/run-20241115_074753-zs165xez</code>"
      ],
      "text/plain": [
       "<IPython.core.display.HTML object>"
      ]
     },
     "metadata": {},
     "output_type": "display_data"
    },
    {
     "data": {
      "text/html": [
       "Syncing run <strong><a href='https://wandb.ai/kyskyj22-aiffel/jellyfish_classification/runs/zs165xez' target=\"_blank\">comfy-sweep-3</a></strong> to <a href='https://wandb.ai/kyskyj22-aiffel/jellyfish_classification' target=\"_blank\">Weights & Biases</a> (<a href='https://wandb.me/run' target=\"_blank\">docs</a>)<br/>Sweep page: <a href='https://wandb.ai/kyskyj22-aiffel/jellyfish_classification/sweeps/rpl6i6uu' target=\"_blank\">https://wandb.ai/kyskyj22-aiffel/jellyfish_classification/sweeps/rpl6i6uu</a>"
      ],
      "text/plain": [
       "<IPython.core.display.HTML object>"
      ]
     },
     "metadata": {},
     "output_type": "display_data"
    },
    {
     "data": {
      "text/html": [
       " View project at <a href='https://wandb.ai/kyskyj22-aiffel/jellyfish_classification' target=\"_blank\">https://wandb.ai/kyskyj22-aiffel/jellyfish_classification</a>"
      ],
      "text/plain": [
       "<IPython.core.display.HTML object>"
      ]
     },
     "metadata": {},
     "output_type": "display_data"
    },
    {
     "data": {
      "text/html": [
       " View sweep at <a href='https://wandb.ai/kyskyj22-aiffel/jellyfish_classification/sweeps/rpl6i6uu' target=\"_blank\">https://wandb.ai/kyskyj22-aiffel/jellyfish_classification/sweeps/rpl6i6uu</a>"
      ],
      "text/plain": [
       "<IPython.core.display.HTML object>"
      ]
     },
     "metadata": {},
     "output_type": "display_data"
    },
    {
     "data": {
      "text/html": [
       " View run at <a href='https://wandb.ai/kyskyj22-aiffel/jellyfish_classification/runs/zs165xez' target=\"_blank\">https://wandb.ai/kyskyj22-aiffel/jellyfish_classification/runs/zs165xez</a>"
      ],
      "text/plain": [
       "<IPython.core.display.HTML object>"
      ]
     },
     "metadata": {},
     "output_type": "display_data"
    },
    {
     "name": "stdout",
     "output_type": "stream",
     "text": [
      "Found 900 images belonging to 6 classes.\n",
      "Found 39 images belonging to 6 classes.\n",
      "Epoch 1/20\n",
      "29/29 [==============================] - 10s 332ms/step - loss: 40764804.0000 - accuracy: 0.1656 - val_loss: 3.6367 - val_accuracy: 0.1795\n",
      "INFO:tensorflow:Assets written to: /aiffel/aiffel/jellyfish/wandb/run-20241115_074753-zs165xez/files/model-best/assets\n"
     ]
    },
    {
     "name": "stderr",
     "output_type": "stream",
     "text": [
      "\u001b[34m\u001b[1mwandb\u001b[0m: Adding directory to artifact (/aiffel/aiffel/jellyfish/wandb/run-20241115_074753-zs165xez/files/model-best)... Done. 4.7s\n"
     ]
    },
    {
     "name": "stdout",
     "output_type": "stream",
     "text": [
      "Epoch 2/20\n",
      "29/29 [==============================] - 10s 339ms/step - loss: 2.2521 - accuracy: 0.1678 - val_loss: 1.8543 - val_accuracy: 0.1795\n",
      "INFO:tensorflow:Assets written to: /aiffel/aiffel/jellyfish/wandb/run-20241115_074753-zs165xez/files/model-best/assets\n"
     ]
    },
    {
     "name": "stderr",
     "output_type": "stream",
     "text": [
      "\u001b[34m\u001b[1mwandb\u001b[0m: Adding directory to artifact (/aiffel/aiffel/jellyfish/wandb/run-20241115_074753-zs165xez/files/model-best)... Done. 5.5s\n"
     ]
    },
    {
     "name": "stdout",
     "output_type": "stream",
     "text": [
      "Epoch 3/20\n",
      "29/29 [==============================] - 10s 335ms/step - loss: 1.8524 - accuracy: 0.1478 - val_loss: 1.8310 - val_accuracy: 0.1795\n",
      "INFO:tensorflow:Assets written to: /aiffel/aiffel/jellyfish/wandb/run-20241115_074753-zs165xez/files/model-best/assets\n"
     ]
    },
    {
     "name": "stderr",
     "output_type": "stream",
     "text": [
      "\u001b[34m\u001b[1mwandb\u001b[0m: Adding directory to artifact (/aiffel/aiffel/jellyfish/wandb/run-20241115_074753-zs165xez/files/model-best)... Done. 3.2s\n"
     ]
    },
    {
     "name": "stdout",
     "output_type": "stream",
     "text": [
      "Epoch 4/20\n",
      "29/29 [==============================] - 10s 339ms/step - loss: 1.8607 - accuracy: 0.1556 - val_loss: 1.8273 - val_accuracy: 0.1795\n",
      "INFO:tensorflow:Assets written to: /aiffel/aiffel/jellyfish/wandb/run-20241115_074753-zs165xez/files/model-best/assets\n"
     ]
    },
    {
     "name": "stderr",
     "output_type": "stream",
     "text": [
      "\u001b[34m\u001b[1mwandb\u001b[0m: Adding directory to artifact (/aiffel/aiffel/jellyfish/wandb/run-20241115_074753-zs165xez/files/model-best)... Done. 3.4s\n"
     ]
    },
    {
     "name": "stdout",
     "output_type": "stream",
     "text": [
      "Epoch 5/20\n",
      "29/29 [==============================] - 10s 340ms/step - loss: 1.8084 - accuracy: 0.1600 - val_loss: 1.8633 - val_accuracy: 0.1795\n",
      "Epoch 6/20\n",
      "29/29 [==============================] - 9s 322ms/step - loss: 1.8834 - accuracy: 0.1589 - val_loss: 1.8210 - val_accuracy: 0.1795\n",
      "INFO:tensorflow:Assets written to: /aiffel/aiffel/jellyfish/wandb/run-20241115_074753-zs165xez/files/model-best/assets\n"
     ]
    },
    {
     "name": "stderr",
     "output_type": "stream",
     "text": [
      "\u001b[34m\u001b[1mwandb\u001b[0m: Adding directory to artifact (/aiffel/aiffel/jellyfish/wandb/run-20241115_074753-zs165xez/files/model-best)... Done. 3.2s\n"
     ]
    },
    {
     "name": "stdout",
     "output_type": "stream",
     "text": [
      "Epoch 7/20\n",
      "29/29 [==============================] - 10s 336ms/step - loss: 1.8576 - accuracy: 0.1600 - val_loss: 1.8184 - val_accuracy: 0.1795\n",
      "INFO:tensorflow:Assets written to: /aiffel/aiffel/jellyfish/wandb/run-20241115_074753-zs165xez/files/model-best/assets\n"
     ]
    },
    {
     "name": "stderr",
     "output_type": "stream",
     "text": [
      "\u001b[34m\u001b[1mwandb\u001b[0m: Adding directory to artifact (/aiffel/aiffel/jellyfish/wandb/run-20241115_074753-zs165xez/files/model-best)... Done. 3.4s\n"
     ]
    },
    {
     "name": "stdout",
     "output_type": "stream",
     "text": [
      "Epoch 8/20\n",
      "29/29 [==============================] - 10s 335ms/step - loss: 1.8522 - accuracy: 0.1544 - val_loss: 1.8721 - val_accuracy: 0.1795\n",
      "Epoch 9/20\n",
      "29/29 [==============================] - 9s 322ms/step - loss: 1.8519 - accuracy: 0.1689 - val_loss: 1.9147 - val_accuracy: 0.1795\n",
      "Epoch 10/20\n",
      "29/29 [==============================] - 10s 327ms/step - loss: 1.8503 - accuracy: 0.1944 - val_loss: 1.8467 - val_accuracy: 0.1538\n",
      "Epoch 11/20\n",
      "29/29 [==============================] - 9s 322ms/step - loss: 1.8574 - accuracy: 0.1444 - val_loss: 1.8155 - val_accuracy: 0.1795\n",
      "INFO:tensorflow:Assets written to: /aiffel/aiffel/jellyfish/wandb/run-20241115_074753-zs165xez/files/model-best/assets\n"
     ]
    },
    {
     "name": "stderr",
     "output_type": "stream",
     "text": [
      "\u001b[34m\u001b[1mwandb\u001b[0m: Adding directory to artifact (/aiffel/aiffel/jellyfish/wandb/run-20241115_074753-zs165xez/files/model-best)... Done. 3.5s\n"
     ]
    },
    {
     "name": "stdout",
     "output_type": "stream",
     "text": [
      "Epoch 12/20\n",
      "29/29 [==============================] - 10s 329ms/step - loss: 1.8281 - accuracy: 0.1500 - val_loss: 1.8993 - val_accuracy: 0.1282\n",
      "Epoch 13/20\n",
      "29/29 [==============================] - 9s 323ms/step - loss: 1.8359 - accuracy: 0.1544 - val_loss: 1.8501 - val_accuracy: 0.1282\n",
      "Epoch 14/20\n",
      "29/29 [==============================] - 9s 324ms/step - loss: 1.9084 - accuracy: 0.1522 - val_loss: 1.8557 - val_accuracy: 0.1795\n",
      "Epoch 15/20\n",
      "29/29 [==============================] - 10s 328ms/step - loss: 1.8413 - accuracy: 0.1722 - val_loss: 1.9169 - val_accuracy: 0.1538\n",
      "Epoch 16/20\n",
      "29/29 [==============================] - 9s 323ms/step - loss: 1.8730 - accuracy: 0.1622 - val_loss: 1.8883 - val_accuracy: 0.1795\n",
      "Epoch 17/20\n",
      "29/29 [==============================] - 10s 325ms/step - loss: 1.9064 - accuracy: 0.1656 - val_loss: 1.8435 - val_accuracy: 0.1795\n",
      "Epoch 18/20\n",
      "29/29 [==============================] - 9s 323ms/step - loss: 1.8574 - accuracy: 0.1600 - val_loss: 1.8307 - val_accuracy: 0.1795\n",
      "Epoch 19/20\n",
      "29/29 [==============================] - 10s 325ms/step - loss: 1.8651 - accuracy: 0.1644 - val_loss: 1.8525 - val_accuracy: 0.1795\n",
      "Epoch 20/20\n",
      "29/29 [==============================] - 10s 325ms/step - loss: 1.8779 - accuracy: 0.1700 - val_loss: 1.9013 - val_accuracy: 0.1795\n"
     ]
    },
    {
     "data": {
      "application/vnd.jupyter.widget-view+json": {
       "model_id": "",
       "version_major": 2,
       "version_minor": 0
      },
      "text/plain": [
       "VBox(children=(Label(value='2007.535 MB of 2007.535 MB uploaded (0.087 MB deduped)\\r'), FloatProgress(value=1.…"
      ]
     },
     "metadata": {},
     "output_type": "display_data"
    },
    {
     "data": {
      "text/html": [
       "<style>\n",
       "    table.wandb td:nth-child(1) { padding: 0 10px; text-align: left ; width: auto;} td:nth-child(2) {text-align: left ; width: 100%}\n",
       "    .wandb-row { display: flex; flex-direction: row; flex-wrap: wrap; justify-content: flex-start; width: 100% }\n",
       "    .wandb-col { display: flex; flex-direction: column; flex-basis: 100%; flex: 1; padding: 10px; }\n",
       "    </style>\n",
       "<div class=\"wandb-row\"><div class=\"wandb-col\"><h3>Run history:</h3><br/><table class=\"wandb\"><tr><td>accuracy</td><td>▄▄▁▃▃▃▃▂▄█▁▂▂▂▅▃▄▃▄▅</td></tr><tr><td>epoch</td><td>▁▁▂▂▂▃▃▄▄▄▅▅▅▆▆▇▇▇██</td></tr><tr><td>loss</td><td>█▁▁▁▁▁▁▁▁▁▁▁▁▁▁▁▁▁▁▁</td></tr><tr><td>val_accuracy</td><td>█████████▅█▁▁█▅██████</td></tr><tr><td>val_loss</td><td>█▁▁▁▁▁▁▁▁▁▁▁▁▁▁▁▁▁▁▁</td></tr></table><br/></div><div class=\"wandb-col\"><h3>Run summary:</h3><br/><table class=\"wandb\"><tr><td>accuracy</td><td>0.17</td></tr><tr><td>best_epoch</td><td>10</td></tr><tr><td>best_val_loss</td><td>1.81545</td></tr><tr><td>epoch</td><td>19</td></tr><tr><td>loss</td><td>1.87795</td></tr><tr><td>val_accuracy</td><td>0.17949</td></tr><tr><td>val_loss</td><td>1.90132</td></tr></table><br/></div></div>"
      ],
      "text/plain": [
       "<IPython.core.display.HTML object>"
      ]
     },
     "metadata": {},
     "output_type": "display_data"
    },
    {
     "data": {
      "text/html": [
       " View run <strong style=\"color:#cdcd00\">comfy-sweep-3</strong> at: <a href='https://wandb.ai/kyskyj22-aiffel/jellyfish_classification/runs/zs165xez' target=\"_blank\">https://wandb.ai/kyskyj22-aiffel/jellyfish_classification/runs/zs165xez</a><br/>Synced 5 W&B file(s), 1 media file(s), 28 artifact file(s) and 1 other file(s)"
      ],
      "text/plain": [
       "<IPython.core.display.HTML object>"
      ]
     },
     "metadata": {},
     "output_type": "display_data"
    },
    {
     "data": {
      "text/html": [
       "Find logs at: <code>./wandb/run-20241115_074753-zs165xez/logs</code>"
      ],
      "text/plain": [
       "<IPython.core.display.HTML object>"
      ]
     },
     "metadata": {},
     "output_type": "display_data"
    },
    {
     "name": "stderr",
     "output_type": "stream",
     "text": [
      "\u001b[34m\u001b[1mwandb\u001b[0m: Agent Starting Run: eglxmcuv with config:\n",
      "\u001b[34m\u001b[1mwandb\u001b[0m: \tbatch_size: 16\n",
      "\u001b[34m\u001b[1mwandb\u001b[0m: \tepochs: 5\n",
      "\u001b[34m\u001b[1mwandb\u001b[0m: \tlr: 1.0029591829920752\n",
      "\u001b[34m\u001b[1mwandb\u001b[0m: \u001b[33mWARNING\u001b[0m Ignored wandb.init() arg project when running a sweep.\n"
     ]
    },
    {
     "data": {
      "text/html": [
       "wandb version 0.18.7 is available!  To upgrade, please run:\n",
       " $ pip install wandb --upgrade"
      ],
      "text/plain": [
       "<IPython.core.display.HTML object>"
      ]
     },
     "metadata": {},
     "output_type": "display_data"
    },
    {
     "data": {
      "text/html": [
       "Tracking run with wandb version 0.16.0"
      ],
      "text/plain": [
       "<IPython.core.display.HTML object>"
      ]
     },
     "metadata": {},
     "output_type": "display_data"
    },
    {
     "data": {
      "text/html": [
       "Run data is saved locally in <code>/aiffel/aiffel/jellyfish/wandb/run-20241115_075226-eglxmcuv</code>"
      ],
      "text/plain": [
       "<IPython.core.display.HTML object>"
      ]
     },
     "metadata": {},
     "output_type": "display_data"
    },
    {
     "data": {
      "text/html": [
       "Syncing run <strong><a href='https://wandb.ai/kyskyj22-aiffel/jellyfish_classification/runs/eglxmcuv' target=\"_blank\">magic-sweep-4</a></strong> to <a href='https://wandb.ai/kyskyj22-aiffel/jellyfish_classification' target=\"_blank\">Weights & Biases</a> (<a href='https://wandb.me/run' target=\"_blank\">docs</a>)<br/>Sweep page: <a href='https://wandb.ai/kyskyj22-aiffel/jellyfish_classification/sweeps/rpl6i6uu' target=\"_blank\">https://wandb.ai/kyskyj22-aiffel/jellyfish_classification/sweeps/rpl6i6uu</a>"
      ],
      "text/plain": [
       "<IPython.core.display.HTML object>"
      ]
     },
     "metadata": {},
     "output_type": "display_data"
    },
    {
     "data": {
      "text/html": [
       " View project at <a href='https://wandb.ai/kyskyj22-aiffel/jellyfish_classification' target=\"_blank\">https://wandb.ai/kyskyj22-aiffel/jellyfish_classification</a>"
      ],
      "text/plain": [
       "<IPython.core.display.HTML object>"
      ]
     },
     "metadata": {},
     "output_type": "display_data"
    },
    {
     "data": {
      "text/html": [
       " View sweep at <a href='https://wandb.ai/kyskyj22-aiffel/jellyfish_classification/sweeps/rpl6i6uu' target=\"_blank\">https://wandb.ai/kyskyj22-aiffel/jellyfish_classification/sweeps/rpl6i6uu</a>"
      ],
      "text/plain": [
       "<IPython.core.display.HTML object>"
      ]
     },
     "metadata": {},
     "output_type": "display_data"
    },
    {
     "data": {
      "text/html": [
       " View run at <a href='https://wandb.ai/kyskyj22-aiffel/jellyfish_classification/runs/eglxmcuv' target=\"_blank\">https://wandb.ai/kyskyj22-aiffel/jellyfish_classification/runs/eglxmcuv</a>"
      ],
      "text/plain": [
       "<IPython.core.display.HTML object>"
      ]
     },
     "metadata": {},
     "output_type": "display_data"
    },
    {
     "name": "stdout",
     "output_type": "stream",
     "text": [
      "Found 900 images belonging to 6 classes.\n",
      "Found 39 images belonging to 6 classes.\n",
      "Epoch 1/5\n",
      "29/29 [==============================] - 10s 330ms/step - loss: 19362150.0000 - accuracy: 0.1811 - val_loss: 2.9162 - val_accuracy: 0.1795\n",
      "INFO:tensorflow:Assets written to: /aiffel/aiffel/jellyfish/wandb/run-20241115_075226-eglxmcuv/files/model-best/assets\n"
     ]
    },
    {
     "name": "stderr",
     "output_type": "stream",
     "text": [
      "\u001b[34m\u001b[1mwandb\u001b[0m: Adding directory to artifact (/aiffel/aiffel/jellyfish/wandb/run-20241115_075226-eglxmcuv/files/model-best)... Done. 3.5s\n"
     ]
    },
    {
     "name": "stdout",
     "output_type": "stream",
     "text": [
      "Epoch 2/5\n",
      "29/29 [==============================] - 10s 343ms/step - loss: 2.1460 - accuracy: 0.1656 - val_loss: 1.8196 - val_accuracy: 0.1282\n",
      "INFO:tensorflow:Assets written to: /aiffel/aiffel/jellyfish/wandb/run-20241115_075226-eglxmcuv/files/model-best/assets\n"
     ]
    },
    {
     "name": "stderr",
     "output_type": "stream",
     "text": [
      "\u001b[34m\u001b[1mwandb\u001b[0m: Adding directory to artifact (/aiffel/aiffel/jellyfish/wandb/run-20241115_075226-eglxmcuv/files/model-best)... Done. 3.6s\n"
     ]
    },
    {
     "name": "stdout",
     "output_type": "stream",
     "text": [
      "Epoch 3/5\n",
      "29/29 [==============================] - 10s 348ms/step - loss: 2.0125 - accuracy: 0.1711 - val_loss: 2.8986 - val_accuracy: 0.1795\n",
      "Epoch 4/5\n",
      "29/29 [==============================] - 9s 321ms/step - loss: 2.1876 - accuracy: 0.1722 - val_loss: 2.5710 - val_accuracy: 0.1795\n",
      "Epoch 5/5\n",
      "29/29 [==============================] - 10s 328ms/step - loss: 2.1688 - accuracy: 0.1567 - val_loss: 1.8432 - val_accuracy: 0.1795\n"
     ]
    },
    {
     "data": {
      "application/vnd.jupyter.widget-view+json": {
       "model_id": "",
       "version_major": 2,
       "version_minor": 0
      },
      "text/plain": [
       "VBox(children=(Label(value='821.170 MB of 821.170 MB uploaded (0.014 MB deduped)\\r'), FloatProgress(value=1.0,…"
      ]
     },
     "metadata": {},
     "output_type": "display_data"
    },
    {
     "data": {
      "text/html": [
       "<style>\n",
       "    table.wandb td:nth-child(1) { padding: 0 10px; text-align: left ; width: auto;} td:nth-child(2) {text-align: left ; width: 100%}\n",
       "    .wandb-row { display: flex; flex-direction: row; flex-wrap: wrap; justify-content: flex-start; width: 100% }\n",
       "    .wandb-col { display: flex; flex-direction: column; flex-basis: 100%; flex: 1; padding: 10px; }\n",
       "    </style>\n",
       "<div class=\"wandb-row\"><div class=\"wandb-col\"><h3>Run history:</h3><br/><table class=\"wandb\"><tr><td>accuracy</td><td>█▄▅▅▁</td></tr><tr><td>epoch</td><td>▁▃▅▆█</td></tr><tr><td>loss</td><td>█▁▁▁▁</td></tr><tr><td>val_accuracy</td><td>█▁████</td></tr><tr><td>val_loss</td><td>█▁█▆▁</td></tr></table><br/></div><div class=\"wandb-col\"><h3>Run summary:</h3><br/><table class=\"wandb\"><tr><td>accuracy</td><td>0.15667</td></tr><tr><td>best_epoch</td><td>1</td></tr><tr><td>best_val_loss</td><td>1.8196</td></tr><tr><td>epoch</td><td>4</td></tr><tr><td>loss</td><td>2.1688</td></tr><tr><td>val_accuracy</td><td>0.17949</td></tr><tr><td>val_loss</td><td>1.84322</td></tr></table><br/></div></div>"
      ],
      "text/plain": [
       "<IPython.core.display.HTML object>"
      ]
     },
     "metadata": {},
     "output_type": "display_data"
    },
    {
     "data": {
      "text/html": [
       " View run <strong style=\"color:#cdcd00\">magic-sweep-4</strong> at: <a href='https://wandb.ai/kyskyj22-aiffel/jellyfish_classification/runs/eglxmcuv' target=\"_blank\">https://wandb.ai/kyskyj22-aiffel/jellyfish_classification/runs/eglxmcuv</a><br/>Synced 5 W&B file(s), 1 media file(s), 8 artifact file(s) and 1 other file(s)"
      ],
      "text/plain": [
       "<IPython.core.display.HTML object>"
      ]
     },
     "metadata": {},
     "output_type": "display_data"
    },
    {
     "data": {
      "text/html": [
       "Find logs at: <code>./wandb/run-20241115_075226-eglxmcuv/logs</code>"
      ],
      "text/plain": [
       "<IPython.core.display.HTML object>"
      ]
     },
     "metadata": {},
     "output_type": "display_data"
    },
    {
     "name": "stderr",
     "output_type": "stream",
     "text": [
      "\u001b[34m\u001b[1mwandb\u001b[0m: Agent Starting Run: muqd83eg with config:\n",
      "\u001b[34m\u001b[1mwandb\u001b[0m: \tbatch_size: 16\n",
      "\u001b[34m\u001b[1mwandb\u001b[0m: \tepochs: 20\n",
      "\u001b[34m\u001b[1mwandb\u001b[0m: \tlr: 1.0047139806690135\n",
      "\u001b[34m\u001b[1mwandb\u001b[0m: \u001b[33mWARNING\u001b[0m Ignored wandb.init() arg project when running a sweep.\n"
     ]
    },
    {
     "data": {
      "text/html": [
       "wandb version 0.18.7 is available!  To upgrade, please run:\n",
       " $ pip install wandb --upgrade"
      ],
      "text/plain": [
       "<IPython.core.display.HTML object>"
      ]
     },
     "metadata": {},
     "output_type": "display_data"
    },
    {
     "data": {
      "text/html": [
       "Tracking run with wandb version 0.16.0"
      ],
      "text/plain": [
       "<IPython.core.display.HTML object>"
      ]
     },
     "metadata": {},
     "output_type": "display_data"
    },
    {
     "data": {
      "text/html": [
       "Run data is saved locally in <code>/aiffel/aiffel/jellyfish/wandb/run-20241115_075342-muqd83eg</code>"
      ],
      "text/plain": [
       "<IPython.core.display.HTML object>"
      ]
     },
     "metadata": {},
     "output_type": "display_data"
    },
    {
     "data": {
      "text/html": [
       "Syncing run <strong><a href='https://wandb.ai/kyskyj22-aiffel/jellyfish_classification/runs/muqd83eg' target=\"_blank\">likely-sweep-5</a></strong> to <a href='https://wandb.ai/kyskyj22-aiffel/jellyfish_classification' target=\"_blank\">Weights & Biases</a> (<a href='https://wandb.me/run' target=\"_blank\">docs</a>)<br/>Sweep page: <a href='https://wandb.ai/kyskyj22-aiffel/jellyfish_classification/sweeps/rpl6i6uu' target=\"_blank\">https://wandb.ai/kyskyj22-aiffel/jellyfish_classification/sweeps/rpl6i6uu</a>"
      ],
      "text/plain": [
       "<IPython.core.display.HTML object>"
      ]
     },
     "metadata": {},
     "output_type": "display_data"
    },
    {
     "data": {
      "text/html": [
       " View project at <a href='https://wandb.ai/kyskyj22-aiffel/jellyfish_classification' target=\"_blank\">https://wandb.ai/kyskyj22-aiffel/jellyfish_classification</a>"
      ],
      "text/plain": [
       "<IPython.core.display.HTML object>"
      ]
     },
     "metadata": {},
     "output_type": "display_data"
    },
    {
     "data": {
      "text/html": [
       " View sweep at <a href='https://wandb.ai/kyskyj22-aiffel/jellyfish_classification/sweeps/rpl6i6uu' target=\"_blank\">https://wandb.ai/kyskyj22-aiffel/jellyfish_classification/sweeps/rpl6i6uu</a>"
      ],
      "text/plain": [
       "<IPython.core.display.HTML object>"
      ]
     },
     "metadata": {},
     "output_type": "display_data"
    },
    {
     "data": {
      "text/html": [
       " View run at <a href='https://wandb.ai/kyskyj22-aiffel/jellyfish_classification/runs/muqd83eg' target=\"_blank\">https://wandb.ai/kyskyj22-aiffel/jellyfish_classification/runs/muqd83eg</a>"
      ],
      "text/plain": [
       "<IPython.core.display.HTML object>"
      ]
     },
     "metadata": {},
     "output_type": "display_data"
    },
    {
     "name": "stdout",
     "output_type": "stream",
     "text": [
      "Found 900 images belonging to 6 classes.\n",
      "Found 39 images belonging to 6 classes.\n",
      "Epoch 1/20\n",
      "29/29 [==============================] - 10s 334ms/step - loss: 77145064.0000 - accuracy: 0.1767 - val_loss: 2.8676 - val_accuracy: 0.1282\n",
      "INFO:tensorflow:Assets written to: /aiffel/aiffel/jellyfish/wandb/run-20241115_075342-muqd83eg/files/model-best/assets\n"
     ]
    },
    {
     "name": "stderr",
     "output_type": "stream",
     "text": [
      "\u001b[34m\u001b[1mwandb\u001b[0m: Adding directory to artifact (/aiffel/aiffel/jellyfish/wandb/run-20241115_075342-muqd83eg/files/model-best)... Done. 3.4s\n"
     ]
    },
    {
     "name": "stdout",
     "output_type": "stream",
     "text": [
      "Epoch 2/20\n",
      "29/29 [==============================] - 10s 340ms/step - loss: 2.0246 - accuracy: 0.1678 - val_loss: 1.9501 - val_accuracy: 0.1282\n",
      "INFO:tensorflow:Assets written to: /aiffel/aiffel/jellyfish/wandb/run-20241115_075342-muqd83eg/files/model-best/assets\n"
     ]
    },
    {
     "name": "stderr",
     "output_type": "stream",
     "text": [
      "\u001b[34m\u001b[1mwandb\u001b[0m: Adding directory to artifact (/aiffel/aiffel/jellyfish/wandb/run-20241115_075342-muqd83eg/files/model-best)... Done. 3.4s\n"
     ]
    },
    {
     "name": "stdout",
     "output_type": "stream",
     "text": [
      "Epoch 3/20\n",
      "29/29 [==============================] - 10s 342ms/step - loss: 1.8462 - accuracy: 0.1667 - val_loss: 1.8263 - val_accuracy: 0.1538\n",
      "INFO:tensorflow:Assets written to: /aiffel/aiffel/jellyfish/wandb/run-20241115_075342-muqd83eg/files/model-best/assets\n"
     ]
    },
    {
     "name": "stderr",
     "output_type": "stream",
     "text": [
      "\u001b[34m\u001b[1mwandb\u001b[0m: Adding directory to artifact (/aiffel/aiffel/jellyfish/wandb/run-20241115_075342-muqd83eg/files/model-best)... Done. 3.3s\n"
     ]
    },
    {
     "name": "stdout",
     "output_type": "stream",
     "text": [
      "Epoch 4/20\n",
      "29/29 [==============================] - 10s 345ms/step - loss: 1.8346 - accuracy: 0.1533 - val_loss: 1.8373 - val_accuracy: 0.1795\n",
      "Epoch 5/20\n",
      "29/29 [==============================] - 10s 326ms/step - loss: 1.9550 - accuracy: 0.1533 - val_loss: 1.9281 - val_accuracy: 0.1538\n",
      "Epoch 6/20\n",
      "29/29 [==============================] - 10s 326ms/step - loss: 1.8640 - accuracy: 0.1811 - val_loss: 1.8782 - val_accuracy: 0.1795\n",
      "Epoch 7/20\n",
      "29/29 [==============================] - 10s 326ms/step - loss: 1.8541 - accuracy: 0.1522 - val_loss: 1.8110 - val_accuracy: 0.1795\n",
      "INFO:tensorflow:Assets written to: /aiffel/aiffel/jellyfish/wandb/run-20241115_075342-muqd83eg/files/model-best/assets\n"
     ]
    },
    {
     "name": "stderr",
     "output_type": "stream",
     "text": [
      "\u001b[34m\u001b[1mwandb\u001b[0m: Adding directory to artifact (/aiffel/aiffel/jellyfish/wandb/run-20241115_075342-muqd83eg/files/model-best)... Done. 3.2s\n"
     ]
    },
    {
     "name": "stdout",
     "output_type": "stream",
     "text": [
      "Epoch 8/20\n",
      "29/29 [==============================] - 10s 345ms/step - loss: 1.8594 - accuracy: 0.1633 - val_loss: 1.8461 - val_accuracy: 0.1795\n",
      "Epoch 9/20\n",
      "29/29 [==============================] - 9s 324ms/step - loss: 1.8462 - accuracy: 0.1422 - val_loss: 1.8296 - val_accuracy: 0.1795\n",
      "Epoch 10/20\n",
      "29/29 [==============================] - 10s 326ms/step - loss: 1.8701 - accuracy: 0.1667 - val_loss: 1.9745 - val_accuracy: 0.1282\n",
      "Epoch 11/20\n",
      "29/29 [==============================] - 10s 341ms/step - loss: 1.8552 - accuracy: 0.1700 - val_loss: 1.7950 - val_accuracy: 0.1795\n",
      "INFO:tensorflow:Assets written to: /aiffel/aiffel/jellyfish/wandb/run-20241115_075342-muqd83eg/files/model-best/assets\n"
     ]
    },
    {
     "name": "stderr",
     "output_type": "stream",
     "text": [
      "\u001b[34m\u001b[1mwandb\u001b[0m: Adding directory to artifact (/aiffel/aiffel/jellyfish/wandb/run-20241115_075342-muqd83eg/files/model-best)... Done. 3.4s\n"
     ]
    },
    {
     "name": "stdout",
     "output_type": "stream",
     "text": [
      "Epoch 12/20\n",
      "29/29 [==============================] - 10s 329ms/step - loss: 1.8686 - accuracy: 0.1800 - val_loss: 1.9263 - val_accuracy: 0.1282\n",
      "Epoch 13/20\n",
      "29/29 [==============================] - 9s 321ms/step - loss: 1.8832 - accuracy: 0.1600 - val_loss: 1.9049 - val_accuracy: 0.1538\n",
      "Epoch 14/20\n",
      "29/29 [==============================] - 9s 323ms/step - loss: 1.8542 - accuracy: 0.1744 - val_loss: 1.8139 - val_accuracy: 0.1795\n",
      "Epoch 15/20\n",
      "29/29 [==============================] - 10s 326ms/step - loss: 1.8383 - accuracy: 0.1600 - val_loss: 1.8263 - val_accuracy: 0.1795\n",
      "Epoch 16/20\n",
      "29/29 [==============================] - 10s 327ms/step - loss: 1.8432 - accuracy: 0.1656 - val_loss: 1.8451 - val_accuracy: 0.1795\n",
      "Epoch 17/20\n",
      "29/29 [==============================] - 10s 325ms/step - loss: 1.8743 - accuracy: 0.1467 - val_loss: 1.9090 - val_accuracy: 0.1795\n",
      "Epoch 18/20\n",
      "29/29 [==============================] - 9s 322ms/step - loss: 1.8871 - accuracy: 0.1756 - val_loss: 1.9884 - val_accuracy: 0.1282\n",
      "Epoch 19/20\n",
      "29/29 [==============================] - 9s 322ms/step - loss: 1.8645 - accuracy: 0.1711 - val_loss: 1.7995 - val_accuracy: 0.1538\n",
      "Epoch 20/20\n",
      "29/29 [==============================] - 9s 320ms/step - loss: 1.8760 - accuracy: 0.1489 - val_loss: 1.9104 - val_accuracy: 0.1538\n"
     ]
    },
    {
     "data": {
      "application/vnd.jupyter.widget-view+json": {
       "model_id": "",
       "version_major": 2,
       "version_minor": 0
      },
      "text/plain": [
       "VBox(children=(Label(value='1460.017 MB of 1460.017 MB uploaded (0.058 MB deduped)\\r'), FloatProgress(value=1.…"
      ]
     },
     "metadata": {},
     "output_type": "display_data"
    },
    {
     "data": {
      "text/html": [
       "<style>\n",
       "    table.wandb td:nth-child(1) { padding: 0 10px; text-align: left ; width: auto;} td:nth-child(2) {text-align: left ; width: 100%}\n",
       "    .wandb-row { display: flex; flex-direction: row; flex-wrap: wrap; justify-content: flex-start; width: 100% }\n",
       "    .wandb-col { display: flex; flex-direction: column; flex-basis: 100%; flex: 1; padding: 10px; }\n",
       "    </style>\n",
       "<div class=\"wandb-row\"><div class=\"wandb-col\"><h3>Run history:</h3><br/><table class=\"wandb\"><tr><td>accuracy</td><td>▇▆▅▃▃█▃▅▁▅▆█▄▇▄▅▂▇▆▂</td></tr><tr><td>epoch</td><td>▁▁▂▂▂▃▃▄▄▄▅▅▅▆▆▇▇▇██</td></tr><tr><td>loss</td><td>█▁▁▁▁▁▁▁▁▁▁▁▁▁▁▁▁▁▁▁</td></tr><tr><td>val_accuracy</td><td>▁▁▅█▅████▁█▁▅████▁▅▅▅</td></tr><tr><td>val_loss</td><td>█▂▁▁▂▂▁▁▁▂▁▂▂▁▁▁▂▂▁▂</td></tr></table><br/></div><div class=\"wandb-col\"><h3>Run summary:</h3><br/><table class=\"wandb\"><tr><td>accuracy</td><td>0.14889</td></tr><tr><td>best_epoch</td><td>10</td></tr><tr><td>best_val_loss</td><td>1.79503</td></tr><tr><td>epoch</td><td>19</td></tr><tr><td>loss</td><td>1.876</td></tr><tr><td>val_accuracy</td><td>0.15385</td></tr><tr><td>val_loss</td><td>1.91044</td></tr></table><br/></div></div>"
      ],
      "text/plain": [
       "<IPython.core.display.HTML object>"
      ]
     },
     "metadata": {},
     "output_type": "display_data"
    },
    {
     "data": {
      "text/html": [
       " View run <strong style=\"color:#cdcd00\">likely-sweep-5</strong> at: <a href='https://wandb.ai/kyskyj22-aiffel/jellyfish_classification/runs/muqd83eg' target=\"_blank\">https://wandb.ai/kyskyj22-aiffel/jellyfish_classification/runs/muqd83eg</a><br/>Synced 5 W&B file(s), 1 media file(s), 20 artifact file(s) and 1 other file(s)"
      ],
      "text/plain": [
       "<IPython.core.display.HTML object>"
      ]
     },
     "metadata": {},
     "output_type": "display_data"
    },
    {
     "data": {
      "text/html": [
       "Find logs at: <code>./wandb/run-20241115_075342-muqd83eg/logs</code>"
      ],
      "text/plain": [
       "<IPython.core.display.HTML object>"
      ]
     },
     "metadata": {},
     "output_type": "display_data"
    },
    {
     "name": "stderr",
     "output_type": "stream",
     "text": [
      "\u001b[34m\u001b[1mwandb\u001b[0m: Agent Starting Run: 7k4exhli with config:\n",
      "\u001b[34m\u001b[1mwandb\u001b[0m: \tbatch_size: 16\n",
      "\u001b[34m\u001b[1mwandb\u001b[0m: \tepochs: 10\n",
      "\u001b[34m\u001b[1mwandb\u001b[0m: \tlr: 1.0050762134924869\n",
      "\u001b[34m\u001b[1mwandb\u001b[0m: \u001b[33mWARNING\u001b[0m Ignored wandb.init() arg project when running a sweep.\n"
     ]
    },
    {
     "data": {
      "text/html": [
       "wandb version 0.18.7 is available!  To upgrade, please run:\n",
       " $ pip install wandb --upgrade"
      ],
      "text/plain": [
       "<IPython.core.display.HTML object>"
      ]
     },
     "metadata": {},
     "output_type": "display_data"
    },
    {
     "data": {
      "text/html": [
       "Tracking run with wandb version 0.16.0"
      ],
      "text/plain": [
       "<IPython.core.display.HTML object>"
      ]
     },
     "metadata": {},
     "output_type": "display_data"
    },
    {
     "data": {
      "text/html": [
       "Run data is saved locally in <code>/aiffel/aiffel/jellyfish/wandb/run-20241115_075751-7k4exhli</code>"
      ],
      "text/plain": [
       "<IPython.core.display.HTML object>"
      ]
     },
     "metadata": {},
     "output_type": "display_data"
    },
    {
     "data": {
      "text/html": [
       "Syncing run <strong><a href='https://wandb.ai/kyskyj22-aiffel/jellyfish_classification/runs/7k4exhli' target=\"_blank\">soft-sweep-6</a></strong> to <a href='https://wandb.ai/kyskyj22-aiffel/jellyfish_classification' target=\"_blank\">Weights & Biases</a> (<a href='https://wandb.me/run' target=\"_blank\">docs</a>)<br/>Sweep page: <a href='https://wandb.ai/kyskyj22-aiffel/jellyfish_classification/sweeps/rpl6i6uu' target=\"_blank\">https://wandb.ai/kyskyj22-aiffel/jellyfish_classification/sweeps/rpl6i6uu</a>"
      ],
      "text/plain": [
       "<IPython.core.display.HTML object>"
      ]
     },
     "metadata": {},
     "output_type": "display_data"
    },
    {
     "data": {
      "text/html": [
       " View project at <a href='https://wandb.ai/kyskyj22-aiffel/jellyfish_classification' target=\"_blank\">https://wandb.ai/kyskyj22-aiffel/jellyfish_classification</a>"
      ],
      "text/plain": [
       "<IPython.core.display.HTML object>"
      ]
     },
     "metadata": {},
     "output_type": "display_data"
    },
    {
     "data": {
      "text/html": [
       " View sweep at <a href='https://wandb.ai/kyskyj22-aiffel/jellyfish_classification/sweeps/rpl6i6uu' target=\"_blank\">https://wandb.ai/kyskyj22-aiffel/jellyfish_classification/sweeps/rpl6i6uu</a>"
      ],
      "text/plain": [
       "<IPython.core.display.HTML object>"
      ]
     },
     "metadata": {},
     "output_type": "display_data"
    },
    {
     "data": {
      "text/html": [
       " View run at <a href='https://wandb.ai/kyskyj22-aiffel/jellyfish_classification/runs/7k4exhli' target=\"_blank\">https://wandb.ai/kyskyj22-aiffel/jellyfish_classification/runs/7k4exhli</a>"
      ],
      "text/plain": [
       "<IPython.core.display.HTML object>"
      ]
     },
     "metadata": {},
     "output_type": "display_data"
    },
    {
     "name": "stdout",
     "output_type": "stream",
     "text": [
      "Found 900 images belonging to 6 classes.\n",
      "Found 39 images belonging to 6 classes.\n",
      "Epoch 1/10\n",
      "29/29 [==============================] - 10s 333ms/step - loss: 21093064.0000 - accuracy: 0.1567 - val_loss: 5.5415 - val_accuracy: 0.1795\n",
      "INFO:tensorflow:Assets written to: /aiffel/aiffel/jellyfish/wandb/run-20241115_075751-7k4exhli/files/model-best/assets\n"
     ]
    },
    {
     "name": "stderr",
     "output_type": "stream",
     "text": [
      "\u001b[34m\u001b[1mwandb\u001b[0m: Adding directory to artifact (/aiffel/aiffel/jellyfish/wandb/run-20241115_075751-7k4exhli/files/model-best)... Done. 4.1s\n"
     ]
    },
    {
     "name": "stdout",
     "output_type": "stream",
     "text": [
      "Epoch 2/10\n",
      "29/29 [==============================] - 10s 335ms/step - loss: 4.1901 - accuracy: 0.1667 - val_loss: 1.9336 - val_accuracy: 0.1795\n",
      "INFO:tensorflow:Assets written to: /aiffel/aiffel/jellyfish/wandb/run-20241115_075751-7k4exhli/files/model-best/assets\n"
     ]
    },
    {
     "name": "stderr",
     "output_type": "stream",
     "text": [
      "\u001b[34m\u001b[1mwandb\u001b[0m: Adding directory to artifact (/aiffel/aiffel/jellyfish/wandb/run-20241115_075751-7k4exhli/files/model-best)... Done. 3.8s\n"
     ]
    },
    {
     "name": "stdout",
     "output_type": "stream",
     "text": [
      "Epoch 3/10\n",
      "29/29 [==============================] - 10s 335ms/step - loss: 1.9289 - accuracy: 0.1722 - val_loss: 1.8762 - val_accuracy: 0.1795\n",
      "INFO:tensorflow:Assets written to: /aiffel/aiffel/jellyfish/wandb/run-20241115_075751-7k4exhli/files/model-best/assets\n"
     ]
    },
    {
     "name": "stderr",
     "output_type": "stream",
     "text": [
      "\u001b[34m\u001b[1mwandb\u001b[0m: Adding directory to artifact (/aiffel/aiffel/jellyfish/wandb/run-20241115_075751-7k4exhli/files/model-best)... Done. 3.2s\n"
     ]
    },
    {
     "name": "stdout",
     "output_type": "stream",
     "text": [
      "Epoch 4/10\n",
      "29/29 [==============================] - 10s 337ms/step - loss: 1.8371 - accuracy: 0.1911 - val_loss: 1.8679 - val_accuracy: 0.1795\n",
      "INFO:tensorflow:Assets written to: /aiffel/aiffel/jellyfish/wandb/run-20241115_075751-7k4exhli/files/model-best/assets\n"
     ]
    },
    {
     "name": "stderr",
     "output_type": "stream",
     "text": [
      "\u001b[34m\u001b[1mwandb\u001b[0m: Adding directory to artifact (/aiffel/aiffel/jellyfish/wandb/run-20241115_075751-7k4exhli/files/model-best)... Done. 3.2s\n"
     ]
    },
    {
     "name": "stdout",
     "output_type": "stream",
     "text": [
      "Epoch 5/10\n",
      "29/29 [==============================] - 10s 347ms/step - loss: 1.8314 - accuracy: 0.1689 - val_loss: 1.8660 - val_accuracy: 0.1795\n",
      "INFO:tensorflow:Assets written to: /aiffel/aiffel/jellyfish/wandb/run-20241115_075751-7k4exhli/files/model-best/assets\n"
     ]
    },
    {
     "name": "stderr",
     "output_type": "stream",
     "text": [
      "\u001b[34m\u001b[1mwandb\u001b[0m: Adding directory to artifact (/aiffel/aiffel/jellyfish/wandb/run-20241115_075751-7k4exhli/files/model-best)... Done. 3.4s\n"
     ]
    },
    {
     "name": "stdout",
     "output_type": "stream",
     "text": [
      "Epoch 6/10\n",
      "29/29 [==============================] - 10s 348ms/step - loss: 1.8508 - accuracy: 0.1544 - val_loss: 1.7879 - val_accuracy: 0.1795\n",
      "INFO:tensorflow:Assets written to: /aiffel/aiffel/jellyfish/wandb/run-20241115_075751-7k4exhli/files/model-best/assets\n"
     ]
    },
    {
     "name": "stderr",
     "output_type": "stream",
     "text": [
      "\u001b[34m\u001b[1mwandb\u001b[0m: Adding directory to artifact (/aiffel/aiffel/jellyfish/wandb/run-20241115_075751-7k4exhli/files/model-best)... Done. 3.2s\n"
     ]
    },
    {
     "name": "stdout",
     "output_type": "stream",
     "text": [
      "Epoch 7/10\n",
      "29/29 [==============================] - 10s 336ms/step - loss: 1.8701 - accuracy: 0.1589 - val_loss: 1.8722 - val_accuracy: 0.1282\n",
      "Epoch 8/10\n",
      "29/29 [==============================] - 10s 328ms/step - loss: 1.8706 - accuracy: 0.1467 - val_loss: 1.8346 - val_accuracy: 0.1795\n",
      "Epoch 9/10\n",
      "29/29 [==============================] - 9s 323ms/step - loss: 1.8652 - accuracy: 0.1389 - val_loss: 1.7998 - val_accuracy: 0.1795\n",
      "Epoch 10/10\n",
      "29/29 [==============================] - 10s 325ms/step - loss: 1.8167 - accuracy: 0.1444 - val_loss: 1.8093 - val_accuracy: 0.1795\n"
     ]
    },
    {
     "data": {
      "application/vnd.jupyter.widget-view+json": {
       "model_id": "",
       "version_major": 2,
       "version_minor": 0
      },
      "text/plain": [
       "VBox(children=(Label(value='1916.205 MB of 1916.205 MB uploaded (0.072 MB deduped)\\r'), FloatProgress(value=1.…"
      ]
     },
     "metadata": {},
     "output_type": "display_data"
    },
    {
     "data": {
      "text/html": [
       "<style>\n",
       "    table.wandb td:nth-child(1) { padding: 0 10px; text-align: left ; width: auto;} td:nth-child(2) {text-align: left ; width: 100%}\n",
       "    .wandb-row { display: flex; flex-direction: row; flex-wrap: wrap; justify-content: flex-start; width: 100% }\n",
       "    .wandb-col { display: flex; flex-direction: column; flex-basis: 100%; flex: 1; padding: 10px; }\n",
       "    </style>\n",
       "<div class=\"wandb-row\"><div class=\"wandb-col\"><h3>Run history:</h3><br/><table class=\"wandb\"><tr><td>accuracy</td><td>▃▅▅█▅▃▄▂▁▂</td></tr><tr><td>epoch</td><td>▁▂▃▃▄▅▆▆▇█</td></tr><tr><td>loss</td><td>█▁▁▁▁▁▁▁▁▁</td></tr><tr><td>val_accuracy</td><td>██████▁████</td></tr><tr><td>val_loss</td><td>█▁▁▁▁▁▁▁▁▁</td></tr></table><br/></div><div class=\"wandb-col\"><h3>Run summary:</h3><br/><table class=\"wandb\"><tr><td>accuracy</td><td>0.14444</td></tr><tr><td>best_epoch</td><td>5</td></tr><tr><td>best_val_loss</td><td>1.78788</td></tr><tr><td>epoch</td><td>9</td></tr><tr><td>loss</td><td>1.81665</td></tr><tr><td>val_accuracy</td><td>0.17949</td></tr><tr><td>val_loss</td><td>1.8093</td></tr></table><br/></div></div>"
      ],
      "text/plain": [
       "<IPython.core.display.HTML object>"
      ]
     },
     "metadata": {},
     "output_type": "display_data"
    },
    {
     "data": {
      "text/html": [
       " View run <strong style=\"color:#cdcd00\">soft-sweep-6</strong> at: <a href='https://wandb.ai/kyskyj22-aiffel/jellyfish_classification/runs/7k4exhli' target=\"_blank\">https://wandb.ai/kyskyj22-aiffel/jellyfish_classification/runs/7k4exhli</a><br/>Synced 5 W&B file(s), 1 media file(s), 24 artifact file(s) and 1 other file(s)"
      ],
      "text/plain": [
       "<IPython.core.display.HTML object>"
      ]
     },
     "metadata": {},
     "output_type": "display_data"
    },
    {
     "data": {
      "text/html": [
       "Find logs at: <code>./wandb/run-20241115_075751-7k4exhli/logs</code>"
      ],
      "text/plain": [
       "<IPython.core.display.HTML object>"
      ]
     },
     "metadata": {},
     "output_type": "display_data"
    },
    {
     "name": "stderr",
     "output_type": "stream",
     "text": [
      "\u001b[34m\u001b[1mwandb\u001b[0m: Agent Starting Run: 3oxs8z77 with config:\n",
      "\u001b[34m\u001b[1mwandb\u001b[0m: \tbatch_size: 32\n",
      "\u001b[34m\u001b[1mwandb\u001b[0m: \tepochs: 20\n",
      "\u001b[34m\u001b[1mwandb\u001b[0m: \tlr: 1.0009078590047118\n",
      "\u001b[34m\u001b[1mwandb\u001b[0m: \u001b[33mWARNING\u001b[0m Ignored wandb.init() arg project when running a sweep.\n"
     ]
    },
    {
     "data": {
      "text/html": [
       "wandb version 0.18.7 is available!  To upgrade, please run:\n",
       " $ pip install wandb --upgrade"
      ],
      "text/plain": [
       "<IPython.core.display.HTML object>"
      ]
     },
     "metadata": {},
     "output_type": "display_data"
    },
    {
     "data": {
      "text/html": [
       "Tracking run with wandb version 0.16.0"
      ],
      "text/plain": [
       "<IPython.core.display.HTML object>"
      ]
     },
     "metadata": {},
     "output_type": "display_data"
    },
    {
     "data": {
      "text/html": [
       "Run data is saved locally in <code>/aiffel/aiffel/jellyfish/wandb/run-20241115_080032-3oxs8z77</code>"
      ],
      "text/plain": [
       "<IPython.core.display.HTML object>"
      ]
     },
     "metadata": {},
     "output_type": "display_data"
    },
    {
     "data": {
      "text/html": [
       "Syncing run <strong><a href='https://wandb.ai/kyskyj22-aiffel/jellyfish_classification/runs/3oxs8z77' target=\"_blank\">stilted-sweep-7</a></strong> to <a href='https://wandb.ai/kyskyj22-aiffel/jellyfish_classification' target=\"_blank\">Weights & Biases</a> (<a href='https://wandb.me/run' target=\"_blank\">docs</a>)<br/>Sweep page: <a href='https://wandb.ai/kyskyj22-aiffel/jellyfish_classification/sweeps/rpl6i6uu' target=\"_blank\">https://wandb.ai/kyskyj22-aiffel/jellyfish_classification/sweeps/rpl6i6uu</a>"
      ],
      "text/plain": [
       "<IPython.core.display.HTML object>"
      ]
     },
     "metadata": {},
     "output_type": "display_data"
    },
    {
     "data": {
      "text/html": [
       " View project at <a href='https://wandb.ai/kyskyj22-aiffel/jellyfish_classification' target=\"_blank\">https://wandb.ai/kyskyj22-aiffel/jellyfish_classification</a>"
      ],
      "text/plain": [
       "<IPython.core.display.HTML object>"
      ]
     },
     "metadata": {},
     "output_type": "display_data"
    },
    {
     "data": {
      "text/html": [
       " View sweep at <a href='https://wandb.ai/kyskyj22-aiffel/jellyfish_classification/sweeps/rpl6i6uu' target=\"_blank\">https://wandb.ai/kyskyj22-aiffel/jellyfish_classification/sweeps/rpl6i6uu</a>"
      ],
      "text/plain": [
       "<IPython.core.display.HTML object>"
      ]
     },
     "metadata": {},
     "output_type": "display_data"
    },
    {
     "data": {
      "text/html": [
       " View run at <a href='https://wandb.ai/kyskyj22-aiffel/jellyfish_classification/runs/3oxs8z77' target=\"_blank\">https://wandb.ai/kyskyj22-aiffel/jellyfish_classification/runs/3oxs8z77</a>"
      ],
      "text/plain": [
       "<IPython.core.display.HTML object>"
      ]
     },
     "metadata": {},
     "output_type": "display_data"
    },
    {
     "name": "stdout",
     "output_type": "stream",
     "text": [
      "Found 900 images belonging to 6 classes.\n",
      "Found 39 images belonging to 6 classes.\n",
      "Epoch 1/20\n",
      "29/29 [==============================] - 10s 331ms/step - loss: 68922264.0000 - accuracy: 0.1489 - val_loss: 9.9208 - val_accuracy: 0.1795\n",
      "INFO:tensorflow:Assets written to: /aiffel/aiffel/jellyfish/wandb/run-20241115_080032-3oxs8z77/files/model-best/assets\n"
     ]
    },
    {
     "name": "stderr",
     "output_type": "stream",
     "text": [
      "\u001b[34m\u001b[1mwandb\u001b[0m: Adding directory to artifact (/aiffel/aiffel/jellyfish/wandb/run-20241115_080032-3oxs8z77/files/model-best)... Done. 7.4s\n"
     ]
    },
    {
     "name": "stdout",
     "output_type": "stream",
     "text": [
      "Epoch 2/20\n",
      "29/29 [==============================] - 10s 339ms/step - loss: 839.8490 - accuracy: 0.1733 - val_loss: 3.8293 - val_accuracy: 0.1538\n",
      "INFO:tensorflow:Assets written to: /aiffel/aiffel/jellyfish/wandb/run-20241115_080032-3oxs8z77/files/model-best/assets\n"
     ]
    },
    {
     "name": "stderr",
     "output_type": "stream",
     "text": [
      "\u001b[34m\u001b[1mwandb\u001b[0m: Adding directory to artifact (/aiffel/aiffel/jellyfish/wandb/run-20241115_080032-3oxs8z77/files/model-best)... Done. 3.2s\n"
     ]
    },
    {
     "name": "stdout",
     "output_type": "stream",
     "text": [
      "Epoch 3/20\n",
      "29/29 [==============================] - 10s 340ms/step - loss: 2.4790 - accuracy: 0.1589 - val_loss: 1.8238 - val_accuracy: 0.1795\n",
      "INFO:tensorflow:Assets written to: /aiffel/aiffel/jellyfish/wandb/run-20241115_080032-3oxs8z77/files/model-best/assets\n"
     ]
    },
    {
     "name": "stderr",
     "output_type": "stream",
     "text": [
      "\u001b[34m\u001b[1mwandb\u001b[0m: Adding directory to artifact (/aiffel/aiffel/jellyfish/wandb/run-20241115_080032-3oxs8z77/files/model-best)... Done. 3.2s\n"
     ]
    },
    {
     "name": "stdout",
     "output_type": "stream",
     "text": [
      "Epoch 4/20\n",
      "29/29 [==============================] - 10s 335ms/step - loss: 1.8641 - accuracy: 0.1622 - val_loss: 1.8139 - val_accuracy: 0.1795\n",
      "INFO:tensorflow:Assets written to: /aiffel/aiffel/jellyfish/wandb/run-20241115_080032-3oxs8z77/files/model-best/assets\n"
     ]
    },
    {
     "name": "stderr",
     "output_type": "stream",
     "text": [
      "\u001b[34m\u001b[1mwandb\u001b[0m: Adding directory to artifact (/aiffel/aiffel/jellyfish/wandb/run-20241115_080032-3oxs8z77/files/model-best)... Done. 3.2s\n"
     ]
    },
    {
     "name": "stdout",
     "output_type": "stream",
     "text": [
      "Epoch 5/20\n",
      "29/29 [==============================] - 10s 341ms/step - loss: 1.8495 - accuracy: 0.1644 - val_loss: 1.8954 - val_accuracy: 0.1282\n",
      "Epoch 6/20\n",
      "29/29 [==============================] - 9s 322ms/step - loss: 1.8432 - accuracy: 0.1778 - val_loss: 1.8220 - val_accuracy: 0.1282\n",
      "Epoch 7/20\n",
      "29/29 [==============================] - 9s 323ms/step - loss: 1.8532 - accuracy: 0.1367 - val_loss: 1.7997 - val_accuracy: 0.1795\n",
      "INFO:tensorflow:Assets written to: /aiffel/aiffel/jellyfish/wandb/run-20241115_080032-3oxs8z77/files/model-best/assets\n"
     ]
    },
    {
     "name": "stderr",
     "output_type": "stream",
     "text": [
      "\u001b[34m\u001b[1mwandb\u001b[0m: Adding directory to artifact (/aiffel/aiffel/jellyfish/wandb/run-20241115_080032-3oxs8z77/files/model-best)... Done. 3.5s\n"
     ]
    },
    {
     "name": "stdout",
     "output_type": "stream",
     "text": [
      "Epoch 8/20\n",
      "29/29 [==============================] - 10s 337ms/step - loss: 1.8409 - accuracy: 0.1789 - val_loss: 1.9078 - val_accuracy: 0.1282\n",
      "Epoch 9/20\n",
      "29/29 [==============================] - 9s 323ms/step - loss: 1.8283 - accuracy: 0.1589 - val_loss: 1.8420 - val_accuracy: 0.1795\n",
      "Epoch 10/20\n",
      "29/29 [==============================] - 9s 323ms/step - loss: 1.8687 - accuracy: 0.1544 - val_loss: 1.9235 - val_accuracy: 0.1538\n",
      "Epoch 11/20\n",
      "29/29 [==============================] - 9s 324ms/step - loss: 1.8354 - accuracy: 0.1578 - val_loss: 1.8665 - val_accuracy: 0.1795\n",
      "Epoch 12/20\n",
      "29/29 [==============================] - 10s 327ms/step - loss: 1.8721 - accuracy: 0.1533 - val_loss: 1.8408 - val_accuracy: 0.1282\n",
      "Epoch 13/20\n",
      "29/29 [==============================] - 9s 325ms/step - loss: 1.8394 - accuracy: 0.1844 - val_loss: 1.8585 - val_accuracy: 0.1538\n",
      "Epoch 14/20\n",
      "29/29 [==============================] - 9s 323ms/step - loss: 1.8655 - accuracy: 0.1567 - val_loss: 1.9111 - val_accuracy: 0.1795\n",
      "Epoch 15/20\n",
      "29/29 [==============================] - 9s 324ms/step - loss: 1.8610 - accuracy: 0.1556 - val_loss: 1.8164 - val_accuracy: 0.1795\n",
      "Epoch 16/20\n",
      "29/29 [==============================] - 9s 324ms/step - loss: 1.8589 - accuracy: 0.1578 - val_loss: 1.8099 - val_accuracy: 0.1795\n",
      "Epoch 17/20\n",
      "29/29 [==============================] - 10s 326ms/step - loss: 1.8463 - accuracy: 0.1722 - val_loss: 1.8567 - val_accuracy: 0.1282\n",
      "Epoch 18/20\n",
      "29/29 [==============================] - 9s 326ms/step - loss: 1.8504 - accuracy: 0.1444 - val_loss: 1.8276 - val_accuracy: 0.1282\n",
      "Epoch 19/20\n",
      "29/29 [==============================] - 10s 325ms/step - loss: 1.8334 - accuracy: 0.1511 - val_loss: 1.8220 - val_accuracy: 0.1795\n",
      "Epoch 20/20\n",
      "29/29 [==============================] - 9s 319ms/step - loss: 1.8770 - accuracy: 0.1756 - val_loss: 1.8322 - val_accuracy: 0.1795\n"
     ]
    },
    {
     "data": {
      "application/vnd.jupyter.widget-view+json": {
       "model_id": "",
       "version_major": 2,
       "version_minor": 0
      },
      "text/plain": [
       "VBox(children=(Label(value='1642.447 MB of 1642.447 MB uploaded (0.058 MB deduped)\\r'), FloatProgress(value=1.…"
      ]
     },
     "metadata": {},
     "output_type": "display_data"
    },
    {
     "data": {
      "text/html": [
       "<style>\n",
       "    table.wandb td:nth-child(1) { padding: 0 10px; text-align: left ; width: auto;} td:nth-child(2) {text-align: left ; width: 100%}\n",
       "    .wandb-row { display: flex; flex-direction: row; flex-wrap: wrap; justify-content: flex-start; width: 100% }\n",
       "    .wandb-col { display: flex; flex-direction: column; flex-basis: 100%; flex: 1; padding: 10px; }\n",
       "    </style>\n",
       "<div class=\"wandb-row\"><div class=\"wandb-col\"><h3>Run history:</h3><br/><table class=\"wandb\"><tr><td>accuracy</td><td>▃▆▄▅▅▇▁▇▄▄▄▃█▄▄▄▆▂▃▇</td></tr><tr><td>epoch</td><td>▁▁▂▂▂▃▃▄▄▄▅▅▅▆▆▇▇▇██</td></tr><tr><td>loss</td><td>█▁▁▁▁▁▁▁▁▁▁▁▁▁▁▁▁▁▁▁</td></tr><tr><td>val_accuracy</td><td>█▅██▁▁█▁█▅█▁▅███▁▁███</td></tr><tr><td>val_loss</td><td>█▃▁▁▁▁▁▁▁▁▁▁▁▁▁▁▁▁▁▁</td></tr></table><br/></div><div class=\"wandb-col\"><h3>Run summary:</h3><br/><table class=\"wandb\"><tr><td>accuracy</td><td>0.17556</td></tr><tr><td>best_epoch</td><td>6</td></tr><tr><td>best_val_loss</td><td>1.79967</td></tr><tr><td>epoch</td><td>19</td></tr><tr><td>loss</td><td>1.877</td></tr><tr><td>val_accuracy</td><td>0.17949</td></tr><tr><td>val_loss</td><td>1.83217</td></tr></table><br/></div></div>"
      ],
      "text/plain": [
       "<IPython.core.display.HTML object>"
      ]
     },
     "metadata": {},
     "output_type": "display_data"
    },
    {
     "data": {
      "text/html": [
       " View run <strong style=\"color:#cdcd00\">stilted-sweep-7</strong> at: <a href='https://wandb.ai/kyskyj22-aiffel/jellyfish_classification/runs/3oxs8z77' target=\"_blank\">https://wandb.ai/kyskyj22-aiffel/jellyfish_classification/runs/3oxs8z77</a><br/>Synced 5 W&B file(s), 1 media file(s), 20 artifact file(s) and 1 other file(s)"
      ],
      "text/plain": [
       "<IPython.core.display.HTML object>"
      ]
     },
     "metadata": {},
     "output_type": "display_data"
    },
    {
     "data": {
      "text/html": [
       "Find logs at: <code>./wandb/run-20241115_080032-3oxs8z77/logs</code>"
      ],
      "text/plain": [
       "<IPython.core.display.HTML object>"
      ]
     },
     "metadata": {},
     "output_type": "display_data"
    },
    {
     "name": "stderr",
     "output_type": "stream",
     "text": [
      "\u001b[34m\u001b[1mwandb\u001b[0m: Agent Starting Run: cvxcs12y with config:\n",
      "\u001b[34m\u001b[1mwandb\u001b[0m: \tbatch_size: 32\n",
      "\u001b[34m\u001b[1mwandb\u001b[0m: \tepochs: 5\n",
      "\u001b[34m\u001b[1mwandb\u001b[0m: \tlr: 1.0008812442460364\n",
      "\u001b[34m\u001b[1mwandb\u001b[0m: \u001b[33mWARNING\u001b[0m Ignored wandb.init() arg project when running a sweep.\n"
     ]
    },
    {
     "data": {
      "text/html": [
       "wandb version 0.18.7 is available!  To upgrade, please run:\n",
       " $ pip install wandb --upgrade"
      ],
      "text/plain": [
       "<IPython.core.display.HTML object>"
      ]
     },
     "metadata": {},
     "output_type": "display_data"
    },
    {
     "data": {
      "text/html": [
       "Tracking run with wandb version 0.16.0"
      ],
      "text/plain": [
       "<IPython.core.display.HTML object>"
      ]
     },
     "metadata": {},
     "output_type": "display_data"
    },
    {
     "data": {
      "text/html": [
       "Run data is saved locally in <code>/aiffel/aiffel/jellyfish/wandb/run-20241115_080446-cvxcs12y</code>"
      ],
      "text/plain": [
       "<IPython.core.display.HTML object>"
      ]
     },
     "metadata": {},
     "output_type": "display_data"
    },
    {
     "data": {
      "text/html": [
       "Syncing run <strong><a href='https://wandb.ai/kyskyj22-aiffel/jellyfish_classification/runs/cvxcs12y' target=\"_blank\">earnest-sweep-8</a></strong> to <a href='https://wandb.ai/kyskyj22-aiffel/jellyfish_classification' target=\"_blank\">Weights & Biases</a> (<a href='https://wandb.me/run' target=\"_blank\">docs</a>)<br/>Sweep page: <a href='https://wandb.ai/kyskyj22-aiffel/jellyfish_classification/sweeps/rpl6i6uu' target=\"_blank\">https://wandb.ai/kyskyj22-aiffel/jellyfish_classification/sweeps/rpl6i6uu</a>"
      ],
      "text/plain": [
       "<IPython.core.display.HTML object>"
      ]
     },
     "metadata": {},
     "output_type": "display_data"
    },
    {
     "data": {
      "text/html": [
       " View project at <a href='https://wandb.ai/kyskyj22-aiffel/jellyfish_classification' target=\"_blank\">https://wandb.ai/kyskyj22-aiffel/jellyfish_classification</a>"
      ],
      "text/plain": [
       "<IPython.core.display.HTML object>"
      ]
     },
     "metadata": {},
     "output_type": "display_data"
    },
    {
     "data": {
      "text/html": [
       " View sweep at <a href='https://wandb.ai/kyskyj22-aiffel/jellyfish_classification/sweeps/rpl6i6uu' target=\"_blank\">https://wandb.ai/kyskyj22-aiffel/jellyfish_classification/sweeps/rpl6i6uu</a>"
      ],
      "text/plain": [
       "<IPython.core.display.HTML object>"
      ]
     },
     "metadata": {},
     "output_type": "display_data"
    },
    {
     "data": {
      "text/html": [
       " View run at <a href='https://wandb.ai/kyskyj22-aiffel/jellyfish_classification/runs/cvxcs12y' target=\"_blank\">https://wandb.ai/kyskyj22-aiffel/jellyfish_classification/runs/cvxcs12y</a>"
      ],
      "text/plain": [
       "<IPython.core.display.HTML object>"
      ]
     },
     "metadata": {},
     "output_type": "display_data"
    },
    {
     "name": "stdout",
     "output_type": "stream",
     "text": [
      "Found 900 images belonging to 6 classes.\n",
      "Found 39 images belonging to 6 classes.\n",
      "Epoch 1/5\n",
      "29/29 [==============================] - 10s 332ms/step - loss: 20810542.0000 - accuracy: 0.1522 - val_loss: 2.5139 - val_accuracy: 0.1795\n",
      "INFO:tensorflow:Assets written to: /aiffel/aiffel/jellyfish/wandb/run-20241115_080446-cvxcs12y/files/model-best/assets\n"
     ]
    },
    {
     "name": "stderr",
     "output_type": "stream",
     "text": [
      "\u001b[34m\u001b[1mwandb\u001b[0m: Adding directory to artifact (/aiffel/aiffel/jellyfish/wandb/run-20241115_080446-cvxcs12y/files/model-best)... Done. 3.5s\n"
     ]
    },
    {
     "name": "stdout",
     "output_type": "stream",
     "text": [
      "Epoch 2/5\n",
      "29/29 [==============================] - 10s 333ms/step - loss: 1.9360 - accuracy: 0.1878 - val_loss: 1.9011 - val_accuracy: 0.1795\n",
      "INFO:tensorflow:Assets written to: /aiffel/aiffel/jellyfish/wandb/run-20241115_080446-cvxcs12y/files/model-best/assets\n"
     ]
    },
    {
     "name": "stderr",
     "output_type": "stream",
     "text": [
      "\u001b[34m\u001b[1mwandb\u001b[0m: Adding directory to artifact (/aiffel/aiffel/jellyfish/wandb/run-20241115_080446-cvxcs12y/files/model-best)... Done. 4.2s\n"
     ]
    },
    {
     "name": "stdout",
     "output_type": "stream",
     "text": [
      "Epoch 3/5\n",
      "29/29 [==============================] - 10s 335ms/step - loss: 1.8491 - accuracy: 0.1478 - val_loss: 1.7980 - val_accuracy: 0.1795\n",
      "INFO:tensorflow:Assets written to: /aiffel/aiffel/jellyfish/wandb/run-20241115_080446-cvxcs12y/files/model-best/assets\n"
     ]
    },
    {
     "name": "stderr",
     "output_type": "stream",
     "text": [
      "\u001b[34m\u001b[1mwandb\u001b[0m: Adding directory to artifact (/aiffel/aiffel/jellyfish/wandb/run-20241115_080446-cvxcs12y/files/model-best)... Done. 3.2s\n"
     ]
    },
    {
     "name": "stdout",
     "output_type": "stream",
     "text": [
      "Epoch 4/5\n",
      "29/29 [==============================] - 10s 332ms/step - loss: 1.8345 - accuracy: 0.1756 - val_loss: 1.8163 - val_accuracy: 0.1282\n",
      "Epoch 5/5\n",
      "29/29 [==============================] - 10s 327ms/step - loss: 1.8291 - accuracy: 0.1522 - val_loss: 1.8481 - val_accuracy: 0.1795\n"
     ]
    },
    {
     "data": {
      "application/vnd.jupyter.widget-view+json": {
       "model_id": "",
       "version_major": 2,
       "version_minor": 0
      },
      "text/plain": [
       "VBox(children=(Label(value='1094.929 MB of 1094.929 MB uploaded (0.029 MB deduped)\\r'), FloatProgress(value=1.…"
      ]
     },
     "metadata": {},
     "output_type": "display_data"
    },
    {
     "data": {
      "text/html": [
       "<style>\n",
       "    table.wandb td:nth-child(1) { padding: 0 10px; text-align: left ; width: auto;} td:nth-child(2) {text-align: left ; width: 100%}\n",
       "    .wandb-row { display: flex; flex-direction: row; flex-wrap: wrap; justify-content: flex-start; width: 100% }\n",
       "    .wandb-col { display: flex; flex-direction: column; flex-basis: 100%; flex: 1; padding: 10px; }\n",
       "    </style>\n",
       "<div class=\"wandb-row\"><div class=\"wandb-col\"><h3>Run history:</h3><br/><table class=\"wandb\"><tr><td>accuracy</td><td>▂█▁▆▂</td></tr><tr><td>epoch</td><td>▁▃▅▆█</td></tr><tr><td>loss</td><td>█▁▁▁▁</td></tr><tr><td>val_accuracy</td><td>███▁██</td></tr><tr><td>val_loss</td><td>█▂▁▁▁</td></tr></table><br/></div><div class=\"wandb-col\"><h3>Run summary:</h3><br/><table class=\"wandb\"><tr><td>accuracy</td><td>0.15222</td></tr><tr><td>best_epoch</td><td>2</td></tr><tr><td>best_val_loss</td><td>1.79797</td></tr><tr><td>epoch</td><td>4</td></tr><tr><td>loss</td><td>1.82914</td></tr><tr><td>val_accuracy</td><td>0.17949</td></tr><tr><td>val_loss</td><td>1.84811</td></tr></table><br/></div></div>"
      ],
      "text/plain": [
       "<IPython.core.display.HTML object>"
      ]
     },
     "metadata": {},
     "output_type": "display_data"
    },
    {
     "data": {
      "text/html": [
       " View run <strong style=\"color:#cdcd00\">earnest-sweep-8</strong> at: <a href='https://wandb.ai/kyskyj22-aiffel/jellyfish_classification/runs/cvxcs12y' target=\"_blank\">https://wandb.ai/kyskyj22-aiffel/jellyfish_classification/runs/cvxcs12y</a><br/>Synced 5 W&B file(s), 1 media file(s), 12 artifact file(s) and 1 other file(s)"
      ],
      "text/plain": [
       "<IPython.core.display.HTML object>"
      ]
     },
     "metadata": {},
     "output_type": "display_data"
    },
    {
     "data": {
      "text/html": [
       "Find logs at: <code>./wandb/run-20241115_080446-cvxcs12y/logs</code>"
      ],
      "text/plain": [
       "<IPython.core.display.HTML object>"
      ]
     },
     "metadata": {},
     "output_type": "display_data"
    },
    {
     "name": "stderr",
     "output_type": "stream",
     "text": [
      "\u001b[34m\u001b[1mwandb\u001b[0m: Agent Starting Run: pve836x0 with config:\n",
      "\u001b[34m\u001b[1mwandb\u001b[0m: \tbatch_size: 32\n",
      "\u001b[34m\u001b[1mwandb\u001b[0m: \tepochs: 5\n",
      "\u001b[34m\u001b[1mwandb\u001b[0m: \tlr: 1.005365196359955\n",
      "\u001b[34m\u001b[1mwandb\u001b[0m: \u001b[33mWARNING\u001b[0m Ignored wandb.init() arg project when running a sweep.\n"
     ]
    },
    {
     "data": {
      "text/html": [
       "wandb version 0.18.7 is available!  To upgrade, please run:\n",
       " $ pip install wandb --upgrade"
      ],
      "text/plain": [
       "<IPython.core.display.HTML object>"
      ]
     },
     "metadata": {},
     "output_type": "display_data"
    },
    {
     "data": {
      "text/html": [
       "Tracking run with wandb version 0.16.0"
      ],
      "text/plain": [
       "<IPython.core.display.HTML object>"
      ]
     },
     "metadata": {},
     "output_type": "display_data"
    },
    {
     "data": {
      "text/html": [
       "Run data is saved locally in <code>/aiffel/aiffel/jellyfish/wandb/run-20241115_080612-pve836x0</code>"
      ],
      "text/plain": [
       "<IPython.core.display.HTML object>"
      ]
     },
     "metadata": {},
     "output_type": "display_data"
    },
    {
     "data": {
      "text/html": [
       "Syncing run <strong><a href='https://wandb.ai/kyskyj22-aiffel/jellyfish_classification/runs/pve836x0' target=\"_blank\">radiant-sweep-9</a></strong> to <a href='https://wandb.ai/kyskyj22-aiffel/jellyfish_classification' target=\"_blank\">Weights & Biases</a> (<a href='https://wandb.me/run' target=\"_blank\">docs</a>)<br/>Sweep page: <a href='https://wandb.ai/kyskyj22-aiffel/jellyfish_classification/sweeps/rpl6i6uu' target=\"_blank\">https://wandb.ai/kyskyj22-aiffel/jellyfish_classification/sweeps/rpl6i6uu</a>"
      ],
      "text/plain": [
       "<IPython.core.display.HTML object>"
      ]
     },
     "metadata": {},
     "output_type": "display_data"
    },
    {
     "data": {
      "text/html": [
       " View project at <a href='https://wandb.ai/kyskyj22-aiffel/jellyfish_classification' target=\"_blank\">https://wandb.ai/kyskyj22-aiffel/jellyfish_classification</a>"
      ],
      "text/plain": [
       "<IPython.core.display.HTML object>"
      ]
     },
     "metadata": {},
     "output_type": "display_data"
    },
    {
     "data": {
      "text/html": [
       " View sweep at <a href='https://wandb.ai/kyskyj22-aiffel/jellyfish_classification/sweeps/rpl6i6uu' target=\"_blank\">https://wandb.ai/kyskyj22-aiffel/jellyfish_classification/sweeps/rpl6i6uu</a>"
      ],
      "text/plain": [
       "<IPython.core.display.HTML object>"
      ]
     },
     "metadata": {},
     "output_type": "display_data"
    },
    {
     "data": {
      "text/html": [
       " View run at <a href='https://wandb.ai/kyskyj22-aiffel/jellyfish_classification/runs/pve836x0' target=\"_blank\">https://wandb.ai/kyskyj22-aiffel/jellyfish_classification/runs/pve836x0</a>"
      ],
      "text/plain": [
       "<IPython.core.display.HTML object>"
      ]
     },
     "metadata": {},
     "output_type": "display_data"
    },
    {
     "name": "stdout",
     "output_type": "stream",
     "text": [
      "Found 900 images belonging to 6 classes.\n",
      "Found 39 images belonging to 6 classes.\n",
      "Epoch 1/5\n",
      "29/29 [==============================] - 10s 332ms/step - loss: 31679848.0000 - accuracy: 0.1844 - val_loss: 3.5219 - val_accuracy: 0.1282\n",
      "INFO:tensorflow:Assets written to: /aiffel/aiffel/jellyfish/wandb/run-20241115_080612-pve836x0/files/model-best/assets\n"
     ]
    },
    {
     "name": "stderr",
     "output_type": "stream",
     "text": [
      "\u001b[34m\u001b[1mwandb\u001b[0m: Adding directory to artifact (/aiffel/aiffel/jellyfish/wandb/run-20241115_080612-pve836x0/files/model-best)... Done. 3.4s\n"
     ]
    },
    {
     "name": "stdout",
     "output_type": "stream",
     "text": [
      "Epoch 2/5\n",
      "29/29 [==============================] - 10s 340ms/step - loss: 2.4375 - accuracy: 0.1611 - val_loss: 1.9205 - val_accuracy: 0.1795\n",
      "INFO:tensorflow:Assets written to: /aiffel/aiffel/jellyfish/wandb/run-20241115_080612-pve836x0/files/model-best/assets\n"
     ]
    },
    {
     "name": "stderr",
     "output_type": "stream",
     "text": [
      "\u001b[34m\u001b[1mwandb\u001b[0m: Adding directory to artifact (/aiffel/aiffel/jellyfish/wandb/run-20241115_080612-pve836x0/files/model-best)... Done. 3.6s\n"
     ]
    },
    {
     "name": "stdout",
     "output_type": "stream",
     "text": [
      "Epoch 3/5\n",
      "29/29 [==============================] - 10s 334ms/step - loss: 1.8837 - accuracy: 0.1589 - val_loss: 1.8097 - val_accuracy: 0.1538\n",
      "INFO:tensorflow:Assets written to: /aiffel/aiffel/jellyfish/wandb/run-20241115_080612-pve836x0/files/model-best/assets\n"
     ]
    },
    {
     "name": "stderr",
     "output_type": "stream",
     "text": [
      "\u001b[34m\u001b[1mwandb\u001b[0m: Adding directory to artifact (/aiffel/aiffel/jellyfish/wandb/run-20241115_080612-pve836x0/files/model-best)... Done. 3.2s\n"
     ]
    },
    {
     "name": "stdout",
     "output_type": "stream",
     "text": [
      "Epoch 4/5\n",
      "29/29 [==============================] - 10s 337ms/step - loss: 1.8265 - accuracy: 0.1822 - val_loss: 1.8196 - val_accuracy: 0.1795\n",
      "Epoch 5/5\n",
      "29/29 [==============================] - 9s 322ms/step - loss: 1.8314 - accuracy: 0.1644 - val_loss: 1.8464 - val_accuracy: 0.1795\n"
     ]
    },
    {
     "data": {
      "application/vnd.jupyter.widget-view+json": {
       "model_id": "",
       "version_major": 2,
       "version_minor": 0
      },
      "text/plain": [
       "VBox(children=(Label(value='1094.929 MB of 1094.929 MB uploaded (0.029 MB deduped)\\r'), FloatProgress(value=1.…"
      ]
     },
     "metadata": {},
     "output_type": "display_data"
    },
    {
     "data": {
      "text/html": [
       "<style>\n",
       "    table.wandb td:nth-child(1) { padding: 0 10px; text-align: left ; width: auto;} td:nth-child(2) {text-align: left ; width: 100%}\n",
       "    .wandb-row { display: flex; flex-direction: row; flex-wrap: wrap; justify-content: flex-start; width: 100% }\n",
       "    .wandb-col { display: flex; flex-direction: column; flex-basis: 100%; flex: 1; padding: 10px; }\n",
       "    </style>\n",
       "<div class=\"wandb-row\"><div class=\"wandb-col\"><h3>Run history:</h3><br/><table class=\"wandb\"><tr><td>accuracy</td><td>█▂▁▇▃</td></tr><tr><td>epoch</td><td>▁▃▅▆█</td></tr><tr><td>loss</td><td>█▁▁▁▁</td></tr><tr><td>val_accuracy</td><td>▁█▅███</td></tr><tr><td>val_loss</td><td>█▁▁▁▁</td></tr></table><br/></div><div class=\"wandb-col\"><h3>Run summary:</h3><br/><table class=\"wandb\"><tr><td>accuracy</td><td>0.16444</td></tr><tr><td>best_epoch</td><td>2</td></tr><tr><td>best_val_loss</td><td>1.80969</td></tr><tr><td>epoch</td><td>4</td></tr><tr><td>loss</td><td>1.83135</td></tr><tr><td>val_accuracy</td><td>0.17949</td></tr><tr><td>val_loss</td><td>1.84641</td></tr></table><br/></div></div>"
      ],
      "text/plain": [
       "<IPython.core.display.HTML object>"
      ]
     },
     "metadata": {},
     "output_type": "display_data"
    },
    {
     "data": {
      "text/html": [
       " View run <strong style=\"color:#cdcd00\">radiant-sweep-9</strong> at: <a href='https://wandb.ai/kyskyj22-aiffel/jellyfish_classification/runs/pve836x0' target=\"_blank\">https://wandb.ai/kyskyj22-aiffel/jellyfish_classification/runs/pve836x0</a><br/>Synced 5 W&B file(s), 1 media file(s), 12 artifact file(s) and 1 other file(s)"
      ],
      "text/plain": [
       "<IPython.core.display.HTML object>"
      ]
     },
     "metadata": {},
     "output_type": "display_data"
    },
    {
     "data": {
      "text/html": [
       "Find logs at: <code>./wandb/run-20241115_080612-pve836x0/logs</code>"
      ],
      "text/plain": [
       "<IPython.core.display.HTML object>"
      ]
     },
     "metadata": {},
     "output_type": "display_data"
    },
    {
     "name": "stderr",
     "output_type": "stream",
     "text": [
      "\u001b[34m\u001b[1mwandb\u001b[0m: Agent Starting Run: arolssqa with config:\n",
      "\u001b[34m\u001b[1mwandb\u001b[0m: \tbatch_size: 32\n",
      "\u001b[34m\u001b[1mwandb\u001b[0m: \tepochs: 20\n",
      "\u001b[34m\u001b[1mwandb\u001b[0m: \tlr: 1.005798360667638\n",
      "\u001b[34m\u001b[1mwandb\u001b[0m: \u001b[33mWARNING\u001b[0m Ignored wandb.init() arg project when running a sweep.\n"
     ]
    },
    {
     "data": {
      "text/html": [
       "wandb version 0.18.7 is available!  To upgrade, please run:\n",
       " $ pip install wandb --upgrade"
      ],
      "text/plain": [
       "<IPython.core.display.HTML object>"
      ]
     },
     "metadata": {},
     "output_type": "display_data"
    },
    {
     "data": {
      "text/html": [
       "Tracking run with wandb version 0.16.0"
      ],
      "text/plain": [
       "<IPython.core.display.HTML object>"
      ]
     },
     "metadata": {},
     "output_type": "display_data"
    },
    {
     "data": {
      "text/html": [
       "Run data is saved locally in <code>/aiffel/aiffel/jellyfish/wandb/run-20241115_080738-arolssqa</code>"
      ],
      "text/plain": [
       "<IPython.core.display.HTML object>"
      ]
     },
     "metadata": {},
     "output_type": "display_data"
    },
    {
     "data": {
      "text/html": [
       "Syncing run <strong><a href='https://wandb.ai/kyskyj22-aiffel/jellyfish_classification/runs/arolssqa' target=\"_blank\">graceful-sweep-10</a></strong> to <a href='https://wandb.ai/kyskyj22-aiffel/jellyfish_classification' target=\"_blank\">Weights & Biases</a> (<a href='https://wandb.me/run' target=\"_blank\">docs</a>)<br/>Sweep page: <a href='https://wandb.ai/kyskyj22-aiffel/jellyfish_classification/sweeps/rpl6i6uu' target=\"_blank\">https://wandb.ai/kyskyj22-aiffel/jellyfish_classification/sweeps/rpl6i6uu</a>"
      ],
      "text/plain": [
       "<IPython.core.display.HTML object>"
      ]
     },
     "metadata": {},
     "output_type": "display_data"
    },
    {
     "data": {
      "text/html": [
       " View project at <a href='https://wandb.ai/kyskyj22-aiffel/jellyfish_classification' target=\"_blank\">https://wandb.ai/kyskyj22-aiffel/jellyfish_classification</a>"
      ],
      "text/plain": [
       "<IPython.core.display.HTML object>"
      ]
     },
     "metadata": {},
     "output_type": "display_data"
    },
    {
     "data": {
      "text/html": [
       " View sweep at <a href='https://wandb.ai/kyskyj22-aiffel/jellyfish_classification/sweeps/rpl6i6uu' target=\"_blank\">https://wandb.ai/kyskyj22-aiffel/jellyfish_classification/sweeps/rpl6i6uu</a>"
      ],
      "text/plain": [
       "<IPython.core.display.HTML object>"
      ]
     },
     "metadata": {},
     "output_type": "display_data"
    },
    {
     "data": {
      "text/html": [
       " View run at <a href='https://wandb.ai/kyskyj22-aiffel/jellyfish_classification/runs/arolssqa' target=\"_blank\">https://wandb.ai/kyskyj22-aiffel/jellyfish_classification/runs/arolssqa</a>"
      ],
      "text/plain": [
       "<IPython.core.display.HTML object>"
      ]
     },
     "metadata": {},
     "output_type": "display_data"
    },
    {
     "name": "stdout",
     "output_type": "stream",
     "text": [
      "Found 900 images belonging to 6 classes.\n",
      "Found 39 images belonging to 6 classes.\n",
      "Epoch 1/20\n",
      "29/29 [==============================] - 10s 335ms/step - loss: 33390058.0000 - accuracy: 0.1700 - val_loss: 19670.1113 - val_accuracy: 0.1795\n",
      "INFO:tensorflow:Assets written to: /aiffel/aiffel/jellyfish/wandb/run-20241115_080738-arolssqa/files/model-best/assets\n"
     ]
    },
    {
     "name": "stderr",
     "output_type": "stream",
     "text": [
      "\u001b[34m\u001b[1mwandb\u001b[0m: Adding directory to artifact (/aiffel/aiffel/jellyfish/wandb/run-20241115_080738-arolssqa/files/model-best)... Done. 4.2s\n"
     ]
    },
    {
     "name": "stdout",
     "output_type": "stream",
     "text": [
      "Epoch 2/20\n",
      "29/29 [==============================] - 10s 342ms/step - loss: 4350.8135 - accuracy: 0.1644 - val_loss: 2.1974 - val_accuracy: 0.1795\n",
      "INFO:tensorflow:Assets written to: /aiffel/aiffel/jellyfish/wandb/run-20241115_080738-arolssqa/files/model-best/assets\n"
     ]
    },
    {
     "name": "stderr",
     "output_type": "stream",
     "text": [
      "\u001b[34m\u001b[1mwandb\u001b[0m: Adding directory to artifact (/aiffel/aiffel/jellyfish/wandb/run-20241115_080738-arolssqa/files/model-best)... Done. 4.1s\n"
     ]
    },
    {
     "name": "stdout",
     "output_type": "stream",
     "text": [
      "Epoch 3/20\n",
      "29/29 [==============================] - 10s 347ms/step - loss: 2.1528 - accuracy: 0.1689 - val_loss: 1.8849 - val_accuracy: 0.1795\n",
      "INFO:tensorflow:Assets written to: /aiffel/aiffel/jellyfish/wandb/run-20241115_080738-arolssqa/files/model-best/assets\n"
     ]
    },
    {
     "name": "stderr",
     "output_type": "stream",
     "text": [
      "\u001b[34m\u001b[1mwandb\u001b[0m: Adding directory to artifact (/aiffel/aiffel/jellyfish/wandb/run-20241115_080738-arolssqa/files/model-best)... Done. 3.4s\n"
     ]
    },
    {
     "name": "stdout",
     "output_type": "stream",
     "text": [
      "Epoch 4/20\n",
      "29/29 [==============================] - 10s 343ms/step - loss: 1.8459 - accuracy: 0.1489 - val_loss: 1.8028 - val_accuracy: 0.1538\n",
      "INFO:tensorflow:Assets written to: /aiffel/aiffel/jellyfish/wandb/run-20241115_080738-arolssqa/files/model-best/assets\n"
     ]
    },
    {
     "name": "stderr",
     "output_type": "stream",
     "text": [
      "\u001b[34m\u001b[1mwandb\u001b[0m: Adding directory to artifact (/aiffel/aiffel/jellyfish/wandb/run-20241115_080738-arolssqa/files/model-best)... Done. 3.5s\n"
     ]
    },
    {
     "name": "stdout",
     "output_type": "stream",
     "text": [
      "Epoch 5/20\n",
      "29/29 [==============================] - 10s 335ms/step - loss: 1.8338 - accuracy: 0.1522 - val_loss: 1.8021 - val_accuracy: 0.1795\n",
      "INFO:tensorflow:Assets written to: /aiffel/aiffel/jellyfish/wandb/run-20241115_080738-arolssqa/files/model-best/assets\n"
     ]
    },
    {
     "name": "stderr",
     "output_type": "stream",
     "text": [
      "\u001b[34m\u001b[1mwandb\u001b[0m: Adding directory to artifact (/aiffel/aiffel/jellyfish/wandb/run-20241115_080738-arolssqa/files/model-best)... Done. 3.2s\n"
     ]
    },
    {
     "name": "stdout",
     "output_type": "stream",
     "text": [
      "Epoch 6/20\n",
      "29/29 [==============================] - 10s 340ms/step - loss: 1.8405 - accuracy: 0.1489 - val_loss: 1.8335 - val_accuracy: 0.1795\n",
      "Epoch 7/20\n",
      "29/29 [==============================] - 9s 324ms/step - loss: 1.8359 - accuracy: 0.1378 - val_loss: 1.8382 - val_accuracy: 0.1795\n",
      "Epoch 8/20\n",
      "29/29 [==============================] - 9s 322ms/step - loss: 1.8512 - accuracy: 0.1622 - val_loss: 1.8664 - val_accuracy: 0.1795\n",
      "Epoch 9/20\n",
      "29/29 [==============================] - 10s 326ms/step - loss: 1.8282 - accuracy: 0.1522 - val_loss: 1.8223 - val_accuracy: 0.1795\n",
      "Epoch 10/20\n",
      "29/29 [==============================] - 10s 327ms/step - loss: 1.8247 - accuracy: 0.1622 - val_loss: 1.8337 - val_accuracy: 0.1538\n",
      "Epoch 11/20\n",
      "29/29 [==============================] - 10s 327ms/step - loss: 1.8431 - accuracy: 0.1700 - val_loss: 1.8083 - val_accuracy: 0.1538\n",
      "Epoch 12/20\n",
      "29/29 [==============================] - 9s 321ms/step - loss: 1.8328 - accuracy: 0.1589 - val_loss: 1.8038 - val_accuracy: 0.1795\n",
      "Epoch 13/20\n",
      "29/29 [==============================] - 9s 320ms/step - loss: 1.8306 - accuracy: 0.1722 - val_loss: 1.8250 - val_accuracy: 0.1282\n",
      "Epoch 14/20\n",
      "29/29 [==============================] - 9s 323ms/step - loss: 1.8604 - accuracy: 0.1489 - val_loss: 1.8777 - val_accuracy: 0.1538\n",
      "Epoch 15/20\n",
      "29/29 [==============================] - 10s 332ms/step - loss: 1.8960 - accuracy: 0.1589 - val_loss: 1.8552 - val_accuracy: 0.1795\n",
      "Epoch 16/20\n",
      "29/29 [==============================] - 9s 324ms/step - loss: 1.8668 - accuracy: 0.1722 - val_loss: 1.8806 - val_accuracy: 0.1538\n",
      "Epoch 17/20\n",
      "29/29 [==============================] - 10s 327ms/step - loss: 1.8609 - accuracy: 0.1744 - val_loss: 1.8257 - val_accuracy: 0.1795\n",
      "Epoch 18/20\n",
      "29/29 [==============================] - 9s 323ms/step - loss: 1.8478 - accuracy: 0.1556 - val_loss: 1.8776 - val_accuracy: 0.1795\n",
      "Epoch 19/20\n",
      "29/29 [==============================] - 10s 326ms/step - loss: 1.8396 - accuracy: 0.1856 - val_loss: 1.9016 - val_accuracy: 0.1795\n",
      "Epoch 20/20\n",
      "29/29 [==============================] - 9s 322ms/step - loss: 1.8393 - accuracy: 0.1611 - val_loss: 1.9207 - val_accuracy: 0.1795\n"
     ]
    },
    {
     "data": {
      "application/vnd.jupyter.widget-view+json": {
       "model_id": "",
       "version_major": 2,
       "version_minor": 0
      },
      "text/plain": [
       "VBox(children=(Label(value='1642.447 MB of 1642.447 MB uploaded (0.058 MB deduped)\\r'), FloatProgress(value=1.…"
      ]
     },
     "metadata": {},
     "output_type": "display_data"
    },
    {
     "data": {
      "text/html": [
       "<style>\n",
       "    table.wandb td:nth-child(1) { padding: 0 10px; text-align: left ; width: auto;} td:nth-child(2) {text-align: left ; width: 100%}\n",
       "    .wandb-row { display: flex; flex-direction: row; flex-wrap: wrap; justify-content: flex-start; width: 100% }\n",
       "    .wandb-col { display: flex; flex-direction: column; flex-basis: 100%; flex: 1; padding: 10px; }\n",
       "    </style>\n",
       "<div class=\"wandb-row\"><div class=\"wandb-col\"><h3>Run history:</h3><br/><table class=\"wandb\"><tr><td>accuracy</td><td>▆▅▆▃▃▃▁▅▃▅▆▄▆▃▄▆▆▄█▄</td></tr><tr><td>epoch</td><td>▁▁▂▂▂▃▃▄▄▄▅▅▅▆▆▇▇▇██</td></tr><tr><td>loss</td><td>█▁▁▁▁▁▁▁▁▁▁▁▁▁▁▁▁▁▁▁</td></tr><tr><td>val_accuracy</td><td>███▅█████▅▅█▁▅█▅█████</td></tr><tr><td>val_loss</td><td>█▁▁▁▁▁▁▁▁▁▁▁▁▁▁▁▁▁▁▁</td></tr></table><br/></div><div class=\"wandb-col\"><h3>Run summary:</h3><br/><table class=\"wandb\"><tr><td>accuracy</td><td>0.16111</td></tr><tr><td>best_epoch</td><td>4</td></tr><tr><td>best_val_loss</td><td>1.80208</td></tr><tr><td>epoch</td><td>19</td></tr><tr><td>loss</td><td>1.83934</td></tr><tr><td>val_accuracy</td><td>0.17949</td></tr><tr><td>val_loss</td><td>1.9207</td></tr></table><br/></div></div>"
      ],
      "text/plain": [
       "<IPython.core.display.HTML object>"
      ]
     },
     "metadata": {},
     "output_type": "display_data"
    },
    {
     "data": {
      "text/html": [
       " View run <strong style=\"color:#cdcd00\">graceful-sweep-10</strong> at: <a href='https://wandb.ai/kyskyj22-aiffel/jellyfish_classification/runs/arolssqa' target=\"_blank\">https://wandb.ai/kyskyj22-aiffel/jellyfish_classification/runs/arolssqa</a><br/>Synced 5 W&B file(s), 1 media file(s), 20 artifact file(s) and 1 other file(s)"
      ],
      "text/plain": [
       "<IPython.core.display.HTML object>"
      ]
     },
     "metadata": {},
     "output_type": "display_data"
    },
    {
     "data": {
      "text/html": [
       "Find logs at: <code>./wandb/run-20241115_080738-arolssqa/logs</code>"
      ],
      "text/plain": [
       "<IPython.core.display.HTML object>"
      ]
     },
     "metadata": {},
     "output_type": "display_data"
    }
   ],
   "source": [
    "import wandb\n",
    "from wandb.keras import WandbCallback\n",
    "import tensorflow as tf\n",
    "from tensorflow.keras.preprocessing.image import ImageDataGenerator\n",
    "from tensorflow.keras.models import Sequential\n",
    "from tensorflow.keras.layers import Conv2D, MaxPooling2D, Flatten, Dense\n",
    "from tensorflow.keras.optimizers import Adam\n",
    "\n",
    "# 1. Sweep 구성 설정 (Random 방식 사용)\n",
    "sweep_configuration = {\n",
    "    'method': 'random',  # Random search로 변경\n",
    "    'name': 'jellyfish_sweep',\n",
    "    'metric': {'name': 'val_accuracy', 'goal': 'maximize'},  # 최적화할 지표: val_accuracy\n",
    "    'parameters': {\n",
    "        'lr': {  # 학습률: log_uniform 분포 사용\n",
    "            'min': 1e-5,\n",
    "            'max': 1e-2,\n",
    "            'distribution': 'log_uniform'\n",
    "        },\n",
    "        'epochs': {  # 에폭 수\n",
    "            'values': [5, 10, 20]\n",
    "        },\n",
    "        'batch_size': {  # 배치 크기\n",
    "            'values': [16, 32]\n",
    "        }\n",
    "    }\n",
    "}\n",
    "\n",
    "# 2. 모델 정의 함수\n",
    "def create_model(lr):\n",
    "    model = Sequential([\n",
    "        Conv2D(32, (3, 3), activation='relu', input_shape=(224, 224, 3)),\n",
    "        MaxPooling2D(2, 2),\n",
    "        Conv2D(64, (3, 3), activation='relu'),\n",
    "        MaxPooling2D(2, 2),\n",
    "        Flatten(),\n",
    "        Dense(128, activation='relu'),\n",
    "        Dense(6, activation='softmax')  # 6종의 해파리를 분류\n",
    "    ])\n",
    "    \n",
    "    model.compile(optimizer=Adam(learning_rate=lr), \n",
    "                  loss='categorical_crossentropy', \n",
    "                  metrics=['accuracy'])\n",
    "    return model\n",
    "\n",
    "# 3. 데이터 로딩 및 전처리\n",
    "def load_data(train_dir, valid_dir):\n",
    "    # 데이터 증강을 위한 ImageDataGenerator 설정\n",
    "    train_datagen = ImageDataGenerator(rescale=1./255, \n",
    "                                       horizontal_flip=True, \n",
    "                                       rotation_range=30)\n",
    "    valid_datagen = ImageDataGenerator(rescale=1./255)\n",
    "\n",
    "    # 학습 및 검증 데이터 로딩\n",
    "    train_generator = train_datagen.flow_from_directory(\n",
    "        train_dir,\n",
    "        target_size=(224, 224),\n",
    "        batch_size=32,\n",
    "        class_mode='categorical')\n",
    "    \n",
    "    valid_generator = valid_datagen.flow_from_directory(\n",
    "        valid_dir,\n",
    "        target_size=(224, 224),\n",
    "        batch_size=32,\n",
    "        class_mode='categorical')\n",
    "    \n",
    "    return train_generator, valid_generator\n",
    "\n",
    "# 4. 학습 함수 정의\n",
    "def train():\n",
    "    # W&B 설정\n",
    "    wandb.init(project='jellyfish_classification', config=sweep_configuration['parameters'])\n",
    "    config = wandb.config\n",
    "\n",
    "    # 데이터 로딩\n",
    "    train_generator, valid_generator = load_data('Train_Test_Valid/Train', 'Train_Test_Valid/valid')\n",
    "    \n",
    "    # 모델 생성\n",
    "    model = create_model(config.lr)\n",
    "    \n",
    "    # 모델 학습\n",
    "    history = model.fit(\n",
    "        train_generator,\n",
    "        epochs=config.epochs,\n",
    "        validation_data=valid_generator,\n",
    "        batch_size=config.batch_size,\n",
    "        callbacks=[WandbCallback()]\n",
    "    )\n",
    "    \n",
    "    # 성능 기록\n",
    "    wandb.log({\"val_accuracy\": history.history['val_accuracy'][-1]})\n",
    "\n",
    "# 5. Sweep 초기화 및 실행\n",
    "sweep_id = wandb.sweep(sweep=sweep_configuration, project='jellyfish_classification')\n",
    "wandb.agent(sweep_id, function=train, count=10)"
   ]
  },
  {
   "cell_type": "code",
   "execution_count": 3,
   "id": "0bf8c4bc",
   "metadata": {},
   "outputs": [],
   "source": [
    "train_dir = 'Train_Test_Valid/Train' \n",
    "valid_dir = 'Train_Test_Valid/valid'\n",
    "test_dir = 'Train_Test_Valid/test'"
   ]
  }
 ],
 "metadata": {
  "kernelspec": {
   "display_name": "Python 3 (ipykernel)",
   "language": "python",
   "name": "python3"
  },
  "language_info": {
   "codemirror_mode": {
    "name": "ipython",
    "version": 3
   },
   "file_extension": ".py",
   "mimetype": "text/x-python",
   "name": "python",
   "nbconvert_exporter": "python",
   "pygments_lexer": "ipython3",
   "version": "3.9.7"
  }
 },
 "nbformat": 4,
 "nbformat_minor": 5
}
